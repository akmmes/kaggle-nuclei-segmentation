{
 "cells": [
  {
   "cell_type": "code",
   "execution_count": 1,
   "metadata": {},
   "outputs": [],
   "source": [
    "import numpy as np\n",
    "import pandas as pd\n",
    "import pickle\n",
    "import gzip\n",
    "import os\n",
    "from tqdm import tqdm"
   ]
  },
  {
   "cell_type": "code",
   "execution_count": 2,
   "metadata": {},
   "outputs": [],
   "source": [
    "def fix_data(folder):\n",
    "    os.chdir(folder)\n",
    "    files = [f for f in os.listdir('.') if '.data' in f]\n",
    "    \n",
    "    for i in tqdm(range(len(files))):\n",
    "        f = files[i]\n",
    "        fp=gzip.open(f, 'rb')\n",
    "        data=pickle.load(fp)\n",
    "        fp.close()\n",
    "\n",
    "        new_f = f.replace('.data', '.npz')\n",
    "        np.savez_compressed(new_f,\n",
    "                        masks=np.array(data['masks']),\n",
    "                        boxes=np.array(data['boxes']),\n",
    "                        scores=np.array(data['scores']),\n",
    "                        sample_counts=np.array(data['sample_counts']))"
   ]
  },
  {
   "cell_type": "code",
   "execution_count": 3,
   "metadata": {},
   "outputs": [
    {
     "name": "stderr",
     "output_type": "stream",
     "text": [
      "100%|██████████| 1122/1122 [1:29:27<00:00,  4.78s/it]\n"
     ]
    }
   ],
   "source": [
    "fix_data('./prediction_savers_stage2_5070')"
   ]
  },
  {
   "cell_type": "code",
   "execution_count": 3,
   "metadata": {},
   "outputs": [
    {
     "data": {
      "text/plain": [
       "2669"
      ]
     },
     "execution_count": 3,
     "metadata": {},
     "output_type": "execute_result"
    }
   ],
   "source": [
    "len([_ for f in os.listdir('./prediction_savers_stage2_5070') if '.npz' in f])"
   ]
  }
 ],
 "metadata": {
  "kernelspec": {
   "display_name": "Python 3",
   "language": "python",
   "name": "python3"
  },
  "language_info": {
   "codemirror_mode": {
    "name": "ipython",
    "version": 3
   },
   "file_extension": ".py",
   "mimetype": "text/x-python",
   "name": "python",
   "nbconvert_exporter": "python",
   "pygments_lexer": "ipython3",
   "version": "3.5.2"
  }
 },
 "nbformat": 4,
 "nbformat_minor": 2
}
