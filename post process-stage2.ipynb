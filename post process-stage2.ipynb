{
 "cells": [
  {
   "cell_type": "markdown",
   "metadata": {},
   "source": [
    "# Import dependencies"
   ]
  },
  {
   "cell_type": "code",
   "execution_count": 1,
   "metadata": {},
   "outputs": [
    {
     "name": "stdout",
     "output_type": "stream",
     "text": [
      "Requirement already satisfied: keras in /usr/local/lib/python3.5/dist-packages\n",
      "Requirement already satisfied: six>=1.9.0 in /usr/local/lib/python3.5/dist-packages (from keras)\n",
      "Requirement already satisfied: pyyaml in /usr/local/lib/python3.5/dist-packages (from keras)\n",
      "Requirement already satisfied: scipy>=0.14 in /usr/local/lib/python3.5/dist-packages (from keras)\n",
      "Requirement already satisfied: numpy>=1.9.1 in /usr/local/lib/python3.5/dist-packages (from keras)\n",
      "\u001b[33mYou are using pip version 9.0.1, however version 9.0.3 is available.\n",
      "You should consider upgrading via the 'pip install --upgrade pip' command.\u001b[0m\n"
     ]
    }
   ],
   "source": [
    "!pip install keras"
   ]
  },
  {
   "cell_type": "code",
   "execution_count": 2,
   "metadata": {},
   "outputs": [
    {
     "name": "stdout",
     "output_type": "stream",
     "text": [
      "Requirement already satisfied: cython in /usr/local/lib/python3.5/dist-packages\n",
      "\u001b[33mYou are using pip version 9.0.1, however version 9.0.3 is available.\n",
      "You should consider upgrading via the 'pip install --upgrade pip' command.\u001b[0m\n"
     ]
    }
   ],
   "source": [
    "!pip install cython"
   ]
  },
  {
   "cell_type": "code",
   "execution_count": 3,
   "metadata": {},
   "outputs": [],
   "source": [
    "import sys\n",
    "sys.path.append('Mask_RCNN')"
   ]
  },
  {
   "cell_type": "code",
   "execution_count": 4,
   "metadata": {},
   "outputs": [
    {
     "name": "stdout",
     "output_type": "stream",
     "text": [
      "Requirement already satisfied: imageio in /usr/local/lib/python3.5/dist-packages\r\n",
      "Requirement already satisfied: pillow in /usr/local/lib/python3.5/dist-packages (from imageio)\r\n",
      "Requirement already satisfied: numpy in /usr/local/lib/python3.5/dist-packages (from imageio)\r\n",
      "\u001b[33mYou are using pip version 9.0.1, however version 9.0.3 is available.\r\n",
      "You should consider upgrading via the 'pip install --upgrade pip' command.\u001b[0m\r\n"
     ]
    }
   ],
   "source": [
    "!pip install imageio"
   ]
  },
  {
   "cell_type": "code",
   "execution_count": 5,
   "metadata": {},
   "outputs": [
    {
     "name": "stdout",
     "output_type": "stream",
     "text": [
      "Requirement already satisfied: scikit-image in /usr/local/lib/python3.5/dist-packages\n",
      "Requirement already satisfied: matplotlib>=1.3.1 in /usr/local/lib/python3.5/dist-packages (from scikit-image)\n",
      "Requirement already satisfied: networkx>=1.8 in /usr/local/lib/python3.5/dist-packages (from scikit-image)\n",
      "Requirement already satisfied: scipy>=0.17.0 in /usr/local/lib/python3.5/dist-packages (from scikit-image)\n",
      "Requirement already satisfied: six>=1.7.3 in /usr/local/lib/python3.5/dist-packages (from scikit-image)\n",
      "Requirement already satisfied: PyWavelets>=0.4.0 in /usr/local/lib/python3.5/dist-packages (from scikit-image)\n",
      "Requirement already satisfied: pillow>=2.1.0 in /usr/local/lib/python3.5/dist-packages (from scikit-image)\n",
      "Requirement already satisfied: python-dateutil>=2.1 in /usr/local/lib/python3.5/dist-packages (from matplotlib>=1.3.1->scikit-image)\n",
      "Requirement already satisfied: pyparsing!=2.0.4,!=2.1.2,!=2.1.6,>=2.0.1 in /usr/local/lib/python3.5/dist-packages (from matplotlib>=1.3.1->scikit-image)\n",
      "Requirement already satisfied: cycler>=0.10 in /usr/local/lib/python3.5/dist-packages (from matplotlib>=1.3.1->scikit-image)\n",
      "Requirement already satisfied: pytz in /usr/local/lib/python3.5/dist-packages (from matplotlib>=1.3.1->scikit-image)\n",
      "Requirement already satisfied: numpy>=1.7.1 in /usr/local/lib/python3.5/dist-packages (from matplotlib>=1.3.1->scikit-image)\n",
      "Requirement already satisfied: decorator>=4.1.0 in /usr/local/lib/python3.5/dist-packages (from networkx>=1.8->scikit-image)\n",
      "\u001b[33mYou are using pip version 9.0.1, however version 9.0.3 is available.\n",
      "You should consider upgrading via the 'pip install --upgrade pip' command.\u001b[0m\n"
     ]
    }
   ],
   "source": [
    "!pip install scikit-image"
   ]
  },
  {
   "cell_type": "code",
   "execution_count": 6,
   "metadata": {},
   "outputs": [
    {
     "name": "stdout",
     "output_type": "stream",
     "text": [
      "Requirement already satisfied: torch in /usr/local/lib/python3.5/dist-packages\n",
      "Requirement already satisfied: torchvision in /usr/local/lib/python3.5/dist-packages\n",
      "Requirement already satisfied: numpy in /usr/local/lib/python3.5/dist-packages (from torch)\n",
      "Requirement already satisfied: pyyaml in /usr/local/lib/python3.5/dist-packages (from torch)\n",
      "Requirement already satisfied: six in /usr/local/lib/python3.5/dist-packages (from torchvision)\n",
      "Requirement already satisfied: pillow>=4.1.1 in /usr/local/lib/python3.5/dist-packages (from torchvision)\n",
      "\u001b[33mYou are using pip version 9.0.1, however version 9.0.3 is available.\n",
      "You should consider upgrading via the 'pip install --upgrade pip' command.\u001b[0m\n"
     ]
    }
   ],
   "source": [
    "!pip install torch torchvision"
   ]
  },
  {
   "cell_type": "code",
   "execution_count": 7,
   "metadata": {},
   "outputs": [
    {
     "name": "stderr",
     "output_type": "stream",
     "text": [
      "/usr/local/lib/python3.5/dist-packages/h5py/__init__.py:36: FutureWarning: Conversion of the second argument of issubdtype from `float` to `np.floating` is deprecated. In future, it will be treated as `np.float64 == np.dtype(float).type`.\n",
      "  from ._conv import register_converters as _register_converters\n",
      "Using TensorFlow backend.\n"
     ]
    }
   ],
   "source": [
    "import os\n",
    "import sys\n",
    "import random\n",
    "import math\n",
    "import re\n",
    "import time\n",
    "import gc; gc.enable()\n",
    "\n",
    "import tensorflow as tf\n",
    "config = tf.ConfigProto()\n",
    "config.gpu_options.allow_growth = True\n",
    "sess = tf.InteractiveSession(config=config)\n",
    "#sess = tf.Session(config=config)\n",
    "\n",
    "from keras import backend as K\n",
    "K.set_session(sess)\n",
    "\n",
    "import numpy as np\n",
    "import pandas as pd\n",
    "import matplotlib\n",
    "import matplotlib.pyplot as plt\n",
    "import csv\n",
    "import imageio\n",
    "import skimage\n",
    "from config import Config\n",
    "from skimage.morphology import label\n",
    "from skimage.feature import canny\n",
    "from skimage import exposure\n",
    "from keras.callbacks import Callback\n",
    "from skimage.morphology import binary_closing, binary_opening, disk, binary_dilation\n",
    "from scipy.ndimage.morphology import binary_fill_holes\n",
    "from sklearn.externals import joblib\n",
    "from skimage.transform import PiecewiseAffineTransform, warp\n",
    "from skimage.morphology import watershed\n",
    "from skimage.filters import sobel\n",
    "from preparation import vgg_feature_extractor\n",
    "from random import *\n",
    "\n",
    "import gc; gc.enable()\n",
    "import utils\n",
    "import model as modellib\n",
    "import visualize\n",
    "from model import log"
   ]
  },
  {
   "cell_type": "markdown",
   "metadata": {},
   "source": [
    "Let's download the mask_rcnn trained on COCO dataset to initialize the model."
   ]
  },
  {
   "cell_type": "code",
   "execution_count": 8,
   "metadata": {},
   "outputs": [],
   "source": [
    "pd.options.display.max_rows=100\n",
    "\n",
    "# Root directory of the project\n",
    "ROOT_DIR = os.getcwd()\n",
    "\n",
    "# Directory to save logs and trained model\n",
    "MODEL_DIR = os.path.join(ROOT_DIR, \"logs\")\n",
    "\n",
    "# Local path to trained weights file\n",
    "COCO_MODEL_PATH = os.path.join(ROOT_DIR, \"mask_rcnn_coco.h5\")\n",
    "# Download COCO trained weights from Releases if needed\n",
    "if not os.path.exists(COCO_MODEL_PATH):\n",
    "    utils.download_trained_weights(COCO_MODEL_PATH)"
   ]
  },
  {
   "cell_type": "markdown",
   "metadata": {},
   "source": [
    "We will now define the monitor that will help keep track on the training process.\n",
    "With this you will be able to see your charts in the `charts` tab"
   ]
  },
  {
   "cell_type": "markdown",
   "metadata": {},
   "source": [
    "Now we will load the metadata and divide them in train and valid splits"
   ]
  },
  {
   "cell_type": "code",
   "execution_count": 9,
   "metadata": {},
   "outputs": [],
   "source": [
    "TRAIN_PATH = '../stage1_train'\n",
    "TEST_PATH = '../stage2_test_final'\n",
    "META_DATA_PATH = '../stage2_metadata.csv'\n",
    "BG_DATA_PATH = '../stage2_foreground_background_classes.csv'"
   ]
  },
  {
   "cell_type": "code",
   "execution_count": 10,
   "metadata": {
    "scrolled": true
   },
   "outputs": [
    {
     "data": {
      "text/html": [
       "<div>\n",
       "<style scoped>\n",
       "    .dataframe tbody tr th:only-of-type {\n",
       "        vertical-align: middle;\n",
       "    }\n",
       "\n",
       "    .dataframe tbody tr th {\n",
       "        vertical-align: top;\n",
       "    }\n",
       "\n",
       "    .dataframe thead th {\n",
       "        text-align: right;\n",
       "    }\n",
       "</style>\n",
       "<table border=\"1\" class=\"dataframe\">\n",
       "  <thead>\n",
       "    <tr style=\"text-align: right;\">\n",
       "      <th></th>\n",
       "      <th>ImageId</th>\n",
       "      <th>is_train</th>\n",
       "      <th>file_path_image</th>\n",
       "      <th>vgg_features_clusters</th>\n",
       "    </tr>\n",
       "  </thead>\n",
       "  <tbody>\n",
       "    <tr>\n",
       "      <th>0</th>\n",
       "      <td>ef6634efb46567d87b811be786b18c4cd0e2cda23d79b6...</td>\n",
       "      <td>1</td>\n",
       "      <td>../stage1_train/ef6634efb46567d87b811be786b18c...</td>\n",
       "      <td>1</td>\n",
       "    </tr>\n",
       "    <tr>\n",
       "      <th>1</th>\n",
       "      <td>351771edfc5db5665ded8aa4940257276b6526663c76e3...</td>\n",
       "      <td>1</td>\n",
       "      <td>../stage1_train/351771edfc5db5665ded8aa4940257...</td>\n",
       "      <td>6</td>\n",
       "    </tr>\n",
       "    <tr>\n",
       "      <th>2</th>\n",
       "      <td>785555c0cbb49dad835635217085287a8cc61c27d26f0e...</td>\n",
       "      <td>1</td>\n",
       "      <td>../stage1_train/785555c0cbb49dad83563521708528...</td>\n",
       "      <td>4</td>\n",
       "    </tr>\n",
       "    <tr>\n",
       "      <th>3</th>\n",
       "      <td>7ba20aa731cc21af74a8d940254176cbad1bdc44f240b5...</td>\n",
       "      <td>1</td>\n",
       "      <td>../stage1_train/7ba20aa731cc21af74a8d940254176...</td>\n",
       "      <td>1</td>\n",
       "    </tr>\n",
       "    <tr>\n",
       "      <th>4</th>\n",
       "      <td>43cf6b2ec0b0745ac2b87b4d8780f62e9050d3f5d50a1f...</td>\n",
       "      <td>1</td>\n",
       "      <td>../stage1_train/43cf6b2ec0b0745ac2b87b4d8780f6...</td>\n",
       "      <td>3</td>\n",
       "    </tr>\n",
       "    <tr>\n",
       "      <th>5</th>\n",
       "      <td>0b2e702f90aee4fff2bc6e4326308d50cf04701082e718...</td>\n",
       "      <td>1</td>\n",
       "      <td>../stage1_train/0b2e702f90aee4fff2bc6e4326308d...</td>\n",
       "      <td>4</td>\n",
       "    </tr>\n",
       "    <tr>\n",
       "      <th>6</th>\n",
       "      <td>61dc249314d7b965eb4561ec739eab9b0f60af55c97b25...</td>\n",
       "      <td>1</td>\n",
       "      <td>../stage1_train/61dc249314d7b965eb4561ec739eab...</td>\n",
       "      <td>6</td>\n",
       "    </tr>\n",
       "    <tr>\n",
       "      <th>7</th>\n",
       "      <td>28d33efef218392e79e385906deb88055d94b65ad217de...</td>\n",
       "      <td>1</td>\n",
       "      <td>../stage1_train/28d33efef218392e79e385906deb88...</td>\n",
       "      <td>0</td>\n",
       "    </tr>\n",
       "    <tr>\n",
       "      <th>8</th>\n",
       "      <td>4596961c789d3b41916492918797724fe75128239fefc5...</td>\n",
       "      <td>1</td>\n",
       "      <td>../stage1_train/4596961c789d3b4191649291879772...</td>\n",
       "      <td>6</td>\n",
       "    </tr>\n",
       "    <tr>\n",
       "      <th>9</th>\n",
       "      <td>1ec74a26e772966df764e063f1391109a60d803cff9d15...</td>\n",
       "      <td>1</td>\n",
       "      <td>../stage1_train/1ec74a26e772966df764e063f13911...</td>\n",
       "      <td>9</td>\n",
       "    </tr>\n",
       "    <tr>\n",
       "      <th>10</th>\n",
       "      <td>5c235b945b25b9905b9b0429ce59f1db51d0d0c7d48c2c...</td>\n",
       "      <td>1</td>\n",
       "      <td>../stage1_train/5c235b945b25b9905b9b0429ce59f1...</td>\n",
       "      <td>0</td>\n",
       "    </tr>\n",
       "    <tr>\n",
       "      <th>11</th>\n",
       "      <td>TCGA-21-5784-01Z-00-DX1</td>\n",
       "      <td>1</td>\n",
       "      <td>../stage1_train/TCGA-21-5784-01Z-00-DX1/images...</td>\n",
       "      <td>7</td>\n",
       "    </tr>\n",
       "    <tr>\n",
       "      <th>12</th>\n",
       "      <td>f952cc65376009cfad8249e53b9b2c0daaa3553e897096...</td>\n",
       "      <td>1</td>\n",
       "      <td>../stage1_train/f952cc65376009cfad8249e53b9b2c...</td>\n",
       "      <td>2</td>\n",
       "    </tr>\n",
       "    <tr>\n",
       "      <th>13</th>\n",
       "      <td>3b0709483b1e86449cc355bb797e841117ba178c6ae1ed...</td>\n",
       "      <td>1</td>\n",
       "      <td>../stage1_train/3b0709483b1e86449cc355bb797e84...</td>\n",
       "      <td>9</td>\n",
       "    </tr>\n",
       "    <tr>\n",
       "      <th>14</th>\n",
       "      <td>3582166ee20755856adf4882a8bfacb616fce424791160...</td>\n",
       "      <td>1</td>\n",
       "      <td>../stage1_train/3582166ee20755856adf4882a8bfac...</td>\n",
       "      <td>5</td>\n",
       "    </tr>\n",
       "    <tr>\n",
       "      <th>15</th>\n",
       "      <td>e5384c905e9879cb6e8ff5250fb03155bc1db035d8dde4...</td>\n",
       "      <td>1</td>\n",
       "      <td>../stage1_train/e5384c905e9879cb6e8ff5250fb031...</td>\n",
       "      <td>0</td>\n",
       "    </tr>\n",
       "    <tr>\n",
       "      <th>16</th>\n",
       "      <td>a6593632dcbbe4c9e9429a9cec573d26fd8c91a47d554d...</td>\n",
       "      <td>1</td>\n",
       "      <td>../stage1_train/a6593632dcbbe4c9e9429a9cec573d...</td>\n",
       "      <td>5</td>\n",
       "    </tr>\n",
       "    <tr>\n",
       "      <th>17</th>\n",
       "      <td>TCGA-HE-7130-01Z-00-DX1</td>\n",
       "      <td>1</td>\n",
       "      <td>../stage1_train/TCGA-HE-7130-01Z-00-DX1/images...</td>\n",
       "      <td>7</td>\n",
       "    </tr>\n",
       "    <tr>\n",
       "      <th>18</th>\n",
       "      <td>3bfd6bb152310f93daa6f4e1867c10572946e874b3a30c...</td>\n",
       "      <td>1</td>\n",
       "      <td>../stage1_train/3bfd6bb152310f93daa6f4e1867c10...</td>\n",
       "      <td>1</td>\n",
       "    </tr>\n",
       "    <tr>\n",
       "      <th>19</th>\n",
       "      <td>305a8baaf726d7c9e695bff31d3a6a61445999a4732f0a...</td>\n",
       "      <td>1</td>\n",
       "      <td>../stage1_train/305a8baaf726d7c9e695bff31d3a6a...</td>\n",
       "      <td>5</td>\n",
       "    </tr>\n",
       "    <tr>\n",
       "      <th>20</th>\n",
       "      <td>d7d12a2acc47a94961aeb56fd56e8a0873016af75f5dd1...</td>\n",
       "      <td>1</td>\n",
       "      <td>../stage1_train/d7d12a2acc47a94961aeb56fd56e8a...</td>\n",
       "      <td>0</td>\n",
       "    </tr>\n",
       "    <tr>\n",
       "      <th>21</th>\n",
       "      <td>a90401357d50e1376354ae6e5f56a2e4dff3fdb5a4e8d5...</td>\n",
       "      <td>1</td>\n",
       "      <td>../stage1_train/a90401357d50e1376354ae6e5f56a2...</td>\n",
       "      <td>9</td>\n",
       "    </tr>\n",
       "    <tr>\n",
       "      <th>22</th>\n",
       "      <td>8fdc34509a0c3721f7b5e235c8a93e1f553343aa17ad10...</td>\n",
       "      <td>1</td>\n",
       "      <td>../stage1_train/8fdc34509a0c3721f7b5e235c8a93e...</td>\n",
       "      <td>1</td>\n",
       "    </tr>\n",
       "    <tr>\n",
       "      <th>23</th>\n",
       "      <td>4d4ebfcae4374165ea6ae7c7e18fd0ba5014c3c860ee24...</td>\n",
       "      <td>1</td>\n",
       "      <td>../stage1_train/4d4ebfcae4374165ea6ae7c7e18fd0...</td>\n",
       "      <td>6</td>\n",
       "    </tr>\n",
       "    <tr>\n",
       "      <th>24</th>\n",
       "      <td>bbce7ebc40323a0eff6574d0c3842f50f907f55fbfb46c...</td>\n",
       "      <td>1</td>\n",
       "      <td>../stage1_train/bbce7ebc40323a0eff6574d0c3842f...</td>\n",
       "      <td>0</td>\n",
       "    </tr>\n",
       "    <tr>\n",
       "      <th>25</th>\n",
       "      <td>4948e3dfe0483c2198b9616612071ead5474dffd223071...</td>\n",
       "      <td>1</td>\n",
       "      <td>../stage1_train/4948e3dfe0483c2198b9616612071e...</td>\n",
       "      <td>0</td>\n",
       "    </tr>\n",
       "    <tr>\n",
       "      <th>26</th>\n",
       "      <td>cc88627344305b9a9b07f8bd042cb074c7a834c13de67f...</td>\n",
       "      <td>1</td>\n",
       "      <td>../stage1_train/cc88627344305b9a9b07f8bd042cb0...</td>\n",
       "      <td>6</td>\n",
       "    </tr>\n",
       "    <tr>\n",
       "      <th>27</th>\n",
       "      <td>88d5a03f8ecd459f076a06e0d5035149193bfdd727c309...</td>\n",
       "      <td>1</td>\n",
       "      <td>../stage1_train/88d5a03f8ecd459f076a06e0d50351...</td>\n",
       "      <td>5</td>\n",
       "    </tr>\n",
       "    <tr>\n",
       "      <th>28</th>\n",
       "      <td>2dd3356f2dcf470aec4003800744dfec6490e75d88011e...</td>\n",
       "      <td>1</td>\n",
       "      <td>../stage1_train/2dd3356f2dcf470aec4003800744df...</td>\n",
       "      <td>2</td>\n",
       "    </tr>\n",
       "    <tr>\n",
       "      <th>29</th>\n",
       "      <td>abbfff07379bceb69dba41dad8b0db5eb80cc8baf3d4af...</td>\n",
       "      <td>1</td>\n",
       "      <td>../stage1_train/abbfff07379bceb69dba41dad8b0db...</td>\n",
       "      <td>1</td>\n",
       "    </tr>\n",
       "    <tr>\n",
       "      <th>30</th>\n",
       "      <td>6b72b61b80060a9e79a4747f9c5d5af135af9db466681c...</td>\n",
       "      <td>1</td>\n",
       "      <td>../stage1_train/6b72b61b80060a9e79a4747f9c5d5a...</td>\n",
       "      <td>6</td>\n",
       "    </tr>\n",
       "    <tr>\n",
       "      <th>31</th>\n",
       "      <td>a1777737270c5f96c4523dff76e4097756f8f7d4c9d59b...</td>\n",
       "      <td>1</td>\n",
       "      <td>../stage1_train/a1777737270c5f96c4523dff76e409...</td>\n",
       "      <td>0</td>\n",
       "    </tr>\n",
       "    <tr>\n",
       "      <th>32</th>\n",
       "      <td>f81ca7ee25e733ff37240c34c8e3044d9937bb0166e315...</td>\n",
       "      <td>1</td>\n",
       "      <td>../stage1_train/f81ca7ee25e733ff37240c34c8e304...</td>\n",
       "      <td>5</td>\n",
       "    </tr>\n",
       "    <tr>\n",
       "      <th>33</th>\n",
       "      <td>df9a4212ecb67bb4e58eba62f293b91f9d6f1dde73e38f...</td>\n",
       "      <td>1</td>\n",
       "      <td>../stage1_train/df9a4212ecb67bb4e58eba62f293b9...</td>\n",
       "      <td>1</td>\n",
       "    </tr>\n",
       "    <tr>\n",
       "      <th>34</th>\n",
       "      <td>547ef286ee5f4e5dce533e982e6992ada67b7d727fdd3c...</td>\n",
       "      <td>1</td>\n",
       "      <td>../stage1_train/547ef286ee5f4e5dce533e982e6992...</td>\n",
       "      <td>6</td>\n",
       "    </tr>\n",
       "    <tr>\n",
       "      <th>35</th>\n",
       "      <td>72b18a405555ad491721e29454e5cd325055ce81a9e785...</td>\n",
       "      <td>1</td>\n",
       "      <td>../stage1_train/72b18a405555ad491721e29454e5cd...</td>\n",
       "      <td>4</td>\n",
       "    </tr>\n",
       "    <tr>\n",
       "      <th>36</th>\n",
       "      <td>751f421d322940d6efe3bd570a66ecda16d08a1b90bc32...</td>\n",
       "      <td>1</td>\n",
       "      <td>../stage1_train/751f421d322940d6efe3bd570a66ec...</td>\n",
       "      <td>1</td>\n",
       "    </tr>\n",
       "    <tr>\n",
       "      <th>37</th>\n",
       "      <td>f487cc82271cf84b4414552aa8b0a9d82d902451ebe8e8...</td>\n",
       "      <td>1</td>\n",
       "      <td>../stage1_train/f487cc82271cf84b4414552aa8b0a9...</td>\n",
       "      <td>6</td>\n",
       "    </tr>\n",
       "    <tr>\n",
       "      <th>38</th>\n",
       "      <td>TCGA-RD-A8N9-01A-01-TS1</td>\n",
       "      <td>1</td>\n",
       "      <td>../stage1_train/TCGA-RD-A8N9-01A-01-TS1/images...</td>\n",
       "      <td>7</td>\n",
       "    </tr>\n",
       "    <tr>\n",
       "      <th>39</th>\n",
       "      <td>06350c7cc618be442c15706db7a68e91f313758d224de4...</td>\n",
       "      <td>1</td>\n",
       "      <td>../stage1_train/06350c7cc618be442c15706db7a68e...</td>\n",
       "      <td>4</td>\n",
       "    </tr>\n",
       "    <tr>\n",
       "      <th>40</th>\n",
       "      <td>TCGA-50-5931-01Z-00-DX1</td>\n",
       "      <td>1</td>\n",
       "      <td>../stage1_train/TCGA-50-5931-01Z-00-DX1/images...</td>\n",
       "      <td>7</td>\n",
       "    </tr>\n",
       "    <tr>\n",
       "      <th>41</th>\n",
       "      <td>7aae06bc4558829473071defec0b7ab3bfa9c5005548a1...</td>\n",
       "      <td>1</td>\n",
       "      <td>../stage1_train/7aae06bc4558829473071defec0b7a...</td>\n",
       "      <td>1</td>\n",
       "    </tr>\n",
       "    <tr>\n",
       "      <th>42</th>\n",
       "      <td>f9ac03b0344ce8c48bc058448541f9211a1e5f4c94fdaf...</td>\n",
       "      <td>1</td>\n",
       "      <td>../stage1_train/f9ac03b0344ce8c48bc058448541f9...</td>\n",
       "      <td>1</td>\n",
       "    </tr>\n",
       "    <tr>\n",
       "      <th>43</th>\n",
       "      <td>5ba4facefc949c920d7054813a3e846b000969da2ed860...</td>\n",
       "      <td>1</td>\n",
       "      <td>../stage1_train/5ba4facefc949c920d7054813a3e84...</td>\n",
       "      <td>0</td>\n",
       "    </tr>\n",
       "    <tr>\n",
       "      <th>44</th>\n",
       "      <td>a6e81120d1cb9f71f8a25f90a5d56c4b714a642fc496a7...</td>\n",
       "      <td>1</td>\n",
       "      <td>../stage1_train/a6e81120d1cb9f71f8a25f90a5d56c...</td>\n",
       "      <td>0</td>\n",
       "    </tr>\n",
       "    <tr>\n",
       "      <th>45</th>\n",
       "      <td>6fc83b33896f58a4a067d8fdcf51f15d4ae9be05d8c381...</td>\n",
       "      <td>1</td>\n",
       "      <td>../stage1_train/6fc83b33896f58a4a067d8fdcf51f1...</td>\n",
       "      <td>0</td>\n",
       "    </tr>\n",
       "    <tr>\n",
       "      <th>46</th>\n",
       "      <td>bf4a61bb81589c9a67e3343408befd3e135af5e88b50c1...</td>\n",
       "      <td>1</td>\n",
       "      <td>../stage1_train/bf4a61bb81589c9a67e3343408befd...</td>\n",
       "      <td>9</td>\n",
       "    </tr>\n",
       "    <tr>\n",
       "      <th>47</th>\n",
       "      <td>40bcdad218ac5f0885fc247d88fcad9f729f55c81c79d2...</td>\n",
       "      <td>1</td>\n",
       "      <td>../stage1_train/40bcdad218ac5f0885fc247d88fcad...</td>\n",
       "      <td>4</td>\n",
       "    </tr>\n",
       "    <tr>\n",
       "      <th>48</th>\n",
       "      <td>b4de1e3eec159d8af1bd5447696f8996c31709edaf33e2...</td>\n",
       "      <td>1</td>\n",
       "      <td>../stage1_train/b4de1e3eec159d8af1bd5447696f89...</td>\n",
       "      <td>0</td>\n",
       "    </tr>\n",
       "    <tr>\n",
       "      <th>49</th>\n",
       "      <td>573a657d5e5fcb9574a758b0ab34b09c79d7ba374ceb71...</td>\n",
       "      <td>1</td>\n",
       "      <td>../stage1_train/573a657d5e5fcb9574a758b0ab34b0...</td>\n",
       "      <td>1</td>\n",
       "    </tr>\n",
       "    <tr>\n",
       "      <th>50</th>\n",
       "      <td>1e8408fbb1619e7a0bcdd0bcd21fae57e7cb1f297d4c79...</td>\n",
       "      <td>1</td>\n",
       "      <td>../stage1_train/1e8408fbb1619e7a0bcdd0bcd21fae...</td>\n",
       "      <td>4</td>\n",
       "    </tr>\n",
       "    <tr>\n",
       "      <th>51</th>\n",
       "      <td>b6edad733399c83c8eb7a59c0d37b54e10cc0d59894e39...</td>\n",
       "      <td>1</td>\n",
       "      <td>../stage1_train/b6edad733399c83c8eb7a59c0d37b5...</td>\n",
       "      <td>0</td>\n",
       "    </tr>\n",
       "    <tr>\n",
       "      <th>52</th>\n",
       "      <td>8f94a80b95a881d0efdec36affc915dca9609f4cba8134...</td>\n",
       "      <td>1</td>\n",
       "      <td>../stage1_train/8f94a80b95a881d0efdec36affc915...</td>\n",
       "      <td>5</td>\n",
       "    </tr>\n",
       "    <tr>\n",
       "      <th>53</th>\n",
       "      <td>bb8ebf465c968a5f6f715de5d9e2e664afd1bcaa533e0e...</td>\n",
       "      <td>1</td>\n",
       "      <td>../stage1_train/bb8ebf465c968a5f6f715de5d9e2e6...</td>\n",
       "      <td>6</td>\n",
       "    </tr>\n",
       "    <tr>\n",
       "      <th>54</th>\n",
       "      <td>8de0b1a2e8f614af29fe5fafeaa5bdf55e6b3e65edf363...</td>\n",
       "      <td>1</td>\n",
       "      <td>../stage1_train/8de0b1a2e8f614af29fe5fafeaa5bd...</td>\n",
       "      <td>4</td>\n",
       "    </tr>\n",
       "    <tr>\n",
       "      <th>55</th>\n",
       "      <td>337b6eed0726f07531cd467cd62b6676c31a8c9e716bdb...</td>\n",
       "      <td>1</td>\n",
       "      <td>../stage1_train/337b6eed0726f07531cd467cd62b66...</td>\n",
       "      <td>2</td>\n",
       "    </tr>\n",
       "    <tr>\n",
       "      <th>56</th>\n",
       "      <td>bde3727f3a9e8b2b58f383ebc762b2157eb50cdbff23e6...</td>\n",
       "      <td>1</td>\n",
       "      <td>../stage1_train/bde3727f3a9e8b2b58f383ebc762b2...</td>\n",
       "      <td>6</td>\n",
       "    </tr>\n",
       "    <tr>\n",
       "      <th>57</th>\n",
       "      <td>a3a65623e079af7988b0c1cf1e54041003c6d730c91ecf...</td>\n",
       "      <td>1</td>\n",
       "      <td>../stage1_train/a3a65623e079af7988b0c1cf1e5404...</td>\n",
       "      <td>4</td>\n",
       "    </tr>\n",
       "    <tr>\n",
       "      <th>58</th>\n",
       "      <td>62057502c387145ed4f8f7f0d5e5bedcb72d3bcec15fa7...</td>\n",
       "      <td>1</td>\n",
       "      <td>../stage1_train/62057502c387145ed4f8f7f0d5e5be...</td>\n",
       "      <td>6</td>\n",
       "    </tr>\n",
       "    <tr>\n",
       "      <th>59</th>\n",
       "      <td>309ba76b12ecb5ce28b99f3445b2b5dc54c0564c3c0e24...</td>\n",
       "      <td>1</td>\n",
       "      <td>../stage1_train/309ba76b12ecb5ce28b99f3445b2b5...</td>\n",
       "      <td>4</td>\n",
       "    </tr>\n",
       "    <tr>\n",
       "      <th>60</th>\n",
       "      <td>449fe932622db3b49366a260ddd20077219f96fb2dc0f9...</td>\n",
       "      <td>1</td>\n",
       "      <td>../stage1_train/449fe932622db3b49366a260ddd200...</td>\n",
       "      <td>6</td>\n",
       "    </tr>\n",
       "    <tr>\n",
       "      <th>61</th>\n",
       "      <td>b24ea5c268469a95ed155eeaf809e36030b78a2eb530a0...</td>\n",
       "      <td>1</td>\n",
       "      <td>../stage1_train/b24ea5c268469a95ed155eeaf809e3...</td>\n",
       "      <td>3</td>\n",
       "    </tr>\n",
       "    <tr>\n",
       "      <th>62</th>\n",
       "      <td>c96109cbebcf206f20035cbde414e43872074eee8d839b...</td>\n",
       "      <td>1</td>\n",
       "      <td>../stage1_train/c96109cbebcf206f20035cbde414e4...</td>\n",
       "      <td>0</td>\n",
       "    </tr>\n",
       "    <tr>\n",
       "      <th>63</th>\n",
       "      <td>e856511ac1c34d24320eb7c56c05a4a3340d06667b4f5b...</td>\n",
       "      <td>1</td>\n",
       "      <td>../stage1_train/e856511ac1c34d24320eb7c56c05a4...</td>\n",
       "      <td>5</td>\n",
       "    </tr>\n",
       "    <tr>\n",
       "      <th>64</th>\n",
       "      <td>7b5987a24dd57325e82812371b3f4df7edc528e0526754...</td>\n",
       "      <td>1</td>\n",
       "      <td>../stage1_train/7b5987a24dd57325e82812371b3f4d...</td>\n",
       "      <td>6</td>\n",
       "    </tr>\n",
       "    <tr>\n",
       "      <th>65</th>\n",
       "      <td>1f9e429c12f4477221b5b855a5f494fda2ef6d064ff75b...</td>\n",
       "      <td>1</td>\n",
       "      <td>../stage1_train/1f9e429c12f4477221b5b855a5f494...</td>\n",
       "      <td>1</td>\n",
       "    </tr>\n",
       "    <tr>\n",
       "      <th>66</th>\n",
       "      <td>648636ee314d7bdba3ab2fc0fe49a863de35c3e2caf619...</td>\n",
       "      <td>1</td>\n",
       "      <td>../stage1_train/648636ee314d7bdba3ab2fc0fe49a8...</td>\n",
       "      <td>1</td>\n",
       "    </tr>\n",
       "    <tr>\n",
       "      <th>67</th>\n",
       "      <td>f73e37957c74f554be132986f38b6f1d75339f636dfe2b...</td>\n",
       "      <td>1</td>\n",
       "      <td>../stage1_train/f73e37957c74f554be132986f38b6f...</td>\n",
       "      <td>1</td>\n",
       "    </tr>\n",
       "    <tr>\n",
       "      <th>68</th>\n",
       "      <td>623cf6987b3fac8f384c09f40d98c5e739c097aa9a9627...</td>\n",
       "      <td>1</td>\n",
       "      <td>../stage1_train/623cf6987b3fac8f384c09f40d98c5...</td>\n",
       "      <td>1</td>\n",
       "    </tr>\n",
       "    <tr>\n",
       "      <th>69</th>\n",
       "      <td>8bef203fce625e4d8c89dca728158be4662dfdfdcd4dc7...</td>\n",
       "      <td>1</td>\n",
       "      <td>../stage1_train/8bef203fce625e4d8c89dca728158b...</td>\n",
       "      <td>5</td>\n",
       "    </tr>\n",
       "    <tr>\n",
       "      <th>70</th>\n",
       "      <td>245b995878370ef4ea977568b2b67f93d4ecaa9308761b...</td>\n",
       "      <td>1</td>\n",
       "      <td>../stage1_train/245b995878370ef4ea977568b2b67f...</td>\n",
       "      <td>6</td>\n",
       "    </tr>\n",
       "    <tr>\n",
       "      <th>71</th>\n",
       "      <td>57bd029b19c1b382bef9db3ac14f13ea85e36a6053b92e...</td>\n",
       "      <td>1</td>\n",
       "      <td>../stage1_train/57bd029b19c1b382bef9db3ac14f13...</td>\n",
       "      <td>2</td>\n",
       "    </tr>\n",
       "    <tr>\n",
       "      <th>72</th>\n",
       "      <td>93cfd412c7de5210bbd262ec3a602cfea65072e9272e9f...</td>\n",
       "      <td>1</td>\n",
       "      <td>../stage1_train/93cfd412c7de5210bbd262ec3a602c...</td>\n",
       "      <td>4</td>\n",
       "    </tr>\n",
       "    <tr>\n",
       "      <th>73</th>\n",
       "      <td>da5f98f2b8a64eee735a398de48ed42cd31bf17a6063db...</td>\n",
       "      <td>1</td>\n",
       "      <td>../stage1_train/da5f98f2b8a64eee735a398de48ed4...</td>\n",
       "      <td>6</td>\n",
       "    </tr>\n",
       "    <tr>\n",
       "      <th>74</th>\n",
       "      <td>ce37f6dd0615d45e66e41a8f2ed6fbc0bbe3103a290394...</td>\n",
       "      <td>1</td>\n",
       "      <td>../stage1_train/ce37f6dd0615d45e66e41a8f2ed6fb...</td>\n",
       "      <td>4</td>\n",
       "    </tr>\n",
       "    <tr>\n",
       "      <th>75</th>\n",
       "      <td>449a9c32e53a37c8a86e01c199155c8da3958b631088e1...</td>\n",
       "      <td>1</td>\n",
       "      <td>../stage1_train/449a9c32e53a37c8a86e01c199155c...</td>\n",
       "      <td>3</td>\n",
       "    </tr>\n",
       "    <tr>\n",
       "      <th>76</th>\n",
       "      <td>20468e8779c43e089dc0ff30f25e6cf3872d5aa6a0fdad...</td>\n",
       "      <td>1</td>\n",
       "      <td>../stage1_train/20468e8779c43e089dc0ff30f25e6c...</td>\n",
       "      <td>5</td>\n",
       "    </tr>\n",
       "    <tr>\n",
       "      <th>77</th>\n",
       "      <td>2bf594e9d06f78b4b79d7ffb395497a0a91126b6b0d710...</td>\n",
       "      <td>1</td>\n",
       "      <td>../stage1_train/2bf594e9d06f78b4b79d7ffb395497...</td>\n",
       "      <td>4</td>\n",
       "    </tr>\n",
       "    <tr>\n",
       "      <th>78</th>\n",
       "      <td>TCGA-G9-6362-01Z-00-DX1</td>\n",
       "      <td>1</td>\n",
       "      <td>../stage1_train/TCGA-G9-6362-01Z-00-DX1/images...</td>\n",
       "      <td>7</td>\n",
       "    </tr>\n",
       "    <tr>\n",
       "      <th>79</th>\n",
       "      <td>f43169e3d8b4f71e687945b9e72cbfdfe2e40e68842568...</td>\n",
       "      <td>1</td>\n",
       "      <td>../stage1_train/f43169e3d8b4f71e687945b9e72cbf...</td>\n",
       "      <td>1</td>\n",
       "    </tr>\n",
       "    <tr>\n",
       "      <th>80</th>\n",
       "      <td>866a8cba7bfe1ea73e383d6cf492e53752579140c8b833...</td>\n",
       "      <td>1</td>\n",
       "      <td>../stage1_train/866a8cba7bfe1ea73e383d6cf492e5...</td>\n",
       "      <td>4</td>\n",
       "    </tr>\n",
       "    <tr>\n",
       "      <th>81</th>\n",
       "      <td>62570c4ff1c5ab6d9d383aba9f25e604768520b4266afd...</td>\n",
       "      <td>1</td>\n",
       "      <td>../stage1_train/62570c4ff1c5ab6d9d383aba9f25e6...</td>\n",
       "      <td>4</td>\n",
       "    </tr>\n",
       "    <tr>\n",
       "      <th>82</th>\n",
       "      <td>12f89395ad5d21491ab9cec137e247652451d283064773...</td>\n",
       "      <td>1</td>\n",
       "      <td>../stage1_train/12f89395ad5d21491ab9cec137e247...</td>\n",
       "      <td>1</td>\n",
       "    </tr>\n",
       "    <tr>\n",
       "      <th>83</th>\n",
       "      <td>f728de04267283f0b4daab9a840e7433b2c6034baf195f...</td>\n",
       "      <td>1</td>\n",
       "      <td>../stage1_train/f728de04267283f0b4daab9a840e74...</td>\n",
       "      <td>1</td>\n",
       "    </tr>\n",
       "    <tr>\n",
       "      <th>84</th>\n",
       "      <td>08ae2741df2f5ac815c0f272a8c532b5167ee853be9b93...</td>\n",
       "      <td>1</td>\n",
       "      <td>../stage1_train/08ae2741df2f5ac815c0f272a8c532...</td>\n",
       "      <td>4</td>\n",
       "    </tr>\n",
       "    <tr>\n",
       "      <th>85</th>\n",
       "      <td>58406ed8ef944831c413c3424dc2b07e59aef13eb1ff16...</td>\n",
       "      <td>1</td>\n",
       "      <td>../stage1_train/58406ed8ef944831c413c3424dc2b0...</td>\n",
       "      <td>0</td>\n",
       "    </tr>\n",
       "    <tr>\n",
       "      <th>86</th>\n",
       "      <td>516a0e20327d6dfcedcf57e3056115e4fb29cdf4cb3490...</td>\n",
       "      <td>1</td>\n",
       "      <td>../stage1_train/516a0e20327d6dfcedcf57e3056115...</td>\n",
       "      <td>0</td>\n",
       "    </tr>\n",
       "    <tr>\n",
       "      <th>87</th>\n",
       "      <td>TCGA-B0-5698-01Z-00-DX1</td>\n",
       "      <td>1</td>\n",
       "      <td>../stage1_train/TCGA-B0-5698-01Z-00-DX1/images...</td>\n",
       "      <td>7</td>\n",
       "    </tr>\n",
       "    <tr>\n",
       "      <th>88</th>\n",
       "      <td>a246bcaa64af48ee5ca181cd594c0fc43466e7614406eb...</td>\n",
       "      <td>1</td>\n",
       "      <td>../stage1_train/a246bcaa64af48ee5ca181cd594c0f...</td>\n",
       "      <td>6</td>\n",
       "    </tr>\n",
       "    <tr>\n",
       "      <th>89</th>\n",
       "      <td>89be66f88612aae541f5843abcd9c015832b5d6c54a281...</td>\n",
       "      <td>1</td>\n",
       "      <td>../stage1_train/89be66f88612aae541f5843abcd9c0...</td>\n",
       "      <td>0</td>\n",
       "    </tr>\n",
       "    <tr>\n",
       "      <th>90</th>\n",
       "      <td>8f6597cd978c060378177df76e554d0578b97eab471e23...</td>\n",
       "      <td>1</td>\n",
       "      <td>../stage1_train/8f6597cd978c060378177df76e554d...</td>\n",
       "      <td>4</td>\n",
       "    </tr>\n",
       "    <tr>\n",
       "      <th>91</th>\n",
       "      <td>aa58ba4512955771b4f9b459cb4e6a8adb71d11cd6cae6...</td>\n",
       "      <td>1</td>\n",
       "      <td>../stage1_train/aa58ba4512955771b4f9b459cb4e6a...</td>\n",
       "      <td>2</td>\n",
       "    </tr>\n",
       "    <tr>\n",
       "      <th>92</th>\n",
       "      <td>ff3407842ada5bc18be79ae453e5bdaa1b68afc842fc22...</td>\n",
       "      <td>1</td>\n",
       "      <td>../stage1_train/ff3407842ada5bc18be79ae453e5bd...</td>\n",
       "      <td>3</td>\n",
       "    </tr>\n",
       "    <tr>\n",
       "      <th>93</th>\n",
       "      <td>edd36ed822e7ed760ff73e0524df22aa5bf5c565efcdc6...</td>\n",
       "      <td>1</td>\n",
       "      <td>../stage1_train/edd36ed822e7ed760ff73e0524df22...</td>\n",
       "      <td>6</td>\n",
       "    </tr>\n",
       "    <tr>\n",
       "      <th>94</th>\n",
       "      <td>3ebd2ab34ba86e515feb79ffdeb7fc303a074a98ba3994...</td>\n",
       "      <td>1</td>\n",
       "      <td>../stage1_train/3ebd2ab34ba86e515feb79ffdeb7fc...</td>\n",
       "      <td>6</td>\n",
       "    </tr>\n",
       "    <tr>\n",
       "      <th>95</th>\n",
       "      <td>f26f4c2c70c38fe12e00d5a814d5116691f2ca54890812...</td>\n",
       "      <td>1</td>\n",
       "      <td>../stage1_train/f26f4c2c70c38fe12e00d5a814d511...</td>\n",
       "      <td>6</td>\n",
       "    </tr>\n",
       "    <tr>\n",
       "      <th>96</th>\n",
       "      <td>1b6044e4858a9b7cee9b0028d8e54fbc8fb72e6c4424ab...</td>\n",
       "      <td>1</td>\n",
       "      <td>../stage1_train/1b6044e4858a9b7cee9b0028d8e54f...</td>\n",
       "      <td>1</td>\n",
       "    </tr>\n",
       "    <tr>\n",
       "      <th>97</th>\n",
       "      <td>e66f25e175abab08ecb4e5f6859db64a211e0ddffb262d...</td>\n",
       "      <td>1</td>\n",
       "      <td>../stage1_train/e66f25e175abab08ecb4e5f6859db6...</td>\n",
       "      <td>4</td>\n",
       "    </tr>\n",
       "    <tr>\n",
       "      <th>98</th>\n",
       "      <td>d7db360fabfce9828559a21f6bffff589ae868e0dc6101...</td>\n",
       "      <td>1</td>\n",
       "      <td>../stage1_train/d7db360fabfce9828559a21f6bffff...</td>\n",
       "      <td>0</td>\n",
       "    </tr>\n",
       "    <tr>\n",
       "      <th>99</th>\n",
       "      <td>c04fa1a74a980d790ba6f3e595fd9851f14370bb71c7cb...</td>\n",
       "      <td>1</td>\n",
       "      <td>../stage1_train/c04fa1a74a980d790ba6f3e595fd98...</td>\n",
       "      <td>1</td>\n",
       "    </tr>\n",
       "  </tbody>\n",
       "</table>\n",
       "</div>"
      ],
      "text/plain": [
       "                                              ImageId  is_train  \\\n",
       "0   ef6634efb46567d87b811be786b18c4cd0e2cda23d79b6...         1   \n",
       "1   351771edfc5db5665ded8aa4940257276b6526663c76e3...         1   \n",
       "2   785555c0cbb49dad835635217085287a8cc61c27d26f0e...         1   \n",
       "3   7ba20aa731cc21af74a8d940254176cbad1bdc44f240b5...         1   \n",
       "4   43cf6b2ec0b0745ac2b87b4d8780f62e9050d3f5d50a1f...         1   \n",
       "5   0b2e702f90aee4fff2bc6e4326308d50cf04701082e718...         1   \n",
       "6   61dc249314d7b965eb4561ec739eab9b0f60af55c97b25...         1   \n",
       "7   28d33efef218392e79e385906deb88055d94b65ad217de...         1   \n",
       "8   4596961c789d3b41916492918797724fe75128239fefc5...         1   \n",
       "9   1ec74a26e772966df764e063f1391109a60d803cff9d15...         1   \n",
       "10  5c235b945b25b9905b9b0429ce59f1db51d0d0c7d48c2c...         1   \n",
       "11                            TCGA-21-5784-01Z-00-DX1         1   \n",
       "12  f952cc65376009cfad8249e53b9b2c0daaa3553e897096...         1   \n",
       "13  3b0709483b1e86449cc355bb797e841117ba178c6ae1ed...         1   \n",
       "14  3582166ee20755856adf4882a8bfacb616fce424791160...         1   \n",
       "15  e5384c905e9879cb6e8ff5250fb03155bc1db035d8dde4...         1   \n",
       "16  a6593632dcbbe4c9e9429a9cec573d26fd8c91a47d554d...         1   \n",
       "17                            TCGA-HE-7130-01Z-00-DX1         1   \n",
       "18  3bfd6bb152310f93daa6f4e1867c10572946e874b3a30c...         1   \n",
       "19  305a8baaf726d7c9e695bff31d3a6a61445999a4732f0a...         1   \n",
       "20  d7d12a2acc47a94961aeb56fd56e8a0873016af75f5dd1...         1   \n",
       "21  a90401357d50e1376354ae6e5f56a2e4dff3fdb5a4e8d5...         1   \n",
       "22  8fdc34509a0c3721f7b5e235c8a93e1f553343aa17ad10...         1   \n",
       "23  4d4ebfcae4374165ea6ae7c7e18fd0ba5014c3c860ee24...         1   \n",
       "24  bbce7ebc40323a0eff6574d0c3842f50f907f55fbfb46c...         1   \n",
       "25  4948e3dfe0483c2198b9616612071ead5474dffd223071...         1   \n",
       "26  cc88627344305b9a9b07f8bd042cb074c7a834c13de67f...         1   \n",
       "27  88d5a03f8ecd459f076a06e0d5035149193bfdd727c309...         1   \n",
       "28  2dd3356f2dcf470aec4003800744dfec6490e75d88011e...         1   \n",
       "29  abbfff07379bceb69dba41dad8b0db5eb80cc8baf3d4af...         1   \n",
       "30  6b72b61b80060a9e79a4747f9c5d5af135af9db466681c...         1   \n",
       "31  a1777737270c5f96c4523dff76e4097756f8f7d4c9d59b...         1   \n",
       "32  f81ca7ee25e733ff37240c34c8e3044d9937bb0166e315...         1   \n",
       "33  df9a4212ecb67bb4e58eba62f293b91f9d6f1dde73e38f...         1   \n",
       "34  547ef286ee5f4e5dce533e982e6992ada67b7d727fdd3c...         1   \n",
       "35  72b18a405555ad491721e29454e5cd325055ce81a9e785...         1   \n",
       "36  751f421d322940d6efe3bd570a66ecda16d08a1b90bc32...         1   \n",
       "37  f487cc82271cf84b4414552aa8b0a9d82d902451ebe8e8...         1   \n",
       "38                            TCGA-RD-A8N9-01A-01-TS1         1   \n",
       "39  06350c7cc618be442c15706db7a68e91f313758d224de4...         1   \n",
       "40                            TCGA-50-5931-01Z-00-DX1         1   \n",
       "41  7aae06bc4558829473071defec0b7ab3bfa9c5005548a1...         1   \n",
       "42  f9ac03b0344ce8c48bc058448541f9211a1e5f4c94fdaf...         1   \n",
       "43  5ba4facefc949c920d7054813a3e846b000969da2ed860...         1   \n",
       "44  a6e81120d1cb9f71f8a25f90a5d56c4b714a642fc496a7...         1   \n",
       "45  6fc83b33896f58a4a067d8fdcf51f15d4ae9be05d8c381...         1   \n",
       "46  bf4a61bb81589c9a67e3343408befd3e135af5e88b50c1...         1   \n",
       "47  40bcdad218ac5f0885fc247d88fcad9f729f55c81c79d2...         1   \n",
       "48  b4de1e3eec159d8af1bd5447696f8996c31709edaf33e2...         1   \n",
       "49  573a657d5e5fcb9574a758b0ab34b09c79d7ba374ceb71...         1   \n",
       "50  1e8408fbb1619e7a0bcdd0bcd21fae57e7cb1f297d4c79...         1   \n",
       "51  b6edad733399c83c8eb7a59c0d37b54e10cc0d59894e39...         1   \n",
       "52  8f94a80b95a881d0efdec36affc915dca9609f4cba8134...         1   \n",
       "53  bb8ebf465c968a5f6f715de5d9e2e664afd1bcaa533e0e...         1   \n",
       "54  8de0b1a2e8f614af29fe5fafeaa5bdf55e6b3e65edf363...         1   \n",
       "55  337b6eed0726f07531cd467cd62b6676c31a8c9e716bdb...         1   \n",
       "56  bde3727f3a9e8b2b58f383ebc762b2157eb50cdbff23e6...         1   \n",
       "57  a3a65623e079af7988b0c1cf1e54041003c6d730c91ecf...         1   \n",
       "58  62057502c387145ed4f8f7f0d5e5bedcb72d3bcec15fa7...         1   \n",
       "59  309ba76b12ecb5ce28b99f3445b2b5dc54c0564c3c0e24...         1   \n",
       "60  449fe932622db3b49366a260ddd20077219f96fb2dc0f9...         1   \n",
       "61  b24ea5c268469a95ed155eeaf809e36030b78a2eb530a0...         1   \n",
       "62  c96109cbebcf206f20035cbde414e43872074eee8d839b...         1   \n",
       "63  e856511ac1c34d24320eb7c56c05a4a3340d06667b4f5b...         1   \n",
       "64  7b5987a24dd57325e82812371b3f4df7edc528e0526754...         1   \n",
       "65  1f9e429c12f4477221b5b855a5f494fda2ef6d064ff75b...         1   \n",
       "66  648636ee314d7bdba3ab2fc0fe49a863de35c3e2caf619...         1   \n",
       "67  f73e37957c74f554be132986f38b6f1d75339f636dfe2b...         1   \n",
       "68  623cf6987b3fac8f384c09f40d98c5e739c097aa9a9627...         1   \n",
       "69  8bef203fce625e4d8c89dca728158be4662dfdfdcd4dc7...         1   \n",
       "70  245b995878370ef4ea977568b2b67f93d4ecaa9308761b...         1   \n",
       "71  57bd029b19c1b382bef9db3ac14f13ea85e36a6053b92e...         1   \n",
       "72  93cfd412c7de5210bbd262ec3a602cfea65072e9272e9f...         1   \n",
       "73  da5f98f2b8a64eee735a398de48ed42cd31bf17a6063db...         1   \n",
       "74  ce37f6dd0615d45e66e41a8f2ed6fbc0bbe3103a290394...         1   \n",
       "75  449a9c32e53a37c8a86e01c199155c8da3958b631088e1...         1   \n",
       "76  20468e8779c43e089dc0ff30f25e6cf3872d5aa6a0fdad...         1   \n",
       "77  2bf594e9d06f78b4b79d7ffb395497a0a91126b6b0d710...         1   \n",
       "78                            TCGA-G9-6362-01Z-00-DX1         1   \n",
       "79  f43169e3d8b4f71e687945b9e72cbfdfe2e40e68842568...         1   \n",
       "80  866a8cba7bfe1ea73e383d6cf492e53752579140c8b833...         1   \n",
       "81  62570c4ff1c5ab6d9d383aba9f25e604768520b4266afd...         1   \n",
       "82  12f89395ad5d21491ab9cec137e247652451d283064773...         1   \n",
       "83  f728de04267283f0b4daab9a840e7433b2c6034baf195f...         1   \n",
       "84  08ae2741df2f5ac815c0f272a8c532b5167ee853be9b93...         1   \n",
       "85  58406ed8ef944831c413c3424dc2b07e59aef13eb1ff16...         1   \n",
       "86  516a0e20327d6dfcedcf57e3056115e4fb29cdf4cb3490...         1   \n",
       "87                            TCGA-B0-5698-01Z-00-DX1         1   \n",
       "88  a246bcaa64af48ee5ca181cd594c0fc43466e7614406eb...         1   \n",
       "89  89be66f88612aae541f5843abcd9c015832b5d6c54a281...         1   \n",
       "90  8f6597cd978c060378177df76e554d0578b97eab471e23...         1   \n",
       "91  aa58ba4512955771b4f9b459cb4e6a8adb71d11cd6cae6...         1   \n",
       "92  ff3407842ada5bc18be79ae453e5bdaa1b68afc842fc22...         1   \n",
       "93  edd36ed822e7ed760ff73e0524df22aa5bf5c565efcdc6...         1   \n",
       "94  3ebd2ab34ba86e515feb79ffdeb7fc303a074a98ba3994...         1   \n",
       "95  f26f4c2c70c38fe12e00d5a814d5116691f2ca54890812...         1   \n",
       "96  1b6044e4858a9b7cee9b0028d8e54fbc8fb72e6c4424ab...         1   \n",
       "97  e66f25e175abab08ecb4e5f6859db64a211e0ddffb262d...         1   \n",
       "98  d7db360fabfce9828559a21f6bffff589ae868e0dc6101...         1   \n",
       "99  c04fa1a74a980d790ba6f3e595fd9851f14370bb71c7cb...         1   \n",
       "\n",
       "                                      file_path_image  vgg_features_clusters  \n",
       "0   ../stage1_train/ef6634efb46567d87b811be786b18c...                      1  \n",
       "1   ../stage1_train/351771edfc5db5665ded8aa4940257...                      6  \n",
       "2   ../stage1_train/785555c0cbb49dad83563521708528...                      4  \n",
       "3   ../stage1_train/7ba20aa731cc21af74a8d940254176...                      1  \n",
       "4   ../stage1_train/43cf6b2ec0b0745ac2b87b4d8780f6...                      3  \n",
       "5   ../stage1_train/0b2e702f90aee4fff2bc6e4326308d...                      4  \n",
       "6   ../stage1_train/61dc249314d7b965eb4561ec739eab...                      6  \n",
       "7   ../stage1_train/28d33efef218392e79e385906deb88...                      0  \n",
       "8   ../stage1_train/4596961c789d3b4191649291879772...                      6  \n",
       "9   ../stage1_train/1ec74a26e772966df764e063f13911...                      9  \n",
       "10  ../stage1_train/5c235b945b25b9905b9b0429ce59f1...                      0  \n",
       "11  ../stage1_train/TCGA-21-5784-01Z-00-DX1/images...                      7  \n",
       "12  ../stage1_train/f952cc65376009cfad8249e53b9b2c...                      2  \n",
       "13  ../stage1_train/3b0709483b1e86449cc355bb797e84...                      9  \n",
       "14  ../stage1_train/3582166ee20755856adf4882a8bfac...                      5  \n",
       "15  ../stage1_train/e5384c905e9879cb6e8ff5250fb031...                      0  \n",
       "16  ../stage1_train/a6593632dcbbe4c9e9429a9cec573d...                      5  \n",
       "17  ../stage1_train/TCGA-HE-7130-01Z-00-DX1/images...                      7  \n",
       "18  ../stage1_train/3bfd6bb152310f93daa6f4e1867c10...                      1  \n",
       "19  ../stage1_train/305a8baaf726d7c9e695bff31d3a6a...                      5  \n",
       "20  ../stage1_train/d7d12a2acc47a94961aeb56fd56e8a...                      0  \n",
       "21  ../stage1_train/a90401357d50e1376354ae6e5f56a2...                      9  \n",
       "22  ../stage1_train/8fdc34509a0c3721f7b5e235c8a93e...                      1  \n",
       "23  ../stage1_train/4d4ebfcae4374165ea6ae7c7e18fd0...                      6  \n",
       "24  ../stage1_train/bbce7ebc40323a0eff6574d0c3842f...                      0  \n",
       "25  ../stage1_train/4948e3dfe0483c2198b9616612071e...                      0  \n",
       "26  ../stage1_train/cc88627344305b9a9b07f8bd042cb0...                      6  \n",
       "27  ../stage1_train/88d5a03f8ecd459f076a06e0d50351...                      5  \n",
       "28  ../stage1_train/2dd3356f2dcf470aec4003800744df...                      2  \n",
       "29  ../stage1_train/abbfff07379bceb69dba41dad8b0db...                      1  \n",
       "30  ../stage1_train/6b72b61b80060a9e79a4747f9c5d5a...                      6  \n",
       "31  ../stage1_train/a1777737270c5f96c4523dff76e409...                      0  \n",
       "32  ../stage1_train/f81ca7ee25e733ff37240c34c8e304...                      5  \n",
       "33  ../stage1_train/df9a4212ecb67bb4e58eba62f293b9...                      1  \n",
       "34  ../stage1_train/547ef286ee5f4e5dce533e982e6992...                      6  \n",
       "35  ../stage1_train/72b18a405555ad491721e29454e5cd...                      4  \n",
       "36  ../stage1_train/751f421d322940d6efe3bd570a66ec...                      1  \n",
       "37  ../stage1_train/f487cc82271cf84b4414552aa8b0a9...                      6  \n",
       "38  ../stage1_train/TCGA-RD-A8N9-01A-01-TS1/images...                      7  \n",
       "39  ../stage1_train/06350c7cc618be442c15706db7a68e...                      4  \n",
       "40  ../stage1_train/TCGA-50-5931-01Z-00-DX1/images...                      7  \n",
       "41  ../stage1_train/7aae06bc4558829473071defec0b7a...                      1  \n",
       "42  ../stage1_train/f9ac03b0344ce8c48bc058448541f9...                      1  \n",
       "43  ../stage1_train/5ba4facefc949c920d7054813a3e84...                      0  \n",
       "44  ../stage1_train/a6e81120d1cb9f71f8a25f90a5d56c...                      0  \n",
       "45  ../stage1_train/6fc83b33896f58a4a067d8fdcf51f1...                      0  \n",
       "46  ../stage1_train/bf4a61bb81589c9a67e3343408befd...                      9  \n",
       "47  ../stage1_train/40bcdad218ac5f0885fc247d88fcad...                      4  \n",
       "48  ../stage1_train/b4de1e3eec159d8af1bd5447696f89...                      0  \n",
       "49  ../stage1_train/573a657d5e5fcb9574a758b0ab34b0...                      1  \n",
       "50  ../stage1_train/1e8408fbb1619e7a0bcdd0bcd21fae...                      4  \n",
       "51  ../stage1_train/b6edad733399c83c8eb7a59c0d37b5...                      0  \n",
       "52  ../stage1_train/8f94a80b95a881d0efdec36affc915...                      5  \n",
       "53  ../stage1_train/bb8ebf465c968a5f6f715de5d9e2e6...                      6  \n",
       "54  ../stage1_train/8de0b1a2e8f614af29fe5fafeaa5bd...                      4  \n",
       "55  ../stage1_train/337b6eed0726f07531cd467cd62b66...                      2  \n",
       "56  ../stage1_train/bde3727f3a9e8b2b58f383ebc762b2...                      6  \n",
       "57  ../stage1_train/a3a65623e079af7988b0c1cf1e5404...                      4  \n",
       "58  ../stage1_train/62057502c387145ed4f8f7f0d5e5be...                      6  \n",
       "59  ../stage1_train/309ba76b12ecb5ce28b99f3445b2b5...                      4  \n",
       "60  ../stage1_train/449fe932622db3b49366a260ddd200...                      6  \n",
       "61  ../stage1_train/b24ea5c268469a95ed155eeaf809e3...                      3  \n",
       "62  ../stage1_train/c96109cbebcf206f20035cbde414e4...                      0  \n",
       "63  ../stage1_train/e856511ac1c34d24320eb7c56c05a4...                      5  \n",
       "64  ../stage1_train/7b5987a24dd57325e82812371b3f4d...                      6  \n",
       "65  ../stage1_train/1f9e429c12f4477221b5b855a5f494...                      1  \n",
       "66  ../stage1_train/648636ee314d7bdba3ab2fc0fe49a8...                      1  \n",
       "67  ../stage1_train/f73e37957c74f554be132986f38b6f...                      1  \n",
       "68  ../stage1_train/623cf6987b3fac8f384c09f40d98c5...                      1  \n",
       "69  ../stage1_train/8bef203fce625e4d8c89dca728158b...                      5  \n",
       "70  ../stage1_train/245b995878370ef4ea977568b2b67f...                      6  \n",
       "71  ../stage1_train/57bd029b19c1b382bef9db3ac14f13...                      2  \n",
       "72  ../stage1_train/93cfd412c7de5210bbd262ec3a602c...                      4  \n",
       "73  ../stage1_train/da5f98f2b8a64eee735a398de48ed4...                      6  \n",
       "74  ../stage1_train/ce37f6dd0615d45e66e41a8f2ed6fb...                      4  \n",
       "75  ../stage1_train/449a9c32e53a37c8a86e01c199155c...                      3  \n",
       "76  ../stage1_train/20468e8779c43e089dc0ff30f25e6c...                      5  \n",
       "77  ../stage1_train/2bf594e9d06f78b4b79d7ffb395497...                      4  \n",
       "78  ../stage1_train/TCGA-G9-6362-01Z-00-DX1/images...                      7  \n",
       "79  ../stage1_train/f43169e3d8b4f71e687945b9e72cbf...                      1  \n",
       "80  ../stage1_train/866a8cba7bfe1ea73e383d6cf492e5...                      4  \n",
       "81  ../stage1_train/62570c4ff1c5ab6d9d383aba9f25e6...                      4  \n",
       "82  ../stage1_train/12f89395ad5d21491ab9cec137e247...                      1  \n",
       "83  ../stage1_train/f728de04267283f0b4daab9a840e74...                      1  \n",
       "84  ../stage1_train/08ae2741df2f5ac815c0f272a8c532...                      4  \n",
       "85  ../stage1_train/58406ed8ef944831c413c3424dc2b0...                      0  \n",
       "86  ../stage1_train/516a0e20327d6dfcedcf57e3056115...                      0  \n",
       "87  ../stage1_train/TCGA-B0-5698-01Z-00-DX1/images...                      7  \n",
       "88  ../stage1_train/a246bcaa64af48ee5ca181cd594c0f...                      6  \n",
       "89  ../stage1_train/89be66f88612aae541f5843abcd9c0...                      0  \n",
       "90  ../stage1_train/8f6597cd978c060378177df76e554d...                      4  \n",
       "91  ../stage1_train/aa58ba4512955771b4f9b459cb4e6a...                      2  \n",
       "92  ../stage1_train/ff3407842ada5bc18be79ae453e5bd...                      3  \n",
       "93  ../stage1_train/edd36ed822e7ed760ff73e0524df22...                      6  \n",
       "94  ../stage1_train/3ebd2ab34ba86e515feb79ffdeb7fc...                      6  \n",
       "95  ../stage1_train/f26f4c2c70c38fe12e00d5a814d511...                      6  \n",
       "96  ../stage1_train/1b6044e4858a9b7cee9b0028d8e54f...                      1  \n",
       "97  ../stage1_train/e66f25e175abab08ecb4e5f6859db6...                      4  \n",
       "98  ../stage1_train/d7db360fabfce9828559a21f6bffff...                      0  \n",
       "99  ../stage1_train/c04fa1a74a980d790ba6f3e595fd98...                      1  "
      ]
     },
     "execution_count": 10,
     "metadata": {},
     "output_type": "execute_result"
    }
   ],
   "source": [
    "if not os.path.exists(META_DATA_PATH):\n",
    "    print('Generating stage2_metadata.csv')\n",
    "    \n",
    "    stage1_metadata = pd.DataFrame()\n",
    "    \n",
    "    train_image_ids = os.listdir(TRAIN_PATH) # ImageId\n",
    "    train_is_train = [1] * len(train_image_ids)\n",
    "    \n",
    "    train_file_path = []\n",
    "    for p in train_image_ids:\n",
    "        if p[:4] == 'TCGA':\n",
    "            train_file_path.append(TRAIN_PATH + '/' + p + '/images/' + p + '.tif')\n",
    "        else:\n",
    "            train_file_path.append(TRAIN_PATH + '/' + p + '/images/' + p + '.png')\n",
    "    \n",
    "    test_image_ids = os.listdir(TEST_PATH) # ImageId\n",
    "    test_is_train = [0] * len(test_image_ids)\n",
    "    test_file_path = [TEST_PATH + '/' + p + '/images/' + p + '.png' for p in test_image_ids]\n",
    "    \n",
    "    stage1_metadata['ImageId'] = np.concatenate([train_image_ids, test_image_ids], axis=0)\n",
    "    stage1_metadata['is_train'] = np.concatenate([train_is_train, test_is_train], axis=0)\n",
    "    stage1_metadata['file_path_image'] = np.concatenate([train_file_path, test_file_path], axis=0)\n",
    "    \n",
    "    \n",
    "    ve = vgg_feature_extractor(n_clusters=10)\n",
    "    train_vgg_features_clusters = ve.get_vgg_clusters(stage1_metadata[stage1_metadata.is_train == 1].reset_index(drop=True), is_train=True)\n",
    "    test_vgg_features_clusters =ve.get_vgg_clusters(stage1_metadata[stage1_metadata.is_train == 0].reset_index(drop=True), is_train=False)\n",
    "    \n",
    "    stage1_metadata['vgg_features_clusters'] = np.concatenate([train_vgg_features_clusters, test_vgg_features_clusters], axis=0)\n",
    "    \n",
    "    \n",
    "    stage1_metadata.to_csv(META_DATA_PATH, index=False)\n",
    "    meta = stage1_metadata\n",
    "    \n",
    "    #del vgg_feature_extractor; gc.collect()\n",
    "else:\n",
    "    meta = pd.read_csv(META_DATA_PATH)\n",
    "    \n",
    "\n",
    "meta.head(100)"
   ]
  },
  {
   "cell_type": "code",
   "execution_count": 11,
   "metadata": {},
   "outputs": [
    {
     "data": {
      "text/html": [
       "<div>\n",
       "<style scoped>\n",
       "    .dataframe tbody tr th:only-of-type {\n",
       "        vertical-align: middle;\n",
       "    }\n",
       "\n",
       "    .dataframe tbody tr th {\n",
       "        vertical-align: top;\n",
       "    }\n",
       "\n",
       "    .dataframe thead th {\n",
       "        text-align: right;\n",
       "    }\n",
       "</style>\n",
       "<table border=\"1\" class=\"dataframe\">\n",
       "  <thead>\n",
       "    <tr style=\"text-align: right;\">\n",
       "      <th></th>\n",
       "      <th>ImageId</th>\n",
       "      <th>is_train</th>\n",
       "      <th>file_path_image</th>\n",
       "      <th>vgg_features_clusters</th>\n",
       "    </tr>\n",
       "  </thead>\n",
       "  <tbody>\n",
       "    <tr>\n",
       "      <th>3613</th>\n",
       "      <td>5d71876e8bba86a57c3e92947fa58ffafacc5e56052f38...</td>\n",
       "      <td>0</td>\n",
       "      <td>../stage2_test_final/5d71876e8bba86a57c3e92947...</td>\n",
       "      <td>6</td>\n",
       "    </tr>\n",
       "    <tr>\n",
       "      <th>3614</th>\n",
       "      <td>88c7fba66a016ceaa25abba59e8b6739df21a102aeffd1...</td>\n",
       "      <td>0</td>\n",
       "      <td>../stage2_test_final/88c7fba66a016ceaa25abba59...</td>\n",
       "      <td>0</td>\n",
       "    </tr>\n",
       "    <tr>\n",
       "      <th>3615</th>\n",
       "      <td>fb11432e1637804c44c66fa7a02c28886ebcfc4ae2bb9c...</td>\n",
       "      <td>0</td>\n",
       "      <td>../stage2_test_final/fb11432e1637804c44c66fa7a...</td>\n",
       "      <td>4</td>\n",
       "    </tr>\n",
       "    <tr>\n",
       "      <th>3616</th>\n",
       "      <td>364fb54d8bcbf2d67da60c3c1f6bade82c6a72f76010e6...</td>\n",
       "      <td>0</td>\n",
       "      <td>../stage2_test_final/364fb54d8bcbf2d67da60c3c1...</td>\n",
       "      <td>0</td>\n",
       "    </tr>\n",
       "    <tr>\n",
       "      <th>3617</th>\n",
       "      <td>4716505b5e5a718d5669f2be196c4fa463711a5ba23e7b...</td>\n",
       "      <td>0</td>\n",
       "      <td>../stage2_test_final/4716505b5e5a718d5669f2be1...</td>\n",
       "      <td>0</td>\n",
       "    </tr>\n",
       "    <tr>\n",
       "      <th>3618</th>\n",
       "      <td>c73216e5dd0e7897e18e93fe8aa78479d38eed66356003...</td>\n",
       "      <td>0</td>\n",
       "      <td>../stage2_test_final/c73216e5dd0e7897e18e93fe8...</td>\n",
       "      <td>4</td>\n",
       "    </tr>\n",
       "    <tr>\n",
       "      <th>3619</th>\n",
       "      <td>43db90aa201fdd722138d1b4ebd4ef45c060c9ab349556...</td>\n",
       "      <td>0</td>\n",
       "      <td>../stage2_test_final/43db90aa201fdd722138d1b4e...</td>\n",
       "      <td>5</td>\n",
       "    </tr>\n",
       "    <tr>\n",
       "      <th>3620</th>\n",
       "      <td>5694ef74699c2a74bb6d6cc04af7432c29ccd4a0940716...</td>\n",
       "      <td>0</td>\n",
       "      <td>../stage2_test_final/5694ef74699c2a74bb6d6cc04...</td>\n",
       "      <td>0</td>\n",
       "    </tr>\n",
       "    <tr>\n",
       "      <th>3621</th>\n",
       "      <td>e0946fa9d9828d41ef95aad92c052bc09f41a986b7120b...</td>\n",
       "      <td>0</td>\n",
       "      <td>../stage2_test_final/e0946fa9d9828d41ef95aad92...</td>\n",
       "      <td>4</td>\n",
       "    </tr>\n",
       "    <tr>\n",
       "      <th>3622</th>\n",
       "      <td>5171307b70da8e144e5ace020a85a985af8c11360297cc...</td>\n",
       "      <td>0</td>\n",
       "      <td>../stage2_test_final/5171307b70da8e144e5ace020...</td>\n",
       "      <td>4</td>\n",
       "    </tr>\n",
       "    <tr>\n",
       "      <th>3623</th>\n",
       "      <td>cbf34fbe7704e76bf1c5357a3c8802708c534b5abf0275...</td>\n",
       "      <td>0</td>\n",
       "      <td>../stage2_test_final/cbf34fbe7704e76bf1c5357a3...</td>\n",
       "      <td>4</td>\n",
       "    </tr>\n",
       "    <tr>\n",
       "      <th>3624</th>\n",
       "      <td>7c055ce40072bae2242ef39251bfd2110996e122cdbdca...</td>\n",
       "      <td>0</td>\n",
       "      <td>../stage2_test_final/7c055ce40072bae2242ef3925...</td>\n",
       "      <td>4</td>\n",
       "    </tr>\n",
       "    <tr>\n",
       "      <th>3625</th>\n",
       "      <td>71260eb68ba996a8d81f7e5770043a5fc7c46219893619...</td>\n",
       "      <td>0</td>\n",
       "      <td>../stage2_test_final/71260eb68ba996a8d81f7e577...</td>\n",
       "      <td>0</td>\n",
       "    </tr>\n",
       "    <tr>\n",
       "      <th>3626</th>\n",
       "      <td>24928d37f8e4704fed57eb9521248f6e6680f581d487f8...</td>\n",
       "      <td>0</td>\n",
       "      <td>../stage2_test_final/24928d37f8e4704fed57eb952...</td>\n",
       "      <td>6</td>\n",
       "    </tr>\n",
       "    <tr>\n",
       "      <th>3627</th>\n",
       "      <td>0809c8808881395346e23fe04a6750a8f7fe8e562b6db9...</td>\n",
       "      <td>0</td>\n",
       "      <td>../stage2_test_final/0809c8808881395346e23fe04...</td>\n",
       "      <td>4</td>\n",
       "    </tr>\n",
       "    <tr>\n",
       "      <th>3628</th>\n",
       "      <td>102c2afeb1ce4714ef9b53d8c63e3431a89491bdb9175e...</td>\n",
       "      <td>0</td>\n",
       "      <td>../stage2_test_final/102c2afeb1ce4714ef9b53d8c...</td>\n",
       "      <td>4</td>\n",
       "    </tr>\n",
       "    <tr>\n",
       "      <th>3629</th>\n",
       "      <td>817e03b5744dc163e2f7d3b14234e6c20d375aa6c5e9c4...</td>\n",
       "      <td>0</td>\n",
       "      <td>../stage2_test_final/817e03b5744dc163e2f7d3b14...</td>\n",
       "      <td>3</td>\n",
       "    </tr>\n",
       "    <tr>\n",
       "      <th>3630</th>\n",
       "      <td>0ec1e0387baf20d0c858d84fcfcdffd255b87db4d3c599...</td>\n",
       "      <td>0</td>\n",
       "      <td>../stage2_test_final/0ec1e0387baf20d0c858d84fc...</td>\n",
       "      <td>0</td>\n",
       "    </tr>\n",
       "    <tr>\n",
       "      <th>3631</th>\n",
       "      <td>c7ec1b66694579e875e115ab58524b7a482bd2658c7476...</td>\n",
       "      <td>0</td>\n",
       "      <td>../stage2_test_final/c7ec1b66694579e875e115ab5...</td>\n",
       "      <td>4</td>\n",
       "    </tr>\n",
       "    <tr>\n",
       "      <th>3632</th>\n",
       "      <td>04387d228734fd5993d61199704cbd741762b10e31856e...</td>\n",
       "      <td>0</td>\n",
       "      <td>../stage2_test_final/04387d228734fd5993d611997...</td>\n",
       "      <td>0</td>\n",
       "    </tr>\n",
       "    <tr>\n",
       "      <th>3633</th>\n",
       "      <td>3f2267b39df037b8ecfaf4c94c3113103f9a0dc74683c5...</td>\n",
       "      <td>0</td>\n",
       "      <td>../stage2_test_final/3f2267b39df037b8ecfaf4c94...</td>\n",
       "      <td>4</td>\n",
       "    </tr>\n",
       "    <tr>\n",
       "      <th>3634</th>\n",
       "      <td>17b3d209dbf19153c53e35b3b69a95708f82ac763104e3...</td>\n",
       "      <td>0</td>\n",
       "      <td>../stage2_test_final/17b3d209dbf19153c53e35b3b...</td>\n",
       "      <td>4</td>\n",
       "    </tr>\n",
       "    <tr>\n",
       "      <th>3635</th>\n",
       "      <td>486fe606382b28907ffd6f4e0b45d6a1b1ea3ef798eb59...</td>\n",
       "      <td>0</td>\n",
       "      <td>../stage2_test_final/486fe606382b28907ffd6f4e0...</td>\n",
       "      <td>4</td>\n",
       "    </tr>\n",
       "    <tr>\n",
       "      <th>3636</th>\n",
       "      <td>e2d206e4ea6b9e6cb477f85fb32b94f7c2098431b0da25...</td>\n",
       "      <td>0</td>\n",
       "      <td>../stage2_test_final/e2d206e4ea6b9e6cb477f85fb...</td>\n",
       "      <td>0</td>\n",
       "    </tr>\n",
       "    <tr>\n",
       "      <th>3637</th>\n",
       "      <td>804a9fd51a33b145114d7655b65d54a36ba33b358daf04...</td>\n",
       "      <td>0</td>\n",
       "      <td>../stage2_test_final/804a9fd51a33b145114d7655b...</td>\n",
       "      <td>6</td>\n",
       "    </tr>\n",
       "    <tr>\n",
       "      <th>3638</th>\n",
       "      <td>c5dc5a10b015aa412d816304e5975e01261d99cda3e990...</td>\n",
       "      <td>0</td>\n",
       "      <td>../stage2_test_final/c5dc5a10b015aa412d816304e...</td>\n",
       "      <td>4</td>\n",
       "    </tr>\n",
       "    <tr>\n",
       "      <th>3639</th>\n",
       "      <td>38eaf5c62a54544c9b07881c96f5057acdffa57e8f718e...</td>\n",
       "      <td>0</td>\n",
       "      <td>../stage2_test_final/38eaf5c62a54544c9b07881c9...</td>\n",
       "      <td>0</td>\n",
       "    </tr>\n",
       "    <tr>\n",
       "      <th>3640</th>\n",
       "      <td>a99507e15e1f2c172377ebe77b956143b3229cfd516b9c...</td>\n",
       "      <td>0</td>\n",
       "      <td>../stage2_test_final/a99507e15e1f2c172377ebe77...</td>\n",
       "      <td>0</td>\n",
       "    </tr>\n",
       "    <tr>\n",
       "      <th>3641</th>\n",
       "      <td>a3f30b52add039680a19e16e42710e4aeea316505aaa12...</td>\n",
       "      <td>0</td>\n",
       "      <td>../stage2_test_final/a3f30b52add039680a19e16e4...</td>\n",
       "      <td>5</td>\n",
       "    </tr>\n",
       "    <tr>\n",
       "      <th>3642</th>\n",
       "      <td>13160787b26bb275a2458bad2f65df80d65a9622240244...</td>\n",
       "      <td>0</td>\n",
       "      <td>../stage2_test_final/13160787b26bb275a2458bad2...</td>\n",
       "      <td>4</td>\n",
       "    </tr>\n",
       "    <tr>\n",
       "      <th>3643</th>\n",
       "      <td>6f28825a6f47ca1b0a1897bdbd6b7901af2d7a7a36547c...</td>\n",
       "      <td>0</td>\n",
       "      <td>../stage2_test_final/6f28825a6f47ca1b0a1897bdb...</td>\n",
       "      <td>4</td>\n",
       "    </tr>\n",
       "    <tr>\n",
       "      <th>3644</th>\n",
       "      <td>5e9bde42fdac02b66190fd109906ae0648c7bf2baf6fa6...</td>\n",
       "      <td>0</td>\n",
       "      <td>../stage2_test_final/5e9bde42fdac02b66190fd109...</td>\n",
       "      <td>0</td>\n",
       "    </tr>\n",
       "    <tr>\n",
       "      <th>3645</th>\n",
       "      <td>a04b569f7fda650fddaa7d2945cf8a2fe7f3356883ac33...</td>\n",
       "      <td>0</td>\n",
       "      <td>../stage2_test_final/a04b569f7fda650fddaa7d294...</td>\n",
       "      <td>0</td>\n",
       "    </tr>\n",
       "    <tr>\n",
       "      <th>3646</th>\n",
       "      <td>892c085fac67b6fb93f99186d73391c7292954953f3399...</td>\n",
       "      <td>0</td>\n",
       "      <td>../stage2_test_final/892c085fac67b6fb93f99186d...</td>\n",
       "      <td>0</td>\n",
       "    </tr>\n",
       "    <tr>\n",
       "      <th>3647</th>\n",
       "      <td>21d4efff99cb7512878b19f4b1e978f7e24dd02c6b311b...</td>\n",
       "      <td>0</td>\n",
       "      <td>../stage2_test_final/21d4efff99cb7512878b19f4b...</td>\n",
       "      <td>0</td>\n",
       "    </tr>\n",
       "    <tr>\n",
       "      <th>3648</th>\n",
       "      <td>eeb6873e29c2cdc402531da256a33ec1552abe95128e8c...</td>\n",
       "      <td>0</td>\n",
       "      <td>../stage2_test_final/eeb6873e29c2cdc402531da25...</td>\n",
       "      <td>4</td>\n",
       "    </tr>\n",
       "    <tr>\n",
       "      <th>3649</th>\n",
       "      <td>16f5979a207d4830fa72ab44e2cd24a3dfc80953fa06f8...</td>\n",
       "      <td>0</td>\n",
       "      <td>../stage2_test_final/16f5979a207d4830fa72ab44e...</td>\n",
       "      <td>2</td>\n",
       "    </tr>\n",
       "    <tr>\n",
       "      <th>3650</th>\n",
       "      <td>e1dedfc527eb4b9e0f85e3d9da0ec1f7343b9dfb7651df...</td>\n",
       "      <td>0</td>\n",
       "      <td>../stage2_test_final/e1dedfc527eb4b9e0f85e3d9d...</td>\n",
       "      <td>4</td>\n",
       "    </tr>\n",
       "    <tr>\n",
       "      <th>3651</th>\n",
       "      <td>5be85f834d2ccae4b65f29ccf1eef5f2cef827278be23a...</td>\n",
       "      <td>0</td>\n",
       "      <td>../stage2_test_final/5be85f834d2ccae4b65f29ccf...</td>\n",
       "      <td>4</td>\n",
       "    </tr>\n",
       "    <tr>\n",
       "      <th>3652</th>\n",
       "      <td>a2c12dec525c5e619783dad0637cd7355542c50a168af2...</td>\n",
       "      <td>0</td>\n",
       "      <td>../stage2_test_final/a2c12dec525c5e619783dad06...</td>\n",
       "      <td>4</td>\n",
       "    </tr>\n",
       "    <tr>\n",
       "      <th>3653</th>\n",
       "      <td>5662665ab4b6341818f74b029f5f997f81320312ea34bb...</td>\n",
       "      <td>0</td>\n",
       "      <td>../stage2_test_final/5662665ab4b6341818f74b029...</td>\n",
       "      <td>7</td>\n",
       "    </tr>\n",
       "    <tr>\n",
       "      <th>3654</th>\n",
       "      <td>5e6d5cf7ab4fa2f9279210f9faf36ac8877fccdc2607ce...</td>\n",
       "      <td>0</td>\n",
       "      <td>../stage2_test_final/5e6d5cf7ab4fa2f9279210f9f...</td>\n",
       "      <td>4</td>\n",
       "    </tr>\n",
       "    <tr>\n",
       "      <th>3655</th>\n",
       "      <td>45ab35f6951ccedf48f346ae7a9bc117a7479a46636b4d...</td>\n",
       "      <td>0</td>\n",
       "      <td>../stage2_test_final/45ab35f6951ccedf48f346ae7...</td>\n",
       "      <td>6</td>\n",
       "    </tr>\n",
       "    <tr>\n",
       "      <th>3656</th>\n",
       "      <td>86f28c2c2bed586ed75ff6267b24af1de4c1347787753f...</td>\n",
       "      <td>0</td>\n",
       "      <td>../stage2_test_final/86f28c2c2bed586ed75ff6267...</td>\n",
       "      <td>0</td>\n",
       "    </tr>\n",
       "    <tr>\n",
       "      <th>3657</th>\n",
       "      <td>3d96585c1070108bda4c15ea5eedb81c40eb18a3efb557...</td>\n",
       "      <td>0</td>\n",
       "      <td>../stage2_test_final/3d96585c1070108bda4c15ea5...</td>\n",
       "      <td>4</td>\n",
       "    </tr>\n",
       "    <tr>\n",
       "      <th>3658</th>\n",
       "      <td>522ce42064ddfc4a0e6469ba6384b3b052da41ba26ce59...</td>\n",
       "      <td>0</td>\n",
       "      <td>../stage2_test_final/522ce42064ddfc4a0e6469ba6...</td>\n",
       "      <td>4</td>\n",
       "    </tr>\n",
       "    <tr>\n",
       "      <th>3659</th>\n",
       "      <td>9c45c366823c80fb2e16280dbcf2e17e834d0bb9991d7f...</td>\n",
       "      <td>0</td>\n",
       "      <td>../stage2_test_final/9c45c366823c80fb2e16280db...</td>\n",
       "      <td>4</td>\n",
       "    </tr>\n",
       "    <tr>\n",
       "      <th>3660</th>\n",
       "      <td>4c68676a9c53c685790835bf4a3e85d4b2ea3a90d7a930...</td>\n",
       "      <td>0</td>\n",
       "      <td>../stage2_test_final/4c68676a9c53c685790835bf4...</td>\n",
       "      <td>4</td>\n",
       "    </tr>\n",
       "    <tr>\n",
       "      <th>3661</th>\n",
       "      <td>b2b9b85cf0e5dd9f6803e26e71c7681db346d82c839501...</td>\n",
       "      <td>0</td>\n",
       "      <td>../stage2_test_final/b2b9b85cf0e5dd9f6803e26e7...</td>\n",
       "      <td>4</td>\n",
       "    </tr>\n",
       "    <tr>\n",
       "      <th>3662</th>\n",
       "      <td>a53c0335a658b1e6fd683a36b2d44d4068dd0e8aca0091...</td>\n",
       "      <td>0</td>\n",
       "      <td>../stage2_test_final/a53c0335a658b1e6fd683a36b...</td>\n",
       "      <td>0</td>\n",
       "    </tr>\n",
       "    <tr>\n",
       "      <th>3663</th>\n",
       "      <td>81537757f724d396ad6c803d8db775b2bd2814c711a839...</td>\n",
       "      <td>0</td>\n",
       "      <td>../stage2_test_final/81537757f724d396ad6c803d8...</td>\n",
       "      <td>0</td>\n",
       "    </tr>\n",
       "    <tr>\n",
       "      <th>3664</th>\n",
       "      <td>61f15758840c4068c0633f53795f33949dbfca53fe846c...</td>\n",
       "      <td>0</td>\n",
       "      <td>../stage2_test_final/61f15758840c4068c0633f537...</td>\n",
       "      <td>6</td>\n",
       "    </tr>\n",
       "    <tr>\n",
       "      <th>3665</th>\n",
       "      <td>b435afe8d2fc55eb5c898b068cb53a5039cc259b971f5b...</td>\n",
       "      <td>0</td>\n",
       "      <td>../stage2_test_final/b435afe8d2fc55eb5c898b068...</td>\n",
       "      <td>4</td>\n",
       "    </tr>\n",
       "    <tr>\n",
       "      <th>3666</th>\n",
       "      <td>bec3dd21227544e1012867f361e3cff766e3db79256c28...</td>\n",
       "      <td>0</td>\n",
       "      <td>../stage2_test_final/bec3dd21227544e1012867f36...</td>\n",
       "      <td>0</td>\n",
       "    </tr>\n",
       "    <tr>\n",
       "      <th>3667</th>\n",
       "      <td>0db9a7f318c3fab55e90a7b11e43f0545a592b6cd69e7d...</td>\n",
       "      <td>0</td>\n",
       "      <td>../stage2_test_final/0db9a7f318c3fab55e90a7b11...</td>\n",
       "      <td>2</td>\n",
       "    </tr>\n",
       "    <tr>\n",
       "      <th>3668</th>\n",
       "      <td>a19b065f27f139135084a25e17fe4054416947202d63d5...</td>\n",
       "      <td>0</td>\n",
       "      <td>../stage2_test_final/a19b065f27f139135084a25e1...</td>\n",
       "      <td>0</td>\n",
       "    </tr>\n",
       "    <tr>\n",
       "      <th>3669</th>\n",
       "      <td>54913a8172590e7268be62281e348c49fb1e66f9ce271e...</td>\n",
       "      <td>0</td>\n",
       "      <td>../stage2_test_final/54913a8172590e7268be62281...</td>\n",
       "      <td>0</td>\n",
       "    </tr>\n",
       "    <tr>\n",
       "      <th>3670</th>\n",
       "      <td>1c69629d540046c19795f48d6ecc7150ea213c810b92a6...</td>\n",
       "      <td>0</td>\n",
       "      <td>../stage2_test_final/1c69629d540046c19795f48d6...</td>\n",
       "      <td>0</td>\n",
       "    </tr>\n",
       "    <tr>\n",
       "      <th>3671</th>\n",
       "      <td>ea2ec7d4b1c58de4029faf58074f012fdf212e631fb115...</td>\n",
       "      <td>0</td>\n",
       "      <td>../stage2_test_final/ea2ec7d4b1c58de4029faf580...</td>\n",
       "      <td>0</td>\n",
       "    </tr>\n",
       "    <tr>\n",
       "      <th>3672</th>\n",
       "      <td>e40fb2e18142f0e7ae7f970fee866f89e1b7b414161515...</td>\n",
       "      <td>0</td>\n",
       "      <td>../stage2_test_final/e40fb2e18142f0e7ae7f970fe...</td>\n",
       "      <td>0</td>\n",
       "    </tr>\n",
       "    <tr>\n",
       "      <th>3673</th>\n",
       "      <td>59062eacbf265af92719fea96f85a8487804db18f47b83...</td>\n",
       "      <td>0</td>\n",
       "      <td>../stage2_test_final/59062eacbf265af92719fea96...</td>\n",
       "      <td>0</td>\n",
       "    </tr>\n",
       "    <tr>\n",
       "      <th>3674</th>\n",
       "      <td>a332606fd5bfc159c2688b752b6a64664645fc0b018efb...</td>\n",
       "      <td>0</td>\n",
       "      <td>../stage2_test_final/a332606fd5bfc159c2688b752...</td>\n",
       "      <td>6</td>\n",
       "    </tr>\n",
       "    <tr>\n",
       "      <th>3675</th>\n",
       "      <td>b615c5b5a72a30225b6772c7258c67e40f47be3873b809...</td>\n",
       "      <td>0</td>\n",
       "      <td>../stage2_test_final/b615c5b5a72a30225b6772c72...</td>\n",
       "      <td>0</td>\n",
       "    </tr>\n",
       "    <tr>\n",
       "      <th>3676</th>\n",
       "      <td>a0bf5958f91dcfeb45a431944f8664261230b461a5aa99...</td>\n",
       "      <td>0</td>\n",
       "      <td>../stage2_test_final/a0bf5958f91dcfeb45a431944...</td>\n",
       "      <td>0</td>\n",
       "    </tr>\n",
       "    <tr>\n",
       "      <th>3677</th>\n",
       "      <td>6cac54fefe515d19363e6da44f5800535fc9bd6f215765...</td>\n",
       "      <td>0</td>\n",
       "      <td>../stage2_test_final/6cac54fefe515d19363e6da44...</td>\n",
       "      <td>4</td>\n",
       "    </tr>\n",
       "    <tr>\n",
       "      <th>3678</th>\n",
       "      <td>bd5384e61cd26fc4e6c0833996d1a3fcfd7555bef1cf8c...</td>\n",
       "      <td>0</td>\n",
       "      <td>../stage2_test_final/bd5384e61cd26fc4e6c083399...</td>\n",
       "      <td>4</td>\n",
       "    </tr>\n",
       "    <tr>\n",
       "      <th>3679</th>\n",
       "      <td>b5d585ce67095b353a8596274af0cf18cb95d9e03a4b48...</td>\n",
       "      <td>0</td>\n",
       "      <td>../stage2_test_final/b5d585ce67095b353a8596274...</td>\n",
       "      <td>4</td>\n",
       "    </tr>\n",
       "    <tr>\n",
       "      <th>3680</th>\n",
       "      <td>5694ac60bf95b3a8e655ff8ad43e84f8bb8170c23e41f3...</td>\n",
       "      <td>0</td>\n",
       "      <td>../stage2_test_final/5694ac60bf95b3a8e655ff8ad...</td>\n",
       "      <td>4</td>\n",
       "    </tr>\n",
       "    <tr>\n",
       "      <th>3681</th>\n",
       "      <td>13e4eef807af99a8537235fbcbacf0f96f6362f1f3f978...</td>\n",
       "      <td>0</td>\n",
       "      <td>../stage2_test_final/13e4eef807af99a8537235fbc...</td>\n",
       "      <td>0</td>\n",
       "    </tr>\n",
       "    <tr>\n",
       "      <th>3682</th>\n",
       "      <td>87d4534ea8555b2ee490a4e6d408f9dad61a330b24f8f0...</td>\n",
       "      <td>0</td>\n",
       "      <td>../stage2_test_final/87d4534ea8555b2ee490a4e6d...</td>\n",
       "      <td>0</td>\n",
       "    </tr>\n",
       "    <tr>\n",
       "      <th>3683</th>\n",
       "      <td>218eadb4336ce74de6ff2d9661839ac739cbb2850c682b...</td>\n",
       "      <td>0</td>\n",
       "      <td>../stage2_test_final/218eadb4336ce74de6ff2d966...</td>\n",
       "      <td>0</td>\n",
       "    </tr>\n",
       "    <tr>\n",
       "      <th>3684</th>\n",
       "      <td>6fba8c28f3113451dc9e57dae1ce0d934ce85f8a56c105...</td>\n",
       "      <td>0</td>\n",
       "      <td>../stage2_test_final/6fba8c28f3113451dc9e57dae...</td>\n",
       "      <td>2</td>\n",
       "    </tr>\n",
       "    <tr>\n",
       "      <th>3685</th>\n",
       "      <td>970a6a7c4a4e0a67f23378bfac45b6a98537fe8dc7ee56...</td>\n",
       "      <td>0</td>\n",
       "      <td>../stage2_test_final/970a6a7c4a4e0a67f23378bfa...</td>\n",
       "      <td>6</td>\n",
       "    </tr>\n",
       "    <tr>\n",
       "      <th>3686</th>\n",
       "      <td>e94e718dfcd212e4af16f095fced0c37273adfeca56748...</td>\n",
       "      <td>0</td>\n",
       "      <td>../stage2_test_final/e94e718dfcd212e4af16f095f...</td>\n",
       "      <td>6</td>\n",
       "    </tr>\n",
       "    <tr>\n",
       "      <th>3687</th>\n",
       "      <td>754893e0818d8292fae48fe2cf8f70bef003992813f620...</td>\n",
       "      <td>0</td>\n",
       "      <td>../stage2_test_final/754893e0818d8292fae48fe2c...</td>\n",
       "      <td>0</td>\n",
       "    </tr>\n",
       "    <tr>\n",
       "      <th>3688</th>\n",
       "      <td>912a1d0d563de4f5e2c8e6ca8c8721994492e64702e18d...</td>\n",
       "      <td>0</td>\n",
       "      <td>../stage2_test_final/912a1d0d563de4f5e2c8e6ca8...</td>\n",
       "      <td>1</td>\n",
       "    </tr>\n",
       "    <tr>\n",
       "      <th>3689</th>\n",
       "      <td>6d9facf21108870819ebf0d649194337b109f4fae58d75...</td>\n",
       "      <td>0</td>\n",
       "      <td>../stage2_test_final/6d9facf21108870819ebf0d64...</td>\n",
       "      <td>0</td>\n",
       "    </tr>\n",
       "    <tr>\n",
       "      <th>3690</th>\n",
       "      <td>c7fabd67abacd9e825637d22ea79223304d6969f94283b...</td>\n",
       "      <td>0</td>\n",
       "      <td>../stage2_test_final/c7fabd67abacd9e825637d22e...</td>\n",
       "      <td>0</td>\n",
       "    </tr>\n",
       "    <tr>\n",
       "      <th>3691</th>\n",
       "      <td>c0b7829acc12f87ab54f1ce7779749cfedea7695d99741...</td>\n",
       "      <td>0</td>\n",
       "      <td>../stage2_test_final/c0b7829acc12f87ab54f1ce77...</td>\n",
       "      <td>0</td>\n",
       "    </tr>\n",
       "    <tr>\n",
       "      <th>3692</th>\n",
       "      <td>5a4d8a5919cfaa10cf43a7404827154340d41f5df2d328...</td>\n",
       "      <td>0</td>\n",
       "      <td>../stage2_test_final/5a4d8a5919cfaa10cf43a7404...</td>\n",
       "      <td>6</td>\n",
       "    </tr>\n",
       "    <tr>\n",
       "      <th>3693</th>\n",
       "      <td>68717e395e763c1e00f3aa5f6358ac1bb4c71b42fa30d4...</td>\n",
       "      <td>0</td>\n",
       "      <td>../stage2_test_final/68717e395e763c1e00f3aa5f6...</td>\n",
       "      <td>0</td>\n",
       "    </tr>\n",
       "    <tr>\n",
       "      <th>3694</th>\n",
       "      <td>0a9b684358ddd521550545ffc44a4f2ab335f7e2cfa412...</td>\n",
       "      <td>0</td>\n",
       "      <td>../stage2_test_final/0a9b684358ddd521550545ffc...</td>\n",
       "      <td>0</td>\n",
       "    </tr>\n",
       "    <tr>\n",
       "      <th>3695</th>\n",
       "      <td>23d5887339759baab135fc252655a609d98bdd6d981e0f...</td>\n",
       "      <td>0</td>\n",
       "      <td>../stage2_test_final/23d5887339759baab135fc252...</td>\n",
       "      <td>6</td>\n",
       "    </tr>\n",
       "    <tr>\n",
       "      <th>3696</th>\n",
       "      <td>cab1048d120984536932df523f8b06eb33d3b5f4704b8a...</td>\n",
       "      <td>0</td>\n",
       "      <td>../stage2_test_final/cab1048d120984536932df523...</td>\n",
       "      <td>0</td>\n",
       "    </tr>\n",
       "    <tr>\n",
       "      <th>3697</th>\n",
       "      <td>50664b1805096e83717f86b4713c4d8f77b2a32bedaee6...</td>\n",
       "      <td>0</td>\n",
       "      <td>../stage2_test_final/50664b1805096e83717f86b47...</td>\n",
       "      <td>3</td>\n",
       "    </tr>\n",
       "    <tr>\n",
       "      <th>3698</th>\n",
       "      <td>58ed3013e2e776f7b52ad20f79ea1c4a88d7f67805b035...</td>\n",
       "      <td>0</td>\n",
       "      <td>../stage2_test_final/58ed3013e2e776f7b52ad20f7...</td>\n",
       "      <td>0</td>\n",
       "    </tr>\n",
       "    <tr>\n",
       "      <th>3699</th>\n",
       "      <td>b5de7304dabacb5d36ff92a82580f49d84004fa06b4581...</td>\n",
       "      <td>0</td>\n",
       "      <td>../stage2_test_final/b5de7304dabacb5d36ff92a82...</td>\n",
       "      <td>0</td>\n",
       "    </tr>\n",
       "    <tr>\n",
       "      <th>3700</th>\n",
       "      <td>e5d0fee7b49a212832118a5f55b1135e998a866a0542bb...</td>\n",
       "      <td>0</td>\n",
       "      <td>../stage2_test_final/e5d0fee7b49a212832118a5f5...</td>\n",
       "      <td>4</td>\n",
       "    </tr>\n",
       "    <tr>\n",
       "      <th>3701</th>\n",
       "      <td>6b6070c899829c3d29968474d495a7483079f75053c4b8...</td>\n",
       "      <td>0</td>\n",
       "      <td>../stage2_test_final/6b6070c899829c3d29968474d...</td>\n",
       "      <td>2</td>\n",
       "    </tr>\n",
       "    <tr>\n",
       "      <th>3702</th>\n",
       "      <td>b57c8330eb99bf32c4eca0fcb3dcee30161d4be007c286...</td>\n",
       "      <td>0</td>\n",
       "      <td>../stage2_test_final/b57c8330eb99bf32c4eca0fcb...</td>\n",
       "      <td>4</td>\n",
       "    </tr>\n",
       "    <tr>\n",
       "      <th>3703</th>\n",
       "      <td>2406640f7869d4c3c021ffa01fb5cad0059c46837baa3a...</td>\n",
       "      <td>0</td>\n",
       "      <td>../stage2_test_final/2406640f7869d4c3c021ffa01...</td>\n",
       "      <td>0</td>\n",
       "    </tr>\n",
       "    <tr>\n",
       "      <th>3704</th>\n",
       "      <td>4edad1bb8932fc0d1b1d7af10d31918c075e26af50c2c6...</td>\n",
       "      <td>0</td>\n",
       "      <td>../stage2_test_final/4edad1bb8932fc0d1b1d7af10...</td>\n",
       "      <td>0</td>\n",
       "    </tr>\n",
       "    <tr>\n",
       "      <th>3705</th>\n",
       "      <td>7e23ad482f74d9410eb280c7d8f99f9855651f4253dd61...</td>\n",
       "      <td>0</td>\n",
       "      <td>../stage2_test_final/7e23ad482f74d9410eb280c7d...</td>\n",
       "      <td>4</td>\n",
       "    </tr>\n",
       "    <tr>\n",
       "      <th>3706</th>\n",
       "      <td>0a8dfb6763ec049b57454e6b5605f872cdf41cd13951fb...</td>\n",
       "      <td>0</td>\n",
       "      <td>../stage2_test_final/0a8dfb6763ec049b57454e6b5...</td>\n",
       "      <td>4</td>\n",
       "    </tr>\n",
       "    <tr>\n",
       "      <th>3707</th>\n",
       "      <td>330b9666c7962207e4e9d054fe6c135f59aab62395d61b...</td>\n",
       "      <td>0</td>\n",
       "      <td>../stage2_test_final/330b9666c7962207e4e9d054f...</td>\n",
       "      <td>4</td>\n",
       "    </tr>\n",
       "    <tr>\n",
       "      <th>3708</th>\n",
       "      <td>7d467ae316bf2a0b824c9f02b062cd2fc0a26ec009e944...</td>\n",
       "      <td>0</td>\n",
       "      <td>../stage2_test_final/7d467ae316bf2a0b824c9f02b...</td>\n",
       "      <td>0</td>\n",
       "    </tr>\n",
       "    <tr>\n",
       "      <th>3709</th>\n",
       "      <td>63ca8df5136ecd722e10263950a490f22f41702ab7dcea...</td>\n",
       "      <td>0</td>\n",
       "      <td>../stage2_test_final/63ca8df5136ecd722e1026395...</td>\n",
       "      <td>6</td>\n",
       "    </tr>\n",
       "    <tr>\n",
       "      <th>3710</th>\n",
       "      <td>0801c13e30c0e1c6918699ba8b28fb5381513de55902de...</td>\n",
       "      <td>0</td>\n",
       "      <td>../stage2_test_final/0801c13e30c0e1c6918699ba8...</td>\n",
       "      <td>0</td>\n",
       "    </tr>\n",
       "    <tr>\n",
       "      <th>3711</th>\n",
       "      <td>4d13b19f4d9b74ba6e69d4bd47c7f534b035716473edba...</td>\n",
       "      <td>0</td>\n",
       "      <td>../stage2_test_final/4d13b19f4d9b74ba6e69d4bd4...</td>\n",
       "      <td>4</td>\n",
       "    </tr>\n",
       "    <tr>\n",
       "      <th>3712</th>\n",
       "      <td>7f1377ba86c59405c8b02f8cb933e8f965ae5a29d51885...</td>\n",
       "      <td>0</td>\n",
       "      <td>../stage2_test_final/7f1377ba86c59405c8b02f8cb...</td>\n",
       "      <td>0</td>\n",
       "    </tr>\n",
       "  </tbody>\n",
       "</table>\n",
       "</div>"
      ],
      "text/plain": [
       "                                                ImageId  is_train  \\\n",
       "3613  5d71876e8bba86a57c3e92947fa58ffafacc5e56052f38...         0   \n",
       "3614  88c7fba66a016ceaa25abba59e8b6739df21a102aeffd1...         0   \n",
       "3615  fb11432e1637804c44c66fa7a02c28886ebcfc4ae2bb9c...         0   \n",
       "3616  364fb54d8bcbf2d67da60c3c1f6bade82c6a72f76010e6...         0   \n",
       "3617  4716505b5e5a718d5669f2be196c4fa463711a5ba23e7b...         0   \n",
       "3618  c73216e5dd0e7897e18e93fe8aa78479d38eed66356003...         0   \n",
       "3619  43db90aa201fdd722138d1b4ebd4ef45c060c9ab349556...         0   \n",
       "3620  5694ef74699c2a74bb6d6cc04af7432c29ccd4a0940716...         0   \n",
       "3621  e0946fa9d9828d41ef95aad92c052bc09f41a986b7120b...         0   \n",
       "3622  5171307b70da8e144e5ace020a85a985af8c11360297cc...         0   \n",
       "3623  cbf34fbe7704e76bf1c5357a3c8802708c534b5abf0275...         0   \n",
       "3624  7c055ce40072bae2242ef39251bfd2110996e122cdbdca...         0   \n",
       "3625  71260eb68ba996a8d81f7e5770043a5fc7c46219893619...         0   \n",
       "3626  24928d37f8e4704fed57eb9521248f6e6680f581d487f8...         0   \n",
       "3627  0809c8808881395346e23fe04a6750a8f7fe8e562b6db9...         0   \n",
       "3628  102c2afeb1ce4714ef9b53d8c63e3431a89491bdb9175e...         0   \n",
       "3629  817e03b5744dc163e2f7d3b14234e6c20d375aa6c5e9c4...         0   \n",
       "3630  0ec1e0387baf20d0c858d84fcfcdffd255b87db4d3c599...         0   \n",
       "3631  c7ec1b66694579e875e115ab58524b7a482bd2658c7476...         0   \n",
       "3632  04387d228734fd5993d61199704cbd741762b10e31856e...         0   \n",
       "3633  3f2267b39df037b8ecfaf4c94c3113103f9a0dc74683c5...         0   \n",
       "3634  17b3d209dbf19153c53e35b3b69a95708f82ac763104e3...         0   \n",
       "3635  486fe606382b28907ffd6f4e0b45d6a1b1ea3ef798eb59...         0   \n",
       "3636  e2d206e4ea6b9e6cb477f85fb32b94f7c2098431b0da25...         0   \n",
       "3637  804a9fd51a33b145114d7655b65d54a36ba33b358daf04...         0   \n",
       "3638  c5dc5a10b015aa412d816304e5975e01261d99cda3e990...         0   \n",
       "3639  38eaf5c62a54544c9b07881c96f5057acdffa57e8f718e...         0   \n",
       "3640  a99507e15e1f2c172377ebe77b956143b3229cfd516b9c...         0   \n",
       "3641  a3f30b52add039680a19e16e42710e4aeea316505aaa12...         0   \n",
       "3642  13160787b26bb275a2458bad2f65df80d65a9622240244...         0   \n",
       "3643  6f28825a6f47ca1b0a1897bdbd6b7901af2d7a7a36547c...         0   \n",
       "3644  5e9bde42fdac02b66190fd109906ae0648c7bf2baf6fa6...         0   \n",
       "3645  a04b569f7fda650fddaa7d2945cf8a2fe7f3356883ac33...         0   \n",
       "3646  892c085fac67b6fb93f99186d73391c7292954953f3399...         0   \n",
       "3647  21d4efff99cb7512878b19f4b1e978f7e24dd02c6b311b...         0   \n",
       "3648  eeb6873e29c2cdc402531da256a33ec1552abe95128e8c...         0   \n",
       "3649  16f5979a207d4830fa72ab44e2cd24a3dfc80953fa06f8...         0   \n",
       "3650  e1dedfc527eb4b9e0f85e3d9da0ec1f7343b9dfb7651df...         0   \n",
       "3651  5be85f834d2ccae4b65f29ccf1eef5f2cef827278be23a...         0   \n",
       "3652  a2c12dec525c5e619783dad0637cd7355542c50a168af2...         0   \n",
       "3653  5662665ab4b6341818f74b029f5f997f81320312ea34bb...         0   \n",
       "3654  5e6d5cf7ab4fa2f9279210f9faf36ac8877fccdc2607ce...         0   \n",
       "3655  45ab35f6951ccedf48f346ae7a9bc117a7479a46636b4d...         0   \n",
       "3656  86f28c2c2bed586ed75ff6267b24af1de4c1347787753f...         0   \n",
       "3657  3d96585c1070108bda4c15ea5eedb81c40eb18a3efb557...         0   \n",
       "3658  522ce42064ddfc4a0e6469ba6384b3b052da41ba26ce59...         0   \n",
       "3659  9c45c366823c80fb2e16280dbcf2e17e834d0bb9991d7f...         0   \n",
       "3660  4c68676a9c53c685790835bf4a3e85d4b2ea3a90d7a930...         0   \n",
       "3661  b2b9b85cf0e5dd9f6803e26e71c7681db346d82c839501...         0   \n",
       "3662  a53c0335a658b1e6fd683a36b2d44d4068dd0e8aca0091...         0   \n",
       "3663  81537757f724d396ad6c803d8db775b2bd2814c711a839...         0   \n",
       "3664  61f15758840c4068c0633f53795f33949dbfca53fe846c...         0   \n",
       "3665  b435afe8d2fc55eb5c898b068cb53a5039cc259b971f5b...         0   \n",
       "3666  bec3dd21227544e1012867f361e3cff766e3db79256c28...         0   \n",
       "3667  0db9a7f318c3fab55e90a7b11e43f0545a592b6cd69e7d...         0   \n",
       "3668  a19b065f27f139135084a25e17fe4054416947202d63d5...         0   \n",
       "3669  54913a8172590e7268be62281e348c49fb1e66f9ce271e...         0   \n",
       "3670  1c69629d540046c19795f48d6ecc7150ea213c810b92a6...         0   \n",
       "3671  ea2ec7d4b1c58de4029faf58074f012fdf212e631fb115...         0   \n",
       "3672  e40fb2e18142f0e7ae7f970fee866f89e1b7b414161515...         0   \n",
       "3673  59062eacbf265af92719fea96f85a8487804db18f47b83...         0   \n",
       "3674  a332606fd5bfc159c2688b752b6a64664645fc0b018efb...         0   \n",
       "3675  b615c5b5a72a30225b6772c7258c67e40f47be3873b809...         0   \n",
       "3676  a0bf5958f91dcfeb45a431944f8664261230b461a5aa99...         0   \n",
       "3677  6cac54fefe515d19363e6da44f5800535fc9bd6f215765...         0   \n",
       "3678  bd5384e61cd26fc4e6c0833996d1a3fcfd7555bef1cf8c...         0   \n",
       "3679  b5d585ce67095b353a8596274af0cf18cb95d9e03a4b48...         0   \n",
       "3680  5694ac60bf95b3a8e655ff8ad43e84f8bb8170c23e41f3...         0   \n",
       "3681  13e4eef807af99a8537235fbcbacf0f96f6362f1f3f978...         0   \n",
       "3682  87d4534ea8555b2ee490a4e6d408f9dad61a330b24f8f0...         0   \n",
       "3683  218eadb4336ce74de6ff2d9661839ac739cbb2850c682b...         0   \n",
       "3684  6fba8c28f3113451dc9e57dae1ce0d934ce85f8a56c105...         0   \n",
       "3685  970a6a7c4a4e0a67f23378bfac45b6a98537fe8dc7ee56...         0   \n",
       "3686  e94e718dfcd212e4af16f095fced0c37273adfeca56748...         0   \n",
       "3687  754893e0818d8292fae48fe2cf8f70bef003992813f620...         0   \n",
       "3688  912a1d0d563de4f5e2c8e6ca8c8721994492e64702e18d...         0   \n",
       "3689  6d9facf21108870819ebf0d649194337b109f4fae58d75...         0   \n",
       "3690  c7fabd67abacd9e825637d22ea79223304d6969f94283b...         0   \n",
       "3691  c0b7829acc12f87ab54f1ce7779749cfedea7695d99741...         0   \n",
       "3692  5a4d8a5919cfaa10cf43a7404827154340d41f5df2d328...         0   \n",
       "3693  68717e395e763c1e00f3aa5f6358ac1bb4c71b42fa30d4...         0   \n",
       "3694  0a9b684358ddd521550545ffc44a4f2ab335f7e2cfa412...         0   \n",
       "3695  23d5887339759baab135fc252655a609d98bdd6d981e0f...         0   \n",
       "3696  cab1048d120984536932df523f8b06eb33d3b5f4704b8a...         0   \n",
       "3697  50664b1805096e83717f86b4713c4d8f77b2a32bedaee6...         0   \n",
       "3698  58ed3013e2e776f7b52ad20f79ea1c4a88d7f67805b035...         0   \n",
       "3699  b5de7304dabacb5d36ff92a82580f49d84004fa06b4581...         0   \n",
       "3700  e5d0fee7b49a212832118a5f55b1135e998a866a0542bb...         0   \n",
       "3701  6b6070c899829c3d29968474d495a7483079f75053c4b8...         0   \n",
       "3702  b57c8330eb99bf32c4eca0fcb3dcee30161d4be007c286...         0   \n",
       "3703  2406640f7869d4c3c021ffa01fb5cad0059c46837baa3a...         0   \n",
       "3704  4edad1bb8932fc0d1b1d7af10d31918c075e26af50c2c6...         0   \n",
       "3705  7e23ad482f74d9410eb280c7d8f99f9855651f4253dd61...         0   \n",
       "3706  0a8dfb6763ec049b57454e6b5605f872cdf41cd13951fb...         0   \n",
       "3707  330b9666c7962207e4e9d054fe6c135f59aab62395d61b...         0   \n",
       "3708  7d467ae316bf2a0b824c9f02b062cd2fc0a26ec009e944...         0   \n",
       "3709  63ca8df5136ecd722e10263950a490f22f41702ab7dcea...         0   \n",
       "3710  0801c13e30c0e1c6918699ba8b28fb5381513de55902de...         0   \n",
       "3711  4d13b19f4d9b74ba6e69d4bd47c7f534b035716473edba...         0   \n",
       "3712  7f1377ba86c59405c8b02f8cb933e8f965ae5a29d51885...         0   \n",
       "\n",
       "                                        file_path_image  vgg_features_clusters  \n",
       "3613  ../stage2_test_final/5d71876e8bba86a57c3e92947...                      6  \n",
       "3614  ../stage2_test_final/88c7fba66a016ceaa25abba59...                      0  \n",
       "3615  ../stage2_test_final/fb11432e1637804c44c66fa7a...                      4  \n",
       "3616  ../stage2_test_final/364fb54d8bcbf2d67da60c3c1...                      0  \n",
       "3617  ../stage2_test_final/4716505b5e5a718d5669f2be1...                      0  \n",
       "3618  ../stage2_test_final/c73216e5dd0e7897e18e93fe8...                      4  \n",
       "3619  ../stage2_test_final/43db90aa201fdd722138d1b4e...                      5  \n",
       "3620  ../stage2_test_final/5694ef74699c2a74bb6d6cc04...                      0  \n",
       "3621  ../stage2_test_final/e0946fa9d9828d41ef95aad92...                      4  \n",
       "3622  ../stage2_test_final/5171307b70da8e144e5ace020...                      4  \n",
       "3623  ../stage2_test_final/cbf34fbe7704e76bf1c5357a3...                      4  \n",
       "3624  ../stage2_test_final/7c055ce40072bae2242ef3925...                      4  \n",
       "3625  ../stage2_test_final/71260eb68ba996a8d81f7e577...                      0  \n",
       "3626  ../stage2_test_final/24928d37f8e4704fed57eb952...                      6  \n",
       "3627  ../stage2_test_final/0809c8808881395346e23fe04...                      4  \n",
       "3628  ../stage2_test_final/102c2afeb1ce4714ef9b53d8c...                      4  \n",
       "3629  ../stage2_test_final/817e03b5744dc163e2f7d3b14...                      3  \n",
       "3630  ../stage2_test_final/0ec1e0387baf20d0c858d84fc...                      0  \n",
       "3631  ../stage2_test_final/c7ec1b66694579e875e115ab5...                      4  \n",
       "3632  ../stage2_test_final/04387d228734fd5993d611997...                      0  \n",
       "3633  ../stage2_test_final/3f2267b39df037b8ecfaf4c94...                      4  \n",
       "3634  ../stage2_test_final/17b3d209dbf19153c53e35b3b...                      4  \n",
       "3635  ../stage2_test_final/486fe606382b28907ffd6f4e0...                      4  \n",
       "3636  ../stage2_test_final/e2d206e4ea6b9e6cb477f85fb...                      0  \n",
       "3637  ../stage2_test_final/804a9fd51a33b145114d7655b...                      6  \n",
       "3638  ../stage2_test_final/c5dc5a10b015aa412d816304e...                      4  \n",
       "3639  ../stage2_test_final/38eaf5c62a54544c9b07881c9...                      0  \n",
       "3640  ../stage2_test_final/a99507e15e1f2c172377ebe77...                      0  \n",
       "3641  ../stage2_test_final/a3f30b52add039680a19e16e4...                      5  \n",
       "3642  ../stage2_test_final/13160787b26bb275a2458bad2...                      4  \n",
       "3643  ../stage2_test_final/6f28825a6f47ca1b0a1897bdb...                      4  \n",
       "3644  ../stage2_test_final/5e9bde42fdac02b66190fd109...                      0  \n",
       "3645  ../stage2_test_final/a04b569f7fda650fddaa7d294...                      0  \n",
       "3646  ../stage2_test_final/892c085fac67b6fb93f99186d...                      0  \n",
       "3647  ../stage2_test_final/21d4efff99cb7512878b19f4b...                      0  \n",
       "3648  ../stage2_test_final/eeb6873e29c2cdc402531da25...                      4  \n",
       "3649  ../stage2_test_final/16f5979a207d4830fa72ab44e...                      2  \n",
       "3650  ../stage2_test_final/e1dedfc527eb4b9e0f85e3d9d...                      4  \n",
       "3651  ../stage2_test_final/5be85f834d2ccae4b65f29ccf...                      4  \n",
       "3652  ../stage2_test_final/a2c12dec525c5e619783dad06...                      4  \n",
       "3653  ../stage2_test_final/5662665ab4b6341818f74b029...                      7  \n",
       "3654  ../stage2_test_final/5e6d5cf7ab4fa2f9279210f9f...                      4  \n",
       "3655  ../stage2_test_final/45ab35f6951ccedf48f346ae7...                      6  \n",
       "3656  ../stage2_test_final/86f28c2c2bed586ed75ff6267...                      0  \n",
       "3657  ../stage2_test_final/3d96585c1070108bda4c15ea5...                      4  \n",
       "3658  ../stage2_test_final/522ce42064ddfc4a0e6469ba6...                      4  \n",
       "3659  ../stage2_test_final/9c45c366823c80fb2e16280db...                      4  \n",
       "3660  ../stage2_test_final/4c68676a9c53c685790835bf4...                      4  \n",
       "3661  ../stage2_test_final/b2b9b85cf0e5dd9f6803e26e7...                      4  \n",
       "3662  ../stage2_test_final/a53c0335a658b1e6fd683a36b...                      0  \n",
       "3663  ../stage2_test_final/81537757f724d396ad6c803d8...                      0  \n",
       "3664  ../stage2_test_final/61f15758840c4068c0633f537...                      6  \n",
       "3665  ../stage2_test_final/b435afe8d2fc55eb5c898b068...                      4  \n",
       "3666  ../stage2_test_final/bec3dd21227544e1012867f36...                      0  \n",
       "3667  ../stage2_test_final/0db9a7f318c3fab55e90a7b11...                      2  \n",
       "3668  ../stage2_test_final/a19b065f27f139135084a25e1...                      0  \n",
       "3669  ../stage2_test_final/54913a8172590e7268be62281...                      0  \n",
       "3670  ../stage2_test_final/1c69629d540046c19795f48d6...                      0  \n",
       "3671  ../stage2_test_final/ea2ec7d4b1c58de4029faf580...                      0  \n",
       "3672  ../stage2_test_final/e40fb2e18142f0e7ae7f970fe...                      0  \n",
       "3673  ../stage2_test_final/59062eacbf265af92719fea96...                      0  \n",
       "3674  ../stage2_test_final/a332606fd5bfc159c2688b752...                      6  \n",
       "3675  ../stage2_test_final/b615c5b5a72a30225b6772c72...                      0  \n",
       "3676  ../stage2_test_final/a0bf5958f91dcfeb45a431944...                      0  \n",
       "3677  ../stage2_test_final/6cac54fefe515d19363e6da44...                      4  \n",
       "3678  ../stage2_test_final/bd5384e61cd26fc4e6c083399...                      4  \n",
       "3679  ../stage2_test_final/b5d585ce67095b353a8596274...                      4  \n",
       "3680  ../stage2_test_final/5694ac60bf95b3a8e655ff8ad...                      4  \n",
       "3681  ../stage2_test_final/13e4eef807af99a8537235fbc...                      0  \n",
       "3682  ../stage2_test_final/87d4534ea8555b2ee490a4e6d...                      0  \n",
       "3683  ../stage2_test_final/218eadb4336ce74de6ff2d966...                      0  \n",
       "3684  ../stage2_test_final/6fba8c28f3113451dc9e57dae...                      2  \n",
       "3685  ../stage2_test_final/970a6a7c4a4e0a67f23378bfa...                      6  \n",
       "3686  ../stage2_test_final/e94e718dfcd212e4af16f095f...                      6  \n",
       "3687  ../stage2_test_final/754893e0818d8292fae48fe2c...                      0  \n",
       "3688  ../stage2_test_final/912a1d0d563de4f5e2c8e6ca8...                      1  \n",
       "3689  ../stage2_test_final/6d9facf21108870819ebf0d64...                      0  \n",
       "3690  ../stage2_test_final/c7fabd67abacd9e825637d22e...                      0  \n",
       "3691  ../stage2_test_final/c0b7829acc12f87ab54f1ce77...                      0  \n",
       "3692  ../stage2_test_final/5a4d8a5919cfaa10cf43a7404...                      6  \n",
       "3693  ../stage2_test_final/68717e395e763c1e00f3aa5f6...                      0  \n",
       "3694  ../stage2_test_final/0a9b684358ddd521550545ffc...                      0  \n",
       "3695  ../stage2_test_final/23d5887339759baab135fc252...                      6  \n",
       "3696  ../stage2_test_final/cab1048d120984536932df523...                      0  \n",
       "3697  ../stage2_test_final/50664b1805096e83717f86b47...                      3  \n",
       "3698  ../stage2_test_final/58ed3013e2e776f7b52ad20f7...                      0  \n",
       "3699  ../stage2_test_final/b5de7304dabacb5d36ff92a82...                      0  \n",
       "3700  ../stage2_test_final/e5d0fee7b49a212832118a5f5...                      4  \n",
       "3701  ../stage2_test_final/6b6070c899829c3d29968474d...                      2  \n",
       "3702  ../stage2_test_final/b57c8330eb99bf32c4eca0fcb...                      4  \n",
       "3703  ../stage2_test_final/2406640f7869d4c3c021ffa01...                      0  \n",
       "3704  ../stage2_test_final/4edad1bb8932fc0d1b1d7af10...                      0  \n",
       "3705  ../stage2_test_final/7e23ad482f74d9410eb280c7d...                      4  \n",
       "3706  ../stage2_test_final/0a8dfb6763ec049b57454e6b5...                      4  \n",
       "3707  ../stage2_test_final/330b9666c7962207e4e9d054f...                      4  \n",
       "3708  ../stage2_test_final/7d467ae316bf2a0b824c9f02b...                      0  \n",
       "3709  ../stage2_test_final/63ca8df5136ecd722e1026395...                      6  \n",
       "3710  ../stage2_test_final/0801c13e30c0e1c6918699ba8...                      0  \n",
       "3711  ../stage2_test_final/4d13b19f4d9b74ba6e69d4bd4...                      4  \n",
       "3712  ../stage2_test_final/7f1377ba86c59405c8b02f8cb...                      0  "
      ]
     },
     "execution_count": 11,
     "metadata": {},
     "output_type": "execute_result"
    }
   ],
   "source": [
    "meta.tail(100)"
   ]
  },
  {
   "cell_type": "code",
   "execution_count": 12,
   "metadata": {},
   "outputs": [
    {
     "data": {
      "text/html": [
       "<div>\n",
       "<style scoped>\n",
       "    .dataframe tbody tr th:only-of-type {\n",
       "        vertical-align: middle;\n",
       "    }\n",
       "\n",
       "    .dataframe tbody tr th {\n",
       "        vertical-align: top;\n",
       "    }\n",
       "\n",
       "    .dataframe thead th {\n",
       "        text-align: right;\n",
       "    }\n",
       "</style>\n",
       "<table border=\"1\" class=\"dataframe\">\n",
       "  <thead>\n",
       "    <tr style=\"text-align: right;\">\n",
       "      <th></th>\n",
       "      <th>ImageId</th>\n",
       "      <th>bg_type</th>\n",
       "    </tr>\n",
       "  </thead>\n",
       "  <tbody>\n",
       "    <tr>\n",
       "      <th>2919</th>\n",
       "      <td>f712caa5d4ec696c143dee607100664f983820cee20b5a...</td>\n",
       "      <td>bw</td>\n",
       "    </tr>\n",
       "    <tr>\n",
       "      <th>2920</th>\n",
       "      <td>f749bd3d0801a25581ebdecb696f4883c13e2f44ae071a...</td>\n",
       "      <td>bw</td>\n",
       "    </tr>\n",
       "    <tr>\n",
       "      <th>2921</th>\n",
       "      <td>f7525279fa7d5896baf5dfb8b7535e0f4b5f19f2deed19...</td>\n",
       "      <td>bw</td>\n",
       "    </tr>\n",
       "    <tr>\n",
       "      <th>2922</th>\n",
       "      <td>f76ae9f189bdb18a7ce90ddc760388cef13785866c1610...</td>\n",
       "      <td>bw</td>\n",
       "    </tr>\n",
       "    <tr>\n",
       "      <th>2923</th>\n",
       "      <td>f77e0a7408802b56ad0d44915a882003dc048a8c04baf5...</td>\n",
       "      <td>bw</td>\n",
       "    </tr>\n",
       "    <tr>\n",
       "      <th>2924</th>\n",
       "      <td>f7a5c69c3908e4a7443722bc0a59f998afff7735ae63a8...</td>\n",
       "      <td>bw</td>\n",
       "    </tr>\n",
       "    <tr>\n",
       "      <th>2925</th>\n",
       "      <td>f7a6b7d515d1dc27915128663085998f978bdc5e9917f9...</td>\n",
       "      <td>bw</td>\n",
       "    </tr>\n",
       "    <tr>\n",
       "      <th>2926</th>\n",
       "      <td>f7ad1329e948e9a540af770c2af37c235144d014aae3a0...</td>\n",
       "      <td>bw</td>\n",
       "    </tr>\n",
       "    <tr>\n",
       "      <th>2927</th>\n",
       "      <td>f7c60564c8da0a484eb81b011f8fcc46c5749d20b012d0...</td>\n",
       "      <td>bw</td>\n",
       "    </tr>\n",
       "    <tr>\n",
       "      <th>2928</th>\n",
       "      <td>f7c7666bd0e4a6a3abc0be51479133df8f77d649203aa5...</td>\n",
       "      <td>bw</td>\n",
       "    </tr>\n",
       "    <tr>\n",
       "      <th>2929</th>\n",
       "      <td>f7f8276acd9c0b9ef4c4fbb02c8773219b0c6677114b88...</td>\n",
       "      <td>bw</td>\n",
       "    </tr>\n",
       "    <tr>\n",
       "      <th>2930</th>\n",
       "      <td>f85455514a6c9d18f833071b99b5788daa6369405139fe...</td>\n",
       "      <td>bw</td>\n",
       "    </tr>\n",
       "    <tr>\n",
       "      <th>2931</th>\n",
       "      <td>f8771dede575152dc5d196ce644b26237dbebab42dc2f7...</td>\n",
       "      <td>bw</td>\n",
       "    </tr>\n",
       "    <tr>\n",
       "      <th>2932</th>\n",
       "      <td>f87c64c8301dbc35f85ed31bcd56ed95115511768080c8...</td>\n",
       "      <td>bw</td>\n",
       "    </tr>\n",
       "    <tr>\n",
       "      <th>2933</th>\n",
       "      <td>f87e3ce60c112ce476f2889241195f507da956345e1593...</td>\n",
       "      <td>bw</td>\n",
       "    </tr>\n",
       "    <tr>\n",
       "      <th>2934</th>\n",
       "      <td>f8b7784c82db3c77d15b45a8108ce6f4ac859f27d4a672...</td>\n",
       "      <td>bw</td>\n",
       "    </tr>\n",
       "    <tr>\n",
       "      <th>2935</th>\n",
       "      <td>f8b83bbb07b06ff8cd433253f9342a5f62388323813a33...</td>\n",
       "      <td>bw</td>\n",
       "    </tr>\n",
       "    <tr>\n",
       "      <th>2936</th>\n",
       "      <td>f8bfc24b997300d53af5bccd9a703f7ea96acac5383d8f...</td>\n",
       "      <td>bw</td>\n",
       "    </tr>\n",
       "    <tr>\n",
       "      <th>2937</th>\n",
       "      <td>f8ea9320da06c050431bc818db1d1d4c87ed26f11b59f6...</td>\n",
       "      <td>bw</td>\n",
       "    </tr>\n",
       "    <tr>\n",
       "      <th>2938</th>\n",
       "      <td>f90794930bbcbcc80e43f76b9a99122f46f7eff3c64054...</td>\n",
       "      <td>bw</td>\n",
       "    </tr>\n",
       "    <tr>\n",
       "      <th>2939</th>\n",
       "      <td>f920dc5b27c57acc4bd451baa709c414898e50e326314d...</td>\n",
       "      <td>bw</td>\n",
       "    </tr>\n",
       "    <tr>\n",
       "      <th>2940</th>\n",
       "      <td>f93683c4be070215b6a0fdf5d2a8579c02cefc3c6e7578...</td>\n",
       "      <td>bw</td>\n",
       "    </tr>\n",
       "    <tr>\n",
       "      <th>2941</th>\n",
       "      <td>f94d0bb208576e2cd46b63e7ba191fdeed4a7b46522c53...</td>\n",
       "      <td>bw</td>\n",
       "    </tr>\n",
       "    <tr>\n",
       "      <th>2942</th>\n",
       "      <td>f94eeb9ab8d3c14ba7c56b5fe255654c760ab204b6c3d1...</td>\n",
       "      <td>bw</td>\n",
       "    </tr>\n",
       "    <tr>\n",
       "      <th>2943</th>\n",
       "      <td>f94f5e38e1bd467538bb5ce686afb3ca85fd8f15d978cc...</td>\n",
       "      <td>bw</td>\n",
       "    </tr>\n",
       "    <tr>\n",
       "      <th>2944</th>\n",
       "      <td>f9544bb41d7f422747e9bc9101e368f094662a5fe8d827...</td>\n",
       "      <td>bw</td>\n",
       "    </tr>\n",
       "    <tr>\n",
       "      <th>2945</th>\n",
       "      <td>f95b1128aea15019e4aafee22a07407f5b56c51ea483a5...</td>\n",
       "      <td>bw</td>\n",
       "    </tr>\n",
       "    <tr>\n",
       "      <th>2946</th>\n",
       "      <td>f9ca7abf4fdaf6082b40fe3be2a01a8d5367a5fe711a5d...</td>\n",
       "      <td>bw</td>\n",
       "    </tr>\n",
       "    <tr>\n",
       "      <th>2947</th>\n",
       "      <td>f9da8312544a4a431b72cd71ce240ec2f060e0be9642e6...</td>\n",
       "      <td>he</td>\n",
       "    </tr>\n",
       "    <tr>\n",
       "      <th>2948</th>\n",
       "      <td>f9f27d4797e4d6eeca25d42b09c8ba8063394a7512eb95...</td>\n",
       "      <td>bw</td>\n",
       "    </tr>\n",
       "    <tr>\n",
       "      <th>2949</th>\n",
       "      <td>f9fe33e39911e2260a0d9543f45b4c535fe39d60222f31...</td>\n",
       "      <td>bw</td>\n",
       "    </tr>\n",
       "    <tr>\n",
       "      <th>2950</th>\n",
       "      <td>fa093da63bccd776ff425e7b429c45979a594cde5f4f7f...</td>\n",
       "      <td>bw</td>\n",
       "    </tr>\n",
       "    <tr>\n",
       "      <th>2951</th>\n",
       "      <td>fa1425b9d2e99aece351b53a6a3cc172405324754239c2...</td>\n",
       "      <td>bw</td>\n",
       "    </tr>\n",
       "    <tr>\n",
       "      <th>2952</th>\n",
       "      <td>fa16fecc502a349053cb9eb5bb99abe7479c01d5ee0845...</td>\n",
       "      <td>bw</td>\n",
       "    </tr>\n",
       "    <tr>\n",
       "      <th>2953</th>\n",
       "      <td>fa19815dd4d3b8749f1ada5b22d14449ed5882f88ecf2b...</td>\n",
       "      <td>bw</td>\n",
       "    </tr>\n",
       "    <tr>\n",
       "      <th>2954</th>\n",
       "      <td>fa35e04551705189a4fbeed752a353291a4af42e95e44d...</td>\n",
       "      <td>bw</td>\n",
       "    </tr>\n",
       "    <tr>\n",
       "      <th>2955</th>\n",
       "      <td>fa3b20c9d7e20465d16cf6083f396bc062daf964419eae...</td>\n",
       "      <td>bw</td>\n",
       "    </tr>\n",
       "    <tr>\n",
       "      <th>2956</th>\n",
       "      <td>fa46454ed30dd1e1681d7e4926baee039c3cd15f9c2713...</td>\n",
       "      <td>bw</td>\n",
       "    </tr>\n",
       "    <tr>\n",
       "      <th>2957</th>\n",
       "      <td>fa572e719ef3247cdbd8ec3c174d79a54322d0c8c9c683...</td>\n",
       "      <td>bw</td>\n",
       "    </tr>\n",
       "    <tr>\n",
       "      <th>2958</th>\n",
       "      <td>fa5bed46d74f3b5bd58ef1bd5ff1dfebc30c3a9ce82fee...</td>\n",
       "      <td>bw</td>\n",
       "    </tr>\n",
       "    <tr>\n",
       "      <th>2959</th>\n",
       "      <td>fa601d1c11cb2308b1afd3d74a46b0547522a8ec3ccf16...</td>\n",
       "      <td>bw</td>\n",
       "    </tr>\n",
       "    <tr>\n",
       "      <th>2960</th>\n",
       "      <td>fa9479a7fcbc4915f250de4a20f5fb9cc372f99f2ea890...</td>\n",
       "      <td>bw</td>\n",
       "    </tr>\n",
       "    <tr>\n",
       "      <th>2961</th>\n",
       "      <td>fa9ceb03eb18aeeaa33d7cffb4c588d42378c31eb5c84e...</td>\n",
       "      <td>bw</td>\n",
       "    </tr>\n",
       "    <tr>\n",
       "      <th>2962</th>\n",
       "      <td>faa5e6c3397f97d07763f5071e15ed8b8eb4699f3430a5...</td>\n",
       "      <td>he</td>\n",
       "    </tr>\n",
       "    <tr>\n",
       "      <th>2963</th>\n",
       "      <td>fabc53b72fbf0e697bea3d175ef3fff20c7bd5d34a7c0d...</td>\n",
       "      <td>bw</td>\n",
       "    </tr>\n",
       "    <tr>\n",
       "      <th>2964</th>\n",
       "      <td>fac5068b5f17c8ee88ecf97b94baa6330fb4cd4034225f...</td>\n",
       "      <td>bw</td>\n",
       "    </tr>\n",
       "    <tr>\n",
       "      <th>2965</th>\n",
       "      <td>facc44c79862d8a7e7d2877309ba005eb4200b3e8118fe...</td>\n",
       "      <td>bw</td>\n",
       "    </tr>\n",
       "    <tr>\n",
       "      <th>2966</th>\n",
       "      <td>fae7766ca49d917e00d7967686ac86bdbf2d92b3439145...</td>\n",
       "      <td>he</td>\n",
       "    </tr>\n",
       "    <tr>\n",
       "      <th>2967</th>\n",
       "      <td>fafd3d92a42b2fcbc19a6f1be750d0c67d7fb943a22784...</td>\n",
       "      <td>bw</td>\n",
       "    </tr>\n",
       "    <tr>\n",
       "      <th>2968</th>\n",
       "      <td>fb10eec85881d6e88ca45085699c64c227672d7bae4855...</td>\n",
       "      <td>bw</td>\n",
       "    </tr>\n",
       "    <tr>\n",
       "      <th>2969</th>\n",
       "      <td>fb11432e1637804c44c66fa7a02c28886ebcfc4ae2bb9c...</td>\n",
       "      <td>bw</td>\n",
       "    </tr>\n",
       "    <tr>\n",
       "      <th>2970</th>\n",
       "      <td>fb31cfa38bfcb472996c8d074315c3ab627160b2b4e554...</td>\n",
       "      <td>bw</td>\n",
       "    </tr>\n",
       "    <tr>\n",
       "      <th>2971</th>\n",
       "      <td>fb378bc29e67c4a47c194554162ccdd8a51c1f42b1b734...</td>\n",
       "      <td>bw</td>\n",
       "    </tr>\n",
       "    <tr>\n",
       "      <th>2972</th>\n",
       "      <td>fb4812a5cd8fde7fb7f0fd1c799cd83213f27d6f3aa324...</td>\n",
       "      <td>bw</td>\n",
       "    </tr>\n",
       "    <tr>\n",
       "      <th>2973</th>\n",
       "      <td>fb4f4b3dfb7be2ca930c69ad7fad5a26a3743fad57441f...</td>\n",
       "      <td>bw</td>\n",
       "    </tr>\n",
       "    <tr>\n",
       "      <th>2974</th>\n",
       "      <td>fb5adda589173e51944174c68d39b5dadddac553967cb8...</td>\n",
       "      <td>bw</td>\n",
       "    </tr>\n",
       "    <tr>\n",
       "      <th>2975</th>\n",
       "      <td>fb8b51e0962520fbee072a722a0ecea80df565656ea206...</td>\n",
       "      <td>bw</td>\n",
       "    </tr>\n",
       "    <tr>\n",
       "      <th>2976</th>\n",
       "      <td>fb9b0b2daa50af5e0eb219c08f1f2b8926efbb48277063...</td>\n",
       "      <td>he</td>\n",
       "    </tr>\n",
       "    <tr>\n",
       "      <th>2977</th>\n",
       "      <td>fb9cec77e92d7f7c4949d0d9e24919f16da98c315f5a40...</td>\n",
       "      <td>bw</td>\n",
       "    </tr>\n",
       "    <tr>\n",
       "      <th>2978</th>\n",
       "      <td>fbe652a46a627fd3bcab420b38f85f85f50ee7d1baf529...</td>\n",
       "      <td>bw</td>\n",
       "    </tr>\n",
       "    <tr>\n",
       "      <th>2979</th>\n",
       "      <td>fc0aa411669765298e51994f270758a4fd91e668610b73...</td>\n",
       "      <td>bw</td>\n",
       "    </tr>\n",
       "    <tr>\n",
       "      <th>2980</th>\n",
       "      <td>fc40ddb37a7c3b9dd58f78ff59533792adf746387f8291...</td>\n",
       "      <td>bw</td>\n",
       "    </tr>\n",
       "    <tr>\n",
       "      <th>2981</th>\n",
       "      <td>fc42ec97c6a0a90cb7bc4935592d8889040dd472f14967...</td>\n",
       "      <td>bw</td>\n",
       "    </tr>\n",
       "    <tr>\n",
       "      <th>2982</th>\n",
       "      <td>fc672a05003a5f85e37ececabee7e79bd5470566f772e0...</td>\n",
       "      <td>bw</td>\n",
       "    </tr>\n",
       "    <tr>\n",
       "      <th>2983</th>\n",
       "      <td>fc8b408c87454baad88c2ca1a4b02f726aa542e8622bcf...</td>\n",
       "      <td>bw</td>\n",
       "    </tr>\n",
       "    <tr>\n",
       "      <th>2984</th>\n",
       "      <td>fc95f46ecb966a59b2086020d45fc645f2ec2562edfe48...</td>\n",
       "      <td>bw</td>\n",
       "    </tr>\n",
       "    <tr>\n",
       "      <th>2985</th>\n",
       "      <td>fcd5cf4810bcc01fdb863941c8a2991e16810cfc18e6e1...</td>\n",
       "      <td>bw</td>\n",
       "    </tr>\n",
       "    <tr>\n",
       "      <th>2986</th>\n",
       "      <td>fd11b29f504e0abe7fe5684f69aa9cdc8a4c20458c603d...</td>\n",
       "      <td>bw</td>\n",
       "    </tr>\n",
       "    <tr>\n",
       "      <th>2987</th>\n",
       "      <td>fd21e389750fd86f6127208b89b12b6f25c6abc44dd782...</td>\n",
       "      <td>bw</td>\n",
       "    </tr>\n",
       "    <tr>\n",
       "      <th>2988</th>\n",
       "      <td>fd2ecc4d69378f10d401992f83dd7a256701fefd45878f...</td>\n",
       "      <td>bw</td>\n",
       "    </tr>\n",
       "    <tr>\n",
       "      <th>2989</th>\n",
       "      <td>fd450e91e5104ee3d3e9dbcb7118ddf0dcb061e1aefc09...</td>\n",
       "      <td>bw</td>\n",
       "    </tr>\n",
       "    <tr>\n",
       "      <th>2990</th>\n",
       "      <td>fd4df12b775dd8eece392ec47cd7565c1b52b7d622bff3...</td>\n",
       "      <td>bw</td>\n",
       "    </tr>\n",
       "    <tr>\n",
       "      <th>2991</th>\n",
       "      <td>fd849405326b95ff997939d18b8560212d602d6c2fb574...</td>\n",
       "      <td>bw</td>\n",
       "    </tr>\n",
       "    <tr>\n",
       "      <th>2992</th>\n",
       "      <td>fd8538c83832e683d0ed1a35f4c878765c604d92cf96ed...</td>\n",
       "      <td>bw</td>\n",
       "    </tr>\n",
       "    <tr>\n",
       "      <th>2993</th>\n",
       "      <td>fd959b91f1fd8971f6e0cfc0848e80e302ca748bb26daf...</td>\n",
       "      <td>he</td>\n",
       "    </tr>\n",
       "    <tr>\n",
       "      <th>2994</th>\n",
       "      <td>fda5c593adf95f91aac8aae34f4ce0c5ad38ff49e74085...</td>\n",
       "      <td>bw</td>\n",
       "    </tr>\n",
       "    <tr>\n",
       "      <th>2995</th>\n",
       "      <td>fda7e9a21f40ce89f7368c5a2fb47957ab4de41bfb52d6...</td>\n",
       "      <td>bw</td>\n",
       "    </tr>\n",
       "    <tr>\n",
       "      <th>2996</th>\n",
       "      <td>fdb3f0ce1ce05bec83681ae64d549820d3c2f5e543ba8c...</td>\n",
       "      <td>bw</td>\n",
       "    </tr>\n",
       "    <tr>\n",
       "      <th>2997</th>\n",
       "      <td>fdbc93d21ee6545e8d48a6545a348c464df0378e9ee1e5...</td>\n",
       "      <td>bw</td>\n",
       "    </tr>\n",
       "    <tr>\n",
       "      <th>2998</th>\n",
       "      <td>fdbdd162d5c1454d1f74a4581158aa2ccf6a7e65a5860f...</td>\n",
       "      <td>bw</td>\n",
       "    </tr>\n",
       "    <tr>\n",
       "      <th>2999</th>\n",
       "      <td>fdd370a664bcbff938b3ff394ffb3c431a4beaa3a0123e...</td>\n",
       "      <td>bw</td>\n",
       "    </tr>\n",
       "    <tr>\n",
       "      <th>3000</th>\n",
       "      <td>fdee330bfce2c945e54b88b97da54de37dd4774e90ca6e...</td>\n",
       "      <td>he</td>\n",
       "    </tr>\n",
       "    <tr>\n",
       "      <th>3001</th>\n",
       "      <td>fe2f4d33f45b77d045540e97957591b407cc19bc1e79c9...</td>\n",
       "      <td>bw</td>\n",
       "    </tr>\n",
       "    <tr>\n",
       "      <th>3002</th>\n",
       "      <td>fe3536ba88d6daef98a9060232b43326fb1c634c923201...</td>\n",
       "      <td>bw</td>\n",
       "    </tr>\n",
       "    <tr>\n",
       "      <th>3003</th>\n",
       "      <td>fe5d3329f6827b46e59eed1c2c10237319648aded6646e...</td>\n",
       "      <td>bw</td>\n",
       "    </tr>\n",
       "    <tr>\n",
       "      <th>3004</th>\n",
       "      <td>fe79efc09c442a1df17f7ea319d43f197f27a5477fdc16...</td>\n",
       "      <td>bw</td>\n",
       "    </tr>\n",
       "    <tr>\n",
       "      <th>3005</th>\n",
       "      <td>fe98836971a07c50394146b8b3ad9ca8b359558840d881...</td>\n",
       "      <td>bw</td>\n",
       "    </tr>\n",
       "    <tr>\n",
       "      <th>3006</th>\n",
       "      <td>fe98e8841da36e4ee2c5540e5a568d1f20a55a0565af5f...</td>\n",
       "      <td>bw</td>\n",
       "    </tr>\n",
       "    <tr>\n",
       "      <th>3007</th>\n",
       "      <td>fe9d16de910249cd379426f02c5068dd49a2556b07428b...</td>\n",
       "      <td>bw</td>\n",
       "    </tr>\n",
       "    <tr>\n",
       "      <th>3008</th>\n",
       "      <td>fecf2003df7dc97f4bf0d7dba917477ced19e955ee7f6f...</td>\n",
       "      <td>bw</td>\n",
       "    </tr>\n",
       "    <tr>\n",
       "      <th>3009</th>\n",
       "      <td>fed8bfbbd40e1ff1fb0e29b457e8b41486e7d9ead28779...</td>\n",
       "      <td>bw</td>\n",
       "    </tr>\n",
       "    <tr>\n",
       "      <th>3010</th>\n",
       "      <td>fee623d0c937c25da543383a223df2795312f76564336d...</td>\n",
       "      <td>bw</td>\n",
       "    </tr>\n",
       "    <tr>\n",
       "      <th>3011</th>\n",
       "      <td>feea4190b5bbcd274b76a93dd986b992040eb9cde3c865...</td>\n",
       "      <td>he</td>\n",
       "    </tr>\n",
       "    <tr>\n",
       "      <th>3012</th>\n",
       "      <td>ff4571dd5d496ab22d4388881688e1b6d0bf97ec00bf34...</td>\n",
       "      <td>bw</td>\n",
       "    </tr>\n",
       "    <tr>\n",
       "      <th>3013</th>\n",
       "      <td>ff4dafefa29d4ea375b36321bc55926e743fab64dcaa5a...</td>\n",
       "      <td>he</td>\n",
       "    </tr>\n",
       "    <tr>\n",
       "      <th>3014</th>\n",
       "      <td>ff6bd41cbb8c7666eb6c3c375b97c69d7d09ba121fe1c1...</td>\n",
       "      <td>bw</td>\n",
       "    </tr>\n",
       "    <tr>\n",
       "      <th>3015</th>\n",
       "      <td>ff8e3a989a4ea67b1ed8fd8d7091bb1089869cdda06e49...</td>\n",
       "      <td>bw</td>\n",
       "    </tr>\n",
       "    <tr>\n",
       "      <th>3016</th>\n",
       "      <td>ffa053af65884b5fbe0626d350b5c3fc2e6279a5dd6fbd...</td>\n",
       "      <td>bw</td>\n",
       "    </tr>\n",
       "    <tr>\n",
       "      <th>3017</th>\n",
       "      <td>ffb383db5ee04d316f2e40f74649aab78648cf9b9d7fc6...</td>\n",
       "      <td>he</td>\n",
       "    </tr>\n",
       "    <tr>\n",
       "      <th>3018</th>\n",
       "      <td>ffbc47f9b8387b12dee3dbb453a39f7e0c3348cd055896...</td>\n",
       "      <td>bw</td>\n",
       "    </tr>\n",
       "  </tbody>\n",
       "</table>\n",
       "</div>"
      ],
      "text/plain": [
       "                                                ImageId bg_type\n",
       "2919  f712caa5d4ec696c143dee607100664f983820cee20b5a...      bw\n",
       "2920  f749bd3d0801a25581ebdecb696f4883c13e2f44ae071a...      bw\n",
       "2921  f7525279fa7d5896baf5dfb8b7535e0f4b5f19f2deed19...      bw\n",
       "2922  f76ae9f189bdb18a7ce90ddc760388cef13785866c1610...      bw\n",
       "2923  f77e0a7408802b56ad0d44915a882003dc048a8c04baf5...      bw\n",
       "2924  f7a5c69c3908e4a7443722bc0a59f998afff7735ae63a8...      bw\n",
       "2925  f7a6b7d515d1dc27915128663085998f978bdc5e9917f9...      bw\n",
       "2926  f7ad1329e948e9a540af770c2af37c235144d014aae3a0...      bw\n",
       "2927  f7c60564c8da0a484eb81b011f8fcc46c5749d20b012d0...      bw\n",
       "2928  f7c7666bd0e4a6a3abc0be51479133df8f77d649203aa5...      bw\n",
       "2929  f7f8276acd9c0b9ef4c4fbb02c8773219b0c6677114b88...      bw\n",
       "2930  f85455514a6c9d18f833071b99b5788daa6369405139fe...      bw\n",
       "2931  f8771dede575152dc5d196ce644b26237dbebab42dc2f7...      bw\n",
       "2932  f87c64c8301dbc35f85ed31bcd56ed95115511768080c8...      bw\n",
       "2933  f87e3ce60c112ce476f2889241195f507da956345e1593...      bw\n",
       "2934  f8b7784c82db3c77d15b45a8108ce6f4ac859f27d4a672...      bw\n",
       "2935  f8b83bbb07b06ff8cd433253f9342a5f62388323813a33...      bw\n",
       "2936  f8bfc24b997300d53af5bccd9a703f7ea96acac5383d8f...      bw\n",
       "2937  f8ea9320da06c050431bc818db1d1d4c87ed26f11b59f6...      bw\n",
       "2938  f90794930bbcbcc80e43f76b9a99122f46f7eff3c64054...      bw\n",
       "2939  f920dc5b27c57acc4bd451baa709c414898e50e326314d...      bw\n",
       "2940  f93683c4be070215b6a0fdf5d2a8579c02cefc3c6e7578...      bw\n",
       "2941  f94d0bb208576e2cd46b63e7ba191fdeed4a7b46522c53...      bw\n",
       "2942  f94eeb9ab8d3c14ba7c56b5fe255654c760ab204b6c3d1...      bw\n",
       "2943  f94f5e38e1bd467538bb5ce686afb3ca85fd8f15d978cc...      bw\n",
       "2944  f9544bb41d7f422747e9bc9101e368f094662a5fe8d827...      bw\n",
       "2945  f95b1128aea15019e4aafee22a07407f5b56c51ea483a5...      bw\n",
       "2946  f9ca7abf4fdaf6082b40fe3be2a01a8d5367a5fe711a5d...      bw\n",
       "2947  f9da8312544a4a431b72cd71ce240ec2f060e0be9642e6...      he\n",
       "2948  f9f27d4797e4d6eeca25d42b09c8ba8063394a7512eb95...      bw\n",
       "2949  f9fe33e39911e2260a0d9543f45b4c535fe39d60222f31...      bw\n",
       "2950  fa093da63bccd776ff425e7b429c45979a594cde5f4f7f...      bw\n",
       "2951  fa1425b9d2e99aece351b53a6a3cc172405324754239c2...      bw\n",
       "2952  fa16fecc502a349053cb9eb5bb99abe7479c01d5ee0845...      bw\n",
       "2953  fa19815dd4d3b8749f1ada5b22d14449ed5882f88ecf2b...      bw\n",
       "2954  fa35e04551705189a4fbeed752a353291a4af42e95e44d...      bw\n",
       "2955  fa3b20c9d7e20465d16cf6083f396bc062daf964419eae...      bw\n",
       "2956  fa46454ed30dd1e1681d7e4926baee039c3cd15f9c2713...      bw\n",
       "2957  fa572e719ef3247cdbd8ec3c174d79a54322d0c8c9c683...      bw\n",
       "2958  fa5bed46d74f3b5bd58ef1bd5ff1dfebc30c3a9ce82fee...      bw\n",
       "2959  fa601d1c11cb2308b1afd3d74a46b0547522a8ec3ccf16...      bw\n",
       "2960  fa9479a7fcbc4915f250de4a20f5fb9cc372f99f2ea890...      bw\n",
       "2961  fa9ceb03eb18aeeaa33d7cffb4c588d42378c31eb5c84e...      bw\n",
       "2962  faa5e6c3397f97d07763f5071e15ed8b8eb4699f3430a5...      he\n",
       "2963  fabc53b72fbf0e697bea3d175ef3fff20c7bd5d34a7c0d...      bw\n",
       "2964  fac5068b5f17c8ee88ecf97b94baa6330fb4cd4034225f...      bw\n",
       "2965  facc44c79862d8a7e7d2877309ba005eb4200b3e8118fe...      bw\n",
       "2966  fae7766ca49d917e00d7967686ac86bdbf2d92b3439145...      he\n",
       "2967  fafd3d92a42b2fcbc19a6f1be750d0c67d7fb943a22784...      bw\n",
       "2968  fb10eec85881d6e88ca45085699c64c227672d7bae4855...      bw\n",
       "2969  fb11432e1637804c44c66fa7a02c28886ebcfc4ae2bb9c...      bw\n",
       "2970  fb31cfa38bfcb472996c8d074315c3ab627160b2b4e554...      bw\n",
       "2971  fb378bc29e67c4a47c194554162ccdd8a51c1f42b1b734...      bw\n",
       "2972  fb4812a5cd8fde7fb7f0fd1c799cd83213f27d6f3aa324...      bw\n",
       "2973  fb4f4b3dfb7be2ca930c69ad7fad5a26a3743fad57441f...      bw\n",
       "2974  fb5adda589173e51944174c68d39b5dadddac553967cb8...      bw\n",
       "2975  fb8b51e0962520fbee072a722a0ecea80df565656ea206...      bw\n",
       "2976  fb9b0b2daa50af5e0eb219c08f1f2b8926efbb48277063...      he\n",
       "2977  fb9cec77e92d7f7c4949d0d9e24919f16da98c315f5a40...      bw\n",
       "2978  fbe652a46a627fd3bcab420b38f85f85f50ee7d1baf529...      bw\n",
       "2979  fc0aa411669765298e51994f270758a4fd91e668610b73...      bw\n",
       "2980  fc40ddb37a7c3b9dd58f78ff59533792adf746387f8291...      bw\n",
       "2981  fc42ec97c6a0a90cb7bc4935592d8889040dd472f14967...      bw\n",
       "2982  fc672a05003a5f85e37ececabee7e79bd5470566f772e0...      bw\n",
       "2983  fc8b408c87454baad88c2ca1a4b02f726aa542e8622bcf...      bw\n",
       "2984  fc95f46ecb966a59b2086020d45fc645f2ec2562edfe48...      bw\n",
       "2985  fcd5cf4810bcc01fdb863941c8a2991e16810cfc18e6e1...      bw\n",
       "2986  fd11b29f504e0abe7fe5684f69aa9cdc8a4c20458c603d...      bw\n",
       "2987  fd21e389750fd86f6127208b89b12b6f25c6abc44dd782...      bw\n",
       "2988  fd2ecc4d69378f10d401992f83dd7a256701fefd45878f...      bw\n",
       "2989  fd450e91e5104ee3d3e9dbcb7118ddf0dcb061e1aefc09...      bw\n",
       "2990  fd4df12b775dd8eece392ec47cd7565c1b52b7d622bff3...      bw\n",
       "2991  fd849405326b95ff997939d18b8560212d602d6c2fb574...      bw\n",
       "2992  fd8538c83832e683d0ed1a35f4c878765c604d92cf96ed...      bw\n",
       "2993  fd959b91f1fd8971f6e0cfc0848e80e302ca748bb26daf...      he\n",
       "2994  fda5c593adf95f91aac8aae34f4ce0c5ad38ff49e74085...      bw\n",
       "2995  fda7e9a21f40ce89f7368c5a2fb47957ab4de41bfb52d6...      bw\n",
       "2996  fdb3f0ce1ce05bec83681ae64d549820d3c2f5e543ba8c...      bw\n",
       "2997  fdbc93d21ee6545e8d48a6545a348c464df0378e9ee1e5...      bw\n",
       "2998  fdbdd162d5c1454d1f74a4581158aa2ccf6a7e65a5860f...      bw\n",
       "2999  fdd370a664bcbff938b3ff394ffb3c431a4beaa3a0123e...      bw\n",
       "3000  fdee330bfce2c945e54b88b97da54de37dd4774e90ca6e...      he\n",
       "3001  fe2f4d33f45b77d045540e97957591b407cc19bc1e79c9...      bw\n",
       "3002  fe3536ba88d6daef98a9060232b43326fb1c634c923201...      bw\n",
       "3003  fe5d3329f6827b46e59eed1c2c10237319648aded6646e...      bw\n",
       "3004  fe79efc09c442a1df17f7ea319d43f197f27a5477fdc16...      bw\n",
       "3005  fe98836971a07c50394146b8b3ad9ca8b359558840d881...      bw\n",
       "3006  fe98e8841da36e4ee2c5540e5a568d1f20a55a0565af5f...      bw\n",
       "3007  fe9d16de910249cd379426f02c5068dd49a2556b07428b...      bw\n",
       "3008  fecf2003df7dc97f4bf0d7dba917477ced19e955ee7f6f...      bw\n",
       "3009  fed8bfbbd40e1ff1fb0e29b457e8b41486e7d9ead28779...      bw\n",
       "3010  fee623d0c937c25da543383a223df2795312f76564336d...      bw\n",
       "3011  feea4190b5bbcd274b76a93dd986b992040eb9cde3c865...      he\n",
       "3012  ff4571dd5d496ab22d4388881688e1b6d0bf97ec00bf34...      bw\n",
       "3013  ff4dafefa29d4ea375b36321bc55926e743fab64dcaa5a...      he\n",
       "3014  ff6bd41cbb8c7666eb6c3c375b97c69d7d09ba121fe1c1...      bw\n",
       "3015  ff8e3a989a4ea67b1ed8fd8d7091bb1089869cdda06e49...      bw\n",
       "3016  ffa053af65884b5fbe0626d350b5c3fc2e6279a5dd6fbd...      bw\n",
       "3017  ffb383db5ee04d316f2e40f74649aab78648cf9b9d7fc6...      he\n",
       "3018  ffbc47f9b8387b12dee3dbb453a39f7e0c3348cd055896...      bw"
      ]
     },
     "execution_count": 12,
     "metadata": {},
     "output_type": "execute_result"
    }
   ],
   "source": [
    "back_ground_df = pd.read_csv(BG_DATA_PATH)\n",
    "back_ground_df.tail(100)"
   ]
  },
  {
   "cell_type": "code",
   "execution_count": 13,
   "metadata": {},
   "outputs": [
    {
     "data": {
      "text/html": [
       "<div>\n",
       "<style scoped>\n",
       "    .dataframe tbody tr th:only-of-type {\n",
       "        vertical-align: middle;\n",
       "    }\n",
       "\n",
       "    .dataframe tbody tr th {\n",
       "        vertical-align: top;\n",
       "    }\n",
       "\n",
       "    .dataframe thead th {\n",
       "        text-align: right;\n",
       "    }\n",
       "</style>\n",
       "<table border=\"1\" class=\"dataframe\">\n",
       "  <thead>\n",
       "    <tr style=\"text-align: right;\">\n",
       "      <th></th>\n",
       "      <th>bg_type</th>\n",
       "    </tr>\n",
       "    <tr>\n",
       "      <th>ImageId</th>\n",
       "      <th></th>\n",
       "    </tr>\n",
       "  </thead>\n",
       "  <tbody>\n",
       "    <tr>\n",
       "      <th>0019c086029dd3be01f72131edb74e21ee995574e6d5c136ea868630b0d73523</th>\n",
       "      <td>he</td>\n",
       "    </tr>\n",
       "    <tr>\n",
       "      <th>004a078bb44ee55ee7d6f1c19f96b3a0d3b5037746a3a75197dbb0be06da05cf</th>\n",
       "      <td>bw</td>\n",
       "    </tr>\n",
       "    <tr>\n",
       "      <th>005463e6d4a0a0b21161f1d97392f22556fbddba970d9440ae774229308a91ed</th>\n",
       "      <td>bw</td>\n",
       "    </tr>\n",
       "    <tr>\n",
       "      <th>005af293e8e53218ae96746ecf9bb88b511154d4a0b35e4ec6296b4623e15836</th>\n",
       "      <td>bw</td>\n",
       "    </tr>\n",
       "    <tr>\n",
       "      <th>005d47447abac7f7fa0ac56ba82f13edbf485105baf0672504d84b58d562f38b</th>\n",
       "      <td>bw</td>\n",
       "    </tr>\n",
       "    <tr>\n",
       "      <th>00ac87390253a22f6eb67c5771a73050e06200d1aa682fcf1b1e3783b2944166</th>\n",
       "      <td>bw</td>\n",
       "    </tr>\n",
       "    <tr>\n",
       "      <th>00b4b9c026cfc91af21691503bad67081fc02d5c77b3cd27200d02dca6966b83</th>\n",
       "      <td>bw</td>\n",
       "    </tr>\n",
       "    <tr>\n",
       "      <th>00da4fe5346bbb36ccf178964a22fdf7e33888989624176a6af3b4a7cfd7da63</th>\n",
       "      <td>bw</td>\n",
       "    </tr>\n",
       "    <tr>\n",
       "      <th>00e36f2470960e84cfc9f0d30c1f76abd7b35e4516380bf74985cbe641086806</th>\n",
       "      <td>bw</td>\n",
       "    </tr>\n",
       "    <tr>\n",
       "      <th>00e67980783eaae30d41f6479beb9c04eb91de4608537673898039094800ddb0</th>\n",
       "      <td>bw</td>\n",
       "    </tr>\n",
       "  </tbody>\n",
       "</table>\n",
       "</div>"
      ],
      "text/plain": [
       "                                                   bg_type\n",
       "ImageId                                                   \n",
       "0019c086029dd3be01f72131edb74e21ee995574e6d5c13...      he\n",
       "004a078bb44ee55ee7d6f1c19f96b3a0d3b5037746a3a75...      bw\n",
       "005463e6d4a0a0b21161f1d97392f22556fbddba970d944...      bw\n",
       "005af293e8e53218ae96746ecf9bb88b511154d4a0b35e4...      bw\n",
       "005d47447abac7f7fa0ac56ba82f13edbf485105baf0672...      bw\n",
       "00ac87390253a22f6eb67c5771a73050e06200d1aa682fc...      bw\n",
       "00b4b9c026cfc91af21691503bad67081fc02d5c77b3cd2...      bw\n",
       "00da4fe5346bbb36ccf178964a22fdf7e33888989624176...      bw\n",
       "00e36f2470960e84cfc9f0d30c1f76abd7b35e4516380bf...      bw\n",
       "00e67980783eaae30d41f6479beb9c04eb91de460853767...      bw"
      ]
     },
     "execution_count": 13,
     "metadata": {},
     "output_type": "execute_result"
    }
   ],
   "source": [
    "back_ground_df = back_ground_df.set_index('ImageId')\n",
    "back_ground_df.head(10)"
   ]
  },
  {
   "cell_type": "code",
   "execution_count": 14,
   "metadata": {},
   "outputs": [],
   "source": [
    "meta = meta[meta['is_train'] == 0].reset_index(drop=True)"
   ]
  },
  {
   "cell_type": "code",
   "execution_count": 15,
   "metadata": {},
   "outputs": [],
   "source": [
    "meta['bg_type'] = meta.ImageId.map(back_ground_df.bg_type)"
   ]
  },
  {
   "cell_type": "code",
   "execution_count": 16,
   "metadata": {},
   "outputs": [
    {
     "data": {
      "text/plain": [
       "2    3016\n",
       "1       2\n",
       "3       1\n",
       "Name: process_type, dtype: int64"
      ]
     },
     "execution_count": 16,
     "metadata": {},
     "output_type": "execute_result"
    }
   ],
   "source": [
    "meta['process_type'] = meta['bg_type'].map({\n",
    "    'bw': 2, # do nothing\n",
    "    'wb': 3, # pure reverse\n",
    "    'he': 2, # do nothing\n",
    "    'c_bw': 0, # turns into gray \n",
    "    'c_wb': 1, # turns into gray and reverse\n",
    "})\n",
    "meta['process_type'].value_counts()"
   ]
  },
  {
   "cell_type": "code",
   "execution_count": 17,
   "metadata": {},
   "outputs": [
    {
     "data": {
      "text/plain": [
       "0    2803\n",
       "1     216\n",
       "Name: group, dtype: int64"
      ]
     },
     "execution_count": 17,
     "metadata": {},
     "output_type": "execute_result"
    }
   ],
   "source": [
    "meta['group'] = meta['bg_type'].map({\n",
    "    'bw': 0, # do nothing\n",
    "    'wb': 0, # pure reverse\n",
    "    'he': 1, # do nothing\n",
    "    'c_bw': 0, # turns into gray \n",
    "    'c_wb': 0, # turns into gray and reverse\n",
    "})\n",
    "meta['group'].value_counts()"
   ]
  },
  {
   "cell_type": "code",
   "execution_count": 18,
   "metadata": {},
   "outputs": [],
   "source": [
    "meta_test = meta"
   ]
  },
  {
   "cell_type": "markdown",
   "metadata": {
    "collapsed": true
   },
   "source": [
    "# Mask-RCNN configuration\n",
    "We will now define parameters for our mask-rcnn. \n",
    "Tweak them to get better results!"
   ]
  },
  {
   "cell_type": "code",
   "execution_count": 19,
   "metadata": {},
   "outputs": [],
   "source": [
    "class DsbConfig(Config):\n",
    "\n",
    "    # Give the configuration a recognizable name\n",
    "    NAME = \"dsb\"\n",
    "      \n",
    "    LEARNING_RATE = 1e-2\n",
    "    \n",
    "    # If enabled, resizes instance masks to a smaller size to reduce\n",
    "    # memory load. Recommended when using high-resolution image\n",
    "    USE_MINI_MASK = True\n",
    "    MINI_MASK_SHAPE = (56, 56)  # (height, width) of the mini-mask\n",
    "    \n",
    "    # Train on 1 GPU and 8 images per GPU. Batch size is GPUs * images/GPU.\n",
    "    GPU_COUNT = 1\n",
    "    IMAGES_PER_GPU = 2\n",
    "    # Total number of steps (batches of samples) to yield from generator before declaring one epoch finished and starting the next epoch.\n",
    "    # typically be equal to the number of samples of your dataset divided by the batch size\n",
    "    STEPS_PER_EPOCH = 300\n",
    "    VALIDATION_STEPS = 70\n",
    "\n",
    "    # Number of classes (including background)\n",
    "    NUM_CLASSES = 1 + 1  # background + nucleis\n",
    "    IMAGE_MIN_DIM = 512\n",
    "    IMAGE_MAX_DIM = 512\n",
    "    IMAGE_PADDING = True  # currently, the False option is not supported\n",
    "    RPN_ANCHOR_SCALES = (8, 16, 32, 64, 128)  # anchor side in pixels, maybe add a 256?\n",
    "    # The strides of each layer of the FPN Pyramid. These values\n",
    "    # are based on a Resnet101 backbone.\n",
    "    BACKBONE_STRIDES = [4, 8, 16, 32, 64]\n",
    "    # How many anchors per image to use for RPN training\n",
    "    RPN_TRAIN_ANCHORS_PER_IMAGE = 320 #300\n",
    "    \n",
    "    # ROIs kept after non-maximum supression (training and inference)\n",
    "    POST_NMS_ROIS_TRAINING = 2000\n",
    "    POST_NMS_ROIS_INFERENCE = 2000\n",
    "    POOL_SIZE = 7\n",
    "    MASK_POOL_SIZE = 14 # 14\n",
    "    MASK_SHAPE = [28, 28] # 28\n",
    "    TRAIN_ROIS_PER_IMAGE = 512\n",
    "    RPN_DETECTION_MIN_CONFIDENCE = .6\n",
    "    RPN_NMS_THRESHOLD = 0.6 #0.7\n",
    "    MAX_GT_INSTANCES = 256\n",
    "    DETECTION_MAX_INSTANCES = 450 \n",
    "    # Minimum probability value to accept a detected instance\n",
    "    # ROIs below this threshold are skipped\n",
    "    DETECTION_MIN_CONFIDENCE = 0.67 # may be smaller?\n",
    "    # Non-maximum suppression threshold for detection\n",
    "    DETECTION_NMS_THRESHOLD = 0.3 # 0.3\n",
    "    \n",
    "    # DETECTION_MAX_INSTANCES=400, DETECTION_MIN_CONFIDENCE=.7 => Val loss: .21xx, LB: .424\n",
    "    # DETECTION_MAX_INSTANCES=450, DETECTION_MIN_CONFIDENCE=.65 => Val loss: .3, LB: .438\n",
    "    # DETECTION_MAX_INSTANCES=, DETECTION_MIN_CONFIDENCE= => Val loss: ., LB: .\n",
    "    \n",
    "    '''\n",
    "    0324 note: \n",
    "        RPN_NMS_THRESHOLD .7 -> .6 to generate more proposals at training,\n",
    "        DETECTION_MAX_INSTANCES 400 -> 450\n",
    "        DETECTION_MIN_CONFIDENCE .7\n",
    "        BACKBONE_STRIDES add `2` ..?\n",
    "    '''\n",
    "    \n",
    "    MEAN_PIXEL = np.array([0.,0.,0.])\n",
    "    \n",
    "    # Weight decay regularization\n",
    "    WEIGHT_DECAY = 0.0001\n",
    "    \n",
    "    # Min Box Size\n",
    "    MIN_BOX_SIZE = 36./(512.**2.) # (36/512**2) (delete objects smaller than 6*6 pixels)\n",
    "    BORDER_RATIO = 4. / 512. # smaller than 4 pixels width\\height at the border\n",
    "    BORDER_MIN_BOX_SIZE = 16./(512.**2.)\n",
    "  \n",
    "    LR_SHRINK_PERIOD = 10\n",
    "    \n",
    "config = DsbConfig()"
   ]
  },
  {
   "cell_type": "markdown",
   "metadata": {},
   "source": [
    "# Dataset definition\n",
    "\n",
    "We need to define our datasets for the data science bowl competition"
   ]
  },
  {
   "cell_type": "code",
   "execution_count": 20,
   "metadata": {},
   "outputs": [],
   "source": [
    "from augment import Augment\n",
    "\n",
    "class DsbDataset(utils.Dataset):\n",
    "    '''\n",
    "    process_info is a image-id <=> process type mapping pd.series\n",
    "    '''\n",
    "    def load_dataset(self, process_info, train_mode=True, augment=False):\n",
    "        self.add_class(\"dsb\", 1, \"nuclei\")\n",
    "        self.process_info = process_info\n",
    "        self.augmenter = Augment()\n",
    "        self.augment = augment\n",
    "        \n",
    "        if train_mode:\n",
    "            directory = dsb_dir\n",
    "        else:\n",
    "            directory = test_dir\n",
    "            \n",
    "        ids = []\n",
    "        for i, id in enumerate(process_info.ImageId.values):\n",
    "            image_dir = os.path.join(directory, id)\n",
    "            self.add_image(\"dsb\", image_id=i, path=image_dir)\n",
    "            ids.append(i)\n",
    "        \n",
    "        self.process_info.reset_index(drop=True, inplace=True)\n",
    "        #print(self.process_info)\n",
    "        self.process_info['id'] = ids\n",
    "        self.process_info.set_index('id')\n",
    "        self.process_info = self.process_info['process_type']\n",
    "        #print(self.process_info)\n",
    "        \n",
    "    def load_image(self, image_id, non_zero=None):\n",
    "        info = self.image_info[image_id]\n",
    "        path = info['path']\n",
    "        image_name = os.listdir(os.path.join(path, 'images'))\n",
    "        image_path = os.path.join(path, 'images', image_name[0])\n",
    "        image = imageio.imread(image_path)\n",
    "        \n",
    "        #print(self.process_info[image_id])\n",
    "        if image_path[-4:] == '.tif':\n",
    "            self.offset = (randrange(488), randrange(488))\n",
    "            image = image[self.offset[0]:self.offset[0]+512, self.offset[1]:self.offset[1]+512, :]\n",
    "            #image = skimage.transform.resize(image, (512,512),  preserve_range=True)\n",
    "        \n",
    "        try:\n",
    "            if image.shape[2] != 3:\n",
    "                image = image[:,:,:3]\n",
    "        except:\n",
    "            print(image)\n",
    "            image = image / 255.\n",
    "            image = skimage.color.gray2rgb(image.astype('uint8'))\n",
    "            print('new\\n', image)\n",
    "            \n",
    "        image = self.preprocess(image, process_type=self.process_info[image_id])\n",
    "        image = image.astype('float32')\n",
    "        \n",
    "        if self.augment:\n",
    "            self.augment_func = self.augmenter.get_random_augement()\n",
    "            image = self.augment_func(image)\n",
    "            \n",
    "        return image\n",
    "\n",
    "    def image_reference(self, image_id):\n",
    "        info = self.image_info[image_id]\n",
    "        if info[\"source\"] == \"shapes\":\n",
    "            return info[\"shapes\"]\n",
    "        else:\n",
    "            super(self.__class__).image_reference(self, image_id)\n",
    "\n",
    "    def load_mask(self, image_id):\n",
    "        info = self.image_info[image_id]\n",
    "        path = info['path']\n",
    "        mask_dir = os.path.join(path, 'masks')\n",
    "        mask_names = os.listdir(mask_dir)\n",
    "        count = len(mask_names)\n",
    "        mask = []\n",
    "        \n",
    "        for i, el in enumerate(mask_names):\n",
    "            msk_path = os.path.join(mask_dir, el)\n",
    "            msk = imageio.imread(msk_path)\n",
    "            if np.sum(msk) == 0:\n",
    "                print('invalid mask')\n",
    "                continue\n",
    "                \n",
    "            if 'TCGA' in mask_dir:\n",
    "                #msk = skimage.transform.resize(msk, (512,512), preserve_range=True)\n",
    "                msk = msk[self.offset[0]:self.offset[0]+512, self.offset[1]:self.offset[1]+512]\n",
    "                if np.sum(msk) == 0:\n",
    "                    continue\n",
    "                \n",
    "            msk = msk.astype('float32')/255.\n",
    "            \n",
    "            if len(msk.shape) > 2:\n",
    "                msk = np.sum(msk, axis=2)\n",
    "                \n",
    "            mask.append(msk)\n",
    "            \n",
    "        try:\n",
    "            mask = np.array(mask)\n",
    "        except:\n",
    "            for i, m in enumerate(mask):\n",
    "                if len(m.shape) > 2:\n",
    "                    print(mask_names[i])\n",
    "                    \n",
    "        mask[mask > 0.] = 1.\n",
    "        mask = np.transpose(mask, (1,2,0))\n",
    "        if self.augment:\n",
    "            mask = self.augment_func(mask) # self.augment_func was decided when loading image before loading masks\n",
    "            \n",
    "        occlusion = np.logical_not(mask[:, :, -1]).astype(np.uint8)\n",
    "        count = mask.shape[2]\n",
    "        for i in range(count-2, -1, -1):\n",
    "            mask[:, :, i] = mask[:, :, i] * occlusion\n",
    "            occlusion = np.logical_and(occlusion, np.logical_not(mask[:, :, i]))\n",
    "        class_ids = [self.class_names.index('nuclei') for s in range(count)]\n",
    "        class_ids = np.asarray(class_ids)\n",
    "        \n",
    "        return mask, class_ids.astype(np.int32)\n",
    "    \n",
    "    def preprocess(self, img, process_type=0):\n",
    "        if process_type == 0: # grey-rgb-grey\n",
    "            gray = skimage.color.rgb2gray(img.astype('uint8'))\n",
    "            img = skimage.color.gray2rgb(gray)\n",
    "            img *= 255.\n",
    "        elif process_type == 1:  # grey-rgb-grey-reverse\n",
    "            gray = skimage.color.rgb2gray(img.astype('uint8'))\n",
    "            img = skimage.color.gray2rgb(gray)\n",
    "            img *= 255.\n",
    "            img = 255. - img\n",
    "        elif process_type == 2:\n",
    "            img = img.astype(float) # do nothing\n",
    "        elif process_type == 3:\n",
    "            img = 255. - img\n",
    "        \n",
    "        return img"
   ]
  },
  {
   "cell_type": "code",
   "execution_count": 21,
   "metadata": {},
   "outputs": [],
   "source": [
    "dsb_dir = TRAIN_PATH\n",
    "test_dir = TEST_PATH"
   ]
  },
  {
   "cell_type": "markdown",
   "metadata": {},
   "source": [
    "# Evaluate\n",
    "I think we are ready to see how our model does on the validation!"
   ]
  },
  {
   "cell_type": "code",
   "execution_count": 22,
   "metadata": {},
   "outputs": [],
   "source": [
    "class InferenceConfig(DsbConfig):\n",
    "    GPU_COUNT = 1\n",
    "    IMAGES_PER_GPU = 1\n",
    "    # MEAN_PIXEL = np.array([56.02288505, 54.02376286, 54.26675248])\n",
    "\n",
    "    USE_FLEXIBLE_NMS = True\n",
    "    DETECTION_MIN_CONFIDENCE = 0.88\n",
    "    DETECTION_NMS_THRESHOLD = 0.3\n",
    "    SNMS_METHOD = 2 # 0: normal greedy nms, 1: linear method 2: Gaussian method\n",
    "    SNMS_SIGMA = 0.5\n",
    "\n",
    "inference_config = InferenceConfig()"
   ]
  },
  {
   "cell_type": "code",
   "execution_count": 23,
   "metadata": {},
   "outputs": [],
   "source": [
    "paths = ['logs/Final Models/partial_bw_50.h5',\n",
    "         'logs/Final Models/partial_he_70.h5']"
   ]
  },
  {
   "cell_type": "code",
   "execution_count": 24,
   "metadata": {},
   "outputs": [],
   "source": [
    "def get_ax(rows=1, cols=1, size=8):\n",
    "    \"\"\"Return a Matplotlib Axes array to be used in\n",
    "    all visualizations in the notebook. Provide a\n",
    "    central point to control graph sizes.\n",
    "    \n",
    "    Change the default size attribute to control the size\n",
    "    of rendered images\n",
    "    \"\"\"\n",
    "    _, ax = plt.subplots(rows, cols, figsize=(size*cols, size*rows))\n",
    "    return ax"
   ]
  },
  {
   "cell_type": "code",
   "execution_count": 25,
   "metadata": {},
   "outputs": [],
   "source": [
    "test_ids = os.listdir(test_dir)"
   ]
  },
  {
   "cell_type": "code",
   "execution_count": 26,
   "metadata": {},
   "outputs": [],
   "source": [
    "def test_split(meta_test):\n",
    "    meta_test_groups = [meta_test[meta_test['group'] == group].reset_index(drop=True) for group in range(2)]\n",
    "    return meta_test_groups"
   ]
  },
  {
   "cell_type": "code",
   "execution_count": 27,
   "metadata": {},
   "outputs": [],
   "source": [
    "meta_test_groups = test_split(meta_test)"
   ]
  },
  {
   "cell_type": "code",
   "execution_count": 28,
   "metadata": {},
   "outputs": [
    {
     "name": "stderr",
     "output_type": "stream",
     "text": [
      "/usr/local/lib/python3.5/dist-packages/ipykernel_launcher.py:26: SettingWithCopyWarning: \n",
      "A value is trying to be set on a copy of a slice from a DataFrame.\n",
      "Try using .loc[row_indexer,col_indexer] = value instead\n",
      "\n",
      "See the caveats in the documentation: http://pandas.pydata.org/pandas-docs/stable/indexing.html#indexing-view-versus-copy\n"
     ]
    }
   ],
   "source": [
    "test_datasets = []\n",
    "for i in range(2):\n",
    "    \n",
    "    te = meta_test_groups[i]\n",
    "\n",
    "    # Testing dataset\n",
    "    dataset_test = DsbDataset()\n",
    "    dataset_test.load_dataset(te[['ImageId', 'process_type']], train_mode=False)\n",
    "    dataset_test.prepare()\n",
    "    \n",
    "    test_datasets.append(dataset_test)"
   ]
  },
  {
   "cell_type": "code",
   "execution_count": 29,
   "metadata": {},
   "outputs": [
    {
     "name": "stdout",
     "output_type": "stream",
     "text": [
      "2803\n"
     ]
    }
   ],
   "source": [
    "print(len(test_datasets[0].image_ids))"
   ]
  },
  {
   "cell_type": "code",
   "execution_count": 30,
   "metadata": {},
   "outputs": [
    {
     "name": "stdout",
     "output_type": "stream",
     "text": [
      "216\n"
     ]
    }
   ],
   "source": [
    "print(len(test_datasets[1].image_ids))"
   ]
  },
  {
   "cell_type": "code",
   "execution_count": 31,
   "metadata": {},
   "outputs": [],
   "source": [
    "from prediction_saver import prediction_saver"
   ]
  },
  {
   "cell_type": "code",
   "execution_count": 32,
   "metadata": {},
   "outputs": [],
   "source": [
    "from time import time\n",
    "start_time = time()\n",
    "PRED_SAVER_DIR = os.path.join(ROOT_DIR, \"prediction_savers_stage2_5070\")\n",
    "ps = prediction_saver(PRED_SAVER_DIR, meta_test.ImageId.values)"
   ]
  },
  {
   "cell_type": "code",
   "execution_count": 33,
   "metadata": {},
   "outputs": [],
   "source": [
    "ACCEPT_RATIO = 1.6"
   ]
  },
  {
   "cell_type": "code",
   "execution_count": 34,
   "metadata": {
    "scrolled": true
   },
   "outputs": [
    {
     "name": "stdout",
     "output_type": "stream",
     "text": [
      "Loading weights from  logs/Final Models/partial_bw_50.h5\n",
      "Processing image 2263 in test_index = 0 \n",
      "id = 287369353e973f3fde6a058e9b293ec52de084bc4cd336f9acd77c65cf5d24a7\n",
      "multi processing\n"
     ]
    },
    {
     "name": "stderr",
     "output_type": "stream",
     "text": [
      "100%|██████████| 210/210 [02:24<00:00,  1.45it/s]\n",
      "100%|██████████| 207/207 [02:30<00:00,  1.38it/s]\n",
      "100%|██████████| 214/214 [02:31<00:00,  1.41it/s]\n",
      "100%|██████████| 215/215 [02:33<00:00,  1.40it/s]\n"
     ]
    },
    {
     "name": "stdout",
     "output_type": "stream",
     "text": [
      "Processing image 2264 in test_index = 0 \n",
      "id = 9c20603e1ce4b6852629cabf0a68bbb8ab267f810dacc97852c3b3ed1e954ff9\n",
      "multi processing\n"
     ]
    },
    {
     "name": "stderr",
     "output_type": "stream",
     "text": [
      "100%|██████████| 36/36 [00:00<00:00, 135.27it/s]\n",
      "100%|██████████| 31/31 [00:00<00:00, 123.29it/s]\n",
      "100%|██████████| 44/44 [00:00<00:00, 124.24it/s]\n",
      "100%|██████████| 36/36 [00:00<00:00, 115.07it/s]\n"
     ]
    },
    {
     "name": "stdout",
     "output_type": "stream",
     "text": [
      "Processing image 2265 in test_index = 0 \n",
      "id = eda821f230d524a131cedf10c3a778215c75225d2af80570ddf613a0d54a935d\n",
      "multi processing\n"
     ]
    },
    {
     "name": "stderr",
     "output_type": "stream",
     "text": [
      "100%|██████████| 62/62 [00:00<00:00, 105.66it/s]\n",
      "100%|██████████| 53/53 [00:00<00:00, 101.50it/s]\n",
      "100%|██████████| 63/63 [00:00<00:00, 88.50it/s]\n",
      "100%|██████████| 68/68 [00:00<00:00, 84.59it/s]\n"
     ]
    },
    {
     "name": "stdout",
     "output_type": "stream",
     "text": [
      "Processing image 2266 in test_index = 0 \n",
      "id = 3f3ef6449fe24832d61021365eabfb6ce21fbb17c63de03714e7dea2941193b2\n",
      "multi processing\n"
     ]
    },
    {
     "name": "stderr",
     "output_type": "stream",
     "text": [
      "100%|██████████| 56/56 [00:00<00:00, 80.07it/s]\n",
      "100%|██████████| 56/56 [00:00<00:00, 85.80it/s]\n",
      "100%|██████████| 57/57 [00:00<00:00, 81.69it/s]\n",
      "100%|██████████| 62/62 [00:00<00:00, 94.59it/s]\n"
     ]
    },
    {
     "name": "stdout",
     "output_type": "stream",
     "text": [
      "Processing image 2267 in test_index = 0 \n",
      "id = f51bc70aeb7911b816f2770fe578066e5a40a8833ac593c0dc5e5311b5218963\n",
      "multi processing\n",
      "Processing image 2268 in test_index = 0 \n",
      "id = 2f25c16e472f0b5f0c14b654a4e78f8f83ad7505f056d48349e1e12e0de98839\n",
      "multi processing\n",
      "Processing image 2269 in test_index = 0 \n",
      "id = 877b348cead12783788fbb69402e8b88cbb36184d6f24032a88b15b32a772864\n",
      "multi processing\n"
     ]
    },
    {
     "name": "stderr",
     "output_type": "stream",
     "text": [
      "100%|██████████| 38/38 [00:00<00:00, 125.25it/s]\n",
      "100%|██████████| 53/53 [00:00<00:00, 113.85it/s]\n",
      "100%|██████████| 55/55 [00:00<00:00, 105.50it/s]\n",
      "100%|██████████| 71/71 [00:00<00:00, 91.36it/s]\n"
     ]
    },
    {
     "name": "stdout",
     "output_type": "stream",
     "text": [
      "Processing image 2270 in test_index = 0 \n",
      "id = 7a55dda592f6b592a9224b881098ee2ad9ab23d478e7cc09b0b03ca05cde31ea\n",
      "multi processing\n"
     ]
    },
    {
     "name": "stderr",
     "output_type": "stream",
     "text": [
      "100%|██████████| 31/31 [00:00<00:00, 137.95it/s]\n",
      "100%|██████████| 38/38 [00:00<00:00, 122.84it/s]\n",
      "100%|██████████| 40/40 [00:00<00:00, 135.14it/s]\n",
      "100%|██████████| 38/38 [00:00<00:00, 134.56it/s]\n"
     ]
    },
    {
     "name": "stdout",
     "output_type": "stream",
     "text": [
      "Processing image 2271 in test_index = 0 \n",
      "id = a54ff3288103b4044882c3792d7cdcb7a4d550d8775e3d0e121d50f9032ac6ce\n",
      "multi processing\n"
     ]
    },
    {
     "name": "stderr",
     "output_type": "stream",
     "text": [
      "100%|██████████| 283/283 [04:54<00:00,  1.04s/it]\n",
      "100%|██████████| 295/295 [05:13<00:00,  1.06s/it]\n",
      "100%|██████████| 296/296 [05:19<00:00,  1.08s/it]\n",
      "100%|██████████| 304/304 [05:33<00:00,  1.10s/it]\n"
     ]
    },
    {
     "name": "stdout",
     "output_type": "stream",
     "text": [
      "Processing image 2272 in test_index = 0 \n",
      "id = 7f3095493a18e903c220504e2a33893211ec46ddab07e9c16c8a401a1cbaee77\n",
      "multi processing\n",
      "Processing image 2273 in test_index = 0 \n",
      "id = b1a06ddee0a6aca96c590ef83c8b2a820961c484faf71bb1c10b4aaad0914834\n",
      "multi processing\n"
     ]
    },
    {
     "name": "stderr",
     "output_type": "stream",
     "text": [
      "100%|██████████| 4/4 [00:00<00:00, 233.95it/s]\n",
      "100%|██████████| 3/3 [00:00<00:00, 213.46it/s]\n",
      "100%|██████████| 4/4 [00:00<00:00, 239.20it/s]\n",
      "100%|██████████| 4/4 [00:00<00:00, 221.98it/s]\n"
     ]
    },
    {
     "name": "stdout",
     "output_type": "stream",
     "text": [
      "Processing image 2274 in test_index = 0 \n",
      "id = 6e50899ecb07832b047bfe8add4be2776dc60223faa4b79de7450b714e5e4cde\n",
      "multi processing\n",
      "Processing image 2275 in test_index = 0 \n",
      "id = 9876cfe9db24353a7eed529d7bcbca9d1e2ec2f8945fed30a039aabe7f0c672a\n",
      "multi processing\n"
     ]
    },
    {
     "name": "stderr",
     "output_type": "stream",
     "text": [
      "100%|██████████| 12/12 [00:00<00:00, 45.68it/s]\n",
      "100%|██████████| 9/9 [00:00<00:00, 50.98it/s]\n",
      "100%|██████████| 14/14 [00:00<00:00, 43.91it/s]\n",
      "100%|██████████| 15/15 [00:00<00:00, 42.08it/s]\n"
     ]
    },
    {
     "name": "stdout",
     "output_type": "stream",
     "text": [
      "Processing image 2276 in test_index = 0 \n",
      "id = ef16ff46df1e67486abd5a8290b051bab7ccd966cfb4fcf445f193aae7ae6ebd\n",
      "multi processing\n"
     ]
    },
    {
     "name": "stderr",
     "output_type": "stream",
     "text": [
      "100%|██████████| 253/253 [02:05<00:00,  2.01it/s]\n",
      "100%|██████████| 262/262 [02:06<00:00,  2.07it/s]\n",
      "100%|██████████| 272/272 [02:12<00:00,  2.05it/s]\n",
      "100%|██████████| 280/280 [02:13<00:00,  2.09it/s]\n"
     ]
    },
    {
     "name": "stdout",
     "output_type": "stream",
     "text": [
      "Processing image 2277 in test_index = 0 \n",
      "id = 325618b171765f9d5efa47424668480376de869cd91e95b84403a4e7f9dad2df\n",
      "multi processing\n"
     ]
    },
    {
     "name": "stderr",
     "output_type": "stream",
     "text": [
      "100%|██████████| 15/15 [00:00<00:00, 324.10it/s]\n",
      "100%|██████████| 15/15 [00:00<00:00, 352.27it/s]\n",
      "100%|██████████| 12/12 [00:00<00:00, 353.23it/s]\n",
      "100%|██████████| 14/14 [00:00<00:00, 320.03it/s]\n"
     ]
    },
    {
     "name": "stdout",
     "output_type": "stream",
     "text": [
      "Processing image 2278 in test_index = 0 \n",
      "id = 628b5bbe80a28103fd854d2db622122ddd666c756a4b62baf969331bcd59b6da\n",
      "multi processing\n"
     ]
    },
    {
     "name": "stderr",
     "output_type": "stream",
     "text": [
      "100%|██████████| 266/266 [03:28<00:00,  1.28it/s]\n",
      "100%|██████████| 263/263 [03:34<00:00,  1.23it/s]\n",
      "100%|██████████| 278/278 [03:36<00:00,  1.28it/s]\n",
      "100%|██████████| 271/271 [03:41<00:00,  1.22it/s]\n"
     ]
    },
    {
     "name": "stdout",
     "output_type": "stream",
     "text": [
      "Processing image 2279 in test_index = 0 \n",
      "id = f94f5e38e1bd467538bb5ce686afb3ca85fd8f15d978cc3d5e387f561009295a\n",
      "multi processing\n"
     ]
    },
    {
     "name": "stderr",
     "output_type": "stream",
     "text": [
      "100%|██████████| 1/1 [00:00<00:00, 2454.24it/s]\n",
      "100%|██████████| 2/2 [00:00<00:00, 80.42it/s]\n",
      "100%|██████████| 9/9 [00:00<00:00, 76.23it/s]\n"
     ]
    },
    {
     "name": "stdout",
     "output_type": "stream",
     "text": [
      "Processing image 2280 in test_index = 0 \n",
      "id = f9f27d4797e4d6eeca25d42b09c8ba8063394a7512eb954ad7b1ed884f58219d\n",
      "multi processing\n"
     ]
    },
    {
     "name": "stderr",
     "output_type": "stream",
     "text": [
      "100%|██████████| 2/2 [00:00<00:00, 303.10it/s]\n",
      "100%|██████████| 11/11 [00:00<00:00, 317.92it/s]\n",
      "100%|██████████| 7/7 [00:00<00:00, 345.66it/s]\n",
      "100%|██████████| 13/13 [00:00<00:00, 297.64it/s]\n"
     ]
    },
    {
     "name": "stdout",
     "output_type": "stream",
     "text": [
      "Processing image 2281 in test_index = 0 \n",
      "id = dec1bc8f99c0f35c62e317cb03629c108e542a4e48f4b8262df23f3b59eec082\n",
      "multi processing\n"
     ]
    },
    {
     "name": "stderr",
     "output_type": "stream",
     "text": [
      "100%|██████████| 57/57 [00:00<00:00, 69.20it/s]\n",
      "100%|██████████| 62/62 [00:00<00:00, 63.62it/s]\n",
      "100%|██████████| 63/63 [00:00<00:00, 66.44it/s]\n",
      "100%|██████████| 71/71 [00:01<00:00, 63.12it/s]\n"
     ]
    },
    {
     "name": "stdout",
     "output_type": "stream",
     "text": [
      "Processing image 2282 in test_index = 0 \n",
      "id = 59b53deff7992c5bfd5fa95e71d88b727538fdbee408031dfde8a3b84d08fbbe\n",
      "multi processing\n"
     ]
    },
    {
     "name": "stderr",
     "output_type": "stream",
     "text": [
      "100%|██████████| 60/60 [00:01<00:00, 53.97it/s]\n",
      "100%|██████████| 67/67 [00:01<00:00, 47.78it/s]\n",
      "100%|██████████| 67/67 [00:01<00:00, 49.01it/s]\n",
      "100%|██████████| 73/73 [00:01<00:00, 51.74it/s]\n"
     ]
    },
    {
     "name": "stdout",
     "output_type": "stream",
     "text": [
      "Processing image 2283 in test_index = 0 \n",
      "id = d7ca78f7a813d6c32d0072c0af7f1a0f885c3f66dc36d59fb07846487682cad9\n",
      "multi processing\n"
     ]
    },
    {
     "name": "stderr",
     "output_type": "stream",
     "text": [
      "100%|██████████| 99/99 [00:02<00:00, 36.22it/s]]\n",
      "100%|██████████| 113/113 [00:03<00:00, 36.78it/s]\n",
      "100%|██████████| 119/119 [00:03<00:00, 35.37it/s]\n",
      "100%|██████████| 131/131 [00:03<00:00, 35.59it/s]\n"
     ]
    },
    {
     "name": "stdout",
     "output_type": "stream",
     "text": [
      "Processing image 2284 in test_index = 0 \n",
      "id = 2562927d7f0be2860019561e45797224eec7f9b20a31e78198418926edca7562\n",
      "multi processing\n"
     ]
    },
    {
     "name": "stderr",
     "output_type": "stream",
     "text": [
      "100%|██████████| 70/70 [00:12<00:00,  5.52it/s]\n",
      "100%|██████████| 81/81 [00:13<00:00,  6.07it/s]\n",
      "100%|██████████| 78/78 [00:13<00:00,  5.70it/s]\n",
      "100%|██████████| 86/86 [00:15<00:00,  5.59it/s]\n"
     ]
    },
    {
     "name": "stdout",
     "output_type": "stream",
     "text": [
      "Processing image 2285 in test_index = 0 \n",
      "id = ad8746650a38fce6ff3e6062a9c04c547166f480cd0379851f31c2ef8fd47569\n",
      "multi processing\n"
     ]
    },
    {
     "name": "stderr",
     "output_type": "stream",
     "text": [
      "100%|██████████| 29/29 [00:00<00:00, 163.15it/s]\n",
      "100%|██████████| 26/26 [00:00<00:00, 154.50it/s]\n",
      "100%|██████████| 29/29 [00:00<00:00, 201.87it/s]\n",
      "100%|██████████| 28/28 [00:00<00:00, 138.73it/s]\n"
     ]
    },
    {
     "name": "stdout",
     "output_type": "stream",
     "text": [
      "Processing image 2286 in test_index = 0 \n",
      "id = 0e6deef5522c9f4508d7712a6bdc27db8df214d726a977557e7ccb9f0e7e4864\n",
      "multi processing\n"
     ]
    },
    {
     "name": "stderr",
     "output_type": "stream",
     "text": [
      "100%|██████████| 41/41 [00:05<00:00,  7.57it/s]\n",
      "100%|██████████| 41/41 [00:05<00:00,  7.31it/s]\n",
      "100%|██████████| 50/50 [00:07<00:00,  6.37it/s]\n",
      "100%|██████████| 48/48 [00:07<00:00,  6.14it/s]\n"
     ]
    },
    {
     "name": "stdout",
     "output_type": "stream",
     "text": [
      "Processing image 2287 in test_index = 0 \n",
      "id = 20e13e489ebd23f7ec90c67101e07a7c6196c7dbd6c79b680397dca5b3ff05f2\n",
      "multi processing\n"
     ]
    },
    {
     "name": "stderr",
     "output_type": "stream",
     "text": [
      "100%|██████████| 104/104 [00:29<00:00,  3.56it/s]\n",
      "100%|██████████| 109/109 [00:30<00:00,  3.53it/s]\n",
      "100%|██████████| 111/111 [00:34<00:00,  3.21it/s]\n",
      "100%|██████████| 125/125 [00:37<00:00,  3.30it/s]\n"
     ]
    },
    {
     "name": "stdout",
     "output_type": "stream",
     "text": [
      "Processing image 2288 in test_index = 0 \n",
      "id = 7d5ea560632f0e50f78245283caed6e20cc9054bb41773928cc7b052c94ea210\n",
      "multi processing\n",
      "Processing image 2289 in test_index = 0 \n",
      "id = 74ccf571e58a9df90c57958da44b163f80925ca6b0f9d17e096df5268350273c\n",
      "multi processing\n"
     ]
    },
    {
     "name": "stderr",
     "output_type": "stream",
     "text": [
      "100%|██████████| 57/57 [00:00<00:00, 82.12it/s]\n",
      "100%|██████████| 62/62 [00:00<00:00, 71.03it/s]\n",
      "100%|██████████| 72/72 [00:01<00:00, 71.10it/s]\n",
      "100%|██████████| 76/76 [00:01<00:00, 69.25it/s]\n"
     ]
    },
    {
     "name": "stdout",
     "output_type": "stream",
     "text": [
      "Processing image 2290 in test_index = 0 \n",
      "id = 04ec15d40847c786dfcfec3a55906b7a54d262a1e23d68d258f0b66cda46d25d\n",
      "multi processing\n"
     ]
    },
    {
     "name": "stderr",
     "output_type": "stream",
     "text": [
      "100%|██████████| 215/215 [02:30<00:00,  1.43it/s]\n",
      "100%|██████████| 216/216 [02:37<00:00,  1.38it/s]\n",
      "100%|██████████| 218/218 [02:36<00:00,  1.39it/s]\n",
      "100%|██████████| 222/222 [02:42<00:00,  1.37it/s]\n"
     ]
    },
    {
     "name": "stdout",
     "output_type": "stream",
     "text": [
      "Processing image 2291 in test_index = 0 \n",
      "id = bed887b6c145b0eb3cd27c68ed91bf8799cec5be730e567676afcac6067399ce\n",
      "multi processing\n"
     ]
    },
    {
     "name": "stderr",
     "output_type": "stream",
     "text": [
      "100%|██████████| 65/65 [00:10<00:00,  6.05it/s]\n",
      "100%|██████████| 70/70 [00:11<00:00,  6.06it/s]\n",
      "100%|██████████| 73/73 [00:11<00:00,  6.10it/s]\n",
      "100%|██████████| 65/65 [00:11<00:00,  5.45it/s]\n"
     ]
    },
    {
     "name": "stdout",
     "output_type": "stream",
     "text": [
      "Processing image 2292 in test_index = 0 \n",
      "id = b91b056ea84dd263a738a4bbe2e0e20edca221099535b5b529012b5fe22a84c3\n",
      "multi processing\n"
     ]
    },
    {
     "name": "stderr",
     "output_type": "stream",
     "text": [
      "  0%|          | 0/2 [00:00<?, ?it/s]8.11it/s]\n",
      "100%|██████████| 5/5 [00:00<00:00, 129.49it/s]\n",
      "100%|██████████| 9/9 [00:00<00:00, 165.22it/s]\n",
      "100%|██████████| 6/6 [00:00<00:00, 137.85it/s]\n"
     ]
    },
    {
     "name": "stdout",
     "output_type": "stream",
     "text": [
      "Processing image 2293 in test_index = 0 \n",
      "id = a38bbaf5d504950356c666b4e16bcd8c5382a72c16ab0c40d636b97f89a2fc0f\n",
      "multi processing\n"
     ]
    },
    {
     "name": "stderr",
     "output_type": "stream",
     "text": [
      "100%|██████████| 40/40 [00:00<00:00, 64.32it/s]\n",
      "100%|██████████| 45/45 [00:00<00:00, 61.13it/s]\n",
      "100%|██████████| 47/47 [00:00<00:00, 62.97it/s]\n",
      "100%|██████████| 48/48 [00:00<00:00, 61.73it/s]\n"
     ]
    },
    {
     "name": "stdout",
     "output_type": "stream",
     "text": [
      "Processing image 2294 in test_index = 0 \n",
      "id = d4f17986be31779d6276d158a17d26899c9dc4cf73d5fa284935d28f2dab97e5\n",
      "multi processing\n",
      "Processing image 2295 in test_index = 0 \n",
      "id = 082be55df6dd59ef0aee75974521783f173ab7c9578311de549366a7267a27e6\n",
      "multi processing\n"
     ]
    },
    {
     "name": "stderr",
     "output_type": "stream",
     "text": [
      "100%|██████████| 5/5 [00:00<00:00, 130.31it/s]\n",
      "100%|██████████| 4/4 [00:00<00:00, 129.10it/s]\n",
      "100%|██████████| 7/7 [00:00<00:00, 101.40it/s]\n",
      "100%|██████████| 9/9 [00:00<00:00, 97.16it/s]\n"
     ]
    },
    {
     "name": "stdout",
     "output_type": "stream",
     "text": [
      "Processing image 2296 in test_index = 0 \n",
      "id = 5fb9e6fdc613cbc4cfbfad305c766d1f4f2f9f2f0d9330f3628c59ef2e76e5a4\n",
      "multi processing\n"
     ]
    },
    {
     "name": "stderr",
     "output_type": "stream",
     "text": [
      "100%|██████████| 52/52 [00:12<00:00,  4.04it/s]\n",
      "100%|██████████| 64/64 [00:14<00:00,  4.46it/s]\n",
      "100%|██████████| 74/74 [00:20<00:00,  3.61it/s]\n",
      "100%|██████████| 74/74 [00:20<00:00,  3.59it/s]\n"
     ]
    },
    {
     "name": "stdout",
     "output_type": "stream",
     "text": [
      "Processing image 2297 in test_index = 0 \n",
      "id = 50f7066ea51fb5782b81bf48fe4e6925b099354ba478a9040157940ad7247fc4\n",
      "multi processing\n"
     ]
    },
    {
     "name": "stderr",
     "output_type": "stream",
     "text": [
      "100%|██████████| 35/35 [00:00<00:00, 110.06it/s]\n",
      "100%|██████████| 37/37 [00:00<00:00, 102.53it/s]\n",
      "100%|██████████| 35/35 [00:00<00:00, 104.08it/s]\n",
      "100%|██████████| 43/43 [00:00<00:00, 106.64it/s]\n"
     ]
    },
    {
     "name": "stdout",
     "output_type": "stream",
     "text": [
      "Processing image 2298 in test_index = 0 \n",
      "id = 0dc3651561ce29ac8a62b021bd72212a27266b3a4ab2d5c77568db7ca6d19110\n",
      "multi processing\n",
      "Processing image 2299 in test_index = 0 \n",
      "id = b0d6a2c3326da10ab58c00e4e4043edfa0a2e61ba7622db7751b9b402fa08597\n",
      "multi processing\n",
      "Processing image 2300 in test_index = 0 \n",
      "id = 58b58c073bb19d8e1283093d61d122bcb8aa4fa3ea447232785dce4e46236581\n",
      "multi processing\n"
     ]
    },
    {
     "name": "stderr",
     "output_type": "stream",
     "text": [
      "100%|██████████| 108/108 [00:37<00:00,  2.87it/s]\n",
      "100%|██████████| 125/125 [00:46<00:00,  2.72it/s]\n",
      "100%|██████████| 123/123 [00:47<00:00,  2.58it/s]\n",
      "100%|██████████| 137/137 [00:50<00:00,  2.69it/s]\n"
     ]
    },
    {
     "name": "stdout",
     "output_type": "stream",
     "text": [
      "Processing image 2301 in test_index = 0 \n",
      "id = 8284a14a70f7743e39c9e626696504439b4630bcd9a24a5bf570ce8a675d0823\n",
      "multi processing\n"
     ]
    },
    {
     "name": "stderr",
     "output_type": "stream",
     "text": [
      "100%|██████████| 59/59 [00:02<00:00, 24.68it/s]\n",
      "100%|██████████| 60/60 [00:02<00:00, 22.09it/s]\n",
      "100%|██████████| 61/61 [00:02<00:00, 23.73it/s]\n",
      "100%|██████████| 63/63 [00:02<00:00, 23.68it/s]\n"
     ]
    },
    {
     "name": "stdout",
     "output_type": "stream",
     "text": [
      "Processing image 2302 in test_index = 0 \n",
      "id = 8bf56f63d9b4fbb1f3f452f1e07170040a436bbfa1c5b7438c98affda6e7ed6c\n",
      "multi processing\n"
     ]
    },
    {
     "name": "stderr",
     "output_type": "stream",
     "text": [
      "100%|██████████| 22/22 [00:00<00:00, 159.10it/s]\n",
      "100%|██████████| 21/21 [00:00<00:00, 131.16it/s]\n",
      "100%|██████████| 24/24 [00:00<00:00, 137.02it/s]\n",
      "100%|██████████| 27/27 [00:00<00:00, 122.38it/s]\n"
     ]
    },
    {
     "name": "stdout",
     "output_type": "stream",
     "text": [
      "Processing image 2303 in test_index = 0 \n",
      "id = 0efaff15b1c4b35d61b0c5159cd32f05265dfa265c9cc8a280fdb78c1c8fba7b\n",
      "multi processing\n"
     ]
    },
    {
     "name": "stderr",
     "output_type": "stream",
     "text": [
      "100%|██████████| 44/44 [00:09<00:00,  4.85it/s]\n",
      "100%|██████████| 47/47 [00:09<00:00,  4.72it/s]\n",
      "100%|██████████| 53/53 [00:12<00:00,  4.10it/s]\n",
      "100%|██████████| 61/61 [00:15<00:00,  3.82it/s]\n"
     ]
    },
    {
     "name": "stdout",
     "output_type": "stream",
     "text": [
      "Processing image 2304 in test_index = 0 \n",
      "id = 2ee5dbc788adf5fe978f67dff21c8efb9dbf78dbdac69a188e192c56bce07fd0\n",
      "multi processing\n"
     ]
    },
    {
     "name": "stderr",
     "output_type": "stream",
     "text": [
      "100%|██████████| 1/1 [00:00<00:00, 2755.78it/s]\n",
      "100%|██████████| 4/4 [00:00<00:00, 255.02it/s]\n",
      "100%|██████████| 2/2 [00:00<00:00, 243.25it/s]\n",
      "100%|██████████| 3/3 [00:00<00:00, 216.89it/s]\n"
     ]
    },
    {
     "name": "stdout",
     "output_type": "stream",
     "text": [
      "Processing image 2305 in test_index = 0 \n",
      "id = bdc53e999d457e997205b9dac9c1aec881b68d760622cba42e461fda812c78ea\n",
      "multi processing\n"
     ]
    },
    {
     "name": "stderr",
     "output_type": "stream",
     "text": [
      "100%|██████████| 238/238 [02:46<00:00,  1.43it/s]\n",
      "100%|██████████| 246/246 [02:56<00:00,  1.39it/s]\n",
      "100%|██████████| 256/256 [03:01<00:00,  1.41it/s]\n",
      "100%|██████████| 256/256 [02:59<00:00,  1.43it/s]\n"
     ]
    },
    {
     "name": "stdout",
     "output_type": "stream",
     "text": [
      "Processing image 2306 in test_index = 0 \n",
      "id = 3ac85f6d92e3422acbe0486659d3e6757217daed5f7b3a1c1e83c2bb2f4e47b8\n",
      "multi processing\n"
     ]
    },
    {
     "name": "stderr",
     "output_type": "stream",
     "text": [
      "100%|██████████| 3/3 [00:00<00:00, 331.52it/s]\n",
      "100%|██████████| 3/3 [00:00<00:00, 383.54it/s]\n",
      "100%|██████████| 3/3 [00:00<00:00, 385.59it/s]\n",
      "100%|██████████| 3/3 [00:00<00:00, 392.85it/s]\n"
     ]
    },
    {
     "name": "stdout",
     "output_type": "stream",
     "text": [
      "Processing image 2307 in test_index = 0 \n",
      "id = 480f7d1039b0ed6e2b224fe3bbf76dc2613aaf946257ec0ffc1f992f1a8adcaf\n",
      "multi processing\n"
     ]
    },
    {
     "name": "stderr",
     "output_type": "stream",
     "text": [
      "100%|██████████| 12/12 [00:00<00:00, 137.18it/s]\n",
      "100%|██████████| 13/13 [00:00<00:00, 140.68it/s]\n",
      "100%|██████████| 10/10 [00:00<00:00, 148.45it/s]\n",
      "100%|██████████| 12/12 [00:00<00:00, 126.34it/s]\n"
     ]
    },
    {
     "name": "stdout",
     "output_type": "stream",
     "text": [
      "Processing image 2308 in test_index = 0 \n",
      "id = 4e9a80f3940e14a2a60e36abc169269731bf76de0c6bf3fa079ff2cb5b9cf2eb\n",
      "multi processing\n"
     ]
    },
    {
     "name": "stderr",
     "output_type": "stream",
     "text": [
      "100%|██████████| 55/55 [00:00<00:00, 94.42it/s]\n",
      "100%|██████████| 54/54 [00:00<00:00, 99.01it/s]\n",
      "100%|██████████| 55/55 [00:00<00:00, 78.59it/s]\n",
      "100%|██████████| 83/83 [00:01<00:00, 63.94it/s]\n"
     ]
    },
    {
     "name": "stdout",
     "output_type": "stream",
     "text": [
      "Processing image 2309 in test_index = 0 \n",
      "id = 6f4a97442f9f1291f7121defb3efecc2d33806818162ac1dd8356a2ec94ebeff\n",
      "multi processing\n",
      "Processing image 2310 in test_index = 0 \n",
      "id = 6f68f57cb9d194ffa36341b91363dfde58a7db90644231d84b90a6953cdc107b\n",
      "multi processing\n"
     ]
    },
    {
     "name": "stderr",
     "output_type": "stream",
     "text": [
      "100%|██████████| 16/16 [00:00<00:00, 289.42it/s]\n",
      "100%|██████████| 13/13 [00:00<00:00, 377.55it/s]\n",
      "100%|██████████| 15/15 [00:00<00:00, 316.75it/s]\n",
      "100%|██████████| 18/18 [00:00<00:00, 287.92it/s]\n"
     ]
    },
    {
     "name": "stdout",
     "output_type": "stream",
     "text": [
      "Processing image 2311 in test_index = 0 \n",
      "id = 77e24bcd94d5625c4ec103b8ca43e266a82e7baf114c8d9d42de390ff1639993\n",
      "multi processing\n"
     ]
    },
    {
     "name": "stderr",
     "output_type": "stream",
     "text": [
      "100%|██████████| 54/54 [00:06<00:00,  8.80it/s]\n",
      "100%|██████████| 55/55 [00:06<00:00,  8.20it/s]\n",
      "100%|██████████| 56/56 [00:06<00:00,  8.57it/s]\n",
      "100%|██████████| 60/60 [00:07<00:00,  8.21it/s]\n"
     ]
    },
    {
     "name": "stdout",
     "output_type": "stream",
     "text": [
      "Processing image 2312 in test_index = 0 \n",
      "id = 2873987398c64d9856b8969ece75b34f4c258de70a20da503db140b408432f92\n",
      "multi processing\n"
     ]
    },
    {
     "name": "stderr",
     "output_type": "stream",
     "text": [
      "100%|██████████| 5/5 [00:00<00:00, 72.77it/s]\n",
      "100%|██████████| 4/4 [00:00<00:00, 117.96it/s]\n",
      "100%|██████████| 6/6 [00:00<00:00, 88.88it/s]\n",
      "100%|██████████| 8/8 [00:00<00:00, 68.12it/s]\n"
     ]
    },
    {
     "name": "stdout",
     "output_type": "stream",
     "text": [
      "Processing image 2313 in test_index = 0 \n",
      "id = eaaa2e8fb7d7c91e0dc4a0d69b29edff24b16375750adc1deed11422538cf851\n",
      "multi processing\n",
      "Processing image 2314 in test_index = 0 \n",
      "id = 4c8967a527780195f7af9beb9258d3550a0de6ee8c27816dd6567cadad008b1b\n",
      "multi processing\n"
     ]
    },
    {
     "name": "stderr",
     "output_type": "stream",
     "text": [
      "100%|██████████| 29/29 [00:00<00:00, 108.91it/s]\n",
      "100%|██████████| 32/32 [00:00<00:00, 109.47it/s]\n",
      "100%|██████████| 56/56 [00:00<00:00, 71.58it/s]\n",
      "100%|██████████| 53/53 [00:00<00:00, 68.26it/s]\n"
     ]
    },
    {
     "name": "stdout",
     "output_type": "stream",
     "text": [
      "Processing image 2315 in test_index = 0 \n",
      "id = 4d2ab894eeef95d18aad2e3d686831b2d30b5b98037f3dc67967c45cc55674ba\n",
      "multi processing\n"
     ]
    },
    {
     "name": "stderr",
     "output_type": "stream",
     "text": [
      "100%|██████████| 4/4 [00:00<00:00, 154.40it/s]\n",
      "100%|██████████| 6/6 [00:00<00:00, 168.45it/s]\n",
      "100%|██████████| 5/5 [00:00<00:00, 152.47it/s]\n",
      "100%|██████████| 6/6 [00:00<00:00, 174.20it/s]\n"
     ]
    },
    {
     "name": "stdout",
     "output_type": "stream",
     "text": [
      "Processing image 2316 in test_index = 0 \n",
      "id = 0aa80c97331a51eab952724ae16840d2d36632d0dd7e578afe707743a4854332\n",
      "multi processing\n"
     ]
    },
    {
     "name": "stderr",
     "output_type": "stream",
     "text": [
      "100%|██████████| 4/4 [00:00<00:00, 220.94it/s]\n",
      "100%|██████████| 8/8 [00:00<00:00, 264.55it/s]\n",
      "100%|██████████| 6/6 [00:00<00:00, 246.40it/s]\n",
      "100%|██████████| 8/8 [00:00<00:00, 239.01it/s]\n"
     ]
    },
    {
     "name": "stdout",
     "output_type": "stream",
     "text": [
      "Processing image 2317 in test_index = 0 \n",
      "id = c43e356beedae15fec60ae3f8b06ea8e9036081951deb7e44f481b15b3acfc37\n",
      "multi processing\n"
     ]
    },
    {
     "name": "stderr",
     "output_type": "stream",
     "text": [
      "100%|██████████| 2/2 [00:00<00:00, 212.20it/s]\n",
      "100%|██████████| 6/6 [00:00<00:00, 33.96it/s]\n",
      "100%|██████████| 15/15 [00:01<00:00, 12.85it/s]\n",
      "100%|██████████| 17/17 [00:01<00:00, 10.57it/s]\n"
     ]
    },
    {
     "name": "stdout",
     "output_type": "stream",
     "text": [
      "Processing image 2318 in test_index = 0 \n",
      "id = 69867347af5f6cf78a2a6f1f72e890992c4024169a53e07b499ee5e1098ec492\n",
      "multi processing\n"
     ]
    },
    {
     "name": "stderr",
     "output_type": "stream",
     "text": [
      "100%|██████████| 36/36 [00:00<00:00, 144.42it/s]\n",
      "100%|██████████| 37/37 [00:00<00:00, 135.76it/s]\n",
      "100%|██████████| 37/37 [00:00<00:00, 142.42it/s]\n",
      "100%|██████████| 38/38 [00:00<00:00, 148.35it/s]\n"
     ]
    },
    {
     "name": "stdout",
     "output_type": "stream",
     "text": [
      "Processing image 2319 in test_index = 0 \n",
      "id = beee9cf93c88f1c4f892460101b6d64931ec64c2a72d91aad8c8c1306115bbbc\n",
      "multi processing\n"
     ]
    },
    {
     "name": "stderr",
     "output_type": "stream",
     "text": [
      "100%|██████████| 149/149 [00:07<00:00, 18.96it/s]\n",
      "100%|██████████| 144/144 [00:08<00:00, 17.89it/s]\n",
      "100%|██████████| 170/170 [00:09<00:00, 17.94it/s]\n",
      "100%|██████████| 161/161 [00:09<00:00, 16.92it/s]\n"
     ]
    },
    {
     "name": "stdout",
     "output_type": "stream",
     "text": [
      "Processing image 2320 in test_index = 0 \n",
      "id = c2cef17dddcb0a888cdbcfa401d3ad562fae1c6eff12fa1e1d446a738438c400\n",
      "multi processing\n",
      "Processing image 2321 in test_index = 0 \n",
      "id = 9491979ae6f6da4f437b04a0667af04c36ce952f0561e75ff91316a5fbedb10a\n",
      "multi processing\n"
     ]
    },
    {
     "name": "stderr",
     "output_type": "stream",
     "text": [
      "100%|██████████| 5/5 [00:00<00:00, 224.02it/s]\n",
      "100%|██████████| 6/6 [00:00<00:00, 218.11it/s]\n",
      "100%|██████████| 8/8 [00:00<00:00, 200.46it/s]\n",
      "100%|██████████| 6/6 [00:00<00:00, 209.71it/s]\n"
     ]
    },
    {
     "name": "stdout",
     "output_type": "stream",
     "text": [
      "Processing image 2322 in test_index = 0 \n",
      "id = 38685a2bc2bf8da4424c2e23f04260b078febafc3e15a53aa54b0bebb93e1de7\n",
      "multi processing\n"
     ]
    },
    {
     "name": "stderr",
     "output_type": "stream",
     "text": [
      "100%|██████████| 66/66 [00:01<00:00, 64.60it/s]\n",
      "100%|██████████| 63/63 [00:01<00:00, 54.96it/s]\n",
      "100%|██████████| 80/80 [00:01<00:00, 52.53it/s]\n",
      "100%|██████████| 77/77 [00:01<00:00, 49.03it/s]\n"
     ]
    },
    {
     "name": "stdout",
     "output_type": "stream",
     "text": [
      "Processing image 2323 in test_index = 0 \n",
      "id = 44c7e5bdbc5d31831ba2708f4bccaa0249603f05be37c0781e1b3466bcef378b\n",
      "multi processing\n"
     ]
    },
    {
     "name": "stderr",
     "output_type": "stream",
     "text": [
      "100%|██████████| 72/72 [00:11<00:00,  6.33it/s]\n",
      "100%|██████████| 74/74 [00:12<00:00,  5.97it/s]\n",
      "100%|██████████| 91/91 [00:16<00:00,  5.47it/s]\n",
      "100%|██████████| 96/96 [00:18<00:00,  5.27it/s]\n"
     ]
    },
    {
     "name": "stdout",
     "output_type": "stream",
     "text": [
      "Processing image 2324 in test_index = 0 \n",
      "id = 2ed84f63ef4cda2912991335444836beae6c438c98b52eacf0f7a72bc1d51836\n",
      "multi processing\n"
     ]
    },
    {
     "name": "stderr",
     "output_type": "stream",
     "text": [
      "100%|██████████| 2/2 [00:00<00:00, 409.54it/s]\n",
      "100%|██████████| 2/2 [00:00<00:00, 464.67it/s]\n",
      "100%|██████████| 3/3 [00:00<00:00, 133.47it/s]\n"
     ]
    },
    {
     "name": "stdout",
     "output_type": "stream",
     "text": [
      "Processing image 2325 in test_index = 0 \n",
      "id = 4884a0530fc87d8eddf7b4e3ebd77da2cec96ce9a156747e0e7d4db1cbb5058a\n",
      "multi processing\n"
     ]
    },
    {
     "name": "stderr",
     "output_type": "stream",
     "text": [
      "100%|██████████| 19/19 [00:00<00:00, 222.46it/s]\n",
      "100%|██████████| 22/22 [00:00<00:00, 210.14it/s]\n",
      "100%|██████████| 24/24 [00:00<00:00, 201.90it/s]\n",
      "100%|██████████| 34/34 [00:00<00:00, 159.37it/s]\n"
     ]
    },
    {
     "name": "stdout",
     "output_type": "stream",
     "text": [
      "Processing image 2326 in test_index = 0 \n",
      "id = 592c9ca8c1a93cfdd0ee563f30f6613c5db30c72c636eaac2db1f5301845f287\n",
      "multi processing\n"
     ]
    },
    {
     "name": "stderr",
     "output_type": "stream",
     "text": [
      "100%|██████████| 23/23 [00:00<00:00, 184.35it/s]\n",
      "100%|██████████| 21/21 [00:00<00:00, 178.96it/s]\n",
      "100%|██████████| 32/32 [00:00<00:00, 164.28it/s]\n",
      "100%|██████████| 37/37 [00:00<00:00, 146.98it/s]\n"
     ]
    },
    {
     "name": "stdout",
     "output_type": "stream",
     "text": [
      "Processing image 2327 in test_index = 0 \n",
      "id = 10e6276dc07da2aa9b8536034185dcfe8dcb36081227ffb65e53bbbf285a3da0\n",
      "multi processing\n"
     ]
    },
    {
     "name": "stderr",
     "output_type": "stream",
     "text": [
      "100%|██████████| 3/3 [00:00<00:00, 451.68it/s]\n",
      "100%|██████████| 2/2 [00:00<00:00, 261.20it/s]\n",
      "100%|██████████| 5/5 [00:00<00:00, 291.43it/s]\n",
      "100%|██████████| 2/2 [00:00<00:00, 211.14it/s]\n"
     ]
    },
    {
     "name": "stdout",
     "output_type": "stream",
     "text": [
      "Processing image 2328 in test_index = 0 \n",
      "id = 7c1e31e0add89a0acc5a770c07566f1432f531c8b8bd5855a9c342ae723c1324\n",
      "multi processing\n"
     ]
    },
    {
     "name": "stderr",
     "output_type": "stream",
     "text": [
      "100%|██████████| 34/34 [00:00<00:00, 138.39it/s]\n",
      "100%|██████████| 46/46 [00:00<00:00, 113.42it/s]\n",
      "100%|██████████| 50/50 [00:00<00:00, 102.18it/s]\n",
      "100%|██████████| 53/53 [00:00<00:00, 102.19it/s]\n"
     ]
    },
    {
     "name": "stdout",
     "output_type": "stream",
     "text": [
      "Processing image 2329 in test_index = 0 \n",
      "id = ce6c418ee1a5a0930f76216a9e113c068e210a65fb35ffc71cebd95502b1936c\n",
      "multi processing\n"
     ]
    },
    {
     "name": "stderr",
     "output_type": "stream",
     "text": [
      "100%|██████████| 8/8 [00:00<00:00, 374.99it/s]\n",
      "100%|██████████| 13/13 [00:00<00:00, 336.26it/s]\n",
      "100%|██████████| 16/16 [00:00<00:00, 313.00it/s]\n",
      "100%|██████████| 14/14 [00:00<00:00, 318.11it/s]\n"
     ]
    },
    {
     "name": "stdout",
     "output_type": "stream",
     "text": [
      "Processing image 2330 in test_index = 0 \n",
      "id = c009d4e74beafe4e55854a342cffa33c6015deb97b38be22f410e59b57636805\n",
      "multi processing\n"
     ]
    },
    {
     "name": "stderr",
     "output_type": "stream",
     "text": [
      "100%|██████████| 40/40 [00:00<00:00, 125.65it/s]\n",
      "100%|██████████| 46/46 [00:00<00:00, 96.51it/s]\n",
      "100%|██████████| 45/45 [00:00<00:00, 96.63it/s]\n",
      "100%|██████████| 50/50 [00:00<00:00, 113.12it/s]\n"
     ]
    },
    {
     "name": "stdout",
     "output_type": "stream",
     "text": [
      "Processing image 2331 in test_index = 0 \n",
      "id = 0401b552f739d51b556e9f2f85cdd52191f957d8b453ea3d2e61b32ef1624490\n",
      "multi processing\n"
     ]
    },
    {
     "name": "stderr",
     "output_type": "stream",
     "text": [
      "100%|██████████| 1/1 [00:00<00:00, 3120.76it/s]\n",
      "100%|██████████| 1/1 [00:00<00:00, 2566.89it/s]\n",
      "100%|██████████| 1/1 [00:00<00:00, 347.15it/s]\n",
      "100%|██████████| 1/1 [00:00<00:00, 263.38it/s]\n"
     ]
    },
    {
     "name": "stdout",
     "output_type": "stream",
     "text": [
      "Processing image 2332 in test_index = 0 \n",
      "id = 9d447b1878d373e6cbf8c92bc540e222245a51224a4b6e633040ef3248ad4ce6\n",
      "multi processing\n"
     ]
    },
    {
     "name": "stderr",
     "output_type": "stream",
     "text": [
      "100%|██████████| 27/27 [00:00<00:00, 203.69it/s]\n",
      "100%|██████████| 28/28 [00:00<00:00, 178.36it/s]\n",
      "100%|██████████| 34/34 [00:00<00:00, 169.24it/s]\n",
      "100%|██████████| 31/31 [00:00<00:00, 162.28it/s]\n"
     ]
    },
    {
     "name": "stdout",
     "output_type": "stream",
     "text": [
      "Processing image 2333 in test_index = 0 \n",
      "id = eff7a4cae03ff01b7051b9a49e3b0d4c7c3d20f977b509f36e718b0322dbd7d1\n",
      "multi processing\n",
      "Processing image 2334 in test_index = 0 \n",
      "id = 9422ea9f919f385a346474d3262fbd77ab7ede5e0cc2325d481ab5cc0c884c52\n",
      "multi processing\n"
     ]
    },
    {
     "name": "stderr",
     "output_type": "stream",
     "text": [
      "100%|██████████| 1/1 [00:00<00:00, 2757.60it/s]\n",
      "100%|██████████| 2/2 [00:00<00:00, 71.87it/s]\n",
      "100%|██████████| 4/4 [00:00<00:00, 83.88it/s]\n"
     ]
    },
    {
     "name": "stdout",
     "output_type": "stream",
     "text": [
      "Processing image 2335 in test_index = 0 \n",
      "id = 19699898bd07e3d27804bc52fea46d67a8d4c63ec75b5693910482855285fa90\n",
      "multi processing\n"
     ]
    },
    {
     "name": "stderr",
     "output_type": "stream",
     "text": [
      "100%|██████████| 92/92 [00:01<00:00, 55.13it/s]]\n",
      " 46%|████▌     | 47/102 [00:01<00:02, 25.09it/s]\n",
      "100%|██████████| 96/96 [00:01<00:00, 49.10it/s]]\n",
      "100%|██████████| 102/102 [00:02<00:00, 49.34it/s]\n"
     ]
    },
    {
     "name": "stdout",
     "output_type": "stream",
     "text": [
      "Processing image 2336 in test_index = 0 \n",
      "id = 4c9f76aa783818aa1c3506820b995391afb06a36fd034de44311364e6e161bc0\n",
      "multi processing\n"
     ]
    },
    {
     "name": "stderr",
     "output_type": "stream",
     "text": [
      "100%|██████████| 59/59 [00:01<00:00, 39.00it/s]\n",
      "100%|██████████| 68/68 [00:01<00:00, 37.14it/s]\n",
      "100%|██████████| 63/63 [00:01<00:00, 34.93it/s]\n",
      "100%|██████████| 68/68 [00:01<00:00, 36.02it/s]\n"
     ]
    },
    {
     "name": "stdout",
     "output_type": "stream",
     "text": [
      "Processing image 2337 in test_index = 0 \n",
      "id = 41019b2f7adaa6d1ca4977485b558aeb90e8eda0990bfedf24696a0897671ce3\n",
      "multi processing\n"
     ]
    },
    {
     "name": "stderr",
     "output_type": "stream",
     "text": [
      "100%|██████████| 3/3 [00:00<00:00, 71.98it/s]\n",
      "100%|██████████| 6/6 [00:00<00:00, 87.41it/s]\n",
      "100%|██████████| 9/9 [00:00<00:00, 73.90it/s]\n",
      "100%|██████████| 9/9 [00:00<00:00, 85.18it/s]\n"
     ]
    },
    {
     "name": "stdout",
     "output_type": "stream",
     "text": [
      "Processing image 2338 in test_index = 0 \n",
      "id = 72a194f77c3ca945c45c1c9ec036027f6b725748b6a6607245317bad6412b471\n",
      "multi processing\n"
     ]
    },
    {
     "name": "stderr",
     "output_type": "stream",
     "text": [
      "100%|██████████| 6/6 [00:00<00:00, 79.95it/s]]\n",
      "100%|██████████| 12/12 [00:00<00:00, 47.87it/s]\n",
      "100%|██████████| 13/13 [00:00<00:00, 44.83it/s]\n",
      "100%|██████████| 12/12 [00:00<00:00, 41.54it/s]\n"
     ]
    },
    {
     "name": "stdout",
     "output_type": "stream",
     "text": [
      "Processing image 2339 in test_index = 0 \n",
      "id = f0d5769283462da45f61d546325fdd1d4034daaf1dff59c4a2312cb846821bec\n",
      "multi processing\n",
      "Processing image 2340 in test_index = 0 \n",
      "id = cf68b85a9954e83bd1c195d1c0223dc5a326918170de9451a2bcd5846cff2930\n",
      "multi processing\n"
     ]
    },
    {
     "name": "stderr",
     "output_type": "stream",
     "text": [
      "100%|██████████| 60/60 [00:08<00:00,  7.40it/s]\n",
      "100%|██████████| 61/61 [00:08<00:00,  7.19it/s]\n",
      "100%|██████████| 62/62 [00:09<00:00,  6.53it/s]\n",
      "100%|██████████| 65/65 [00:09<00:00,  6.60it/s]\n"
     ]
    },
    {
     "name": "stdout",
     "output_type": "stream",
     "text": [
      "Processing image 2341 in test_index = 0 \n",
      "id = 552287c0b6a89b2102cb12956aed897b84efa26cc01134dc7faf40dc096304cd\n",
      "multi processing\n",
      "Processing image 2342 in test_index = 0 \n",
      "id = 7be5bb61c8187ae30c064ac8f6f473dde763c986a6705f138479a4b51e8ccf39\n",
      "multi processing\n"
     ]
    },
    {
     "name": "stderr",
     "output_type": "stream",
     "text": [
      "100%|██████████| 97/97 [00:16<00:00,  5.87it/s]]\n",
      "100%|██████████| 101/101 [00:16<00:00,  6.16it/s]\n",
      "100%|██████████| 100/100 [00:17<00:00,  5.67it/s]\n",
      "100%|██████████| 109/109 [00:18<00:00,  5.97it/s]\n"
     ]
    },
    {
     "name": "stdout",
     "output_type": "stream",
     "text": [
      "Processing image 2343 in test_index = 0 \n",
      "id = 1a17f38cffebdaa6d78fa900d5d6f7cc73ea8ec8bdd1f4fe46e7194ba817828b\n",
      "multi processing\n"
     ]
    },
    {
     "name": "stderr",
     "output_type": "stream",
     "text": [
      "100%|██████████| 63/63 [00:11<00:00,  5.70it/s]\n",
      "100%|██████████| 67/67 [00:11<00:00,  5.79it/s]\n",
      "100%|██████████| 73/73 [00:14<00:00,  4.98it/s]\n",
      "100%|██████████| 77/77 [00:14<00:00,  5.36it/s]\n"
     ]
    },
    {
     "name": "stdout",
     "output_type": "stream",
     "text": [
      "Processing image 2344 in test_index = 0 \n",
      "id = c99648034eb174f950679710917438d7cf571f1c96986e5d0e2cf3e1b1dc6347\n",
      "multi processing\n"
     ]
    },
    {
     "name": "stderr",
     "output_type": "stream",
     "text": [
      "100%|██████████| 2/2 [00:00<00:00, 152.86it/s]\n",
      "100%|██████████| 3/3 [00:00<00:00, 150.01it/s]\n"
     ]
    },
    {
     "name": "stdout",
     "output_type": "stream",
     "text": [
      "Processing image 2345 in test_index = 0 \n",
      "id = 36741e2bdd7037c859a6031337defd58c87837aa7e8b3b39929155c47adc9740\n",
      "multi processing\n",
      "Processing image 2346 in test_index = 0 \n",
      "id = 83ce757f9f44a28f1378969bd4ab033e09efbba051add66bb81ce0afc2526730\n",
      "multi processing\n"
     ]
    },
    {
     "name": "stderr",
     "output_type": "stream",
     "text": [
      "100%|██████████| 56/56 [00:00<00:00, 71.32it/s]\n",
      "100%|██████████| 62/62 [00:00<00:00, 71.06it/s]\n",
      "100%|██████████| 66/66 [00:00<00:00, 67.65it/s]\n",
      "100%|██████████| 62/62 [00:01<00:00, 59.58it/s]\n"
     ]
    },
    {
     "name": "stdout",
     "output_type": "stream",
     "text": [
      "Processing image 2347 in test_index = 0 \n",
      "id = 0fd3ed3fcef2451fa5b087beacebd6d29213464bd5db16d7c9c06be55e704a85\n",
      "multi processing\n",
      "Processing image 2348 in test_index = 0 \n",
      "id = 7e315ae81476392380ecd5fdb184b4de502d6c10c4999ece2208db9e94d93745\n",
      "multi processing\n",
      "Processing image 2349 in test_index = 0 \n",
      "id = a464029e9a8f651bcb2762f91d94076e9616663acb9abd63a1d68052b558b2f4\n",
      "multi processing\n"
     ]
    },
    {
     "name": "stderr",
     "output_type": "stream",
     "text": [
      "100%|██████████| 1/1 [00:00<00:00, 3287.07it/s]\n",
      "100%|██████████| 2/2 [00:00<00:00, 159.09it/s]\n",
      "100%|██████████| 3/3 [00:00<00:00, 146.15it/s]\n",
      "100%|██████████| 7/7 [00:00<00:00, 183.39it/s]\n"
     ]
    },
    {
     "name": "stdout",
     "output_type": "stream",
     "text": [
      "Processing image 2350 in test_index = 0 \n",
      "id = 47e9b4d19791ad074a26e613a923843b9c3db2d865b46f0f7306734136206671\n",
      "multi processing\n"
     ]
    },
    {
     "name": "stderr",
     "output_type": "stream",
     "text": [
      "100%|██████████| 32/32 [00:00<00:00, 108.56it/s]\n",
      "100%|██████████| 38/38 [00:00<00:00, 99.05it/s]\n",
      "100%|██████████| 39/39 [00:00<00:00, 97.50it/s]\n",
      "100%|██████████| 42/42 [00:00<00:00, 94.37it/s]\n"
     ]
    },
    {
     "name": "stdout",
     "output_type": "stream",
     "text": [
      "Processing image 2351 in test_index = 0 \n",
      "id = 17e28d72c5c189b23adf7ebf0588d96ee07dbab7cd2c9c7aaec426bb9e2b75a4\n",
      "multi processing\n"
     ]
    },
    {
     "name": "stderr",
     "output_type": "stream",
     "text": [
      "100%|██████████| 76/76 [00:01<00:00, 69.80it/s]\n",
      "100%|██████████| 77/77 [00:01<00:00, 63.82it/s]\n",
      "100%|██████████| 67/67 [00:01<00:00, 54.97it/s]\n",
      "100%|██████████| 78/78 [00:01<00:00, 57.32it/s]\n"
     ]
    },
    {
     "name": "stdout",
     "output_type": "stream",
     "text": [
      "Processing image 2352 in test_index = 0 \n",
      "id = 704da9fb62437bcd8f83a8d9a37fc80e00b5694c6e537bad15ab8fe000c19521\n",
      "multi processing\n",
      "Processing image 2353 in test_index = 0 \n",
      "id = dba7760d53683494ad32abc85157a31df86c708ccf9027b2161a846a6e3e9c52\n",
      "multi processing\n",
      "Processing image 2354 in test_index = 0 \n",
      "id = 290345929d1e645c4667fd413f7832c3491c7388ca9a9c1f503aeb431ef44149\n",
      "multi processing\n"
     ]
    },
    {
     "name": "stderr",
     "output_type": "stream",
     "text": [
      "100%|██████████| 26/26 [00:00<00:00, 105.03it/s]\n",
      "100%|██████████| 35/35 [00:00<00:00, 104.67it/s]\n",
      "100%|██████████| 36/36 [00:00<00:00, 88.86it/s]\n",
      "100%|██████████| 41/41 [00:00<00:00, 91.57it/s]\n"
     ]
    },
    {
     "name": "stdout",
     "output_type": "stream",
     "text": [
      "Processing image 2355 in test_index = 0 \n",
      "id = 6be28aaea8e212b7cbcb5ead6414fdc04f20c368713de263dc3ea43a4bea5d99\n",
      "multi processing\n"
     ]
    },
    {
     "name": "stderr",
     "output_type": "stream",
     "text": [
      "100%|██████████| 128/128 [00:48<00:00,  2.65it/s]\n",
      "100%|██████████| 130/130 [00:52<00:00,  2.49it/s]\n",
      "100%|██████████| 131/131 [00:53<00:00,  2.47it/s]\n",
      "100%|██████████| 133/133 [00:54<00:00,  2.44it/s]\n"
     ]
    },
    {
     "name": "stdout",
     "output_type": "stream",
     "text": [
      "Processing image 2356 in test_index = 0 \n",
      "id = 123d63414072a0a8ad5beaa3693d10b0924b1483d950b88eb81459fb1d8d4ed6\n",
      "multi processing\n",
      "Processing image 2357 in test_index = 0 \n",
      "id = 766b55da400e63348165c09a6611fa95b8f0290281ff65e735fa729bb66404bb\n",
      "multi processing\n"
     ]
    },
    {
     "name": "stderr",
     "output_type": "stream",
     "text": [
      "100%|██████████| 71/71 [00:01<00:00, 64.60it/s]\n",
      "100%|██████████| 78/78 [00:01<00:00, 68.13it/s]\n",
      "100%|██████████| 79/79 [00:01<00:00, 64.80it/s]\n",
      "100%|██████████| 84/84 [00:01<00:00, 61.27it/s]\n"
     ]
    },
    {
     "name": "stdout",
     "output_type": "stream",
     "text": [
      "Processing image 2358 in test_index = 0 \n",
      "id = 178368bc9e0aa9682616c1fb8c0d138e82d1dc73e9a6a2f925faaf7aec34bc95\n",
      "multi processing\n"
     ]
    },
    {
     "name": "stderr",
     "output_type": "stream",
     "text": [
      "100%|██████████| 18/18 [00:00<00:00, 26.97it/s]\n",
      "100%|██████████| 19/19 [00:00<00:00, 19.61it/s]\n",
      "100%|██████████| 24/24 [00:01<00:00, 17.70it/s]\n",
      "100%|██████████| 29/29 [00:01<00:00, 17.15it/s]\n"
     ]
    },
    {
     "name": "stdout",
     "output_type": "stream",
     "text": [
      "Processing image 2359 in test_index = 0 \n",
      "id = b0d3b3970d9c417444dffef6e3169c271592f8a6b14ff41bb1cfb69bd811edf3\n",
      "multi processing\n"
     ]
    },
    {
     "name": "stderr",
     "output_type": "stream",
     "text": [
      "100%|██████████| 1/1 [00:00<00:00, 1454.84it/s]\n",
      "100%|██████████| 3/3 [00:00<00:00, 140.62it/s]\n",
      "100%|██████████| 6/6 [00:00<00:00, 193.36it/s]\n"
     ]
    },
    {
     "name": "stdout",
     "output_type": "stream",
     "text": [
      "Processing image 2360 in test_index = 0 \n",
      "id = 968f6d94f528e2dabcdbeea0c0f2a49f35adce016b9f9bbeca5211a8a561ff38\n",
      "multi processing\n"
     ]
    },
    {
     "name": "stderr",
     "output_type": "stream",
     "text": [
      "100%|██████████| 44/44 [00:03<00:00, 11.09it/s]\n",
      "100%|██████████| 45/45 [00:04<00:00,  9.76it/s]\n",
      "100%|██████████| 50/50 [00:05<00:00,  9.67it/s]\n",
      "100%|██████████| 57/57 [00:06<00:00,  9.40it/s]\n"
     ]
    },
    {
     "name": "stdout",
     "output_type": "stream",
     "text": [
      "Processing image 2361 in test_index = 0 \n",
      "id = 124a8d369d0ce7706c5fb07d95c8c8c38b2d39126e07c994b488a1e43b02dc1c\n",
      "multi processing\n"
     ]
    },
    {
     "name": "stderr",
     "output_type": "stream",
     "text": [
      "100%|██████████| 2/2 [00:00<00:00, 70.53it/s]\n",
      "100%|██████████| 5/5 [00:00<00:00, 83.26it/s]\n",
      "100%|██████████| 4/4 [00:00<00:00, 116.64it/s]\n",
      "100%|██████████| 7/7 [00:00<00:00, 75.94it/s]\n"
     ]
    },
    {
     "name": "stdout",
     "output_type": "stream",
     "text": [
      "Processing image 2362 in test_index = 0 \n",
      "id = 95c3f98f6a60b55600e69fb03482eac16c6bc580672ab16a5be9f4c0b6bdd2a6\n",
      "multi processing\n"
     ]
    },
    {
     "name": "stderr",
     "output_type": "stream",
     "text": [
      "100%|██████████| 75/75 [00:01<00:00, 61.27it/s]\n",
      "100%|██████████| 80/80 [00:01<00:00, 55.87it/s]\n",
      "100%|██████████| 84/84 [00:01<00:00, 53.99it/s]\n",
      "100%|██████████| 90/90 [00:01<00:00, 51.55it/s]\n"
     ]
    },
    {
     "name": "stdout",
     "output_type": "stream",
     "text": [
      "Processing image 2363 in test_index = 0 \n",
      "id = fb8b51e0962520fbee072a722a0ecea80df565656ea2065f4043a42ad960cc5a\n",
      "multi processing\n",
      "Processing image 2364 in test_index = 0 \n",
      "id = 232b87a391ebb8ad19b0e755aa21267f08cc48df6ed2cc7aebb163ae4cd67909\n",
      "multi processing\n"
     ]
    },
    {
     "name": "stderr",
     "output_type": "stream",
     "text": [
      "100%|██████████| 35/35 [00:07<00:00,  4.67it/s]\n",
      "100%|██████████| 34/34 [00:09<00:00,  3.64it/s]\n",
      "100%|██████████| 44/44 [00:13<00:00,  3.29it/s]\n",
      "100%|██████████| 46/46 [00:15<00:00,  3.02it/s]\n"
     ]
    },
    {
     "name": "stdout",
     "output_type": "stream",
     "text": [
      "Processing image 2365 in test_index = 0 \n",
      "id = b907d5297e9b536bd97ba5e60060e36e17cf5164bca8896aa986a81f86079e79\n",
      "multi processing\n"
     ]
    },
    {
     "name": "stderr",
     "output_type": "stream",
     "text": [
      "100%|██████████| 61/61 [00:01<00:00, 47.08it/s]\n",
      "100%|██████████| 61/61 [00:01<00:00, 44.25it/s]\n",
      "100%|██████████| 63/63 [00:01<00:00, 42.08it/s]\n",
      "100%|██████████| 68/68 [00:01<00:00, 42.48it/s]\n"
     ]
    },
    {
     "name": "stdout",
     "output_type": "stream",
     "text": [
      "Processing image 2366 in test_index = 0 \n",
      "id = 394bf36382978f7557f912e61147667361d5e1594dbdc9041bae49976c44a940\n",
      "multi processing\n",
      "Processing image 2367 in test_index = 0 \n",
      "id = dd925a58fe032435072c3ada7f8dd18abd3cd2c0377da66a780aec1324894513\n",
      "multi processing\n"
     ]
    },
    {
     "name": "stderr",
     "output_type": "stream",
     "text": [
      "100%|██████████| 44/44 [00:00<00:00, 71.87it/s]\n",
      "100%|██████████| 48/48 [00:00<00:00, 61.32it/s]\n",
      "100%|██████████| 59/59 [00:00<00:00, 60.95it/s]\n",
      "100%|██████████| 63/63 [00:01<00:00, 55.05it/s]\n"
     ]
    },
    {
     "name": "stdout",
     "output_type": "stream",
     "text": [
      "Processing image 2368 in test_index = 0 \n",
      "id = 58e7b38b949f9c7f71feb8d27fb7313318b96d1461188b1d6bd994d73c91fe19\n",
      "multi processing\n"
     ]
    },
    {
     "name": "stderr",
     "output_type": "stream",
     "text": [
      "100%|██████████| 18/18 [00:00<00:00, 182.80it/s]\n",
      "100%|██████████| 24/24 [00:00<00:00, 151.97it/s]\n",
      "100%|██████████| 28/28 [00:00<00:00, 169.89it/s]\n",
      "100%|██████████| 36/36 [00:00<00:00, 143.98it/s]\n"
     ]
    },
    {
     "name": "stdout",
     "output_type": "stream",
     "text": [
      "Processing image 2369 in test_index = 0 \n",
      "id = 9ac881c9dc02cb901f16f287a0a514e733c751710e9c797f750b9aa1d82057a0\n",
      "multi processing\n"
     ]
    },
    {
     "name": "stderr",
     "output_type": "stream",
     "text": [
      "100%|██████████| 3/3 [00:00<00:00, 106.85it/s]\n",
      "100%|██████████| 3/3 [00:00<00:00, 104.77it/s]\n",
      "100%|██████████| 3/3 [00:00<00:00, 74.11it/s]\n",
      "100%|██████████| 5/5 [00:00<00:00, 82.54it/s]\n"
     ]
    },
    {
     "name": "stdout",
     "output_type": "stream",
     "text": [
      "Processing image 2370 in test_index = 0 \n",
      "id = d9e15ac965de9d839d65fafb084879c5f259c9e3520a6b123867f577f4e560f1\n",
      "multi processing\n"
     ]
    },
    {
     "name": "stderr",
     "output_type": "stream",
     "text": [
      "100%|██████████| 204/204 [02:04<00:00,  1.63it/s]\n",
      "100%|██████████| 205/205 [02:06<00:00,  1.63it/s]\n",
      "100%|██████████| 206/206 [02:06<00:00,  1.63it/s]\n",
      "100%|██████████| 205/205 [02:12<00:00,  1.55it/s]\n"
     ]
    },
    {
     "name": "stdout",
     "output_type": "stream",
     "text": [
      "Processing image 2371 in test_index = 0 \n",
      "id = 5b1c7434258c05b8e72845aa3aa8d3d8d95c6f2b3242461692d4e6966a927609\n",
      "multi processing\n"
     ]
    },
    {
     "name": "stderr",
     "output_type": "stream",
     "text": [
      "100%|██████████| 45/45 [00:00<00:00, 101.19it/s]\n",
      "100%|██████████| 47/47 [00:00<00:00, 90.73it/s]\n",
      "100%|██████████| 53/53 [00:00<00:00, 88.88it/s]\n",
      "100%|██████████| 62/62 [00:00<00:00, 75.09it/s]\n"
     ]
    },
    {
     "name": "stdout",
     "output_type": "stream",
     "text": [
      "Processing image 2372 in test_index = 0 \n",
      "id = 4ebce35e2a0996b5f39fd4202d7ba5dff826769814ddf1e3f470b59c13389d8d\n",
      "multi processing\n",
      "Processing image 2373 in test_index = 0 \n",
      "id = 12e69341b2766e458f640241ce890418b1a21c0b3b48b5436c447a777e6f4cce\n",
      "multi processing\n"
     ]
    },
    {
     "name": "stderr",
     "output_type": "stream",
     "text": [
      "100%|██████████| 34/34 [00:02<00:00, 15.53it/s]\n",
      "100%|██████████| 38/38 [00:03<00:00, 11.50it/s]\n",
      "100%|██████████| 39/39 [00:03<00:00, 10.48it/s]\n",
      "100%|██████████| 46/46 [00:04<00:00, 10.03it/s]\n"
     ]
    },
    {
     "name": "stdout",
     "output_type": "stream",
     "text": [
      "Processing image 2374 in test_index = 0 \n",
      "id = a0a3d1b549a1026626a24081d4e0c11ef4ccdf5d006064343a3ce1ae94d6497b\n",
      "multi processing\n"
     ]
    },
    {
     "name": "stderr",
     "output_type": "stream",
     "text": [
      "100%|██████████| 3/3 [00:00<00:00, 106.51it/s]\n",
      "100%|██████████| 4/4 [00:00<00:00, 90.57it/s]\n",
      "100%|██████████| 4/4 [00:00<00:00, 96.97it/s]\n"
     ]
    },
    {
     "name": "stdout",
     "output_type": "stream",
     "text": [
      "Processing image 2375 in test_index = 0 \n",
      "id = af2498be4527363b8d5389197dc2478df79b05fa89993889b18adec471abc410\n",
      "multi processing\n"
     ]
    },
    {
     "name": "stderr",
     "output_type": "stream",
     "text": [
      "100%|██████████| 31/31 [00:00<00:00, 129.68it/s]\n",
      "100%|██████████| 40/40 [00:00<00:00, 95.73it/s]\n",
      "100%|██████████| 38/38 [00:00<00:00, 103.12it/s]\n",
      "100%|██████████| 45/45 [00:00<00:00, 93.31it/s]\n"
     ]
    },
    {
     "name": "stdout",
     "output_type": "stream",
     "text": [
      "Processing image 2376 in test_index = 0 \n",
      "id = b59963fdbd5f188b01ba7f05e6875812e7977306a24c16f467a154e325f0059c\n",
      "multi processing\n",
      "Processing image 2377 in test_index = 0 \n",
      "id = 39b323a55d0213a53ef4ff930825a3d6cc71a9325b13dbeeb281376f0e511353\n",
      "multi processing\n"
     ]
    },
    {
     "name": "stderr",
     "output_type": "stream",
     "text": [
      "100%|██████████| 3/3 [00:00<00:00, 446.68it/s]\n",
      "100%|██████████| 4/4 [00:00<00:00, 471.67it/s]\n",
      "100%|██████████| 3/3 [00:00<00:00, 356.18it/s]\n",
      "100%|██████████| 3/3 [00:00<00:00, 496.39it/s]\n"
     ]
    },
    {
     "name": "stdout",
     "output_type": "stream",
     "text": [
      "Processing image 2378 in test_index = 0 \n",
      "id = 29de4e690d84cb1e7b6e25aadeaa5def712810e888b2a2f171fcfc55ea0b2ec1\n",
      "multi processing\n"
     ]
    },
    {
     "name": "stderr",
     "output_type": "stream",
     "text": [
      "100%|██████████| 151/151 [00:58<00:00,  2.58it/s]\n",
      "100%|██████████| 153/153 [01:02<00:00,  2.46it/s]\n",
      "100%|██████████| 156/156 [01:02<00:00,  2.49it/s]\n",
      "100%|██████████| 160/160 [01:05<00:00,  2.45it/s]\n"
     ]
    },
    {
     "name": "stdout",
     "output_type": "stream",
     "text": [
      "Processing image 2379 in test_index = 0 \n",
      "id = 810db36291b75a255da2715186661451508cc1bbfb8cff9a58aba48aa31d75c3\n",
      "multi processing\n"
     ]
    },
    {
     "name": "stderr",
     "output_type": "stream",
     "text": [
      "100%|██████████| 4/4 [00:00<00:00, 213.09it/s]\n",
      "100%|██████████| 5/5 [00:00<00:00, 255.50it/s]\n",
      "100%|██████████| 3/3 [00:00<00:00, 227.86it/s]\n",
      "100%|██████████| 7/7 [00:00<00:00, 248.53it/s]\n"
     ]
    },
    {
     "name": "stdout",
     "output_type": "stream",
     "text": [
      "Processing image 2380 in test_index = 0 \n",
      "id = f6cbd00141b5067c7ebf95e22a0d4fc89be8fa8851a7fbb4a922e2d5a53ca262\n",
      "multi processing\n",
      "Processing image 2381 in test_index = 0 \n",
      "id = 9e5d66bbeed4bb8b498484b9495297508875cc793f5d8b527efb4fb746157a1f\n",
      "multi processing\n",
      "Processing image 2382 in test_index = 0 \n",
      "id = e76d53d5f3abe64d2415d6513a14aa8cf790b08f2077a7552e702454f21a00bc\n",
      "multi processing\n",
      "Processing image 2383 in test_index = 0 \n",
      "id = 05c04b89e609fbff821fec17364db2eed1fe2bef6523c68323d8466c6934e7a2\n",
      "multi processing\n"
     ]
    },
    {
     "name": "stderr",
     "output_type": "stream",
     "text": [
      "100%|██████████| 166/166 [00:51<00:00,  3.22it/s]\n",
      "100%|██████████| 161/161 [00:51<00:00,  3.12it/s]\n",
      "100%|██████████| 169/169 [00:52<00:00,  3.19it/s]\n",
      "100%|██████████| 177/177 [00:54<00:00,  3.22it/s]\n"
     ]
    },
    {
     "name": "stdout",
     "output_type": "stream",
     "text": [
      "Processing image 2384 in test_index = 0 \n",
      "id = 7a8ad2bfbb85bd26df484f59583bf506306dcc62cb440b807a90863ad6f88696\n",
      "multi processing\n"
     ]
    },
    {
     "name": "stderr",
     "output_type": "stream",
     "text": [
      "100%|██████████| 49/49 [00:00<00:00, 87.34it/s]\n",
      "100%|██████████| 53/53 [00:00<00:00, 84.59it/s]\n",
      "100%|██████████| 49/49 [00:00<00:00, 80.26it/s]\n",
      "100%|██████████| 56/56 [00:00<00:00, 84.66it/s]\n"
     ]
    },
    {
     "name": "stdout",
     "output_type": "stream",
     "text": [
      "Processing image 2385 in test_index = 0 \n",
      "id = 3cb61770e7afaa3c524689880aaab78509861a9c4d46da051d799e3f381afbd3\n",
      "multi processing\n",
      "Processing image 2386 in test_index = 0 \n",
      "id = 644d0b9806a28091905a3aa354ff472b8b2192911d46293206688d22fec0c6e0\n",
      "multi processing\n"
     ]
    },
    {
     "name": "stderr",
     "output_type": "stream",
     "text": [
      "100%|██████████| 67/67 [00:01<00:00, 39.90it/s]\n",
      "100%|██████████| 67/67 [00:01<00:00, 38.79it/s]\n",
      "100%|██████████| 71/71 [00:01<00:00, 39.81it/s]\n",
      "100%|██████████| 73/73 [00:01<00:00, 39.80it/s]\n"
     ]
    },
    {
     "name": "stdout",
     "output_type": "stream",
     "text": [
      "Processing image 2387 in test_index = 0 \n",
      "id = 5b9e3920b8b112b54e46f3f0326cda2f43f5d1f0a3ddd1c3bbd5f21917f90bd8\n",
      "multi processing\n"
     ]
    },
    {
     "name": "stderr",
     "output_type": "stream",
     "text": [
      "100%|██████████| 192/192 [01:53<00:00,  1.69it/s]\n",
      "100%|██████████| 200/200 [02:01<00:00,  1.65it/s]\n",
      "100%|██████████| 213/213 [02:07<00:00,  1.67it/s]\n",
      "100%|██████████| 225/225 [02:24<00:00,  1.56it/s]\n"
     ]
    },
    {
     "name": "stdout",
     "output_type": "stream",
     "text": [
      "Processing image 2388 in test_index = 0 \n",
      "id = a95e5005e3d73d4acd650833c785845b07dda58c5c382ee38a871e9905a07d76\n",
      "multi processing\n"
     ]
    },
    {
     "name": "stderr",
     "output_type": "stream",
     "text": [
      "100%|██████████| 13/13 [00:00<00:00, 312.16it/s]\n",
      "100%|██████████| 19/19 [00:00<00:00, 265.28it/s]\n",
      "100%|██████████| 19/19 [00:00<00:00, 245.59it/s]\n",
      "100%|██████████| 25/25 [00:00<00:00, 225.98it/s]\n"
     ]
    },
    {
     "name": "stdout",
     "output_type": "stream",
     "text": [
      "Processing image 2389 in test_index = 0 \n",
      "id = 67706c805f79317a27790521cfb64dbc2d49a4a50a72fb57aca3ebac6f273e1d\n",
      "multi processing\n"
     ]
    },
    {
     "name": "stderr",
     "output_type": "stream",
     "text": [
      "100%|██████████| 8/8 [00:00<00:00, 72.65it/s]\n",
      "100%|██████████| 9/9 [00:00<00:00, 66.96it/s]\n",
      "100%|██████████| 8/8 [00:00<00:00, 68.33it/s]\n",
      "100%|██████████| 11/11 [00:00<00:00, 62.42it/s]\n"
     ]
    },
    {
     "name": "stdout",
     "output_type": "stream",
     "text": [
      "Processing image 2390 in test_index = 0 \n",
      "id = 8ecf0e3668fe3005178534b1e8f14d9c5411b66b4d3418b5fcccebd6b49d9fde\n",
      "multi processing\n"
     ]
    },
    {
     "name": "stderr",
     "output_type": "stream",
     "text": [
      "100%|██████████| 37/37 [00:00<00:00, 108.84it/s]\n",
      "100%|██████████| 33/33 [00:00<00:00, 120.31it/s]\n",
      "100%|██████████| 36/36 [00:00<00:00, 111.47it/s]\n",
      "100%|██████████| 43/43 [00:00<00:00, 112.76it/s]\n"
     ]
    },
    {
     "name": "stdout",
     "output_type": "stream",
     "text": [
      "Processing image 2391 in test_index = 0 \n",
      "id = f5160cbc40373a4d777a6878c326abca570ba572ac31bfb8ce0fea7b65f94c07\n",
      "multi processing\n",
      "Processing image 2392 in test_index = 0 \n",
      "id = 858aeff15e895e38ba52b40e14ab9da27ed1236d02fa57c0e51271aa1c7ad42b\n",
      "multi processing\n"
     ]
    },
    {
     "name": "stderr",
     "output_type": "stream",
     "text": [
      "100%|██████████| 72/72 [00:03<00:00, 22.46it/s]\n",
      "100%|██████████| 84/84 [00:04<00:00, 20.03it/s]\n",
      "100%|██████████| 93/93 [00:04<00:00, 19.52it/s]\n",
      "100%|██████████| 88/88 [00:04<00:00, 19.02it/s]\n"
     ]
    },
    {
     "name": "stdout",
     "output_type": "stream",
     "text": [
      "Processing image 2393 in test_index = 0 \n",
      "id = 508c83255449e3253c56028221658f1eef27c1be3f3b701df00fce89eb2029f6\n",
      "multi processing\n"
     ]
    },
    {
     "name": "stderr",
     "output_type": "stream",
     "text": [
      "100%|██████████| 3/3 [00:00<00:00, 266.67it/s]\n",
      "100%|██████████| 6/6 [00:00<00:00, 199.71it/s]\n",
      "100%|██████████| 5/5 [00:00<00:00, 217.85it/s]\n",
      "100%|██████████| 8/8 [00:00<00:00, 184.86it/s]\n"
     ]
    },
    {
     "name": "stdout",
     "output_type": "stream",
     "text": [
      "Processing image 2394 in test_index = 0 \n",
      "id = 65b9abc2ffa3c032a3682911cee038358f02a3bbcf48370a70f6fae9cb0c3ac5\n",
      "multi processing\n"
     ]
    },
    {
     "name": "stderr",
     "output_type": "stream",
     "text": [
      "100%|██████████| 184/184 [01:52<00:00,  1.64it/s]\n",
      "100%|██████████| 190/190 [01:56<00:00,  1.63it/s]\n",
      "100%|██████████| 200/200 [01:59<00:00,  1.68it/s]\n",
      "100%|██████████| 203/203 [02:03<00:00,  1.65it/s]\n"
     ]
    },
    {
     "name": "stdout",
     "output_type": "stream",
     "text": [
      "Processing image 2395 in test_index = 0 \n",
      "id = 005d47447abac7f7fa0ac56ba82f13edbf485105baf0672504d84b58d562f38b\n",
      "multi processing\n",
      "Processing image 2396 in test_index = 0 \n",
      "id = 5de226ec630899a5c6e16da0691baeb96622a013191eb2c007fb0c433c241f12\n",
      "multi processing\n"
     ]
    },
    {
     "name": "stderr",
     "output_type": "stream",
     "text": [
      "100%|██████████| 73/73 [00:03<00:00, 18.66it/s]\n",
      "100%|██████████| 81/81 [00:04<00:00, 19.33it/s]\n",
      "100%|██████████| 76/76 [00:04<00:00, 17.97it/s]\n",
      "100%|██████████| 83/83 [00:04<00:00, 19.32it/s]\n"
     ]
    },
    {
     "name": "stdout",
     "output_type": "stream",
     "text": [
      "Processing image 2397 in test_index = 0 \n",
      "id = 33e2081581c35579cf64245e4fa8cb4de399b8211ca8feb99701dd51bd17e88c\n",
      "multi processing\n"
     ]
    },
    {
     "name": "stderr",
     "output_type": "stream",
     "text": [
      "100%|██████████| 46/46 [00:05<00:00,  8.29it/s]\n",
      "100%|██████████| 54/54 [00:08<00:00,  6.73it/s]\n",
      "100%|██████████| 61/61 [00:08<00:00,  7.09it/s]\n",
      "100%|██████████| 64/64 [00:09<00:00,  6.69it/s]\n"
     ]
    },
    {
     "name": "stdout",
     "output_type": "stream",
     "text": [
      "Processing image 2398 in test_index = 0 \n",
      "id = d6935f915f2e21510790e3999aae1104867c27992a472dfef0802bb7c65a1b59\n",
      "multi processing\n"
     ]
    },
    {
     "name": "stderr",
     "output_type": "stream",
     "text": [
      "100%|██████████| 31/31 [00:00<00:00, 117.40it/s]\n",
      "100%|██████████| 34/34 [00:00<00:00, 111.47it/s]\n",
      "100%|██████████| 32/32 [00:00<00:00, 106.32it/s]\n",
      "100%|██████████| 35/35 [00:00<00:00, 125.83it/s]\n"
     ]
    },
    {
     "name": "stdout",
     "output_type": "stream",
     "text": [
      "Processing image 2399 in test_index = 0 \n",
      "id = 615a27eb46ad06ce5e216668e7441c2942f2bdd760db33b72406ba1d1b38c76c\n",
      "multi processing\n"
     ]
    },
    {
     "name": "stderr",
     "output_type": "stream",
     "text": [
      "100%|██████████| 21/21 [00:00<00:00, 24.06it/s]\n",
      "100%|██████████| 24/24 [00:01<00:00, 23.06it/s]\n",
      "100%|██████████| 32/32 [00:01<00:00, 18.61it/s]\n",
      "100%|██████████| 33/33 [00:01<00:00, 17.79it/s]\n"
     ]
    },
    {
     "name": "stdout",
     "output_type": "stream",
     "text": [
      "Processing image 2400 in test_index = 0 \n",
      "id = 6d805b88e10c6c46b4c60b59e9aaf6f4f6881beee6409661c0dd0a0b3512308c\n",
      "multi processing\n"
     ]
    },
    {
     "name": "stderr",
     "output_type": "stream",
     "text": [
      "100%|██████████| 14/14 [00:00<00:00, 225.42it/s]\n",
      "100%|██████████| 14/14 [00:00<00:00, 152.31it/s]\n",
      "100%|██████████| 14/14 [00:00<00:00, 173.37it/s]\n",
      "100%|██████████| 17/17 [00:00<00:00, 179.70it/s]\n"
     ]
    },
    {
     "name": "stdout",
     "output_type": "stream",
     "text": [
      "Processing image 2401 in test_index = 0 \n",
      "id = 2b0ece0ae5955dd69f291f996beee03dd6d45794c501238e40701f369d5342f0\n",
      "multi processing\n"
     ]
    },
    {
     "name": "stderr",
     "output_type": "stream",
     "text": [
      "100%|██████████| 35/35 [00:00<00:00, 123.99it/s]\n",
      "100%|██████████| 36/36 [00:00<00:00, 104.21it/s]\n",
      "100%|██████████| 41/41 [00:00<00:00, 104.66it/s]\n",
      "100%|██████████| 45/45 [00:00<00:00, 99.42it/s]\n"
     ]
    },
    {
     "name": "stdout",
     "output_type": "stream",
     "text": [
      "Processing image 2402 in test_index = 0 \n",
      "id = 5eed1622adb10625b6efc4f3b52755e34c403de652046a573de30e598aa66762\n",
      "multi processing\n"
     ]
    },
    {
     "name": "stderr",
     "output_type": "stream",
     "text": [
      "100%|██████████| 6/6 [00:00<00:00, 89.61it/s]\n",
      "100%|██████████| 7/7 [00:00<00:00, 75.08it/s]\n",
      "100%|██████████| 8/8 [00:00<00:00, 64.51it/s]\n",
      " 62%|██████▎   | 5/8 [00:00<00:00, 44.25it/s]\n",
      "100%|██████████| 8/8 [00:00<00:00, 69.73it/s]"
     ]
    },
    {
     "name": "stdout",
     "output_type": "stream",
     "text": [
      "Processing image 2403 in test_index = 0 \n",
      "id = 3ed12631c1d25343d801db5b83192c8eea4adcea43c11d1e8f1ed64cd51b1ea5\n",
      "multi processing\n"
     ]
    },
    {
     "name": "stderr",
     "output_type": "stream",
     "text": [
      "100%|██████████| 3/3 [00:00<00:00, 132.71it/s]\n",
      "100%|██████████| 8/8 [00:00<00:00, 111.04it/s]\n",
      "100%|██████████| 6/6 [00:00<00:00, 102.92it/s]\n",
      "100%|██████████| 9/9 [00:00<00:00, 101.73it/s]\n"
     ]
    },
    {
     "name": "stdout",
     "output_type": "stream",
     "text": [
      "Processing image 2404 in test_index = 0 \n",
      "id = 458d8c48e0d5ce2ba6019852a11e3aa834005d1b7153ad86c58a647b001adcdd\n",
      "multi processing\n"
     ]
    },
    {
     "name": "stderr",
     "output_type": "stream",
     "text": [
      "100%|██████████| 2/2 [00:00<00:00, 206.73it/s]\n",
      "100%|██████████| 2/2 [00:00<00:00, 241.03it/s]\n",
      "100%|██████████| 2/2 [00:00<00:00, 224.88it/s]\n",
      "100%|██████████| 3/3 [00:00<00:00, 325.84it/s]\n"
     ]
    },
    {
     "name": "stdout",
     "output_type": "stream",
     "text": [
      "Processing image 2405 in test_index = 0 \n",
      "id = e2358a16253ed16b1ca3e8a8464328864adefdcd1746a023a1bb390759b01cb2\n",
      "multi processing\n"
     ]
    },
    {
     "name": "stderr",
     "output_type": "stream",
     "text": [
      "100%|██████████| 86/86 [00:23<00:00,  3.73it/s]\n",
      "100%|██████████| 87/87 [00:23<00:00,  3.68it/s]\n",
      "100%|██████████| 85/85 [00:24<00:00,  3.53it/s]\n",
      "100%|██████████| 89/89 [00:24<00:00,  3.56it/s]\n"
     ]
    },
    {
     "name": "stdout",
     "output_type": "stream",
     "text": [
      "Processing image 2406 in test_index = 0 \n",
      "id = 42cf4869e304d7d993878da9452ecde91457d7bcacc974d4295f2d120e3e06ef\n",
      "multi processing\n",
      "Processing image 2407 in test_index = 0 \n",
      "id = 00da4fe5346bbb36ccf178964a22fdf7e33888989624176a6af3b4a7cfd7da63\n",
      "multi processing\n"
     ]
    },
    {
     "name": "stderr",
     "output_type": "stream",
     "text": [
      "100%|██████████| 104/104 [00:02<00:00, 49.51it/s]\n",
      "100%|██████████| 102/102 [00:02<00:00, 50.66it/s]\n",
      "100%|██████████| 103/103 [00:02<00:00, 46.83it/s]\n",
      "100%|██████████| 112/112 [00:02<00:00, 47.57it/s]\n"
     ]
    },
    {
     "name": "stdout",
     "output_type": "stream",
     "text": [
      "Processing image 2408 in test_index = 0 \n",
      "id = 6231e8ef2b66f7a58630df1dbf50ad730edcb35d5123612062f912e3c3ed9fd0\n",
      "multi processing\n"
     ]
    },
    {
     "name": "stderr",
     "output_type": "stream",
     "text": [
      "100%|██████████| 137/137 [01:06<00:00,  2.07it/s]\n",
      "100%|██████████| 166/166 [01:29<00:00,  1.84it/s]\n",
      "100%|██████████| 160/160 [01:33<00:00,  1.72it/s]\n",
      "100%|██████████| 169/169 [01:41<00:00,  1.66it/s]\n"
     ]
    },
    {
     "name": "stdout",
     "output_type": "stream",
     "text": [
      "Processing image 2409 in test_index = 0 \n",
      "id = 8f99af17055fda8957cb6c02996f78f83521836e3f922b47f7ad5b4797db8819\n",
      "multi processing\n"
     ]
    },
    {
     "name": "stderr",
     "output_type": "stream",
     "text": [
      "100%|██████████| 170/170 [00:49<00:00,  3.47it/s]\n",
      "100%|██████████| 172/172 [00:49<00:00,  3.45it/s]\n",
      " 64%|██████▍   | 107/167 [00:48<00:27,  2.21it/s]\n",
      " 79%|███████▉  | 132/167 [00:48<00:12,  2.71it/s]\n",
      "100%|██████████| 167/167 [00:48<00:00,  3.43it/s]"
     ]
    },
    {
     "name": "stdout",
     "output_type": "stream",
     "text": [
      "Processing image 2410 in test_index = 0 \n",
      "id = eb11f6a98fe5b611d3f3836a5c4a6fa6eeb853587b83ee07b66c39b92fc0e1e3\n",
      "multi processing\n",
      "Processing image 2411 in test_index = 0 \n",
      "id = 3778b3cd7bc0707d703735c6600fc8013f14e296219d9e199871be974d6fcd27\n",
      "multi processing\n"
     ]
    },
    {
     "name": "stderr",
     "output_type": "stream",
     "text": [
      "100%|██████████| 2/2 [00:00<00:00, 74.56it/s]\n"
     ]
    },
    {
     "name": "stdout",
     "output_type": "stream",
     "text": [
      "Processing image 2412 in test_index = 0 \n",
      "id = 827fcdb675b8ab08c5dfc8dd90115a23ae96224738bbb25ab81bfc8424163326\n",
      "multi processing\n"
     ]
    },
    {
     "name": "stderr",
     "output_type": "stream",
     "text": [
      "100%|██████████| 71/71 [00:00<00:00, 74.62it/s]\n",
      "100%|██████████| 71/71 [00:01<00:00, 68.23it/s]\n",
      "100%|██████████| 80/80 [00:01<00:00, 70.20it/s]\n",
      "100%|██████████| 97/97 [00:01<00:00, 57.39it/s]\n"
     ]
    },
    {
     "name": "stdout",
     "output_type": "stream",
     "text": [
      "Processing image 2413 in test_index = 0 \n",
      "id = 25e1d8f0d9972358d76b917a554d5bb5400a088e4862646599d929657cad335b\n",
      "multi processing\n"
     ]
    },
    {
     "name": "stderr",
     "output_type": "stream",
     "text": [
      "100%|██████████| 1/1 [00:00<00:00, 2156.45it/s]\n"
     ]
    },
    {
     "name": "stdout",
     "output_type": "stream",
     "text": [
      "Processing image 2414 in test_index = 0 \n",
      "id = 60fd9ffd0b8c95a4297504a48ade1f27797a53795be9fe6cb0e1ba2e71e6f606\n",
      "multi processing\n"
     ]
    },
    {
     "name": "stderr",
     "output_type": "stream",
     "text": [
      "100%|██████████| 260/260 [03:48<00:00,  1.14it/s]\n",
      "100%|██████████| 260/260 [03:48<00:00,  1.14it/s]\n",
      "100%|██████████| 274/274 [04:02<00:00,  1.13it/s]\n",
      "100%|██████████| 277/277 [04:04<00:00,  1.13it/s]\n"
     ]
    },
    {
     "name": "stdout",
     "output_type": "stream",
     "text": [
      "Processing image 2415 in test_index = 0 \n",
      "id = 6a44347fdd69a71e6c473730f0b5d9b75b2c5feb781f75f5ebe9c630d6c3fa8f\n",
      "multi processing\n"
     ]
    },
    {
     "name": "stderr",
     "output_type": "stream",
     "text": [
      "100%|██████████| 153/153 [00:58<00:00,  2.61it/s]\n",
      "100%|██████████| 154/154 [01:03<00:00,  2.42it/s]\n",
      "100%|██████████| 166/166 [01:02<00:00,  2.65it/s]\n",
      "100%|██████████| 173/173 [01:14<00:00,  2.32it/s]\n"
     ]
    },
    {
     "name": "stdout",
     "output_type": "stream",
     "text": [
      "Processing image 2416 in test_index = 0 \n",
      "id = 47f073557a7f47f445779c639a4a6ff04615c3eed36fc8f9b6da0e55299f35b2\n",
      "multi processing\n"
     ]
    },
    {
     "name": "stderr",
     "output_type": "stream",
     "text": [
      "100%|██████████| 31/31 [00:00<00:00, 115.99it/s]\n",
      "100%|██████████| 47/47 [00:00<00:00, 110.05it/s]\n",
      "100%|██████████| 43/43 [00:00<00:00, 104.33it/s]\n",
      "100%|██████████| 52/52 [00:00<00:00, 107.81it/s]\n"
     ]
    },
    {
     "name": "stdout",
     "output_type": "stream",
     "text": [
      "Processing image 2417 in test_index = 0 \n",
      "id = 25ca67d7383a0f89302e5fa8893a855606b8bd728d84451914b4a688c8c75bce\n",
      "multi processing\n"
     ]
    },
    {
     "name": "stderr",
     "output_type": "stream",
     "text": [
      "100%|██████████| 1/1 [00:00<00:00, 2646.25it/s]\n",
      "100%|██████████| 3/3 [00:00<00:00, 153.63it/s]\n",
      "100%|██████████| 5/5 [00:00<00:00, 193.51it/s]\n"
     ]
    },
    {
     "name": "stdout",
     "output_type": "stream",
     "text": [
      "Processing image 2418 in test_index = 0 \n",
      "id = 7063ca81ca61a70754903315262507fc51d7d0bc9db29432376410afda222c2e\n",
      "multi processing\n"
     ]
    },
    {
     "name": "stderr",
     "output_type": "stream",
     "text": [
      "100%|██████████| 29/29 [00:02<00:00, 12.24it/s]\n",
      "100%|██████████| 35/35 [00:02<00:00, 13.10it/s]\n",
      "100%|██████████| 34/34 [00:02<00:00, 12.19it/s]\n",
      "100%|██████████| 37/37 [00:03<00:00, 10.14it/s]\n"
     ]
    },
    {
     "name": "stdout",
     "output_type": "stream",
     "text": [
      "Processing image 2419 in test_index = 0 \n",
      "id = 75b8b538c77de9b7e36074ac473103ddab68cae3ae12d853b4c1ae315c39c0d4\n",
      "multi processing\n"
     ]
    },
    {
     "name": "stderr",
     "output_type": "stream",
     "text": [
      "100%|██████████| 2/2 [00:00<00:00, 99.00it/s]\n",
      "100%|██████████| 2/2 [00:00<00:00, 93.84it/s]\n",
      "100%|██████████| 2/2 [00:00<00:00, 85.90it/s]\n"
     ]
    },
    {
     "name": "stdout",
     "output_type": "stream",
     "text": [
      "Processing image 2420 in test_index = 0 \n",
      "id = 81239ba706d40b11b86a88a85e593970f723785488eb9f96b1406d90321cb490\n",
      "multi processing\n"
     ]
    },
    {
     "name": "stderr",
     "output_type": "stream",
     "text": [
      "100%|██████████| 174/174 [00:07<00:00, 23.75it/s]\n",
      "100%|██████████| 174/174 [00:07<00:00, 21.98it/s]\n",
      "100%|██████████| 182/182 [00:07<00:00, 22.80it/s]\n",
      "100%|██████████| 188/188 [00:08<00:00, 22.85it/s]\n"
     ]
    },
    {
     "name": "stdout",
     "output_type": "stream",
     "text": [
      "Processing image 2421 in test_index = 0 \n",
      "id = ed5914fda0238e4cbbe448acaf74d486a58a8e13a668b5437f692d593a99c0eb\n",
      "multi processing\n"
     ]
    },
    {
     "name": "stderr",
     "output_type": "stream",
     "text": [
      "100%|██████████| 10/10 [00:00<00:00, 46.11it/s]\n",
      "100%|██████████| 9/9 [00:00<00:00, 67.04it/s]\n",
      "100%|██████████| 11/11 [00:00<00:00, 51.88it/s]\n",
      "100%|██████████| 14/14 [00:00<00:00, 40.59it/s]\n"
     ]
    },
    {
     "name": "stdout",
     "output_type": "stream",
     "text": [
      "Processing image 2422 in test_index = 0 \n",
      "id = 7cd58139448dcce73e6858156a5aeb023effd00e78719f21b826887bc18e32b6\n",
      "multi processing\n",
      "Processing image 2423 in test_index = 0 \n",
      "id = 8a81a27f2b59768dbff994577c11dcd4ead0bb7eb72233a476fb53774823531d\n",
      "multi processing\n"
     ]
    },
    {
     "name": "stderr",
     "output_type": "stream",
     "text": [
      "100%|██████████| 3/3 [00:00<00:00, 302.37it/s]\n",
      "100%|██████████| 2/2 [00:00<00:00, 231.07it/s]\n",
      "100%|██████████| 3/3 [00:00<00:00, 310.18it/s]\n",
      "100%|██████████| 3/3 [00:00<00:00, 303.04it/s]\n"
     ]
    },
    {
     "name": "stdout",
     "output_type": "stream",
     "text": [
      "Processing image 2424 in test_index = 0 \n",
      "id = 6536ac891b63a71d0584828dd9c6d36b35639c5296c3c20c86c548fa72592c39\n",
      "multi processing\n"
     ]
    },
    {
     "name": "stderr",
     "output_type": "stream",
     "text": [
      "100%|██████████| 126/126 [00:46<00:00,  2.71it/s]\n",
      " 45%|████▌     | 56/124 [00:46<00:55,  1.21it/s]]\n",
      "100%|██████████| 124/124 [00:47<00:00,  2.59it/s]\n",
      "100%|██████████| 140/140 [00:53<00:00,  2.64it/s]\n"
     ]
    },
    {
     "name": "stdout",
     "output_type": "stream",
     "text": [
      "Processing image 2425 in test_index = 0 \n",
      "id = 3d19f7d8e1e7b9fd1ba1bbaac59fd793053f80666721ce2b99e20e723ca9430f\n",
      "multi processing\n",
      "Processing image 2426 in test_index = 0 \n",
      "id = 42c3571618fa01ec6dfa4c6ff27442350f7c7eedf47d99c7ae26f72c3af68904\n",
      "multi processing\n",
      "Processing image 2427 in test_index = 0 \n",
      "id = b45aa69520b8bba2bb3e07666625b293a3d17133a75c00c5102ca0b06d3c290e\n",
      "multi processing\n"
     ]
    },
    {
     "name": "stderr",
     "output_type": "stream",
     "text": [
      "100%|██████████| 126/126 [00:13<00:00,  9.59it/s]\n",
      "100%|██████████| 124/124 [00:13<00:00,  9.49it/s]\n",
      "100%|██████████| 125/125 [00:13<00:00,  9.42it/s]\n",
      "100%|██████████| 135/135 [00:14<00:00,  9.32it/s]\n"
     ]
    },
    {
     "name": "stdout",
     "output_type": "stream",
     "text": [
      "Processing image 2428 in test_index = 0 \n",
      "id = 74ceb9ee461edfcb7de8a77704dee167319f57f60677d8e8d74c5116979f6bcf\n",
      "multi processing\n"
     ]
    },
    {
     "name": "stderr",
     "output_type": "stream",
     "text": [
      "100%|██████████| 6/6 [00:00<00:00, 163.82it/s]\n",
      "100%|██████████| 6/6 [00:00<00:00, 182.17it/s]\n",
      "100%|██████████| 8/8 [00:00<00:00, 103.57it/s]\n",
      "100%|██████████| 9/9 [00:00<00:00, 104.53it/s]\n"
     ]
    },
    {
     "name": "stdout",
     "output_type": "stream",
     "text": [
      "Processing image 2429 in test_index = 0 \n",
      "id = 95abb5d28c85e8400b3768bc7ed5bb3ccefe6d88446300ee8fae289696edbca1\n",
      "multi processing\n"
     ]
    },
    {
     "name": "stderr",
     "output_type": "stream",
     "text": [
      "100%|██████████| 19/19 [00:00<00:00, 195.72it/s]\n",
      "100%|██████████| 14/14 [00:00<00:00, 171.56it/s]\n",
      " 47%|████▋     | 9/19 [00:00<00:00, 87.72it/s]\n",
      "100%|██████████| 20/20 [00:00<00:00, 137.06it/s]\n"
     ]
    },
    {
     "name": "stdout",
     "output_type": "stream",
     "text": [
      "Processing image 2430 in test_index = 0 \n",
      "id = 4dd1b0f25cd1ef091c9c894654561bc3ba17621c12ff767993f5a89bb0a369bf\n",
      "multi processing\n"
     ]
    },
    {
     "name": "stderr",
     "output_type": "stream",
     "text": [
      "100%|██████████| 54/54 [00:07<00:00,  7.39it/s]\n",
      "100%|██████████| 60/60 [00:08<00:00,  6.79it/s]\n",
      "100%|██████████| 58/58 [00:08<00:00,  6.59it/s]\n",
      "100%|██████████| 68/68 [00:10<00:00,  6.58it/s]\n"
     ]
    },
    {
     "name": "stdout",
     "output_type": "stream",
     "text": [
      "Processing image 2431 in test_index = 0 \n",
      "id = f3d6640db1e6479bd3f1bb03e21706b32b4380aa1bc068498b054ffbca47d73a\n",
      "multi processing\n"
     ]
    },
    {
     "name": "stderr",
     "output_type": "stream",
     "text": [
      "100%|██████████| 28/28 [00:01<00:00, 14.02it/s]\n",
      "100%|██████████| 32/32 [00:02<00:00, 15.07it/s]\n",
      "100%|██████████| 37/37 [00:02<00:00, 13.13it/s]\n",
      "100%|██████████| 40/40 [00:03<00:00, 11.19it/s]\n"
     ]
    },
    {
     "name": "stdout",
     "output_type": "stream",
     "text": [
      "Processing image 2432 in test_index = 0 \n",
      "id = 75eae4bbeee2b9ccc2865e9ac7433af7ce96b4c791e1116f1fabd82d53da2e36\n",
      "multi processing\n"
     ]
    },
    {
     "name": "stderr",
     "output_type": "stream",
     "text": [
      "100%|██████████| 16/16 [00:00<00:00, 196.01it/s]\n",
      "100%|██████████| 18/18 [00:00<00:00, 183.54it/s]\n",
      "100%|██████████| 17/17 [00:00<00:00, 199.27it/s]\n",
      "100%|██████████| 21/21 [00:00<00:00, 177.73it/s]\n"
     ]
    },
    {
     "name": "stdout",
     "output_type": "stream",
     "text": [
      "Processing image 2433 in test_index = 0 \n",
      "id = 95442f9abad1b32f862196fe091b48ff36dc7178fde8bae8ee023e0c0a767dca\n",
      "multi processing\n"
     ]
    },
    {
     "name": "stderr",
     "output_type": "stream",
     "text": [
      "100%|██████████| 39/39 [00:00<00:00, 75.01it/s]\n",
      "100%|██████████| 39/39 [00:00<00:00, 64.34it/s]\n",
      "100%|██████████| 41/41 [00:00<00:00, 62.28it/s]\n",
      "100%|██████████| 43/43 [00:00<00:00, 69.87it/s]\n"
     ]
    },
    {
     "name": "stdout",
     "output_type": "stream",
     "text": [
      "Processing image 2434 in test_index = 0 \n",
      "id = 3f51288dae5ae9f9bd1da3221098cb9df568c61dcd0e7921a992c13e31fb24f7\n",
      "multi processing\n"
     ]
    },
    {
     "name": "stderr",
     "output_type": "stream",
     "text": [
      "100%|██████████| 8/8 [00:00<00:00, 421.69it/s]\n",
      "100%|██████████| 8/8 [00:00<00:00, 411.13it/s]\n",
      "100%|██████████| 8/8 [00:00<00:00, 394.22it/s]\n",
      "100%|██████████| 9/9 [00:00<00:00, 358.57it/s]\n"
     ]
    },
    {
     "name": "stdout",
     "output_type": "stream",
     "text": [
      "Processing image 2435 in test_index = 0 \n",
      "id = 20ac1021d9c01437e24eb853fb1bb036fcec55b8100381152e0ad7fe59d4a01d\n",
      "multi processing\n"
     ]
    },
    {
     "name": "stderr",
     "output_type": "stream",
     "text": [
      "100%|██████████| 19/19 [00:00<00:00, 284.69it/s]\n",
      "100%|██████████| 16/16 [00:00<00:00, 306.28it/s]\n",
      "100%|██████████| 19/19 [00:00<00:00, 238.43it/s]\n",
      "100%|██████████| 16/16 [00:00<00:00, 261.63it/s]\n"
     ]
    },
    {
     "name": "stdout",
     "output_type": "stream",
     "text": [
      "Processing image 2436 in test_index = 0 \n",
      "id = bb7e996e156d680f35fe57345f83a93b2e956c177a31b9434732f60b0cbcb0ad\n",
      "multi processing\n",
      "Processing image 2437 in test_index = 0 \n",
      "id = 28cd702f96c9d3956683efba84f9d8f82fe60dfc9c15f429178104d8a0b6d743\n",
      "multi processing\n"
     ]
    },
    {
     "name": "stderr",
     "output_type": "stream",
     "text": [
      "100%|██████████| 7/7 [00:00<00:00, 74.31it/s]\n",
      "100%|██████████| 7/7 [00:00<00:00, 83.59it/s]\n",
      "100%|██████████| 9/9 [00:00<00:00, 67.83it/s]\n",
      "100%|██████████| 10/10 [00:00<00:00, 60.81it/s]\n"
     ]
    },
    {
     "name": "stdout",
     "output_type": "stream",
     "text": [
      "Processing image 2438 in test_index = 0 \n",
      "id = 495276ce6ffd4a839f6b6c6bb7410fe32af826f9a79c5553ddfb2677b210c456\n",
      "multi processing\n"
     ]
    },
    {
     "name": "stderr",
     "output_type": "stream",
     "text": [
      "100%|██████████| 40/40 [00:00<00:00, 122.02it/s]\n",
      "100%|██████████| 37/37 [00:00<00:00, 133.11it/s]\n",
      "100%|██████████| 44/44 [00:00<00:00, 123.97it/s]\n",
      "100%|██████████| 46/46 [00:00<00:00, 107.21it/s]\n"
     ]
    },
    {
     "name": "stdout",
     "output_type": "stream",
     "text": [
      "Processing image 2439 in test_index = 0 \n",
      "id = c94af282c22763e04eeec81e218e23d6d7802bbbb46848b0f110fa3cb5f344fb\n",
      "multi processing\n"
     ]
    },
    {
     "name": "stderr",
     "output_type": "stream",
     "text": [
      "100%|██████████| 171/171 [01:40<00:00,  1.71it/s]\n",
      "100%|██████████| 185/185 [01:50<00:00,  1.68it/s]\n",
      "100%|██████████| 182/182 [01:53<00:00,  1.60it/s]\n",
      "100%|██████████| 208/208 [02:16<00:00,  1.53it/s]\n"
     ]
    },
    {
     "name": "stdout",
     "output_type": "stream",
     "text": [
      "Processing image 2440 in test_index = 0 \n",
      "id = a1c7ea8f14256bb4d164d5bd71d5ba8290dd2a8be67d66b8043940d3d3a048c6\n",
      "multi processing\n"
     ]
    },
    {
     "name": "stderr",
     "output_type": "stream",
     "text": [
      "100%|██████████| 75/75 [00:14<00:00,  5.14it/s]\n",
      "100%|██████████| 73/73 [00:16<00:00,  4.56it/s]\n",
      "100%|██████████| 87/87 [00:19<00:00,  4.56it/s]\n",
      "100%|██████████| 91/91 [00:20<00:00,  4.40it/s]\n"
     ]
    },
    {
     "name": "stdout",
     "output_type": "stream",
     "text": [
      "Processing image 2441 in test_index = 0 \n",
      "id = be474523dea0a622f5db68173f149ee7c1498dc46f3a376a470a8a26311eb672\n",
      "multi processing\n",
      "Processing image 2442 in test_index = 0 \n",
      "id = ecc237bb5e3eb2398abc7922e45291c9a963c15d9f86ff8019a5b25319958a70\n",
      "multi processing\n"
     ]
    },
    {
     "name": "stderr",
     "output_type": "stream",
     "text": [
      "100%|██████████| 62/62 [00:00<00:00, 70.91it/s]\n",
      "100%|██████████| 69/69 [00:01<00:00, 60.72it/s]\n",
      "100%|██████████| 71/71 [00:01<00:00, 58.89it/s]\n",
      "100%|██████████| 76/76 [00:01<00:00, 55.87it/s]\n"
     ]
    },
    {
     "name": "stdout",
     "output_type": "stream",
     "text": [
      "Processing image 2443 in test_index = 0 \n",
      "id = 7a08f120a0f013a9c834b6110a10686ee49231a86d2916aeb03583cb10ad7d05\n",
      "multi processing\n"
     ]
    },
    {
     "name": "stderr",
     "output_type": "stream",
     "text": [
      "100%|██████████| 16/16 [00:00<00:00, 254.40it/s]\n",
      "100%|██████████| 28/28 [00:00<00:00, 147.02it/s]\n",
      "100%|██████████| 29/29 [00:00<00:00, 164.71it/s]\n",
      "100%|██████████| 30/30 [00:00<00:00, 175.50it/s]\n"
     ]
    },
    {
     "name": "stdout",
     "output_type": "stream",
     "text": [
      "Processing image 2444 in test_index = 0 \n",
      "id = 735548a4989bdcf4d897fc0659168a98393fbd530e68c48b5854f6ebf5ead171\n",
      "multi processing\n"
     ]
    },
    {
     "name": "stderr",
     "output_type": "stream",
     "text": [
      "100%|██████████| 60/60 [00:02<00:00, 22.52it/s]\n",
      "100%|██████████| 65/65 [00:02<00:00, 21.83it/s]\n",
      "100%|██████████| 65/65 [00:03<00:00, 18.56it/s]\n",
      "100%|██████████| 70/70 [00:03<00:00, 19.99it/s]\n"
     ]
    },
    {
     "name": "stdout",
     "output_type": "stream",
     "text": [
      "Processing image 2445 in test_index = 0 \n",
      "id = a6dfd34c94d29464e15f68ddf6f75f4f2136b137d31d795c0c4a55e6e4bc0e19\n",
      "multi processing\n"
     ]
    },
    {
     "name": "stderr",
     "output_type": "stream",
     "text": [
      "100%|██████████| 16/16 [00:00<00:00, 232.60it/s]\n",
      "100%|██████████| 15/15 [00:00<00:00, 222.04it/s]\n",
      "100%|██████████| 17/17 [00:00<00:00, 192.37it/s]\n",
      "100%|██████████| 17/17 [00:00<00:00, 226.09it/s]\n"
     ]
    },
    {
     "name": "stdout",
     "output_type": "stream",
     "text": [
      "Processing image 2446 in test_index = 0 \n",
      "id = b76b9bd0448c765e5d60c038eb9ff9b8096223c3ed22181a7e9620a6352f9a6b\n",
      "multi processing\n"
     ]
    },
    {
     "name": "stderr",
     "output_type": "stream",
     "text": [
      "100%|██████████| 221/221 [02:17<00:00,  1.60it/s]\n",
      "100%|██████████| 226/226 [02:31<00:00,  1.49it/s]\n",
      "100%|██████████| 230/230 [02:31<00:00,  1.52it/s]\n",
      "100%|██████████| 240/240 [02:39<00:00,  1.51it/s]\n"
     ]
    },
    {
     "name": "stdout",
     "output_type": "stream",
     "text": [
      "Processing image 2447 in test_index = 0 \n",
      "id = 9d9ac26164f0ca47144493191d287aedffd2be9ab0affca80c472100c169aef4\n",
      "multi processing\n"
     ]
    },
    {
     "name": "stderr",
     "output_type": "stream",
     "text": [
      "100%|██████████| 60/60 [00:02<00:00, 29.92it/s]\n",
      "100%|██████████| 58/58 [00:02<00:00, 22.11it/s]\n",
      "100%|██████████| 60/60 [00:02<00:00, 21.65it/s]\n",
      "100%|██████████| 64/64 [00:03<00:00, 20.58it/s]\n"
     ]
    },
    {
     "name": "stdout",
     "output_type": "stream",
     "text": [
      "Processing image 2448 in test_index = 0 \n",
      "id = db0b597570c512532fa45f8fd21dd4f5fda2ec6534e022d4c3d07056ba501073\n",
      "multi processing\n",
      "Processing image 2449 in test_index = 0 \n",
      "id = b95b683201903d5ee62dd38129b35da8d42d8bb6176c88432454fdb72633e22d\n",
      "multi processing\n"
     ]
    },
    {
     "name": "stderr",
     "output_type": "stream",
     "text": [
      "100%|██████████| 175/175 [01:32<00:00,  1.90it/s]\n",
      "100%|██████████| 177/177 [01:36<00:00,  1.84it/s]\n",
      "100%|██████████| 180/180 [01:38<00:00,  1.83it/s]\n",
      "100%|██████████| 178/178 [01:41<00:00,  1.75it/s]\n"
     ]
    },
    {
     "name": "stdout",
     "output_type": "stream",
     "text": [
      "Processing image 2450 in test_index = 0 \n",
      "id = c694e821cd9dbf1a8ee32417a625a2a06f438e828ad965d95ac070db55090fcc\n",
      "multi processing\n",
      "Processing image 2451 in test_index = 0 \n",
      "id = eb7233d2d58b31d23a07bb771536e7d0ec65b9e203e8cd2080273640e47196ac\n",
      "multi processing\n"
     ]
    },
    {
     "name": "stderr",
     "output_type": "stream",
     "text": [
      "100%|██████████| 16/16 [00:00<00:00, 28.32it/s]\n",
      "100%|██████████| 15/15 [00:00<00:00, 26.79it/s]\n",
      "100%|██████████| 17/17 [00:00<00:00, 26.17it/s]\n",
      "100%|██████████| 18/18 [00:00<00:00, 24.69it/s]\n"
     ]
    },
    {
     "name": "stdout",
     "output_type": "stream",
     "text": [
      "Processing image 2452 in test_index = 0 \n",
      "id = 1d6d63e9172cdef038fb6c979ee15e606d5f134c7a87d9a07ac337bf00c78752\n",
      "multi processing\n"
     ]
    },
    {
     "name": "stderr",
     "output_type": "stream",
     "text": [
      "100%|██████████| 7/7 [00:00<00:00, 76.69it/s]\n",
      "100%|██████████| 9/9 [00:00<00:00, 76.28it/s]\n",
      "100%|██████████| 7/7 [00:00<00:00, 80.60it/s]\n",
      "100%|██████████| 10/10 [00:00<00:00, 69.52it/s]\n"
     ]
    },
    {
     "name": "stdout",
     "output_type": "stream",
     "text": [
      "Processing image 2453 in test_index = 0 \n",
      "id = aea1d967227a57375f78817a955bb0d817fe4137b7d3bfa57a0354df61c45a31\n",
      "multi processing\n"
     ]
    },
    {
     "name": "stderr",
     "output_type": "stream",
     "text": [
      "100%|██████████| 221/221 [02:53<00:00,  1.27it/s]\n",
      "100%|██████████| 237/237 [03:06<00:00,  1.27it/s]\n",
      "100%|██████████| 239/239 [03:09<00:00,  1.26it/s]\n",
      "100%|██████████| 261/261 [03:27<00:00,  1.25it/s]\n"
     ]
    },
    {
     "name": "stdout",
     "output_type": "stream",
     "text": [
      "Processing image 2454 in test_index = 0 \n",
      "id = 9307304549132fcc35b467ed9f403841066f7cd96a2ee7c575e8333799406208\n",
      "multi processing\n",
      "Processing image 2455 in test_index = 0 \n",
      "id = b19e90f56e38004be7974609c84dccb1bc296a528045d3474efbfc0baf308900\n",
      "multi processing\n"
     ]
    },
    {
     "name": "stderr",
     "output_type": "stream",
     "text": [
      "100%|██████████| 65/65 [00:00<00:00, 73.04it/s]\n",
      "100%|██████████| 72/72 [00:01<00:00, 66.75it/s]\n",
      "100%|██████████| 78/78 [00:01<00:00, 66.15it/s]\n",
      "100%|██████████| 75/75 [00:01<00:00, 68.29it/s]\n"
     ]
    },
    {
     "name": "stdout",
     "output_type": "stream",
     "text": [
      "Processing image 2456 in test_index = 0 \n",
      "id = 606179fec8fa20b0b7bbb83e20ce9a22738f55e0a43f9bd3ef53783f02ed4725\n",
      "multi processing\n"
     ]
    },
    {
     "name": "stderr",
     "output_type": "stream",
     "text": [
      "100%|██████████| 81/81 [00:01<00:00, 59.03it/s]\n",
      "100%|██████████| 92/92 [00:01<00:00, 63.30it/s]\n",
      "100%|██████████| 96/96 [00:01<00:00, 55.20it/s]\n",
      "100%|██████████| 97/97 [00:01<00:00, 54.29it/s]\n"
     ]
    },
    {
     "name": "stdout",
     "output_type": "stream",
     "text": [
      "Processing image 2457 in test_index = 0 \n",
      "id = 3581cb4169caecb0882219692566fcfe96d501b4e267c369ed48d8c4ce4d21bf\n",
      "multi processing\n"
     ]
    },
    {
     "name": "stderr",
     "output_type": "stream",
     "text": [
      "100%|██████████| 22/22 [00:00<00:00, 22.61it/s]\n",
      "100%|██████████| 23/23 [00:01<00:00, 20.16it/s]\n",
      "100%|██████████| 25/25 [00:01<00:00, 19.81it/s]\n",
      "100%|██████████| 32/32 [00:01<00:00, 18.80it/s]\n"
     ]
    },
    {
     "name": "stdout",
     "output_type": "stream",
     "text": [
      "Processing image 2458 in test_index = 0 \n",
      "id = b7e98aea1c69b8b15480642601806f1dadbaf802c8cb2633586331c83bfda88f\n",
      "multi processing\n",
      "Processing image 2459 in test_index = 0 \n",
      "id = e6e571d6ab6dd45fc6dc496db24eac71721bd1de4e695940e2e6089cc5239e6e\n",
      "multi processing\n",
      "Processing image 2460 in test_index = 0 \n",
      "id = 9c7ebccedebb7e33a8ab8cef3c031d7845deb7c86064f81710691c7e64611b81\n",
      "multi processing\n"
     ]
    },
    {
     "name": "stderr",
     "output_type": "stream",
     "text": [
      "100%|██████████| 46/46 [00:05<00:00,  8.15it/s]\n",
      "100%|██████████| 49/49 [00:06<00:00,  7.35it/s]\n",
      "100%|██████████| 50/50 [00:06<00:00,  7.72it/s]\n",
      "100%|██████████| 52/52 [00:07<00:00,  7.38it/s]\n"
     ]
    },
    {
     "name": "stdout",
     "output_type": "stream",
     "text": [
      "Processing image 2461 in test_index = 0 \n",
      "id = 740426bdf2e9fcbb391374486d4bc36dff74eebdd15b1666f03d3423e8990d34\n",
      "multi processing\n"
     ]
    },
    {
     "name": "stderr",
     "output_type": "stream",
     "text": [
      "100%|██████████| 60/60 [00:00<00:00, 70.93it/s]\n",
      "100%|██████████| 61/61 [00:00<00:00, 69.04it/s]\n",
      "100%|██████████| 63/63 [00:00<00:00, 65.68it/s]\n",
      "100%|██████████| 67/67 [00:01<00:00, 66.58it/s]\n"
     ]
    },
    {
     "name": "stdout",
     "output_type": "stream",
     "text": [
      "Processing image 2462 in test_index = 0 \n",
      "id = e0b30a0d6bea678da8f60a0f1c04d8c315c183cb159cb4397a7bb18b5d890b13\n",
      "multi processing\n"
     ]
    },
    {
     "name": "stderr",
     "output_type": "stream",
     "text": [
      "100%|██████████| 20/20 [00:00<00:00, 26.05it/s]\n",
      "100%|██████████| 21/21 [00:00<00:00, 24.60it/s]\n",
      "100%|██████████| 24/24 [00:01<00:00, 19.61it/s]\n",
      "100%|██████████| 26/26 [00:01<00:00, 18.21it/s]\n"
     ]
    },
    {
     "name": "stdout",
     "output_type": "stream",
     "text": [
      "Processing image 2463 in test_index = 0 \n",
      "id = 78d5416e8df6636cdc592c55f9d4634b3a0a3c47e69fc51b239e3db6192c096b\n",
      "multi processing\n",
      "Processing image 2464 in test_index = 0 \n",
      "id = 1d7cae191e761ce4debe0b69319f3088c309b9e1bd8aaec8a816db4bf6af7ce3\n",
      "multi processing\n"
     ]
    },
    {
     "name": "stderr",
     "output_type": "stream",
     "text": [
      "100%|██████████| 45/45 [00:05<00:00,  8.56it/s]\n",
      "100%|██████████| 50/50 [00:06<00:00,  8.21it/s]\n",
      "100%|██████████| 53/53 [00:07<00:00,  7.04it/s]\n",
      "100%|██████████| 60/60 [00:08<00:00,  7.28it/s]\n"
     ]
    },
    {
     "name": "stdout",
     "output_type": "stream",
     "text": [
      "Processing image 2465 in test_index = 0 \n",
      "id = 3af5a80cc1cd48abb796bc2632fff5ba4bf43c0d6b83248db4f10d15cbd4f73c\n",
      "multi processing\n"
     ]
    },
    {
     "name": "stderr",
     "output_type": "stream",
     "text": [
      "100%|██████████| 40/40 [00:00<00:00, 110.84it/s]\n",
      "100%|██████████| 33/33 [00:00<00:00, 110.91it/s]\n",
      "100%|██████████| 43/43 [00:00<00:00, 101.82it/s]\n",
      "100%|██████████| 41/41 [00:00<00:00, 102.48it/s]\n"
     ]
    },
    {
     "name": "stdout",
     "output_type": "stream",
     "text": [
      "Processing image 2466 in test_index = 0 \n",
      "id = 4267cfb9c3ba84d4e1f532a45d1af19880ee585055a611ab33e7485c7cfcb4c1\n",
      "multi processing\n"
     ]
    },
    {
     "name": "stderr",
     "output_type": "stream",
     "text": [
      "100%|██████████| 63/63 [00:00<00:00, 75.38it/s]\n",
      "100%|██████████| 57/57 [00:00<00:00, 72.58it/s]\n",
      "100%|██████████| 61/61 [00:00<00:00, 71.28it/s]\n",
      "100%|██████████| 78/78 [00:01<00:00, 59.17it/s]\n"
     ]
    },
    {
     "name": "stdout",
     "output_type": "stream",
     "text": [
      "Processing image 2467 in test_index = 0 \n",
      "id = cacaa4784815c0771637cdc366f8a8733b4d8788dbb0e7b7cdfd15c4447e283d\n",
      "multi processing\n"
     ]
    },
    {
     "name": "stderr",
     "output_type": "stream",
     "text": [
      "100%|██████████| 19/19 [00:00<00:00, 27.62it/s]\n",
      "100%|██████████| 20/20 [00:00<00:00, 23.25it/s]\n",
      "100%|██████████| 28/28 [00:01<00:00, 21.43it/s]\n",
      "100%|██████████| 29/29 [00:01<00:00, 18.29it/s]\n"
     ]
    },
    {
     "name": "stdout",
     "output_type": "stream",
     "text": [
      "Processing image 2468 in test_index = 0 \n",
      "id = 450c5fae4d08e6a593dd6f79c8bee5a0ac7fea7f89a49caab3717003b203fd8b\n",
      "multi processing\n"
     ]
    },
    {
     "name": "stderr",
     "output_type": "stream",
     "text": [
      "100%|██████████| 127/127 [00:52<00:00,  2.42it/s]\n",
      "100%|██████████| 124/124 [00:55<00:00,  2.24it/s]\n",
      "100%|██████████| 130/130 [00:57<00:00,  2.25it/s]\n",
      "100%|██████████| 135/135 [01:03<00:00,  2.14it/s]\n"
     ]
    },
    {
     "name": "stdout",
     "output_type": "stream",
     "text": [
      "Processing image 2469 in test_index = 0 \n",
      "id = 1a3829007422f2ec05c7d243915f5b8ef6dd7a5d75e5005b10df1f44f8737593\n",
      "multi processing\n",
      "Processing image 2470 in test_index = 0 \n",
      "id = 6d7b793eef57df2d7f4aa138054a5df8eda109ac7f44fdf43b43c059887ac979\n",
      "multi processing\n"
     ]
    },
    {
     "name": "stderr",
     "output_type": "stream",
     "text": [
      "100%|██████████| 37/37 [00:00<00:00, 116.65it/s]\n",
      "100%|██████████| 32/32 [00:00<00:00, 117.23it/s]\n",
      "100%|██████████| 36/36 [00:00<00:00, 105.00it/s]\n",
      "100%|██████████| 36/36 [00:00<00:00, 105.06it/s]\n"
     ]
    },
    {
     "name": "stdout",
     "output_type": "stream",
     "text": [
      "Processing image 2471 in test_index = 0 \n",
      "id = 9fa13c2c686ed087449dd6df433d5798c574c42e3b65d7d384ca1533fe453ee6\n",
      "multi processing\n"
     ]
    },
    {
     "name": "stderr",
     "output_type": "stream",
     "text": [
      "100%|██████████| 4/4 [00:00<00:00, 91.41it/s]\n",
      "100%|██████████| 8/8 [00:00<00:00, 82.77it/s]\n",
      "100%|██████████| 8/8 [00:00<00:00, 84.10it/s]\n",
      "100%|██████████| 8/8 [00:00<00:00, 76.51it/s]\n"
     ]
    },
    {
     "name": "stdout",
     "output_type": "stream",
     "text": [
      "Processing image 2472 in test_index = 0 \n",
      "id = cb6dc68a6be250cdc96a93aa4c16b7f8e25c972f509b0092642ccdc5e980446d\n",
      "multi processing\n"
     ]
    },
    {
     "name": "stderr",
     "output_type": "stream",
     "text": [
      "100%|██████████| 60/60 [00:00<00:00, 83.78it/s]\n",
      "100%|██████████| 55/55 [00:00<00:00, 74.39it/s]\n",
      "\n",
      "100%|██████████| 57/57 [00:00<00:00, 64.42it/s]\n"
     ]
    },
    {
     "name": "stdout",
     "output_type": "stream",
     "text": [
      "Processing image 2473 in test_index = 0 \n",
      "id = 89d809c7f4794e35e257ef22ae7aa84b34d9da7da799cbeb51e7aa8d8ba60698\n",
      "multi processing\n"
     ]
    },
    {
     "name": "stderr",
     "output_type": "stream",
     "text": [
      "100%|██████████| 83/83 [00:01<00:00, 77.19it/s]\n",
      "100%|██████████| 77/77 [00:01<00:00, 72.64it/s]\n",
      "100%|██████████| 79/79 [00:01<00:00, 62.50it/s]\n",
      "100%|██████████| 78/78 [00:01<00:00, 65.02it/s]\n"
     ]
    },
    {
     "name": "stdout",
     "output_type": "stream",
     "text": [
      "Processing image 2474 in test_index = 0 \n",
      "id = 5e03f7e5cc8d1c64c3787276a2ce7d4d623cc4044e216148026f023420835a75\n",
      "multi processing\n"
     ]
    },
    {
     "name": "stderr",
     "output_type": "stream",
     "text": [
      "100%|██████████| 3/3 [00:00<00:00, 204.75it/s]\n"
     ]
    },
    {
     "name": "stdout",
     "output_type": "stream",
     "text": [
      "Processing image 2475 in test_index = 0 \n",
      "id = 80cb3d68a89f4733af81ea323c8e4d9cc2f36f4fe0288d8ce42afcfa6f13e549\n",
      "multi processing\n"
     ]
    },
    {
     "name": "stderr",
     "output_type": "stream",
     "text": [
      "100%|██████████| 49/49 [00:08<00:00,  6.00it/s]\n",
      "100%|██████████| 58/58 [00:09<00:00,  6.08it/s]\n",
      "100%|██████████| 58/58 [00:10<00:00,  5.49it/s]\n",
      "100%|██████████| 62/62 [00:11<00:00,  5.41it/s]\n"
     ]
    },
    {
     "name": "stdout",
     "output_type": "stream",
     "text": [
      "Processing image 2476 in test_index = 0 \n",
      "id = c05f78a3c5375919ee0b0969095e634359c9fe67822565de25b77840ffa6a4f6\n",
      "multi processing\n"
     ]
    },
    {
     "name": "stderr",
     "output_type": "stream",
     "text": [
      "100%|██████████| 4/4 [00:00<00:00, 249.86it/s]\n",
      "100%|██████████| 5/5 [00:00<00:00, 255.48it/s]\n",
      "100%|██████████| 5/5 [00:00<00:00, 267.30it/s]\n",
      "100%|██████████| 4/4 [00:00<00:00, 225.30it/s]\n"
     ]
    },
    {
     "name": "stdout",
     "output_type": "stream",
     "text": [
      "Processing image 2477 in test_index = 0 \n",
      "id = bd3f9814584d86fd3cfeb60fe6d5c5598d513ba973da7a2d568d67efc909ab3a\n",
      "multi processing\n"
     ]
    },
    {
     "name": "stderr",
     "output_type": "stream",
     "text": [
      "100%|██████████| 70/70 [00:13<00:00,  5.06it/s]\n",
      "100%|██████████| 84/84 [00:18<00:00,  4.46it/s]\n",
      "100%|██████████| 87/87 [00:19<00:00,  4.40it/s]\n",
      "100%|██████████| 94/94 [00:22<00:00,  4.19it/s]\n"
     ]
    },
    {
     "name": "stdout",
     "output_type": "stream",
     "text": [
      "Processing image 2478 in test_index = 0 \n",
      "id = 2ec47c938fc586c9c13f9a81a898cea7d8014f0a04d63f8003da9726736dc9c7\n",
      "multi processing\n",
      "Processing image 2479 in test_index = 0 \n",
      "id = 7fb20581282dec19727c4d6743fa0361c438806e078491f9b2a7a4bc30bccf33\n",
      "multi processing\n"
     ]
    },
    {
     "name": "stderr",
     "output_type": "stream",
     "text": [
      "100%|██████████| 199/199 [02:10<00:00,  1.52it/s]\n",
      "100%|██████████| 208/208 [02:17<00:00,  1.52it/s]\n",
      "100%|██████████| 198/198 [02:19<00:00,  1.42it/s]\n",
      "100%|██████████| 201/201 [02:26<00:00,  1.37it/s]\n"
     ]
    },
    {
     "name": "stdout",
     "output_type": "stream",
     "text": [
      "Processing image 2480 in test_index = 0 \n",
      "id = d41368507c5fd898a1a88ac35b9479e256d295c92c5baa08b2e75a05629755bf\n",
      "multi processing\n"
     ]
    },
    {
     "name": "stderr",
     "output_type": "stream",
     "text": [
      "100%|██████████| 276/276 [02:44<00:00,  1.68it/s]\n",
      "100%|██████████| 283/283 [03:01<00:00,  1.56it/s]\n",
      "100%|██████████| 292/292 [03:10<00:00,  1.53it/s]\n",
      "100%|██████████| 304/304 [03:12<00:00,  1.58it/s]\n"
     ]
    },
    {
     "name": "stdout",
     "output_type": "stream",
     "text": [
      "Processing image 2481 in test_index = 0 \n",
      "id = ccb3de6b3c2682e0a718cef5559b26f3676cac8eb60e60b9cea764cac74090ba\n",
      "multi processing\n"
     ]
    },
    {
     "name": "stderr",
     "output_type": "stream",
     "text": [
      "100%|██████████| 7/7 [00:00<00:00, 73.45it/s]\n",
      "100%|██████████| 7/7 [00:00<00:00, 78.40it/s]\n",
      "100%|██████████| 7/7 [00:00<00:00, 74.81it/s]\n",
      "100%|██████████| 11/11 [00:00<00:00, 54.48it/s]\n"
     ]
    },
    {
     "name": "stdout",
     "output_type": "stream",
     "text": [
      "Processing image 2482 in test_index = 0 \n",
      "id = 988075e9b32879250545dbe5680b8711fc095fd01d6acd8a67aa2a713ea82178\n",
      "multi processing\n"
     ]
    },
    {
     "name": "stderr",
     "output_type": "stream",
     "text": [
      "100%|██████████| 65/65 [00:01<00:00, 46.11it/s]\n",
      "100%|██████████| 61/61 [00:01<00:00, 44.72it/s]\n",
      "100%|██████████| 66/66 [00:01<00:00, 45.37it/s]\n",
      "100%|██████████| 64/64 [00:01<00:00, 46.29it/s]\n"
     ]
    },
    {
     "name": "stdout",
     "output_type": "stream",
     "text": [
      "Processing image 2483 in test_index = 0 \n",
      "id = a0236fc69b86b718f27e18dc7df2bdad1a92be58b3432de7ccc928ce0085fd70\n",
      "multi processing\n"
     ]
    },
    {
     "name": "stderr",
     "output_type": "stream",
     "text": [
      "100%|██████████| 25/25 [00:00<00:00, 130.46it/s]\n",
      "100%|██████████| 26/26 [00:00<00:00, 137.15it/s]\n",
      "100%|██████████| 30/30 [00:00<00:00, 109.62it/s]\n",
      "100%|██████████| 31/31 [00:00<00:00, 110.86it/s]\n"
     ]
    },
    {
     "name": "stdout",
     "output_type": "stream",
     "text": [
      "Processing image 2484 in test_index = 0 \n",
      "id = f467b31e6470e27743d31d5df0fcba33d01cd930342fa25ef25a2d1a5bff7f14\n",
      "multi processing\n"
     ]
    },
    {
     "name": "stderr",
     "output_type": "stream",
     "text": [
      "100%|██████████| 42/42 [00:00<00:00, 55.58it/s]\n",
      "100%|██████████| 57/57 [00:01<00:00, 51.16it/s]\n",
      "100%|██████████| 65/65 [00:01<00:00, 52.27it/s]\n",
      "100%|██████████| 69/69 [00:01<00:00, 50.17it/s]\n"
     ]
    },
    {
     "name": "stdout",
     "output_type": "stream",
     "text": [
      "Processing image 2485 in test_index = 0 \n",
      "id = b49c3e8ca8805f3416d453414024b2cb878637b820a11dcd027d3938d91ed975\n",
      "multi processing\n"
     ]
    },
    {
     "name": "stderr",
     "output_type": "stream",
     "text": [
      "100%|██████████| 1/1 [00:00<00:00, 3211.57it/s]\n",
      "100%|██████████| 1/1 [00:00<00:00, 3851.52it/s]\n"
     ]
    },
    {
     "name": "stdout",
     "output_type": "stream",
     "text": [
      "Processing image 2486 in test_index = 0 \n",
      "id = 90e246e89383ff8e193b1a710bd85cc8e15eddc75947cee8af7864702cf53ecf\n",
      "multi processing\n"
     ]
    },
    {
     "name": "stderr",
     "output_type": "stream",
     "text": [
      "100%|██████████| 36/36 [00:00<00:00, 131.06it/s]\n",
      "100%|██████████| 31/31 [00:00<00:00, 129.60it/s]\n",
      " 40%|████      | 17/42 [00:00<00:00, 63.94it/s]\n",
      "100%|██████████| 42/42 [00:00<00:00, 140.54it/s]\n"
     ]
    },
    {
     "name": "stdout",
     "output_type": "stream",
     "text": [
      "Processing image 2487 in test_index = 0 \n",
      "id = d7d610a41847083b425b2b6add2199784e765d32c420a98c5fa5169ed6b6e301\n",
      "multi processing\n"
     ]
    },
    {
     "name": "stderr",
     "output_type": "stream",
     "text": [
      "100%|██████████| 185/185 [01:52<00:00,  1.65it/s]\n",
      "100%|██████████| 210/210 [02:19<00:00,  1.50it/s]\n",
      " 61%|██████▏   | 129/210 [02:20<01:27,  1.09s/it]\n",
      "100%|██████████| 210/210 [02:23<00:00,  1.46it/s]\n"
     ]
    },
    {
     "name": "stdout",
     "output_type": "stream",
     "text": [
      "Processing image 2488 in test_index = 0 \n",
      "id = 6a11a786b3c922cf1fa78376bf038f6b75e959fa069e480eb48fa86380f28ffa\n",
      "multi processing\n"
     ]
    },
    {
     "name": "stderr",
     "output_type": "stream",
     "text": [
      "100%|██████████| 31/31 [00:00<00:00, 116.91it/s]\n",
      "100%|██████████| 36/36 [00:00<00:00, 106.08it/s]\n",
      "100%|██████████| 38/38 [00:00<00:00, 97.87it/s]\n",
      "100%|██████████| 40/40 [00:00<00:00, 95.48it/s]\n"
     ]
    },
    {
     "name": "stdout",
     "output_type": "stream",
     "text": [
      "Processing image 2489 in test_index = 0 \n",
      "id = 39484b1667d8ad9fb62b01c72f548efb0cf387ec9d0f57d9424e988402bfbf02\n",
      "multi processing\n"
     ]
    },
    {
     "name": "stderr",
     "output_type": "stream",
     "text": [
      "100%|██████████| 67/67 [00:08<00:00,  7.47it/s]\n",
      "100%|██████████| 66/66 [00:08<00:00,  7.95it/s]\n",
      "100%|██████████| 79/79 [00:10<00:00,  7.42it/s]\n",
      "100%|██████████| 93/93 [00:13<00:00,  7.10it/s]\n"
     ]
    },
    {
     "name": "stdout",
     "output_type": "stream",
     "text": [
      "Processing image 2490 in test_index = 0 \n",
      "id = 89001b0c0fac5385bc186276505beba23745b59a514a27f0fff904087c64f456\n",
      "multi processing\n"
     ]
    },
    {
     "name": "stderr",
     "output_type": "stream",
     "text": [
      "100%|██████████| 57/57 [00:00<00:00, 78.58it/s]\n",
      "100%|██████████| 77/77 [00:01<00:00, 59.69it/s]\n",
      "100%|██████████| 77/77 [00:01<00:00, 60.96it/s]\n",
      "100%|██████████| 80/80 [00:01<00:00, 53.33it/s]\n"
     ]
    },
    {
     "name": "stdout",
     "output_type": "stream",
     "text": [
      "Processing image 2491 in test_index = 0 \n",
      "id = 8a0513c1c0abda1d99fd9ecbb7e4ea4a4d330d5c6ffde4037508f88d4294deda\n",
      "multi processing\n"
     ]
    },
    {
     "name": "stderr",
     "output_type": "stream",
     "text": [
      "  0%|          | 0/1 [00:00<?, ?it/s]\n",
      "100%|██████████| 1/1 [00:00<00:00, 3297.41it/s]\n",
      "100%|██████████| 2/2 [00:00<00:00, 80.29it/s]\n"
     ]
    },
    {
     "name": "stdout",
     "output_type": "stream",
     "text": [
      "Processing image 2492 in test_index = 0 \n",
      "id = 89fd0b4dcb88b843cfe92353abc87aeb47d38404613e2c794b546f6ed3e2da12\n",
      "multi processing\n"
     ]
    },
    {
     "name": "stderr",
     "output_type": "stream",
     "text": [
      "100%|██████████| 41/41 [00:00<00:00, 106.28it/s]\n",
      "100%|██████████| 42/42 [00:00<00:00, 102.53it/s]\n",
      "100%|██████████| 50/50 [00:00<00:00, 94.29it/s]\n",
      "100%|██████████| 46/46 [00:00<00:00, 93.27it/s]\n"
     ]
    },
    {
     "name": "stdout",
     "output_type": "stream",
     "text": [
      "Processing image 2493 in test_index = 0 \n",
      "id = e253161e9d74e15f28a4057ad710431924d16b209df84961ccc1c3ae6c9a2e6e\n",
      "multi processing\n"
     ]
    },
    {
     "name": "stderr",
     "output_type": "stream",
     "text": [
      "100%|██████████| 45/45 [00:00<00:00, 108.12it/s]\n",
      "100%|██████████| 56/56 [00:00<00:00, 99.18it/s]\n",
      "100%|██████████| 56/56 [00:00<00:00, 92.99it/s]\n",
      "100%|██████████| 65/65 [00:00<00:00, 88.18it/s]\n"
     ]
    },
    {
     "name": "stdout",
     "output_type": "stream",
     "text": [
      "Processing image 2494 in test_index = 0 \n",
      "id = 715c8f6e6a25a14b34b73768f2e1f41202a281cba9f58abcc71947ff976369ef\n",
      "multi processing\n"
     ]
    },
    {
     "name": "stderr",
     "output_type": "stream",
     "text": [
      "100%|██████████| 57/57 [00:10<00:00,  5.66it/s]\n",
      "100%|██████████| 56/56 [00:09<00:00,  5.66it/s]\n",
      "100%|██████████| 58/58 [00:10<00:00,  5.79it/s]\n",
      "100%|██████████| 58/58 [00:10<00:00,  5.59it/s]\n"
     ]
    },
    {
     "name": "stdout",
     "output_type": "stream",
     "text": [
      "Processing image 2495 in test_index = 0 \n",
      "id = bbd3e33a0d986860bb0a9840d3e485db5c567a8e94e2113ecfe4958f4facc1c9\n",
      "multi processing\n"
     ]
    },
    {
     "name": "stderr",
     "output_type": "stream",
     "text": [
      "100%|██████████| 2/2 [00:00<00:00, 146.56it/s]\n",
      "100%|██████████| 3/3 [00:00<00:00, 189.95it/s]\n",
      "100%|██████████| 2/2 [00:00<00:00, 134.66it/s]\n"
     ]
    },
    {
     "name": "stdout",
     "output_type": "stream",
     "text": [
      "Processing image 2496 in test_index = 0 \n",
      "id = f06c76a3bd75f8dc3dfbcf97429e56b18a9bc9d3742e37f908be5b300dff1866\n",
      "multi processing\n",
      "Processing image 2497 in test_index = 0 \n",
      "id = b4a6f3e7515e8b263eed2ab05d1bc0bd67999211d2cd1ebe81dfc32473dc513b\n",
      "multi processing\n"
     ]
    },
    {
     "name": "stderr",
     "output_type": "stream",
     "text": [
      "100%|██████████| 7/7 [00:00<00:00, 63.53it/s]\n",
      "100%|██████████| 9/9 [00:00<00:00, 65.58it/s]\n",
      "100%|██████████| 7/7 [00:00<00:00, 75.88it/s]\n",
      "100%|██████████| 7/7 [00:00<00:00, 76.63it/s]\n"
     ]
    },
    {
     "name": "stdout",
     "output_type": "stream",
     "text": [
      "Processing image 2498 in test_index = 0 \n",
      "id = 90b7f92c499bcd5e46ff210aedd034661d4ad8406b592799a3f46f2659ead2b1\n",
      "multi processing\n",
      "Processing image 2499 in test_index = 0 \n",
      "id = e08f8b79816a33df69e80e98cf90056897a87db58a61f722dc5d5ec13652db1f\n",
      "multi processing\n"
     ]
    },
    {
     "name": "stderr",
     "output_type": "stream",
     "text": [
      "100%|██████████| 28/28 [00:00<00:00, 162.94it/s]\n",
      "100%|██████████| 29/29 [00:00<00:00, 150.36it/s]\n",
      "100%|██████████| 28/28 [00:00<00:00, 157.42it/s]\n",
      "100%|██████████| 33/33 [00:00<00:00, 133.88it/s]\n"
     ]
    },
    {
     "name": "stdout",
     "output_type": "stream",
     "text": [
      "Processing image 2500 in test_index = 0 \n",
      "id = d8fba3520e065d0c06cedb774efa8e0f367ecf70eceb135a76b009e34558a57a\n",
      "multi processing\n",
      "Processing image 2501 in test_index = 0 \n",
      "id = 4f5cde112df076e198bc0128620d6b510c06fcdc1d391bde4cd9224e0d4de6be\n",
      "multi processing\n"
     ]
    },
    {
     "name": "stderr",
     "output_type": "stream",
     "text": [
      "100%|██████████| 237/237 [02:49<00:00,  1.40it/s]\n",
      "100%|██████████| 239/239 [02:58<00:00,  1.34it/s]\n",
      "100%|██████████| 251/251 [03:01<00:00,  1.38it/s]\n",
      "100%|██████████| 252/252 [03:17<00:00,  1.28it/s]\n"
     ]
    },
    {
     "name": "stdout",
     "output_type": "stream",
     "text": [
      "Processing image 2502 in test_index = 0 \n",
      "id = c9ca6e2aad1f320b3f1e974a99040d3959554f5ce28a39a49a9babb5b6a7682b\n",
      "multi processing\n"
     ]
    },
    {
     "name": "stderr",
     "output_type": "stream",
     "text": [
      "100%|██████████| 15/15 [00:00<00:00, 220.90it/s]\n",
      "100%|██████████| 15/15 [00:00<00:00, 234.91it/s]\n",
      "100%|██████████| 25/25 [00:00<00:00, 191.52it/s]\n",
      "100%|██████████| 20/20 [00:00<00:00, 192.85it/s]\n"
     ]
    },
    {
     "name": "stdout",
     "output_type": "stream",
     "text": [
      "Processing image 2503 in test_index = 0 \n",
      "id = 382cee9585b4614cfaf691cda4721982f56f0741c2089f2fe87419d181e7f122\n",
      "multi processing\n"
     ]
    },
    {
     "name": "stderr",
     "output_type": "stream",
     "text": [
      "100%|██████████| 78/78 [00:15<00:00,  5.19it/s]\n",
      "100%|██████████| 81/81 [00:16<00:00,  4.99it/s]\n",
      "100%|██████████| 90/90 [00:20<00:00,  4.43it/s]\n",
      "100%|██████████| 91/91 [00:21<00:00,  4.31it/s]\n"
     ]
    },
    {
     "name": "stdout",
     "output_type": "stream",
     "text": [
      "Processing image 2504 in test_index = 0 \n",
      "id = dbd5dce02033e8a08b3cca0194b793dd5ce2d06e38327b35c225b2c2a505d707\n",
      "multi processing\n"
     ]
    },
    {
     "name": "stderr",
     "output_type": "stream",
     "text": [
      "100%|██████████| 48/48 [00:00<00:00, 96.34it/s]\n",
      "100%|██████████| 53/53 [00:00<00:00, 79.86it/s]\n",
      "100%|██████████| 56/56 [00:00<00:00, 83.98it/s]\n",
      "100%|██████████| 63/63 [00:00<00:00, 84.81it/s]\n"
     ]
    },
    {
     "name": "stdout",
     "output_type": "stream",
     "text": [
      "Processing image 2505 in test_index = 0 \n",
      "id = 013d4a2e194a67be2c858c6a246baa0c5715d9ab73c3c84704f109978da71092\n",
      "multi processing\n"
     ]
    },
    {
     "name": "stderr",
     "output_type": "stream",
     "text": [
      "100%|██████████| 80/80 [00:01<00:00, 44.39it/s]\n",
      "100%|██████████| 82/82 [00:02<00:00, 40.67it/s]\n",
      "100%|██████████| 81/81 [00:02<00:00, 37.14it/s]\n",
      " 50%|█████     | 42/84 [00:02<00:02, 19.04it/s]\n",
      "100%|██████████| 84/84 [00:02<00:00, 37.95it/s]"
     ]
    },
    {
     "name": "stdout",
     "output_type": "stream",
     "text": [
      "Processing image 2506 in test_index = 0 \n",
      "id = 8599fb1260bdc54b303c6d249b8fb76bc6e784fe3294abfc3e06ef23190d51e0\n",
      "multi processing\n"
     ]
    },
    {
     "name": "stderr",
     "output_type": "stream",
     "text": [
      "100%|██████████| 39/39 [00:00<00:00, 136.09it/s]\n",
      "100%|██████████| 55/55 [00:00<00:00, 95.36it/s]\n",
      "100%|██████████| 50/50 [00:00<00:00, 92.12it/s]\n",
      "100%|██████████| 53/53 [00:00<00:00, 91.52it/s]\n"
     ]
    },
    {
     "name": "stdout",
     "output_type": "stream",
     "text": [
      "Processing image 2507 in test_index = 0 \n",
      "id = e9d1bc92a423481eed09153537972e1364ae75791b4ac0f244c7e6203ed47f0d\n",
      "multi processing\n"
     ]
    },
    {
     "name": "stderr",
     "output_type": "stream",
     "text": [
      "100%|██████████| 118/118 [00:05<00:00, 23.42it/s]\n",
      "100%|██████████| 121/121 [00:05<00:00, 23.19it/s]\n",
      "100%|██████████| 131/131 [00:05<00:00, 22.71it/s]\n",
      "100%|██████████| 132/132 [00:05<00:00, 22.15it/s]\n"
     ]
    },
    {
     "name": "stdout",
     "output_type": "stream",
     "text": [
      "Processing image 2508 in test_index = 0 \n",
      "id = 7e71900ae47af6a3ae11db316b2560d0dda13375994ed1066be15db2d395cb1f\n",
      "multi processing\n"
     ]
    },
    {
     "name": "stderr",
     "output_type": "stream",
     "text": [
      "100%|██████████| 97/97 [00:02<00:00, 39.89it/s]]\n",
      "100%|██████████| 116/116 [00:02<00:00, 39.71it/s]\n",
      "100%|██████████| 114/114 [00:03<00:00, 36.11it/s]\n",
      "100%|██████████| 130/130 [00:03<00:00, 34.63it/s]\n"
     ]
    },
    {
     "name": "stdout",
     "output_type": "stream",
     "text": [
      "Processing image 2509 in test_index = 0 \n",
      "id = 08140866ad93f903d42412fd2847018df9dd3a5d1c7148ab596f31efead100d0\n",
      "multi processing\n"
     ]
    },
    {
     "name": "stderr",
     "output_type": "stream",
     "text": [
      "100%|██████████| 2/2 [00:00<00:00, 69.96it/s]\n",
      "100%|██████████| 4/4 [00:00<00:00, 94.53it/s]\n",
      "100%|██████████| 3/3 [00:00<00:00, 87.30it/s]\n",
      "100%|██████████| 3/3 [00:00<00:00, 91.36it/s]\n"
     ]
    },
    {
     "name": "stdout",
     "output_type": "stream",
     "text": [
      "Processing image 2510 in test_index = 0 \n",
      "id = f2bfe72e59b5a951016a630eb9747de45e72b49e46e9444fb6a001244bece329\n",
      "multi processing\n"
     ]
    },
    {
     "name": "stderr",
     "output_type": "stream",
     "text": [
      "100%|██████████| 283/283 [15:31<00:00,  3.29s/it] \n",
      "100%|██████████| 311/311 [17:56<00:00,  3.46s/it]\n",
      "100%|██████████| 326/326 [18:30<00:00,  3.41s/it]\n",
      "100%|██████████| 321/321 [18:27<00:00,  3.45s/it]\n"
     ]
    },
    {
     "name": "stdout",
     "output_type": "stream",
     "text": [
      "Processing image 2511 in test_index = 0 \n",
      "id = f45c87557cdcb062ed8d6bb5974ff431a9587b3f91560a69dd4d8f0791f1b35f\n",
      "multi processing\n"
     ]
    },
    {
     "name": "stderr",
     "output_type": "stream",
     "text": [
      "100%|██████████| 6/6 [00:00<00:00, 502.40it/s]\n",
      "100%|██████████| 13/13 [00:00<00:00, 303.90it/s]\n",
      "100%|██████████| 15/15 [00:00<00:00, 261.99it/s]\n",
      "100%|██████████| 14/14 [00:00<00:00, 316.92it/s]\n"
     ]
    },
    {
     "name": "stdout",
     "output_type": "stream",
     "text": [
      "Processing image 2512 in test_index = 0 \n",
      "id = a24bf00d4cbb218b8ba434a8446f6bec00f9611fca9491246c849a202d57f1e9\n",
      "multi processing\n",
      "Processing image 2513 in test_index = 0 \n",
      "id = c670e03f4b6e3dddbd15b78f7ed7c79c53dc215575daa1c35a2b2902ea56a98e\n",
      "multi processing\n"
     ]
    },
    {
     "name": "stderr",
     "output_type": "stream",
     "text": [
      "100%|██████████| 209/209 [02:45<00:00,  1.26it/s]\n",
      "100%|██████████| 217/217 [02:53<00:00,  1.25it/s]\n",
      "100%|██████████| 216/216 [02:53<00:00,  1.24it/s]\n",
      "100%|██████████| 224/224 [03:03<00:00,  1.22it/s]\n"
     ]
    },
    {
     "name": "stdout",
     "output_type": "stream",
     "text": [
      "Processing image 2514 in test_index = 0 \n",
      "id = 0f82b626abda7fcfba0893bab7d2946a2b5ebfda29d2c14f79f495d89c51a730\n",
      "multi processing\n"
     ]
    },
    {
     "name": "stderr",
     "output_type": "stream",
     "text": [
      "100%|██████████| 133/133 [00:05<00:00, 22.38it/s]\n",
      "100%|██████████| 127/127 [00:05<00:00, 21.57it/s]\n",
      "100%|██████████| 139/139 [00:06<00:00, 21.92it/s]\n",
      "100%|██████████| 140/140 [00:06<00:00, 21.82it/s]\n"
     ]
    },
    {
     "name": "stdout",
     "output_type": "stream",
     "text": [
      "Processing image 2515 in test_index = 0 \n",
      "id = ad26c8e2ad0e7ac4448c9880665bc86ff4e71ba6863843c9b87b0c8a4148a341\n",
      "multi processing\n"
     ]
    },
    {
     "name": "stderr",
     "output_type": "stream",
     "text": [
      "100%|██████████| 65/65 [00:01<00:00, 53.87it/s]\n",
      "100%|██████████| 62/62 [00:01<00:00, 42.73it/s]\n",
      "100%|██████████| 63/63 [00:01<00:00, 41.29it/s]\n",
      "100%|██████████| 66/66 [00:01<00:00, 43.70it/s]\n"
     ]
    },
    {
     "name": "stdout",
     "output_type": "stream",
     "text": [
      "Processing image 2516 in test_index = 0 \n",
      "id = 6574c07b2d76854605ec61c47dc18549110c4f20a3299f0ce8a0f2b5331f6a44\n",
      "multi processing\n",
      "Processing image 2517 in test_index = 0 \n",
      "id = a0187a63cb09f652b30009d4d4c7dfb74aec80bd9944741b29e7fdbf3c8359c2\n",
      "multi processing\n",
      "Processing image 2518 in test_index = 0 \n",
      "id = c9efe082e986c99c679a15fd4bbc2bc64fb84296d0821240d950f57ef2998ba0\n",
      "multi processing\n"
     ]
    },
    {
     "name": "stderr",
     "output_type": "stream",
     "text": [
      "100%|██████████| 84/84 [00:27<00:00,  3.10it/s]\n",
      "100%|██████████| 89/89 [00:28<00:00,  3.11it/s]\n",
      "100%|██████████| 92/92 [00:29<00:00,  3.07it/s]\n",
      "100%|██████████| 97/97 [00:31<00:00,  3.11it/s]\n"
     ]
    },
    {
     "name": "stdout",
     "output_type": "stream",
     "text": [
      "Processing image 2519 in test_index = 0 \n",
      "id = 24d35fb95a96e9ff444495adeb7b9100b74633186386046dc2e7a560f11d60e6\n",
      "multi processing\n"
     ]
    },
    {
     "name": "stderr",
     "output_type": "stream",
     "text": [
      "100%|██████████| 3/3 [00:00<00:00, 227.16it/s]\n",
      "100%|██████████| 5/5 [00:00<00:00, 229.65it/s]\n",
      "100%|██████████| 3/3 [00:00<00:00, 229.80it/s]\n",
      "100%|██████████| 5/5 [00:00<00:00, 229.79it/s]\n"
     ]
    },
    {
     "name": "stdout",
     "output_type": "stream",
     "text": [
      "Processing image 2520 in test_index = 0 \n",
      "id = c6fc48dfb7d48aa71c703fc509f7bceb5a80248521d2d647e8ff7fc12b88c915\n",
      "multi processing\n"
     ]
    },
    {
     "name": "stderr",
     "output_type": "stream",
     "text": [
      "100%|██████████| 52/52 [00:00<00:00, 75.93it/s]\n",
      "100%|██████████| 61/61 [00:01<00:00, 60.94it/s]\n",
      "100%|██████████| 78/78 [00:01<00:00, 49.11it/s]\n",
      "100%|██████████| 88/88 [00:01<00:00, 52.50it/s]\n"
     ]
    },
    {
     "name": "stdout",
     "output_type": "stream",
     "text": [
      "Processing image 2521 in test_index = 0 \n",
      "id = e15c40dd9254c2c123a840b9d111785d0013a73011a536b3c205a3bcd6d7243c\n",
      "multi processing\n",
      "Processing image 2522 in test_index = 0 \n",
      "id = 8914f2d812d2efc27ff0dc62ed95954ff5887bb20977ca0fb5d0f95b04d7e32a\n",
      "multi processing\n",
      "Processing image 2523 in test_index = 0 \n",
      "id = c3ea7d5e9bdee7d87a04a1d0a101f378f3f9d4dd1cc23a18f5615e6113830f53\n",
      "multi processing\n"
     ]
    },
    {
     "name": "stderr",
     "output_type": "stream",
     "text": [
      "100%|██████████| 18/18 [00:00<00:00, 167.18it/s]\n",
      "100%|██████████| 20/20 [00:00<00:00, 163.63it/s]\n",
      "100%|██████████| 25/25 [00:00<00:00, 149.85it/s]\n",
      "100%|██████████| 25/25 [00:00<00:00, 148.04it/s]\n"
     ]
    },
    {
     "name": "stdout",
     "output_type": "stream",
     "text": [
      "Processing image 2524 in test_index = 0 \n",
      "id = f39a631cad6af53486903c0f409e700b243e5f0976757b2efb03733cf74b0baa\n",
      "multi processing\n"
     ]
    },
    {
     "name": "stderr",
     "output_type": "stream",
     "text": [
      "100%|██████████| 1/1 [00:00<00:00, 2847.46it/s]\n",
      "100%|██████████| 3/3 [00:00<00:00, 232.65it/s]\n",
      "100%|██████████| 1/1 [00:00<00:00, 397.83it/s]\n",
      "100%|██████████| 3/3 [00:00<00:00, 82.96it/s]\n"
     ]
    },
    {
     "name": "stdout",
     "output_type": "stream",
     "text": [
      "Processing image 2525 in test_index = 0 \n",
      "id = 9e13f2f452ed851aeb69cc30e57d56905fe50e65e4d4ec8a7f543087dfa3f7f2\n",
      "multi processing\n"
     ]
    },
    {
     "name": "stderr",
     "output_type": "stream",
     "text": [
      "100%|██████████| 39/39 [00:01<00:00, 37.32it/s]\n",
      "100%|██████████| 33/33 [00:00<00:00, 34.66it/s]\n",
      "100%|██████████| 42/42 [00:01<00:00, 34.84it/s]\n",
      "100%|██████████| 46/46 [00:01<00:00, 33.30it/s]\n"
     ]
    },
    {
     "name": "stdout",
     "output_type": "stream",
     "text": [
      "Processing image 2526 in test_index = 0 \n",
      "id = 75ac637b11c5bc1b82fba54b7bc2887621807b3ab3c5e1a38fce01401110eb67\n",
      "multi processing\n"
     ]
    },
    {
     "name": "stderr",
     "output_type": "stream",
     "text": [
      "100%|██████████| 74/74 [00:02<00:00, 33.47it/s]\n",
      "100%|██████████| 75/75 [00:02<00:00, 33.45it/s]\n",
      "100%|██████████| 80/80 [00:02<00:00, 33.07it/s]\n",
      "100%|██████████| 83/83 [00:02<00:00, 32.23it/s]\n"
     ]
    },
    {
     "name": "stdout",
     "output_type": "stream",
     "text": [
      "Processing image 2527 in test_index = 0 \n",
      "id = 9b535062e7b0c475849643df2653c2265b13be15d99ac801f8f56ba18b758bdc\n",
      "multi processing\n"
     ]
    },
    {
     "name": "stderr",
     "output_type": "stream",
     "text": [
      "100%|██████████| 6/6 [00:00<00:00, 358.84it/s]\n",
      "100%|██████████| 4/4 [00:00<00:00, 260.93it/s]\n",
      "100%|██████████| 5/5 [00:00<00:00, 341.66it/s]\n",
      "100%|██████████| 8/8 [00:00<00:00, 261.27it/s]\n"
     ]
    },
    {
     "name": "stdout",
     "output_type": "stream",
     "text": [
      "Processing image 2528 in test_index = 0 \n",
      "id = c1a3cd2e68f13308711f65f3a2941aff81d94fcf4afee9e86c999ec8387ba21b\n",
      "multi processing\n",
      "Processing image 2529 in test_index = 0 \n",
      "id = 8434e4a1207d21217d5364ac7d6e3486aea59af8fe42e7bbac4b1878a029f581\n",
      "multi processing\n",
      "Processing image 2530 in test_index = 0 \n",
      "id = 64a78750efd256b849a0ef5f9a5f20ff87f8895ab4c23283b6ed12d264f52224\n",
      "multi processing\n"
     ]
    },
    {
     "name": "stderr",
     "output_type": "stream",
     "text": [
      "100%|██████████| 51/51 [00:00<00:00, 80.59it/s]\n",
      "100%|██████████| 57/57 [00:00<00:00, 76.19it/s]\n",
      "100%|██████████| 60/60 [00:00<00:00, 72.52it/s]\n",
      "100%|██████████| 60/60 [00:00<00:00, 69.48it/s]\n"
     ]
    },
    {
     "name": "stdout",
     "output_type": "stream",
     "text": [
      "Processing image 2531 in test_index = 0 \n",
      "id = 1fb9d0f56017403afaf5ab84ad798f2ce0777681f2a754a3285be4d93b08d7c2\n",
      "multi processing\n"
     ]
    },
    {
     "name": "stderr",
     "output_type": "stream",
     "text": [
      "100%|██████████| 44/44 [00:00<00:00, 108.15it/s]\n",
      "100%|██████████| 44/44 [00:00<00:00, 110.31it/s]\n",
      "100%|██████████| 42/42 [00:00<00:00, 106.75it/s]\n",
      "100%|██████████| 46/46 [00:00<00:00, 105.75it/s]\n"
     ]
    },
    {
     "name": "stdout",
     "output_type": "stream",
     "text": [
      "Processing image 2532 in test_index = 0 \n",
      "id = 1e7e055f4e8e3ba34d32d41f2ffe90fb16bdc421120e7050fac94594cac9315c\n",
      "multi processing\n"
     ]
    },
    {
     "name": "stderr",
     "output_type": "stream",
     "text": [
      "100%|██████████| 1/1 [00:00<00:00, 3371.63it/s]\n",
      "100%|██████████| 4/4 [00:00<00:00, 137.01it/s]\n",
      "100%|██████████| 2/2 [00:00<00:00, 79.62it/s]\n"
     ]
    },
    {
     "name": "stdout",
     "output_type": "stream",
     "text": [
      "Processing image 2533 in test_index = 0 \n",
      "id = 19de4f77d40a55a79192dde0f7b1209632955d57b757f4508a4e2ed83e30eecc\n",
      "multi processing\n"
     ]
    },
    {
     "name": "stderr",
     "output_type": "stream",
     "text": [
      "100%|██████████| 43/43 [00:00<00:00, 97.88it/s]\n",
      "100%|██████████| 46/46 [00:00<00:00, 90.69it/s]\n",
      "100%|██████████| 54/54 [00:00<00:00, 79.82it/s]\n",
      "100%|██████████| 59/59 [00:00<00:00, 76.14it/s]\n"
     ]
    },
    {
     "name": "stdout",
     "output_type": "stream",
     "text": [
      "Processing image 2534 in test_index = 0 \n",
      "id = 8afb1a90f79c0ef8c2db5a2a43063249d5f0f25c7b627d46e57783a253ddc09b\n",
      "multi processing\n"
     ]
    },
    {
     "name": "stderr",
     "output_type": "stream",
     "text": [
      "100%|██████████| 12/12 [00:00<00:00, 265.76it/s]\n",
      "100%|██████████| 18/18 [00:00<00:00, 212.30it/s]\n",
      "100%|██████████| 15/15 [00:00<00:00, 216.27it/s]\n",
      "100%|██████████| 19/19 [00:00<00:00, 211.38it/s]\n"
     ]
    },
    {
     "name": "stdout",
     "output_type": "stream",
     "text": [
      "Processing image 2535 in test_index = 0 \n",
      "id = 4c6669f35af2a6e34e3db658d67079c20b9ddfaa5062d728c95ae810b5a5bb79\n",
      "multi processing\n"
     ]
    },
    {
     "name": "stderr",
     "output_type": "stream",
     "text": [
      "100%|██████████| 54/54 [00:01<00:00, 53.06it/s]\n",
      "100%|██████████| 66/66 [00:01<00:00, 55.84it/s]\n",
      "100%|██████████| 73/73 [00:01<00:00, 50.73it/s]\n",
      "100%|██████████| 74/74 [00:01<00:00, 50.15it/s]\n"
     ]
    },
    {
     "name": "stdout",
     "output_type": "stream",
     "text": [
      "Processing image 2536 in test_index = 0 \n",
      "id = 8e8d29305b4e1ced6f5039057d4bfe7d1caa0c1de3c665f40c8238d5a32b7066\n",
      "multi processing\n"
     ]
    },
    {
     "name": "stderr",
     "output_type": "stream",
     "text": [
      "100%|██████████| 1/1 [00:00<00:00, 2403.61it/s]\n",
      "100%|██████████| 1/1 [00:00<00:00, 116.92it/s]\n",
      "100%|██████████| 4/4 [00:00<00:00, 92.67it/s]\n",
      "100%|██████████| 5/5 [00:00<00:00, 87.68it/s]\n"
     ]
    },
    {
     "name": "stdout",
     "output_type": "stream",
     "text": [
      "Processing image 2537 in test_index = 0 \n",
      "id = 57e7b13df791e008a1723adeb311cd7336dbc3f6fac19e3ebb0eda4c18c174fb\n",
      "multi processing\n"
     ]
    },
    {
     "name": "stderr",
     "output_type": "stream",
     "text": [
      "100%|██████████| 6/6 [00:00<00:00, 277.75it/s]\n",
      "100%|██████████| 4/4 [00:00<00:00, 399.70it/s]\n",
      "100%|██████████| 6/6 [00:00<00:00, 327.15it/s]\n",
      "100%|██████████| 10/10 [00:00<00:00, 363.20it/s]\n"
     ]
    },
    {
     "name": "stdout",
     "output_type": "stream",
     "text": [
      "Processing image 2538 in test_index = 0 \n",
      "id = 0c14d74f31b6bbeea94e9937320c5c42602377ae3605f8a044f13b8b716dae6b\n",
      "multi processing\n"
     ]
    },
    {
     "name": "stderr",
     "output_type": "stream",
     "text": [
      "100%|██████████| 121/121 [00:52<00:00,  2.31it/s]\n",
      "100%|██████████| 125/125 [00:54<00:00,  2.30it/s]\n",
      "100%|██████████| 121/121 [00:55<00:00,  2.20it/s]\n",
      "100%|██████████| 119/119 [00:57<00:00,  2.05it/s]\n"
     ]
    },
    {
     "name": "stdout",
     "output_type": "stream",
     "text": [
      "Processing image 2539 in test_index = 0 \n",
      "id = 7aee0ace0d4591fc0ee77e85d9d9258c3764df2890a278808b804ab20a4d7058\n",
      "multi processing\n"
     ]
    },
    {
     "name": "stderr",
     "output_type": "stream",
     "text": [
      "100%|██████████| 47/47 [00:05<00:00,  8.47it/s]\n",
      "100%|██████████| 50/50 [00:06<00:00,  7.83it/s]\n",
      "100%|██████████| 56/56 [00:07<00:00,  7.53it/s]\n",
      "100%|██████████| 54/54 [00:07<00:00,  7.21it/s]\n"
     ]
    },
    {
     "name": "stdout",
     "output_type": "stream",
     "text": [
      "Processing image 2540 in test_index = 0 \n",
      "id = 1a065fce169338fb5e02ff37c4480c7f88864aa8a03ffa671d3e5c266596ebcc\n",
      "multi processing\n"
     ]
    },
    {
     "name": "stderr",
     "output_type": "stream",
     "text": [
      "100%|██████████| 30/30 [00:00<00:00, 153.13it/s]\n",
      "100%|██████████| 30/30 [00:00<00:00, 133.32it/s]\n",
      "100%|██████████| 36/36 [00:00<00:00, 121.81it/s]\n",
      "100%|██████████| 38/38 [00:00<00:00, 127.00it/s]\n"
     ]
    },
    {
     "name": "stdout",
     "output_type": "stream",
     "text": [
      "Processing image 2541 in test_index = 0 \n",
      "id = 778e109d5b6248abadc32f96b8a8c34a73e70c7931cee144f69ccc58f2a07a45\n",
      "multi processing\n"
     ]
    },
    {
     "name": "stderr",
     "output_type": "stream",
     "text": [
      "100%|██████████| 138/138 [01:08<00:00,  2.01it/s]\n",
      "100%|██████████| 145/145 [01:13<00:00,  1.96it/s]\n",
      "100%|██████████| 153/153 [01:21<00:00,  1.87it/s]\n",
      "100%|██████████| 158/158 [01:27<00:00,  1.82it/s]\n"
     ]
    },
    {
     "name": "stdout",
     "output_type": "stream",
     "text": [
      "Processing image 2542 in test_index = 0 \n",
      "id = 2fc810a2f8b635546e8abf24f14aeb2c75dc1e5f40369df650af754625eb6276\n",
      "multi processing\n"
     ]
    },
    {
     "name": "stderr",
     "output_type": "stream",
     "text": [
      "100%|██████████| 26/26 [00:00<00:00, 158.45it/s]\n",
      " 59%|█████▉    | 20/34 [00:00<00:00, 96.41it/s]\n",
      "100%|██████████| 31/31 [00:00<00:00, 156.08it/s]\n",
      "100%|██████████| 41/41 [00:00<00:00, 134.94it/s]\n"
     ]
    },
    {
     "name": "stdout",
     "output_type": "stream",
     "text": [
      "Processing image 2543 in test_index = 0 \n",
      "id = 4dc5a931b6c19f595a080a6bd2c3a83ad9b77c3fa22acdc2f5c85c9b81946b0b\n",
      "multi processing\n"
     ]
    },
    {
     "name": "stderr",
     "output_type": "stream",
     "text": [
      "100%|██████████| 34/34 [00:00<00:00, 145.26it/s]\n",
      "100%|██████████| 33/33 [00:00<00:00, 126.54it/s]\n",
      "100%|██████████| 33/33 [00:00<00:00, 130.51it/s]\n",
      "100%|██████████| 40/40 [00:00<00:00, 126.81it/s]\n"
     ]
    },
    {
     "name": "stdout",
     "output_type": "stream",
     "text": [
      "Processing image 2544 in test_index = 0 \n",
      "id = d16ab353f7cf1a0f322a1527d3c02f8738d5a4b4b5c53899bf7fe62c9e8fc988\n",
      "multi processing\n"
     ]
    },
    {
     "name": "stderr",
     "output_type": "stream",
     "text": [
      "100%|██████████| 69/69 [00:11<00:00,  6.14it/s]\n",
      "100%|██████████| 69/69 [00:11<00:00,  5.83it/s]\n",
      "100%|██████████| 76/76 [00:13<00:00,  5.55it/s]\n",
      "100%|██████████| 75/75 [00:13<00:00,  5.61it/s]\n"
     ]
    },
    {
     "name": "stdout",
     "output_type": "stream",
     "text": [
      "Processing image 2545 in test_index = 0 \n",
      "id = c6848c200a8c2313f9d49aff31b0d59a88a3e7004dfdd5801fa725849da0af1f\n",
      "multi processing\n"
     ]
    },
    {
     "name": "stderr",
     "output_type": "stream",
     "text": [
      "100%|██████████| 14/14 [00:00<00:00, 266.11it/s]\n",
      "100%|██████████| 10/10 [00:00<00:00, 229.30it/s]\n",
      "100%|██████████| 13/13 [00:00<00:00, 197.87it/s]\n",
      "100%|██████████| 20/20 [00:00<00:00, 176.68it/s]\n"
     ]
    },
    {
     "name": "stdout",
     "output_type": "stream",
     "text": [
      "Processing image 2546 in test_index = 0 \n",
      "id = 4f6b5494b9c1d21d1ffc1cebf6ec957e0d00eef69a394d6041889a9bfe603333\n",
      "multi processing\n"
     ]
    },
    {
     "name": "stderr",
     "output_type": "stream",
     "text": [
      "100%|██████████| 71/71 [00:00<00:00, 76.94it/s]\n",
      "100%|██████████| 77/77 [00:01<00:00, 64.92it/s]\n",
      "100%|██████████| 82/82 [00:01<00:00, 56.57it/s]\n",
      "100%|██████████| 83/83 [00:01<00:00, 58.90it/s]\n"
     ]
    },
    {
     "name": "stdout",
     "output_type": "stream",
     "text": [
      "Processing image 2547 in test_index = 0 \n",
      "id = fa093da63bccd776ff425e7b429c45979a594cde5f4f7f31bee53c8a5845d499\n",
      "multi processing\n"
     ]
    },
    {
     "name": "stderr",
     "output_type": "stream",
     "text": [
      "100%|██████████| 63/63 [00:01<00:00, 52.28it/s]\n",
      "100%|██████████| 59/59 [00:01<00:00, 51.38it/s]\n",
      "100%|██████████| 62/62 [00:01<00:00, 50.95it/s]\n",
      "100%|██████████| 63/63 [00:01<00:00, 49.93it/s]\n"
     ]
    },
    {
     "name": "stdout",
     "output_type": "stream",
     "text": [
      "Processing image 2548 in test_index = 0 \n",
      "id = a68c720ef417ad63d54075e8d02a3ea3138b0edc9b9fc15f47f71e15d7ccf653\n",
      "multi processing\n"
     ]
    },
    {
     "name": "stderr",
     "output_type": "stream",
     "text": [
      "100%|██████████| 60/60 [00:01<00:00, 55.40it/s]\n",
      "100%|██████████| 60/60 [00:01<00:00, 48.02it/s]\n",
      "100%|██████████| 59/59 [00:01<00:00, 47.53it/s]\n",
      "100%|██████████| 62/62 [00:01<00:00, 48.40it/s]\n"
     ]
    },
    {
     "name": "stdout",
     "output_type": "stream",
     "text": [
      "Processing image 2549 in test_index = 0 \n",
      "id = 04022ee855ec1e9b93532bf00e709e10305e3084ca9b452368f9c1547d76cb7e\n",
      "multi processing\n"
     ]
    },
    {
     "name": "stderr",
     "output_type": "stream",
     "text": [
      "100%|██████████| 3/3 [00:00<00:00, 78.05it/s]\n",
      "100%|██████████| 3/3 [00:00<00:00, 79.70it/s]\n"
     ]
    },
    {
     "name": "stdout",
     "output_type": "stream",
     "text": [
      "Processing image 2550 in test_index = 0 \n",
      "id = eabf8d3e9e3faa1f6db30389f145f0915fb4392f4cc84de8d26687f480f82696\n",
      "multi processing\n"
     ]
    },
    {
     "name": "stderr",
     "output_type": "stream",
     "text": [
      "100%|██████████| 59/59 [00:01<00:00, 55.03it/s]\n",
      "100%|██████████| 59/59 [00:01<00:00, 51.51it/s]\n",
      "100%|██████████| 62/62 [00:01<00:00, 50.52it/s]\n",
      "100%|██████████| 58/58 [00:01<00:00, 45.52it/s]\n"
     ]
    },
    {
     "name": "stdout",
     "output_type": "stream",
     "text": [
      "Processing image 2551 in test_index = 0 \n",
      "id = cab6d92994eefa4792256dccdc543f2e91320029e01ab9548b58408949a0ddde\n",
      "multi processing\n",
      "Processing image 2552 in test_index = 0 \n",
      "id = 91db4152dbdc670954f32cb162866c15b370656a88e4210a6e0c6191ad777f6a\n",
      "multi processing\n"
     ]
    },
    {
     "name": "stderr",
     "output_type": "stream",
     "text": [
      "100%|██████████| 74/74 [00:02<00:00, 31.51it/s]\n",
      "100%|██████████| 77/77 [00:02<00:00, 34.02it/s]\n",
      "100%|██████████| 78/78 [00:02<00:00, 28.66it/s]\n",
      "100%|██████████| 81/81 [00:02<00:00, 29.93it/s]\n"
     ]
    },
    {
     "name": "stdout",
     "output_type": "stream",
     "text": [
      "Processing image 2553 in test_index = 0 \n",
      "id = a9046efd2ceed8167d215f0fe63ff0bb6812a8a64f30aee5ae68426cfa9f7547\n",
      "multi processing\n"
     ]
    },
    {
     "name": "stderr",
     "output_type": "stream",
     "text": [
      "100%|██████████| 97/97 [00:03<00:00, 27.48it/s]]\n",
      " 27%|██▋       | 29/108 [00:03<00:09,  8.07it/s]\n",
      "100%|██████████| 99/99 [00:03<00:00, 25.94it/s]]\n",
      "100%|██████████| 108/108 [00:04<00:00, 25.44it/s]\n"
     ]
    },
    {
     "name": "stdout",
     "output_type": "stream",
     "text": [
      "Processing image 2554 in test_index = 0 \n",
      "id = 4670d0c46783ac3576c9baf19b9cc45a53f316127421f8018ad89a9fcc56544b\n",
      "multi processing\n"
     ]
    },
    {
     "name": "stderr",
     "output_type": "stream",
     "text": [
      "100%|██████████| 94/94 [00:02<00:00, 44.87it/s]]\n",
      "100%|██████████| 94/94 [00:02<00:00, 43.01it/s]]\n",
      "100%|██████████| 102/102 [00:02<00:00, 41.11it/s]\n",
      "100%|██████████| 103/103 [00:02<00:00, 41.07it/s]\n"
     ]
    },
    {
     "name": "stdout",
     "output_type": "stream",
     "text": [
      "Processing image 2555 in test_index = 0 \n",
      "id = 34d0fa5fd2fe5c9955fff299ead6ce97366a2176ad7569afc279c25ba6e0e231\n",
      "multi processing\n"
     ]
    },
    {
     "name": "stderr",
     "output_type": "stream",
     "text": [
      "100%|██████████| 3/3 [00:00<00:00, 566.26it/s]\n",
      "100%|██████████| 8/8 [00:00<00:00, 218.78it/s]\n",
      "100%|██████████| 12/12 [00:00<00:00, 177.78it/s]\n",
      "100%|██████████| 10/10 [00:00<00:00, 196.96it/s]\n"
     ]
    },
    {
     "name": "stdout",
     "output_type": "stream",
     "text": [
      "Processing image 2556 in test_index = 0 \n",
      "id = 7c31452dd9635dfa614e5268fb21cbacebb5f085589bc9f4487d20c12f989bd1\n",
      "multi processing\n"
     ]
    },
    {
     "name": "stderr",
     "output_type": "stream",
     "text": [
      "100%|██████████| 35/35 [00:05<00:00,  6.22it/s]\n",
      "100%|██████████| 51/51 [00:08<00:00,  6.11it/s]\n",
      "100%|██████████| 63/63 [00:10<00:00,  6.24it/s]\n",
      "100%|██████████| 59/59 [00:10<00:00,  5.42it/s]\n"
     ]
    },
    {
     "name": "stdout",
     "output_type": "stream",
     "text": [
      "Processing image 2557 in test_index = 0 \n",
      "id = 2230d0baa1d77cd63a1523f4028d01e6c6e60944fe347335cf3e6a5d78f8b5eb\n",
      "multi processing\n"
     ]
    },
    {
     "name": "stderr",
     "output_type": "stream",
     "text": [
      "100%|██████████| 51/51 [00:00<00:00, 87.04it/s]\n",
      "100%|██████████| 54/54 [00:00<00:00, 81.12it/s]\n",
      "100%|██████████| 54/54 [00:00<00:00, 83.67it/s]\n",
      "100%|██████████| 53/53 [00:00<00:00, 74.96it/s]\n"
     ]
    },
    {
     "name": "stdout",
     "output_type": "stream",
     "text": [
      "Processing image 2558 in test_index = 0 \n",
      "id = f58b7e558e4b05fe236d5fb7afb9f5fef95062c4d7e1435caad948f4ea9aeffc\n",
      "multi processing\n"
     ]
    },
    {
     "name": "stderr",
     "output_type": "stream",
     "text": [
      "100%|██████████| 46/46 [00:00<00:00, 99.27it/s]\n",
      "100%|██████████| 45/45 [00:00<00:00, 81.10it/s]\n",
      "100%|██████████| 59/59 [00:00<00:00, 76.86it/s]\n",
      "100%|██████████| 56/56 [00:00<00:00, 68.93it/s]\n"
     ]
    },
    {
     "name": "stdout",
     "output_type": "stream",
     "text": [
      "Processing image 2559 in test_index = 0 \n",
      "id = a545e3f4c6e245def2e172e69ef1a98c8cce0ca0d16ad0271c3f42ecf43367c4\n",
      "multi processing\n"
     ]
    },
    {
     "name": "stderr",
     "output_type": "stream",
     "text": [
      "100%|██████████| 34/34 [00:00<00:00, 172.44it/s]\n",
      "100%|██████████| 32/32 [00:00<00:00, 167.32it/s]\n",
      "100%|██████████| 31/31 [00:00<00:00, 174.53it/s]\n",
      "100%|██████████| 31/31 [00:00<00:00, 176.36it/s]\n"
     ]
    },
    {
     "name": "stdout",
     "output_type": "stream",
     "text": [
      "Processing image 2560 in test_index = 0 \n",
      "id = 19b51801d8fb6cd233a15b9773f142bede42c520f53c4209d2b18846e3320b9b\n",
      "multi processing\n"
     ]
    },
    {
     "name": "stderr",
     "output_type": "stream",
     "text": [
      "100%|██████████| 16/16 [00:00<00:00, 217.29it/s]\n",
      "100%|██████████| 18/18 [00:00<00:00, 211.03it/s]\n",
      "100%|██████████| 20/20 [00:00<00:00, 208.13it/s]\n",
      "100%|██████████| 22/22 [00:00<00:00, 168.08it/s]\n"
     ]
    },
    {
     "name": "stdout",
     "output_type": "stream",
     "text": [
      "Processing image 2561 in test_index = 0 \n",
      "id = f021a2b54839871599da91003165c2a8c8114b81717ee4bf7abf466fddd43aba\n",
      "multi processing\n"
     ]
    },
    {
     "name": "stderr",
     "output_type": "stream",
     "text": [
      "100%|██████████| 63/63 [00:00<00:00, 99.30it/s]\n",
      "100%|██████████| 63/63 [00:00<00:00, 81.74it/s]\n",
      "100%|██████████| 65/65 [00:00<00:00, 86.50it/s]\n",
      "100%|██████████| 73/73 [00:00<00:00, 86.17it/s]\n"
     ]
    },
    {
     "name": "stdout",
     "output_type": "stream",
     "text": [
      "Processing image 2562 in test_index = 0 \n",
      "id = 8e2a6d11892fdfad19571688a2d103b3d32e3d3b5da24e4997e84684d5fb3c57\n",
      "multi processing\n"
     ]
    },
    {
     "name": "stderr",
     "output_type": "stream",
     "text": [
      "100%|██████████| 8/8 [00:00<00:00, 50.65it/s]]\n",
      "100%|██████████| 16/16 [00:00<00:00, 44.65it/s]\n",
      "100%|██████████| 12/12 [00:00<00:00, 47.83it/s]\n",
      "100%|██████████| 22/22 [00:00<00:00, 29.16it/s]\n"
     ]
    },
    {
     "name": "stdout",
     "output_type": "stream",
     "text": [
      "Processing image 2563 in test_index = 0 \n",
      "id = e8247dc63df22042d9fd58881c63104b11d5798ea1e945250fac5fbed0e6b908\n",
      "multi processing\n",
      "Processing image 2564 in test_index = 0 \n",
      "id = 51c141845c8ee40c5bb4cda2a7e5926fcc4956b66d5118c481528b79f5366d53\n",
      "multi processing\n"
     ]
    },
    {
     "name": "stderr",
     "output_type": "stream",
     "text": [
      "100%|██████████| 7/7 [00:00<00:00, 227.69it/s]\n",
      "100%|██████████| 7/7 [00:00<00:00, 267.52it/s]\n",
      "100%|██████████| 8/8 [00:00<00:00, 278.63it/s]\n",
      "100%|██████████| 7/7 [00:00<00:00, 258.59it/s]\n"
     ]
    },
    {
     "name": "stdout",
     "output_type": "stream",
     "text": [
      "Processing image 2565 in test_index = 0 \n",
      "id = ddbe5e29f520ce459afc9f49da87d1d07a2d558e618e7645efb426eda9c2f162\n",
      "multi processing\n"
     ]
    },
    {
     "name": "stderr",
     "output_type": "stream",
     "text": [
      "100%|██████████| 5/5 [00:00<00:00, 88.19it/s]\n",
      "100%|██████████| 7/7 [00:00<00:00, 80.96it/s]\n",
      "100%|██████████| 5/5 [00:00<00:00, 92.75it/s]\n",
      "100%|██████████| 9/9 [00:00<00:00, 74.06it/s]\n"
     ]
    },
    {
     "name": "stdout",
     "output_type": "stream",
     "text": [
      "Processing image 2566 in test_index = 0 \n",
      "id = 39e7718914b1b900025267be2fa4bab0db932c52c98545a25c2ac41ac7d64c38\n",
      "multi processing\n"
     ]
    },
    {
     "name": "stderr",
     "output_type": "stream",
     "text": [
      "100%|██████████| 125/125 [00:44<00:00,  2.84it/s]\n",
      "100%|██████████| 122/122 [00:45<00:00,  2.70it/s]\n",
      "100%|██████████| 132/132 [00:46<00:00,  2.84it/s]\n",
      "100%|██████████| 140/140 [00:53<00:00,  2.63it/s]\n"
     ]
    },
    {
     "name": "stdout",
     "output_type": "stream",
     "text": [
      "Processing image 2567 in test_index = 0 \n",
      "id = 6041da382ae5598e8983858816de0df57b9e00b162b9491ef5bcfa5c8a2b278d\n",
      "multi processing\n"
     ]
    },
    {
     "name": "stderr",
     "output_type": "stream",
     "text": [
      "100%|██████████| 2/2 [00:00<00:00, 212.76it/s]\n",
      "100%|██████████| 5/5 [00:00<00:00, 257.99it/s]\n",
      "100%|██████████| 6/6 [00:00<00:00, 213.50it/s]\n",
      "100%|██████████| 5/5 [00:00<00:00, 290.91it/s]\n"
     ]
    },
    {
     "name": "stdout",
     "output_type": "stream",
     "text": [
      "Processing image 2568 in test_index = 0 \n",
      "id = d186c0dc0b94728da6c6db076a8658641b44f99f69b8c382560ba439181d3ab1\n",
      "multi processing\n"
     ]
    },
    {
     "name": "stderr",
     "output_type": "stream",
     "text": [
      "100%|██████████| 85/85 [00:02<00:00, 39.68it/s]]\n",
      "100%|██████████| 94/94 [00:02<00:00, 36.54it/s]]\n",
      "100%|██████████| 95/95 [00:02<00:00, 35.08it/s]\n",
      "100%|██████████| 104/104 [00:02<00:00, 36.39it/s]\n"
     ]
    },
    {
     "name": "stdout",
     "output_type": "stream",
     "text": [
      "Processing image 2569 in test_index = 0 \n",
      "id = cd228b427ba11adfc96149e3136189df8f140af9fc3a2df6b5ffcecc2357ec55\n",
      "multi processing\n"
     ]
    },
    {
     "name": "stderr",
     "output_type": "stream",
     "text": [
      "100%|██████████| 3/3 [00:00<00:00, 238.89it/s]\n",
      "100%|██████████| 6/6 [00:00<00:00, 222.68it/s]\n"
     ]
    },
    {
     "name": "stdout",
     "output_type": "stream",
     "text": [
      "Processing image 2570 in test_index = 0 \n",
      "id = 25065ee0a9fe85491ffd58931871c70d6ac9c4b890801430b84548fccdcba658\n",
      "multi processing\n"
     ]
    },
    {
     "name": "stderr",
     "output_type": "stream",
     "text": [
      "100%|██████████| 5/5 [00:00<00:00, 73.27it/s]\n",
      "100%|██████████| 6/6 [00:00<00:00, 69.91it/s]\n",
      "100%|██████████| 5/5 [00:00<00:00, 77.39it/s]\n",
      "100%|██████████| 5/5 [00:00<00:00, 60.15it/s]\n"
     ]
    },
    {
     "name": "stdout",
     "output_type": "stream",
     "text": [
      "Processing image 2571 in test_index = 0 \n",
      "id = c5fd9a64c4ff1e3d03a62dcf8e5fff0d4ff0df934d32efa31c5bdd5d8e44b0b8\n",
      "multi processing\n",
      "Processing image 2572 in test_index = 0 \n",
      "id = aceacc6d6420ceddb8f2a269c5722f403318de0315cd292463be121b3beb871f\n",
      "multi processing\n"
     ]
    },
    {
     "name": "stderr",
     "output_type": "stream",
     "text": [
      "100%|██████████| 258/258 [02:30<00:00,  1.71it/s]\n",
      "100%|██████████| 262/262 [02:30<00:00,  1.74it/s]\n",
      "100%|██████████| 267/267 [02:34<00:00,  1.73it/s]\n",
      "100%|██████████| 267/267 [02:40<00:00,  1.66it/s]\n"
     ]
    },
    {
     "name": "stdout",
     "output_type": "stream",
     "text": [
      "Processing image 2573 in test_index = 0 \n",
      "id = 38fd6f83bb6afe0d1c56e102062df58093663ee891ff295e849ecf438d0efa77\n",
      "multi processing\n"
     ]
    },
    {
     "name": "stderr",
     "output_type": "stream",
     "text": [
      "100%|██████████| 75/75 [00:01<00:00, 56.07it/s]\n",
      "100%|██████████| 74/74 [00:01<00:00, 56.28it/s]\n",
      "100%|██████████| 79/79 [00:01<00:00, 54.73it/s]\n",
      "100%|██████████| 79/79 [00:01<00:00, 56.17it/s]\n"
     ]
    },
    {
     "name": "stdout",
     "output_type": "stream",
     "text": [
      "Processing image 2574 in test_index = 0 \n",
      "id = 2ad096cf3239478755b5397330cc68805e9860f54d210fb70107f67bd68a6ea7\n",
      "multi processing\n"
     ]
    },
    {
     "name": "stderr",
     "output_type": "stream",
     "text": [
      "100%|██████████| 45/45 [00:07<00:00,  5.83it/s]\n",
      "100%|██████████| 49/49 [00:07<00:00,  6.13it/s]\n",
      "100%|██████████| 52/52 [00:08<00:00,  6.00it/s]\n",
      "100%|██████████| 53/53 [00:09<00:00,  5.68it/s]\n"
     ]
    },
    {
     "name": "stdout",
     "output_type": "stream",
     "text": [
      "Processing image 2575 in test_index = 0 \n",
      "id = e29985ad2742c93280380ba8855322dc2521753506e0ae958b2e1611a5fdac72\n",
      "multi processing\n"
     ]
    },
    {
     "name": "stderr",
     "output_type": "stream",
     "text": [
      "100%|██████████| 16/16 [00:00<00:00, 208.72it/s]\n",
      "100%|██████████| 14/14 [00:00<00:00, 215.11it/s]\n",
      "100%|██████████| 21/21 [00:00<00:00, 191.32it/s]\n",
      "100%|██████████| 25/25 [00:00<00:00, 195.80it/s]\n"
     ]
    },
    {
     "name": "stdout",
     "output_type": "stream",
     "text": [
      "Processing image 2576 in test_index = 0 \n",
      "id = b83f80d29c0821e81204ab12adafcd40a8483e1e5283745d79d9de56249ac0be\n",
      "multi processing\n"
     ]
    },
    {
     "name": "stderr",
     "output_type": "stream",
     "text": [
      "100%|██████████| 30/30 [00:00<00:00, 113.45it/s]\n",
      "100%|██████████| 43/43 [00:00<00:00, 81.12it/s]\n",
      "100%|██████████| 51/51 [00:00<00:00, 77.68it/s]\n",
      "100%|██████████| 47/47 [00:00<00:00, 79.10it/s]\n"
     ]
    },
    {
     "name": "stdout",
     "output_type": "stream",
     "text": [
      "Processing image 2577 in test_index = 0 \n",
      "id = d38e91bf088d08e267be5a4cdad7216b5fca00ea443e5cd9f03c0bf61a77e1e2\n",
      "multi processing\n"
     ]
    },
    {
     "name": "stderr",
     "output_type": "stream",
     "text": [
      "100%|██████████| 5/5 [00:00<00:00, 410.36it/s]\n",
      "100%|██████████| 4/4 [00:00<00:00, 350.45it/s]\n",
      "100%|██████████| 3/3 [00:00<00:00, 276.24it/s]\n",
      "100%|██████████| 2/2 [00:00<00:00, 207.07it/s]\n"
     ]
    },
    {
     "name": "stdout",
     "output_type": "stream",
     "text": [
      "Processing image 2578 in test_index = 0 \n",
      "id = 0ceca72cb1397f1e1704adea3959229317c71f9ef6dcca42ed18e48e45cdbea1\n",
      "multi processing\n"
     ]
    },
    {
     "name": "stderr",
     "output_type": "stream",
     "text": [
      "100%|██████████| 14/14 [00:00<00:00, 34.70it/s]\n",
      "100%|██████████| 15/15 [00:00<00:00, 34.64it/s]\n",
      "100%|██████████| 16/16 [00:00<00:00, 31.50it/s]\n",
      "100%|██████████| 20/20 [00:00<00:00, 21.88it/s]\n"
     ]
    },
    {
     "name": "stdout",
     "output_type": "stream",
     "text": [
      "Processing image 2579 in test_index = 0 \n",
      "id = 52952681c4313a3f379772b14a0a141011e03223f86d2677aad5f6d3734e7edf\n",
      "multi processing\n"
     ]
    },
    {
     "name": "stderr",
     "output_type": "stream",
     "text": [
      "100%|██████████| 23/23 [00:00<00:00, 207.93it/s]\n",
      "100%|██████████| 23/23 [00:00<00:00, 209.53it/s]\n",
      "100%|██████████| 22/22 [00:00<00:00, 213.26it/s]\n",
      "100%|██████████| 24/24 [00:00<00:00, 197.46it/s]\n"
     ]
    },
    {
     "name": "stdout",
     "output_type": "stream",
     "text": [
      "Processing image 2580 in test_index = 0 \n",
      "id = aa55b43994e3e916c63f0b2688fbd3cee0ea57b65e1580ed3f361e0d7e3c5365\n",
      "multi processing\n"
     ]
    },
    {
     "name": "stderr",
     "output_type": "stream",
     "text": [
      "100%|██████████| 28/28 [00:00<00:00, 129.97it/s]\n",
      "100%|██████████| 27/27 [00:00<00:00, 147.43it/s]\n",
      "100%|██████████| 32/32 [00:00<00:00, 136.58it/s]\n",
      "100%|██████████| 28/28 [00:00<00:00, 135.47it/s]\n"
     ]
    },
    {
     "name": "stdout",
     "output_type": "stream",
     "text": [
      "Processing image 2581 in test_index = 0 \n",
      "id = b289898b0bb6f2b0a10006fcef07a5cdf2bc0f04830c4f6105df62e7bc2953e5\n",
      "multi processing\n"
     ]
    },
    {
     "name": "stderr",
     "output_type": "stream",
     "text": [
      "100%|██████████| 16/16 [00:00<00:00, 261.50it/s]\n",
      "100%|██████████| 18/18 [00:00<00:00, 221.29it/s]\n",
      "100%|██████████| 17/17 [00:00<00:00, 272.98it/s]\n",
      "100%|██████████| 14/14 [00:00<00:00, 251.67it/s]\n"
     ]
    },
    {
     "name": "stdout",
     "output_type": "stream",
     "text": [
      "Processing image 2582 in test_index = 0 \n",
      "id = 1a195df635e1e72a726ea0c18f1b7a3540a9a89e4f5c14dabb820d81bac5c95e\n",
      "multi processing\n"
     ]
    },
    {
     "name": "stderr",
     "output_type": "stream",
     "text": [
      "100%|██████████| 94/94 [00:01<00:00, 48.85it/s]]\n",
      "100%|██████████| 99/99 [00:01<00:00, 52.68it/s]]\n",
      "100%|██████████| 93/93 [00:01<00:00, 51.04it/s]\n",
      "100%|██████████| 107/107 [00:01<00:00, 55.04it/s]\n"
     ]
    },
    {
     "name": "stdout",
     "output_type": "stream",
     "text": [
      "Processing image 2583 in test_index = 0 \n",
      "id = 75988c46254989c4116e8e2804d862902e2523d13ca435b8592400e560277e85\n",
      "multi processing\n",
      "Processing image 2584 in test_index = 0 \n",
      "id = 4966ce391e5d5c89788b048f33515b88b8ef200bd04a6b3bcbd6a6cb3569262c\n",
      "multi processing\n",
      "Processing image 2585 in test_index = 0 \n",
      "id = 3e7d8c2b13b25a5b86de726b6e2012df27f5023f66d3b53b634bf11e084a4402\n",
      "multi processing\n"
     ]
    },
    {
     "name": "stderr",
     "output_type": "stream",
     "text": [
      "100%|██████████| 57/57 [00:00<00:00, 62.18it/s]\n",
      "100%|██████████| 70/70 [00:01<00:00, 62.47it/s]\n",
      "100%|██████████| 73/73 [00:01<00:00, 57.61it/s]\n",
      "100%|██████████| 77/77 [00:01<00:00, 55.51it/s]\n"
     ]
    },
    {
     "name": "stdout",
     "output_type": "stream",
     "text": [
      "Processing image 2586 in test_index = 0 \n",
      "id = 887b266a47875cb38a853dad4a9132d417fdd3e2fcff70b860d83ff646b39ff9\n",
      "multi processing\n",
      "Processing image 2587 in test_index = 0 \n",
      "id = 07f3ff55106097b853e2b637d961794bcd27d1c5423e539305ef3b9f0a119088\n",
      "multi processing\n"
     ]
    },
    {
     "name": "stderr",
     "output_type": "stream",
     "text": [
      "100%|██████████| 36/36 [00:00<00:00, 92.38it/s]\n",
      "100%|██████████| 36/36 [00:00<00:00, 100.79it/s]\n",
      "100%|██████████| 37/37 [00:00<00:00, 80.56it/s]\n",
      "100%|██████████| 46/46 [00:00<00:00, 80.74it/s]\n"
     ]
    },
    {
     "name": "stdout",
     "output_type": "stream",
     "text": [
      "Processing image 2588 in test_index = 0 \n",
      "id = 5cb507586716c781d0939440ca5c6d22d5f72d3b05e4887fdf0f2db87a0e0569\n",
      "multi processing\n"
     ]
    },
    {
     "name": "stderr",
     "output_type": "stream",
     "text": [
      "100%|██████████| 83/83 [00:21<00:00,  3.79it/s]\n",
      "100%|██████████| 85/85 [00:23<00:00,  3.57it/s]\n",
      "100%|██████████| 95/95 [00:25<00:00,  3.68it/s]\n",
      "100%|██████████| 83/83 [00:24<00:00,  3.33it/s]\n"
     ]
    },
    {
     "name": "stdout",
     "output_type": "stream",
     "text": [
      "Processing image 2589 in test_index = 0 \n",
      "id = ee1809b84bfb4362dd971856f207c0d9a0990baee75550569bb01fad19b4f248\n",
      "multi processing\n"
     ]
    },
    {
     "name": "stderr",
     "output_type": "stream",
     "text": [
      "100%|██████████| 59/59 [00:00<00:00, 68.89it/s]\n",
      "100%|██████████| 58/58 [00:00<00:00, 65.24it/s]\n",
      "100%|██████████| 59/59 [00:00<00:00, 62.34it/s]\n",
      "100%|██████████| 67/67 [00:01<00:00, 60.88it/s]\n"
     ]
    },
    {
     "name": "stdout",
     "output_type": "stream",
     "text": [
      "Processing image 2590 in test_index = 0 \n",
      "id = e481bb423ade7931557129e3695deb2de37e53dd004fb5ef6dfdf357e0e986ad\n",
      "multi processing\n"
     ]
    },
    {
     "name": "stderr",
     "output_type": "stream",
     "text": [
      "100%|██████████| 257/257 [03:55<00:00,  1.09it/s]\n",
      "100%|██████████| 250/250 [04:04<00:00,  1.02it/s]\n",
      "100%|██████████| 263/263 [04:10<00:00,  1.05it/s]\n",
      "100%|██████████| 257/257 [04:11<00:00,  1.02it/s]\n"
     ]
    },
    {
     "name": "stdout",
     "output_type": "stream",
     "text": [
      "Processing image 2591 in test_index = 0 \n",
      "id = ff6bd41cbb8c7666eb6c3c375b97c69d7d09ba121fe1c1e9b85b70c33b3c14d5\n",
      "multi processing\n",
      "Processing image 2592 in test_index = 0 \n",
      "id = 9afb81def39bffa7986ac72591c58bc6c4569d8b714d95f3d9ee1fc3242af0f7\n",
      "multi processing\n",
      "Processing image 2593 in test_index = 0 \n",
      "id = 90b16422f5e975b7e1f9bac42747bdceccd6564abb4eb24774e1be3103b69d71\n",
      "multi processing\n",
      "Processing image 2594 in test_index = 0 \n",
      "id = 36f4651cc69f26df6b32908f16267d11f7f7d696389c2cfa517e337fc8e9ce60\n",
      "multi processing\n"
     ]
    },
    {
     "name": "stderr",
     "output_type": "stream",
     "text": [
      "100%|██████████| 7/7 [00:00<00:00, 242.81it/s]\n",
      "100%|██████████| 7/7 [00:00<00:00, 273.10it/s]\n",
      "100%|██████████| 6/6 [00:00<00:00, 231.97it/s]\n",
      "100%|██████████| 5/5 [00:00<00:00, 211.20it/s]\n"
     ]
    },
    {
     "name": "stdout",
     "output_type": "stream",
     "text": [
      "Processing image 2595 in test_index = 0 \n",
      "id = ba3dd312a15690719d9bf5b529f8c97dab5df6edabc3432991975afdf81f123c\n",
      "multi processing\n"
     ]
    },
    {
     "name": "stderr",
     "output_type": "stream",
     "text": [
      "100%|██████████| 53/53 [00:00<00:00, 84.08it/s]\n",
      "100%|██████████| 57/57 [00:00<00:00, 81.00it/s]\n",
      "100%|██████████| 56/56 [00:00<00:00, 74.81it/s]\n",
      "100%|██████████| 58/58 [00:00<00:00, 75.94it/s]\n"
     ]
    },
    {
     "name": "stdout",
     "output_type": "stream",
     "text": [
      "Processing image 2596 in test_index = 0 \n",
      "id = 855fc32af09a9ec6604a866a38db46ced1b16d44bf9e290250625784e898dfe4\n",
      "multi processing\n"
     ]
    },
    {
     "name": "stderr",
     "output_type": "stream",
     "text": [
      "100%|██████████| 34/34 [00:00<00:00, 85.00it/s]\n",
      "100%|██████████| 45/45 [00:00<00:00, 79.34it/s]\n",
      "100%|██████████| 47/47 [00:00<00:00, 66.75it/s]\n",
      "100%|██████████| 49/49 [00:00<00:00, 71.44it/s]\n"
     ]
    },
    {
     "name": "stdout",
     "output_type": "stream",
     "text": [
      "Processing image 2597 in test_index = 0 \n",
      "id = c5c99626ebcbb57805379a35ed74b107935b5a284182b892ad6e2eef827ce45a\n",
      "multi processing\n"
     ]
    },
    {
     "name": "stderr",
     "output_type": "stream",
     "text": [
      "100%|██████████| 47/47 [00:00<00:00, 76.92it/s]\n",
      "100%|██████████| 58/58 [00:00<00:00, 66.83it/s]\n",
      "100%|██████████| 64/64 [00:01<00:00, 62.43it/s]\n",
      "100%|██████████| 65/65 [00:01<00:00, 55.22it/s]\n"
     ]
    },
    {
     "name": "stdout",
     "output_type": "stream",
     "text": [
      "Processing image 2598 in test_index = 0 \n",
      "id = f7f8276acd9c0b9ef4c4fbb02c8773219b0c6677114b881c395eff7aec749698\n",
      "multi processing\n"
     ]
    },
    {
     "name": "stderr",
     "output_type": "stream",
     "text": [
      "100%|██████████| 78/78 [00:01<00:00, 48.81it/s]\n",
      "100%|██████████| 84/84 [00:01<00:00, 50.85it/s]\n",
      "100%|██████████| 92/92 [00:01<00:00, 47.89it/s]\n",
      "100%|██████████| 91/91 [00:02<00:00, 44.96it/s]\n"
     ]
    },
    {
     "name": "stdout",
     "output_type": "stream",
     "text": [
      "Processing image 2599 in test_index = 0 \n",
      "id = d9f1708d7aed509b029093edce1dd7eef6d285194bdb394415afaec141bb9dd0\n",
      "multi processing\n"
     ]
    },
    {
     "name": "stderr",
     "output_type": "stream",
     "text": [
      "  0%|          | 0/9 [00:00<?, ?it/s]]\n",
      "100%|██████████| 9/9 [00:00<00:00, 154.40it/s]\n",
      "100%|██████████| 11/11 [00:00<00:00, 126.93it/s]\n",
      "100%|██████████| 16/16 [00:00<00:00, 147.93it/s]\n"
     ]
    },
    {
     "name": "stdout",
     "output_type": "stream",
     "text": [
      "Processing image 2600 in test_index = 0 \n",
      "id = 1e40c4da2c4af0f19b1e89246adf05e709a00495bb60f2d714237a7acd0e939b\n",
      "multi processing\n"
     ]
    },
    {
     "name": "stderr",
     "output_type": "stream",
     "text": [
      "100%|██████████| 31/31 [00:00<00:00, 130.70it/s]\n",
      "100%|██████████| 36/36 [00:00<00:00, 112.37it/s]\n",
      "100%|██████████| 41/41 [00:00<00:00, 133.18it/s]\n",
      "100%|██████████| 39/39 [00:00<00:00, 110.75it/s]\n"
     ]
    },
    {
     "name": "stdout",
     "output_type": "stream",
     "text": [
      "Processing image 2601 in test_index = 0 \n",
      "id = 516859fc4cc22ac8872e85b6ab1ea09b0b66fdd8da39656f142fb4204c0b8679\n",
      "multi processing\n"
     ]
    },
    {
     "name": "stderr",
     "output_type": "stream",
     "text": [
      "100%|██████████| 75/75 [00:15<00:00,  5.00it/s]\n",
      "100%|██████████| 81/81 [00:16<00:00,  4.91it/s]\n",
      "100%|██████████| 88/88 [00:18<00:00,  4.81it/s]\n",
      "100%|██████████| 84/84 [00:17<00:00,  4.73it/s]\n"
     ]
    },
    {
     "name": "stdout",
     "output_type": "stream",
     "text": [
      "Processing image 2602 in test_index = 0 \n",
      "id = 77dc829587cb8b9c1c4af1c25b7ee9c4a25ff2505aa384f4e5e22fa0815ca585\n",
      "multi processing\n"
     ]
    },
    {
     "name": "stderr",
     "output_type": "stream",
     "text": [
      "100%|██████████| 4/4 [00:00<00:00, 159.18it/s]\n",
      "100%|██████████| 5/5 [00:00<00:00, 160.44it/s]\n",
      "100%|██████████| 4/4 [00:00<00:00, 152.04it/s]\n",
      "100%|██████████| 6/6 [00:00<00:00, 173.73it/s]\n"
     ]
    },
    {
     "name": "stdout",
     "output_type": "stream",
     "text": [
      "Processing image 2603 in test_index = 0 \n",
      "id = 21b5035bc93aeb7b47d71cb9407a4a0261dad1c1dc2fef99823e72741c74606a\n",
      "multi processing\n",
      "Processing image 2604 in test_index = 0 \n",
      "id = 0ec673c5a1ebc3b22a1cd58b5ce94d78f66bb96990070c4764ba6f2f80f084dd\n",
      "multi processing\n"
     ]
    },
    {
     "name": "stderr",
     "output_type": "stream",
     "text": [
      "100%|██████████| 11/11 [00:00<00:00, 54.30it/s]\n",
      "100%|██████████| 11/11 [00:00<00:00, 50.96it/s]\n",
      "100%|██████████| 16/16 [00:00<00:00, 39.80it/s]\n",
      "100%|██████████| 17/17 [00:00<00:00, 34.98it/s]\n"
     ]
    },
    {
     "name": "stdout",
     "output_type": "stream",
     "text": [
      "Processing image 2605 in test_index = 0 \n",
      "id = 9842c6b9d37a5d8cb7d05abc00ec53515db5f109ff6960e9394b2306260b4a28\n",
      "multi processing\n"
     ]
    },
    {
     "name": "stderr",
     "output_type": "stream",
     "text": [
      "100%|██████████| 72/72 [00:03<00:00, 21.87it/s]\n",
      "100%|██████████| 61/61 [00:03<00:00, 19.47it/s]\n",
      "100%|██████████| 68/68 [00:03<00:00, 19.71it/s]\n",
      "100%|██████████| 66/66 [00:03<00:00, 19.48it/s]\n"
     ]
    },
    {
     "name": "stdout",
     "output_type": "stream",
     "text": [
      "Processing image 2606 in test_index = 0 \n",
      "id = 5133c02e3b237590d9362f104323ed96541b1ca64a8041c6b29cefca9c2d0e70\n",
      "multi processing\n"
     ]
    },
    {
     "name": "stderr",
     "output_type": "stream",
     "text": [
      "100%|██████████| 2/2 [00:00<00:00, 80.93it/s]\n"
     ]
    },
    {
     "name": "stdout",
     "output_type": "stream",
     "text": [
      "Processing image 2607 in test_index = 0 \n",
      "id = 27b7220bd9367d0c29a2cadf2810f3b417f8640a0014592370a7eee4243a061d\n",
      "multi processing\n"
     ]
    },
    {
     "name": "stderr",
     "output_type": "stream",
     "text": [
      "100%|██████████| 74/74 [00:01<00:00, 44.25it/s]\n",
      "100%|██████████| 80/80 [00:01<00:00, 42.76it/s]\n",
      "100%|██████████| 84/84 [00:01<00:00, 42.16it/s]\n",
      "100%|██████████| 89/89 [00:02<00:00, 38.74it/s]\n"
     ]
    },
    {
     "name": "stdout",
     "output_type": "stream",
     "text": [
      "Processing image 2608 in test_index = 0 \n",
      "id = 9b3658c27fc0a14bc559a3b2e89076c86749d9e4720f6935d28699bbc005c806\n",
      "multi processing\n"
     ]
    },
    {
     "name": "stderr",
     "output_type": "stream",
     "text": [
      "100%|██████████| 8/8 [00:00<00:00, 440.37it/s]\n",
      "100%|██████████| 9/9 [00:00<00:00, 331.61it/s]\n",
      "100%|██████████| 8/8 [00:00<00:00, 251.25it/s]\n",
      "100%|██████████| 8/8 [00:00<00:00, 253.20it/s]\n"
     ]
    },
    {
     "name": "stdout",
     "output_type": "stream",
     "text": [
      "Processing image 2609 in test_index = 0 \n",
      "id = a0b4f17775c7eff7b11fb3d0e0cd01b989e6191c29717b287069bef820366a1a\n",
      "multi processing\n"
     ]
    },
    {
     "name": "stderr",
     "output_type": "stream",
     "text": [
      "100%|██████████| 1/1 [00:00<00:00, 3261.51it/s]\n",
      "100%|██████████| 2/2 [00:00<00:00, 153.01it/s]\n",
      "100%|██████████| 2/2 [00:00<00:00, 152.03it/s]\n",
      "100%|██████████| 3/3 [00:00<00:00, 151.25it/s]\n"
     ]
    },
    {
     "name": "stdout",
     "output_type": "stream",
     "text": [
      "Processing image 2610 in test_index = 0 \n",
      "id = 27a809967af81bdb49c4474f534d9c91dbfdd568fd9d719f79877e52bd978afb\n",
      "multi processing\n"
     ]
    },
    {
     "name": "stderr",
     "output_type": "stream",
     "text": [
      "100%|██████████| 3/3 [00:00<00:00, 208.12it/s]\n",
      "100%|██████████| 10/10 [00:00<00:00, 145.85it/s]\n",
      "100%|██████████| 10/10 [00:00<00:00, 162.71it/s]\n",
      "100%|██████████| 10/10 [00:00<00:00, 141.03it/s]\n"
     ]
    },
    {
     "name": "stdout",
     "output_type": "stream",
     "text": [
      "Processing image 2611 in test_index = 0 \n",
      "id = a922b4c92aecdb9b48eb8dcb49bc1c3d8b75e5dce6c7d7a76f1c504cec391b68\n",
      "multi processing\n"
     ]
    },
    {
     "name": "stderr",
     "output_type": "stream",
     "text": [
      "100%|██████████| 59/59 [00:00<00:00, 67.39it/s]\n",
      "100%|██████████| 58/58 [00:00<00:00, 61.32it/s]\n",
      "100%|██████████| 63/63 [00:01<00:00, 59.55it/s]\n",
      "100%|██████████| 65/65 [00:01<00:00, 59.85it/s]\n"
     ]
    },
    {
     "name": "stdout",
     "output_type": "stream",
     "text": [
      "Processing image 2612 in test_index = 0 \n",
      "id = 89d105b40aad570b910dd70a8ebf6cac8c9b96f67ddd5442696347515c23b8bc\n",
      "multi processing\n"
     ]
    },
    {
     "name": "stderr",
     "output_type": "stream",
     "text": [
      "100%|██████████| 1/1 [00:00<00:00, 2577.94it/s]\n",
      "100%|██████████| 4/4 [00:00<00:00, 105.07it/s]\n",
      "100%|██████████| 2/2 [00:00<00:00, 82.26it/s]\n",
      "100%|██████████| 5/5 [00:00<00:00, 95.21it/s]\n"
     ]
    },
    {
     "name": "stdout",
     "output_type": "stream",
     "text": [
      "Processing image 2613 in test_index = 0 \n",
      "id = 4a5f87897371f23c8cf9d0a1b35b8939a71403899f1b762209bda42967eb62e7\n",
      "multi processing\n"
     ]
    },
    {
     "name": "stderr",
     "output_type": "stream",
     "text": [
      "100%|██████████| 24/24 [00:00<00:00, 174.68it/s]\n",
      "100%|██████████| 21/21 [00:00<00:00, 159.30it/s]\n",
      "100%|██████████| 33/33 [00:00<00:00, 131.02it/s]\n",
      "100%|██████████| 38/38 [00:00<00:00, 115.31it/s]\n"
     ]
    },
    {
     "name": "stdout",
     "output_type": "stream",
     "text": [
      "Processing image 2614 in test_index = 0 \n",
      "id = 56f18b5fa2acb19ee19482808ce9532ed3429fde292f2adbc00f30effcc7d1e0\n",
      "multi processing\n"
     ]
    },
    {
     "name": "stderr",
     "output_type": "stream",
     "text": [
      "100%|██████████| 48/48 [00:00<00:00, 108.45it/s]\n",
      "100%|██████████| 51/51 [00:00<00:00, 97.40it/s]\n",
      "100%|██████████| 56/56 [00:00<00:00, 92.75it/s]\n",
      "100%|██████████| 53/53 [00:00<00:00, 97.15it/s]\n"
     ]
    },
    {
     "name": "stdout",
     "output_type": "stream",
     "text": [
      "Processing image 2615 in test_index = 0 \n",
      "id = 913f4acf1cac4af64945c39e40c4478a942216498203e523ad40052d57208110\n",
      "multi processing\n"
     ]
    },
    {
     "name": "stderr",
     "output_type": "stream",
     "text": [
      "100%|██████████| 1/1 [00:00<00:00, 2702.52it/s]\n",
      "100%|██████████| 3/3 [00:00<00:00, 124.37it/s]\n",
      "100%|██████████| 3/3 [00:00<00:00, 150.48it/s]\n",
      "100%|██████████| 6/6 [00:00<00:00, 158.77it/s]\n"
     ]
    },
    {
     "name": "stdout",
     "output_type": "stream",
     "text": [
      "Processing image 2616 in test_index = 0 \n",
      "id = d52fb230ee924a519236d8484a2f4e92e108089f191b9a1ced991e015969cea9\n",
      "multi processing\n"
     ]
    },
    {
     "name": "stderr",
     "output_type": "stream",
     "text": [
      "100%|██████████| 123/123 [00:05<00:00, 24.31it/s]\n",
      "100%|██████████| 121/121 [00:05<00:00, 23.34it/s]\n",
      "100%|██████████| 127/127 [00:05<00:00, 23.88it/s]\n",
      "100%|██████████| 113/113 [00:05<00:00, 21.70it/s]\n"
     ]
    },
    {
     "name": "stdout",
     "output_type": "stream",
     "text": [
      "Processing image 2617 in test_index = 0 \n",
      "id = b2e01a63750eb3c46f8a8181c7a6fa7b2e6861bcffd8b1f60a9e0c4d8f6076b4\n",
      "multi processing\n"
     ]
    },
    {
     "name": "stderr",
     "output_type": "stream",
     "text": [
      "100%|██████████| 84/84 [00:05<00:00, 15.28it/s]\n",
      "100%|██████████| 92/92 [00:05<00:00, 15.62it/s]\n",
      "100%|██████████| 79/79 [00:05<00:00, 13.49it/s]\n",
      "100%|██████████| 90/90 [00:06<00:00, 14.28it/s]\n"
     ]
    },
    {
     "name": "stdout",
     "output_type": "stream",
     "text": [
      "Processing image 2618 in test_index = 0 \n",
      "id = 4ff0c001197ff04b8bc902cb0023d43b8a0ffd4685f7328d9092476aec95f36b\n",
      "multi processing\n"
     ]
    },
    {
     "name": "stderr",
     "output_type": "stream",
     "text": [
      "100%|██████████| 1/1 [00:00<00:00, 2388.56it/s]\n",
      "100%|██████████| 4/4 [00:00<00:00, 91.44it/s]\n",
      "100%|██████████| 2/2 [00:00<00:00, 51.86it/s]\n",
      "100%|██████████| 4/4 [00:00<00:00, 73.98it/s]\n"
     ]
    },
    {
     "name": "stdout",
     "output_type": "stream",
     "text": [
      "Processing image 2619 in test_index = 0 \n",
      "id = b01ed2ea695b4d763199b0d134762fb2aaf7e110c8853828c388741f56985a35\n",
      "multi processing\n"
     ]
    },
    {
     "name": "stderr",
     "output_type": "stream",
     "text": [
      "100%|██████████| 60/60 [00:01<00:00, 55.84it/s]\n",
      "100%|██████████| 67/67 [00:01<00:00, 55.88it/s]\n",
      "100%|██████████| 80/80 [00:01<00:00, 52.72it/s]\n",
      "100%|██████████| 81/81 [00:01<00:00, 49.67it/s]\n"
     ]
    },
    {
     "name": "stdout",
     "output_type": "stream",
     "text": [
      "Processing image 2620 in test_index = 0 \n",
      "id = 2ac1e92c749e54b5bad111be1220d0ea07dd176a48c51fac4c212f2b7aeec8af\n",
      "multi processing\n"
     ]
    },
    {
     "name": "stderr",
     "output_type": "stream",
     "text": [
      "100%|██████████| 6/6 [00:00<00:00, 86.92it/s]\n",
      "100%|██████████| 6/6 [00:00<00:00, 73.17it/s]\n",
      "100%|██████████| 6/6 [00:00<00:00, 83.72it/s]\n",
      "100%|██████████| 6/6 [00:00<00:00, 84.78it/s]\n"
     ]
    },
    {
     "name": "stdout",
     "output_type": "stream",
     "text": [
      "Processing image 2621 in test_index = 0 \n",
      "id = ce0f8441b8a7a2f95bed1c2a5bad032147f78109847091ffdb750937c2a28825\n",
      "multi processing\n"
     ]
    },
    {
     "name": "stderr",
     "output_type": "stream",
     "text": [
      "100%|██████████| 192/192 [02:08<00:00,  1.49it/s]\n",
      "100%|██████████| 207/207 [02:19<00:00,  1.48it/s]\n",
      "100%|██████████| 220/220 [02:40<00:00,  1.37it/s]\n",
      "100%|██████████| 215/215 [02:41<00:00,  1.33it/s]\n"
     ]
    },
    {
     "name": "stdout",
     "output_type": "stream",
     "text": [
      "Processing image 2622 in test_index = 0 \n",
      "id = 5b1622585ecabe9175f83b9a98303b09bf4af5ef2a565c18a36d6704290e0b8a\n",
      "multi processing\n"
     ]
    },
    {
     "name": "stderr",
     "output_type": "stream",
     "text": [
      "100%|██████████| 18/18 [00:00<00:00, 276.59it/s]\n",
      "100%|██████████| 17/17 [00:00<00:00, 261.61it/s]\n",
      "100%|██████████| 19/19 [00:00<00:00, 260.82it/s]\n",
      "100%|██████████| 20/20 [00:00<00:00, 241.28it/s]\n"
     ]
    },
    {
     "name": "stdout",
     "output_type": "stream",
     "text": [
      "Processing image 2623 in test_index = 0 \n",
      "id = 75f42b1e833a77611dd651766ddd908078273d6e87a2f0487e584f55bd263f7b\n",
      "multi processing\n"
     ]
    },
    {
     "name": "stderr",
     "output_type": "stream",
     "text": [
      "100%|██████████| 129/129 [00:58<00:00,  2.19it/s]\n",
      "100%|██████████| 135/135 [01:00<00:00,  2.23it/s]\n",
      "100%|██████████| 132/132 [00:58<00:00,  2.25it/s]\n",
      "100%|██████████| 135/135 [01:02<00:00,  2.16it/s]\n"
     ]
    },
    {
     "name": "stdout",
     "output_type": "stream",
     "text": [
      "Processing image 2624 in test_index = 0 \n",
      "id = 1075503168d77effb032b58c291a30fd4d5ba7493ab712ab5cb0e7ff34026e70\n",
      "multi processing\n"
     ]
    },
    {
     "name": "stderr",
     "output_type": "stream",
     "text": [
      "100%|██████████| 11/11 [00:00<00:00, 391.70it/s]\n",
      "100%|██████████| 16/16 [00:00<00:00, 264.37it/s]\n",
      "100%|██████████| 23/23 [00:00<00:00, 197.21it/s]\n",
      "100%|██████████| 29/29 [00:00<00:00, 198.76it/s]\n"
     ]
    },
    {
     "name": "stdout",
     "output_type": "stream",
     "text": [
      "Processing image 2625 in test_index = 0 \n",
      "id = 40fcf1dc8ab77a0cce4b28a111fdcb2ddfbf2ceb6e8a123994ce0038012745bf\n",
      "multi processing\n"
     ]
    },
    {
     "name": "stderr",
     "output_type": "stream",
     "text": [
      "100%|██████████| 41/41 [00:00<00:00, 98.40it/s]\n",
      "100%|██████████| 43/43 [00:00<00:00, 86.87it/s]\n",
      "100%|██████████| 53/53 [00:00<00:00, 75.17it/s]\n",
      "100%|██████████| 55/55 [00:00<00:00, 77.90it/s]\n"
     ]
    },
    {
     "name": "stdout",
     "output_type": "stream",
     "text": [
      "Processing image 2626 in test_index = 0 \n",
      "id = c7e7bdb5ff5863bf06410afc53fa6f41875b55f6f112f6710f93566530d09721\n",
      "multi processing\n"
     ]
    },
    {
     "name": "stderr",
     "output_type": "stream",
     "text": [
      "100%|██████████| 34/34 [00:00<00:00, 125.78it/s]\n",
      " 78%|███████▊  | 32/41 [00:00<00:00, 93.84it/s]\n",
      "100%|██████████| 41/41 [00:00<00:00, 117.83it/s]\n",
      "100%|██████████| 40/40 [00:00<00:00, 128.72it/s]\n"
     ]
    },
    {
     "name": "stdout",
     "output_type": "stream",
     "text": [
      "Processing image 2627 in test_index = 0 \n",
      "id = 676daab23d0acf4b072b15c170d3d16a25f1b75a8b5e6ee7d7ced99b87cb7722\n",
      "multi processing\n"
     ]
    },
    {
     "name": "stderr",
     "output_type": "stream",
     "text": [
      "100%|██████████| 17/17 [00:00<00:00, 231.61it/s]\n",
      "100%|██████████| 14/14 [00:00<00:00, 205.36it/s]\n",
      "100%|██████████| 16/16 [00:00<00:00, 131.99it/s]\n",
      "100%|██████████| 19/19 [00:00<00:00, 144.05it/s]\n"
     ]
    },
    {
     "name": "stdout",
     "output_type": "stream",
     "text": [
      "Processing image 2628 in test_index = 0 \n",
      "id = cde6008b42033a0da81d2f608281b61566557cec81d2bea0c081b8df6ed3cf3e\n",
      "multi processing\n"
     ]
    },
    {
     "name": "stderr",
     "output_type": "stream",
     "text": [
      "100%|██████████| 35/35 [00:00<00:00, 116.28it/s]\n",
      "100%|██████████| 37/37 [00:00<00:00, 91.51it/s]\n",
      "100%|██████████| 48/48 [00:00<00:00, 96.99it/s]\n",
      "100%|██████████| 43/43 [00:00<00:00, 91.26it/s]\n"
     ]
    },
    {
     "name": "stdout",
     "output_type": "stream",
     "text": [
      "Processing image 2629 in test_index = 0 \n",
      "id = 3dbb741e38a5f0ec4af07b05d4192a90d0e026391e563688fa9c678f206a4610\n",
      "multi processing\n"
     ]
    },
    {
     "name": "stderr",
     "output_type": "stream",
     "text": [
      "100%|██████████| 183/183 [02:07<00:00,  1.44it/s]\n",
      "100%|██████████| 198/198 [02:13<00:00,  1.48it/s]\n",
      "100%|██████████| 212/212 [02:27<00:00,  1.44it/s]\n",
      " 91%|█████████ | 191/210 [02:28<00:14,  1.28it/s]\n",
      "100%|██████████| 210/210 [02:29<00:00,  1.41it/s]"
     ]
    },
    {
     "name": "stdout",
     "output_type": "stream",
     "text": [
      "Processing image 2630 in test_index = 0 \n",
      "id = ee8cf5676454876537bb1b2ca305c984acadb1ce6a7253978f32c82a4f1fe442\n",
      "multi processing\n"
     ]
    },
    {
     "name": "stderr",
     "output_type": "stream",
     "text": [
      "100%|██████████| 43/43 [00:03<00:00, 11.56it/s]\n",
      "100%|██████████| 42/42 [00:04<00:00, 10.49it/s]\n",
      "100%|██████████| 44/44 [00:04<00:00, 10.04it/s]\n",
      "100%|██████████| 49/49 [00:05<00:00,  9.63it/s]\n"
     ]
    },
    {
     "name": "stdout",
     "output_type": "stream",
     "text": [
      "Processing image 2631 in test_index = 0 \n",
      "id = 892606c93fd32888ac17d0a83b2d2bc3868d5e16814f6d8c5bddd6f099d19ff9\n",
      "multi processing\n"
     ]
    },
    {
     "name": "stderr",
     "output_type": "stream",
     "text": [
      "100%|██████████| 53/53 [00:00<00:00, 61.03it/s]\n",
      "100%|██████████| 49/49 [00:00<00:00, 55.66it/s]\n",
      "100%|██████████| 66/66 [00:01<00:00, 59.60it/s]\n",
      "100%|██████████| 58/58 [00:01<00:00, 48.94it/s]\n"
     ]
    },
    {
     "name": "stdout",
     "output_type": "stream",
     "text": [
      "Processing image 2632 in test_index = 0 \n",
      "id = 4bd3e0d6db7b6d494925a542e5822b00eec3877fb75eff33efba56c06ce95321\n",
      "multi processing\n"
     ]
    },
    {
     "name": "stderr",
     "output_type": "stream",
     "text": [
      "100%|██████████| 40/40 [00:04<00:00,  8.12it/s]\n",
      "100%|██████████| 53/53 [00:07<00:00,  7.32it/s]\n",
      "100%|██████████| 51/51 [00:07<00:00,  6.90it/s]\n",
      "100%|██████████| 60/60 [00:08<00:00,  6.93it/s]\n"
     ]
    },
    {
     "name": "stdout",
     "output_type": "stream",
     "text": [
      "Processing image 2633 in test_index = 0 \n",
      "id = e96b09880ef3f18d4054ab3156c90437dcff889408e396047b12b2c3417f1f26\n",
      "multi processing\n"
     ]
    },
    {
     "name": "stderr",
     "output_type": "stream",
     "text": [
      "100%|██████████| 6/6 [00:00<00:00, 61.03it/s]\n",
      "100%|██████████| 8/8 [00:00<00:00, 68.55it/s]\n",
      "100%|██████████| 6/6 [00:00<00:00, 63.08it/s]\n"
     ]
    },
    {
     "name": "stdout",
     "output_type": "stream",
     "text": [
      "Processing image 2634 in test_index = 0 \n",
      "id = 2c9ac2942e6f34df45ad369faf5386d3866c1f58625571b6a00c5da8ffc0f5a3\n",
      "multi processing\n"
     ]
    },
    {
     "name": "stderr",
     "output_type": "stream",
     "text": [
      "100%|██████████| 52/52 [00:00<00:00, 95.33it/s]\n",
      "100%|██████████| 47/47 [00:00<00:00, 83.27it/s]\n",
      "100%|██████████| 55/55 [00:00<00:00, 84.16it/s]\n",
      "100%|██████████| 56/56 [00:00<00:00, 84.30it/s]\n"
     ]
    },
    {
     "name": "stdout",
     "output_type": "stream",
     "text": [
      "Processing image 2635 in test_index = 0 \n",
      "id = 7fcf1925bacc1b0c2f1a562f38f912ea4d5ba44eaaef108c9a121097a76e6924\n",
      "multi processing\n"
     ]
    },
    {
     "name": "stderr",
     "output_type": "stream",
     "text": [
      "100%|██████████| 54/54 [00:00<00:00, 62.91it/s]\n",
      "100%|██████████| 53/53 [00:00<00:00, 58.19it/s]\n",
      "100%|██████████| 53/53 [00:00<00:00, 53.43it/s]\n",
      "100%|██████████| 55/55 [00:01<00:00, 46.61it/s]\n"
     ]
    },
    {
     "name": "stdout",
     "output_type": "stream",
     "text": [
      "Processing image 2636 in test_index = 0 \n",
      "id = 60f81a7a679ac9063ef92c67d2efc4ccdd2873fa431c3c143e63114bf8cde26a\n",
      "multi processing\n"
     ]
    },
    {
     "name": "stderr",
     "output_type": "stream",
     "text": [
      "100%|██████████| 20/20 [00:00<00:00, 166.61it/s]\n",
      "100%|██████████| 22/22 [00:00<00:00, 160.31it/s]\n",
      "100%|██████████| 31/31 [00:00<00:00, 153.20it/s]\n",
      "100%|██████████| 33/33 [00:00<00:00, 146.93it/s]\n"
     ]
    },
    {
     "name": "stdout",
     "output_type": "stream",
     "text": [
      "Processing image 2637 in test_index = 0 \n",
      "id = 114121cd0f068963664c45307e672e837bb3490da4b6ea876b3cd119af70c9ff\n",
      "multi processing\n"
     ]
    },
    {
     "name": "stderr",
     "output_type": "stream",
     "text": [
      "100%|██████████| 63/63 [00:01<00:00, 57.41it/s]\n",
      "100%|██████████| 71/71 [00:01<00:00, 44.03it/s]\n",
      "100%|██████████| 74/74 [00:01<00:00, 40.42it/s]\n",
      "100%|██████████| 76/76 [00:01<00:00, 41.46it/s]\n"
     ]
    },
    {
     "name": "stdout",
     "output_type": "stream",
     "text": [
      "Processing image 2638 in test_index = 0 \n",
      "id = e2bcba9d083fa5bf5003c20b2029f9923a1c39a34c6a922f25dca057eb0c548c\n",
      "multi processing\n"
     ]
    },
    {
     "name": "stderr",
     "output_type": "stream",
     "text": [
      "100%|██████████| 67/67 [00:01<00:00, 58.70it/s]\n",
      "100%|██████████| 87/87 [00:01<00:00, 47.70it/s]]\n",
      "100%|██████████| 89/89 [00:02<00:00, 43.10it/s]]\n",
      "100%|██████████| 102/102 [00:02<00:00, 38.60it/s]\n"
     ]
    },
    {
     "name": "stdout",
     "output_type": "stream",
     "text": [
      "Processing image 2639 in test_index = 0 \n",
      "id = 525bcc87a9127fde630c486872cd4fa57d53ed4713a010e2d84263f17e987a9a\n",
      "multi processing\n",
      "Processing image 2640 in test_index = 0 \n",
      "id = 0f48fec9292aacdb20335b5e7bd21ae5d07040279aaa9814820cf807a999cc5e\n",
      "multi processing\n",
      "Processing image 2641 in test_index = 0 \n",
      "id = 453e2ec0b84579db6ef58eb7dc0ee6cfd330359910d7dfdd515a96763a233405\n",
      "multi processing\n"
     ]
    },
    {
     "name": "stderr",
     "output_type": "stream",
     "text": [
      "100%|██████████| 54/54 [00:01<00:00, 53.60it/s]\n",
      "100%|██████████| 66/66 [00:01<00:00, 53.06it/s]\n",
      "100%|██████████| 68/68 [00:01<00:00, 48.64it/s]\n",
      "100%|██████████| 64/64 [00:01<00:00, 46.61it/s]\n"
     ]
    },
    {
     "name": "stdout",
     "output_type": "stream",
     "text": [
      "Processing image 2642 in test_index = 0 \n",
      "id = 81f62c08d03621235fdf20a6eee47ea6cb3b7f466fd4cd8b5b8cda4c53d868af\n",
      "multi processing\n"
     ]
    },
    {
     "name": "stderr",
     "output_type": "stream",
     "text": [
      "100%|██████████| 11/11 [00:00<00:00, 298.11it/s]\n",
      "100%|██████████| 17/17 [00:00<00:00, 258.57it/s]\n",
      "100%|██████████| 16/16 [00:00<00:00, 210.74it/s]\n",
      "100%|██████████| 20/20 [00:00<00:00, 180.93it/s]\n"
     ]
    },
    {
     "name": "stdout",
     "output_type": "stream",
     "text": [
      "Processing image 2643 in test_index = 0 \n",
      "id = 91aa3cc0ce9da51d3d248090ddc9ab57a97c7d8b03e43c1ff4d49565d8eb7a88\n",
      "multi processing\n"
     ]
    },
    {
     "name": "stderr",
     "output_type": "stream",
     "text": [
      "100%|██████████| 81/81 [00:01<00:00, 42.69it/s]\n",
      "100%|██████████| 89/89 [00:02<00:00, 40.13it/s]\n",
      " 46%|████▌     | 42/91 [00:02<00:02, 19.84it/s]\n",
      "100%|██████████| 91/91 [00:02<00:00, 41.26it/s]\n"
     ]
    },
    {
     "name": "stdout",
     "output_type": "stream",
     "text": [
      "Processing image 2644 in test_index = 0 \n",
      "id = 563d4bd2a6bd820131f5d55e301ff544e2803418263e69075b51990fc2d8675f\n",
      "multi processing\n"
     ]
    },
    {
     "name": "stderr",
     "output_type": "stream",
     "text": [
      "100%|██████████| 41/41 [00:00<00:00, 90.93it/s]\n",
      "100%|██████████| 37/37 [00:00<00:00, 75.12it/s]\n",
      "100%|██████████| 44/44 [00:00<00:00, 78.97it/s]\n",
      "100%|██████████| 44/44 [00:00<00:00, 86.36it/s]\n"
     ]
    },
    {
     "name": "stdout",
     "output_type": "stream",
     "text": [
      "Processing image 2645 in test_index = 0 \n",
      "id = 527e77e9d4e097bfae072c4dea49e4700172066474c2f47fe2dc47a766a0e671\n",
      "multi processing\n"
     ]
    },
    {
     "name": "stderr",
     "output_type": "stream",
     "text": [
      "100%|██████████| 16/16 [00:00<00:00, 34.76it/s]\n",
      "100%|██████████| 18/18 [00:00<00:00, 33.57it/s]\n",
      "100%|██████████| 27/27 [00:01<00:00, 19.88it/s]\n",
      "100%|██████████| 23/23 [00:01<00:00, 17.03it/s]\n"
     ]
    },
    {
     "name": "stdout",
     "output_type": "stream",
     "text": [
      "Processing image 2646 in test_index = 0 \n",
      "id = 20337ac9d05486ed1a29150907c909ee956fe68aa6b1b07dde690c60cfa115ec\n",
      "multi processing\n"
     ]
    },
    {
     "name": "stderr",
     "output_type": "stream",
     "text": [
      "100%|██████████| 84/84 [00:01<00:00, 59.68it/s]\n",
      "100%|██████████| 87/87 [00:01<00:00, 60.89it/s]\n",
      "100%|██████████| 96/96 [00:01<00:00, 50.30it/s]\n",
      "100%|██████████| 98/98 [00:01<00:00, 50.15it/s]\n"
     ]
    },
    {
     "name": "stdout",
     "output_type": "stream",
     "text": [
      "Processing image 2647 in test_index = 0 \n",
      "id = 044f134c2689f632f98a722b6c3894ae5828069239365cc5fb6bb502c6ea5b96\n",
      "multi processing\n"
     ]
    },
    {
     "name": "stderr",
     "output_type": "stream",
     "text": [
      "100%|██████████| 80/80 [00:06<00:00, 13.11it/s]\n",
      "100%|██████████| 89/89 [00:06<00:00, 12.76it/s]\n",
      "100%|██████████| 88/88 [00:07<00:00, 11.72it/s]\n",
      "100%|██████████| 98/98 [00:07<00:00, 12.38it/s]\n"
     ]
    },
    {
     "name": "stdout",
     "output_type": "stream",
     "text": [
      "Processing image 2648 in test_index = 0 \n",
      "id = 20a097af6da0ac69e7c5aee83ba03d3e9b70d3165f6d507d14f30c9c22b3427d\n",
      "multi processing\n"
     ]
    },
    {
     "name": "stderr",
     "output_type": "stream",
     "text": [
      "100%|██████████| 48/48 [00:00<00:00, 73.56it/s]\n",
      "100%|██████████| 54/54 [00:00<00:00, 55.24it/s]\n",
      "100%|██████████| 63/63 [00:01<00:00, 56.93it/s]\n",
      "100%|██████████| 72/72 [00:01<00:00, 58.31it/s]\n"
     ]
    },
    {
     "name": "stdout",
     "output_type": "stream",
     "text": [
      "Processing image 2649 in test_index = 0 \n",
      "id = 4e065e04003539aa4fa1fe112b10f2652d9d2c7369f35e377edb4f84b1669dc6\n",
      "multi processing\n"
     ]
    },
    {
     "name": "stderr",
     "output_type": "stream",
     "text": [
      "100%|██████████| 255/255 [03:45<00:00,  1.13it/s]\n",
      "100%|██████████| 258/258 [03:56<00:00,  1.09it/s]\n",
      "100%|██████████| 265/265 [04:03<00:00,  1.09it/s]\n",
      "100%|██████████| 253/253 [04:00<00:00,  1.05it/s]\n"
     ]
    },
    {
     "name": "stdout",
     "output_type": "stream",
     "text": [
      "Processing image 2650 in test_index = 0 \n",
      "id = 20a107dcb35adf104e97234aa1d03d0de608138f99717748364e62ff04c625ba\n",
      "multi processing\n"
     ]
    },
    {
     "name": "stderr",
     "output_type": "stream",
     "text": [
      "100%|██████████| 32/32 [00:00<00:00, 139.59it/s]\n",
      "100%|██████████| 36/36 [00:00<00:00, 142.98it/s]\n",
      "100%|██████████| 36/36 [00:00<00:00, 116.71it/s]\n",
      "100%|██████████| 37/37 [00:00<00:00, 120.15it/s]\n"
     ]
    },
    {
     "name": "stdout",
     "output_type": "stream",
     "text": [
      "Processing image 2651 in test_index = 0 \n",
      "id = 47d58e7ca2c8f9c92cf3c3eb5078d2428257b299aeb10c50d5f0cc9fc51755bd\n",
      "multi processing\n",
      "Processing image 2652 in test_index = 0 \n",
      "id = c617511d068e31a336acb5834423c349aecc967adf7fea04d2485aed5ea61398\n",
      "multi processing\n"
     ]
    },
    {
     "name": "stderr",
     "output_type": "stream",
     "text": [
      "100%|██████████| 6/6 [00:00<00:00, 66.33it/s]\n",
      "100%|██████████| 5/5 [00:00<00:00, 68.65it/s]\n",
      "100%|██████████| 8/8 [00:00<00:00, 63.99it/s]\n",
      "100%|██████████| 6/6 [00:00<00:00, 76.14it/s]\n"
     ]
    },
    {
     "name": "stdout",
     "output_type": "stream",
     "text": [
      "Processing image 2653 in test_index = 0 \n",
      "id = 36f84da0b506dc4a5eb3d1af5697e57c4782db9788667ede959a8dbe7914c16d\n",
      "multi processing\n"
     ]
    },
    {
     "name": "stderr",
     "output_type": "stream",
     "text": [
      "100%|██████████| 3/3 [00:00<00:00, 105.08it/s]\n",
      "100%|██████████| 3/3 [00:00<00:00, 78.78it/s]\n",
      "100%|██████████| 4/4 [00:00<00:00, 85.43it/s]\n",
      "100%|██████████| 7/7 [00:00<00:00, 83.95it/s]\n"
     ]
    },
    {
     "name": "stdout",
     "output_type": "stream",
     "text": [
      "Processing image 2654 in test_index = 0 \n",
      "id = 9788f357a526ef5446188fd318017c0a72303a630b79ccd206638ef8eb13ac84\n",
      "multi processing\n",
      "Processing image 2655 in test_index = 0 \n",
      "id = a583b792fe9a97c9daef508250945d49375cdcfeea8d2df39db0185ad896a391\n",
      "multi processing\n"
     ]
    },
    {
     "name": "stderr",
     "output_type": "stream",
     "text": [
      "100%|██████████| 9/9 [00:00<00:00, 73.90it/s]\n",
      "100%|██████████| 8/8 [00:00<00:00, 69.34it/s]\n",
      " 62%|██████▎   | 5/8 [00:00<00:00, 42.48it/s]\n",
      "100%|██████████| 9/9 [00:00<00:00, 65.67it/s]\n"
     ]
    },
    {
     "name": "stdout",
     "output_type": "stream",
     "text": [
      "Processing image 2656 in test_index = 0 \n",
      "id = 400b3a62505f2e0530e765f103e8d6113c96318f49846ef9d97fade6d500bc90\n",
      "multi processing\n"
     ]
    },
    {
     "name": "stderr",
     "output_type": "stream",
     "text": [
      "100%|██████████| 11/11 [00:00<00:00, 40.61it/s]\n",
      "100%|██████████| 12/12 [00:00<00:00, 41.09it/s]\n",
      "100%|██████████| 16/16 [00:00<00:00, 26.54it/s]\n",
      "100%|██████████| 18/18 [00:00<00:00, 28.28it/s]\n"
     ]
    },
    {
     "name": "stdout",
     "output_type": "stream",
     "text": [
      "Processing image 2657 in test_index = 0 \n",
      "id = b98e98aeb5e148faf809ddb499c753d5cc24f8d15a7c7fc0aa29469cb9d003a5\n",
      "multi processing\n",
      "Processing image 2658 in test_index = 0 \n",
      "id = 892bfe8cee74d21ba9d2d316e344d2db21266dabefb2953b6f0dfdcfa871f6f2\n",
      "multi processing\n"
     ]
    },
    {
     "name": "stderr",
     "output_type": "stream",
     "text": [
      "100%|██████████| 72/72 [00:04<00:00, 15.11it/s]\n",
      "100%|██████████| 68/68 [00:04<00:00, 14.78it/s]\n",
      "100%|██████████| 65/65 [00:04<00:00, 13.47it/s]\n",
      "100%|██████████| 72/72 [00:05<00:00, 14.06it/s]\n"
     ]
    },
    {
     "name": "stdout",
     "output_type": "stream",
     "text": [
      "Processing image 2659 in test_index = 0 \n",
      "id = 38f45b96aa3603a4851e18a835dcab2c76846f5dd5c0af32a00805e8dfb95f7b\n",
      "multi processing\n"
     ]
    },
    {
     "name": "stderr",
     "output_type": "stream",
     "text": [
      "100%|██████████| 97/97 [00:16<00:00,  5.73it/s]]\n",
      "100%|██████████| 105/105 [00:19<00:00,  5.49it/s]\n",
      "100%|██████████| 103/103 [00:19<00:00,  5.27it/s]\n",
      "100%|██████████| 111/111 [00:21<00:00,  5.25it/s]\n"
     ]
    },
    {
     "name": "stdout",
     "output_type": "stream",
     "text": [
      "Processing image 2660 in test_index = 0 \n",
      "id = 34f1fe64b5700b8f5860ab2cef5120307999e9c15cf85f85754f3a716303cd2c\n",
      "multi processing\n"
     ]
    },
    {
     "name": "stderr",
     "output_type": "stream",
     "text": [
      "100%|██████████| 19/19 [00:00<00:00, 204.47it/s]\n",
      "100%|██████████| 24/24 [00:00<00:00, 203.44it/s]\n",
      "100%|██████████| 27/27 [00:00<00:00, 162.54it/s]\n",
      "100%|██████████| 30/30 [00:00<00:00, 142.68it/s]\n"
     ]
    },
    {
     "name": "stdout",
     "output_type": "stream",
     "text": [
      "Processing image 2661 in test_index = 0 \n",
      "id = a1cd45cef5be15a7b0faa3e680b06e68a5ec1e0ab0da36837c8648a781ee0ad0\n",
      "multi processing\n"
     ]
    },
    {
     "name": "stderr",
     "output_type": "stream",
     "text": [
      "100%|██████████| 75/75 [00:03<00:00, 19.71it/s]\n",
      "100%|██████████| 75/75 [00:04<00:00, 18.73it/s]\n",
      "100%|██████████| 78/78 [00:04<00:00, 18.49it/s]\n",
      "100%|██████████| 82/82 [00:04<00:00, 17.87it/s]\n"
     ]
    },
    {
     "name": "stdout",
     "output_type": "stream",
     "text": [
      "Processing image 2662 in test_index = 0 \n",
      "id = 579cce0ed9e541d292ae6211b0378635f6358b912177dcfe25bd61fbf112a3f1\n",
      "multi processing\n"
     ]
    },
    {
     "name": "stderr",
     "output_type": "stream",
     "text": [
      "100%|██████████| 66/66 [00:01<00:00, 55.30it/s]\n",
      "100%|██████████| 59/59 [00:01<00:00, 46.68it/s]\n",
      "100%|██████████| 68/68 [00:01<00:00, 51.13it/s]\n",
      "100%|██████████| 71/71 [00:01<00:00, 49.02it/s]\n"
     ]
    },
    {
     "name": "stdout",
     "output_type": "stream",
     "text": [
      "Processing image 2663 in test_index = 0 \n",
      "id = 6dddfd4da1b09999e5985b3349d4619df12c58c9347e60991477b7e6ff4e28e2\n",
      "multi processing\n"
     ]
    },
    {
     "name": "stderr",
     "output_type": "stream",
     "text": [
      "100%|██████████| 1/1 [00:00<00:00, 3170.30it/s]\n"
     ]
    },
    {
     "name": "stdout",
     "output_type": "stream",
     "text": [
      "Processing image 2664 in test_index = 0 \n",
      "id = ecfe3a321320e08f55774286286fd20a73ef834297723b0539e4ced54bc42730\n",
      "multi processing\n",
      "Processing image 2665 in test_index = 0 \n",
      "id = 279af72556377a88b73b4921edb0c5b2c2ae16c2d858757ebc02c1562e0781b2\n",
      "multi processing\n",
      "Processing image 2666 in test_index = 0 \n",
      "id = 94ff0316c66023f28e7057b26d3d690a0d6b7d8238a3e04484b0a842e1448f7d\n",
      "multi processing\n"
     ]
    },
    {
     "name": "stderr",
     "output_type": "stream",
     "text": [
      "100%|██████████| 194/194 [02:04<00:00,  1.56it/s]\n",
      "100%|██████████| 182/182 [02:05<00:00,  1.45it/s]\n",
      " 87%|████████▋ | 163/188 [02:08<00:19,  1.27it/s]\n",
      "100%|██████████| 202/202 [02:16<00:00,  1.48it/s]\n"
     ]
    },
    {
     "name": "stdout",
     "output_type": "stream",
     "text": [
      "Processing image 2667 in test_index = 0 \n",
      "id = bde2281413e3a88ae35fff99ca58a3c688fb9b7ae367b3b5bc553da188064953\n",
      "multi processing\n"
     ]
    },
    {
     "name": "stderr",
     "output_type": "stream",
     "text": [
      "100%|██████████| 104/104 [00:36<00:00,  2.84it/s]\n",
      "100%|██████████| 111/111 [00:41<00:00,  2.66it/s]\n",
      "100%|██████████| 123/123 [00:44<00:00,  2.78it/s]\n",
      "100%|██████████| 121/121 [00:46<00:00,  2.58it/s]\n"
     ]
    },
    {
     "name": "stdout",
     "output_type": "stream",
     "text": [
      "Processing image 2668 in test_index = 0 \n",
      "id = ff4571dd5d496ab22d4388881688e1b6d0bf97ec00bf349458fdc3bb68abbdb2\n",
      "multi processing\n"
     ]
    },
    {
     "name": "stderr",
     "output_type": "stream",
     "text": [
      "100%|██████████| 47/47 [00:00<00:00, 84.81it/s]\n",
      "100%|██████████| 52/52 [00:00<00:00, 84.51it/s]\n",
      "100%|██████████| 53/53 [00:00<00:00, 88.32it/s]\n",
      "100%|██████████| 59/59 [00:00<00:00, 86.47it/s]\n"
     ]
    },
    {
     "name": "stdout",
     "output_type": "stream",
     "text": [
      "Processing image 2669 in test_index = 0 \n",
      "id = 6be63fdfe2f3af2f2d6579abd7ab84e99288f111b163a74333d9ae64784f09f7\n",
      "multi processing\n"
     ]
    },
    {
     "name": "stderr",
     "output_type": "stream",
     "text": [
      "100%|██████████| 28/28 [00:00<00:00, 150.62it/s]\n",
      "100%|██████████| 39/39 [00:00<00:00, 123.94it/s]\n",
      "100%|██████████| 36/36 [00:00<00:00, 110.34it/s]\n",
      "100%|██████████| 42/42 [00:00<00:00, 115.67it/s]\n"
     ]
    },
    {
     "name": "stdout",
     "output_type": "stream",
     "text": [
      "Processing image 2670 in test_index = 0 \n",
      "id = 5dbc9f00a649245e749f1ce4aa4664e7e1f9d7d242931ece4ac98f7efb7ca5a4\n",
      "multi processing\n"
     ]
    },
    {
     "name": "stderr",
     "output_type": "stream",
     "text": [
      "100%|██████████| 26/26 [00:00<00:00, 65.02it/s]\n",
      "100%|██████████| 29/29 [00:00<00:00, 58.86it/s]\n",
      "100%|██████████| 32/32 [00:00<00:00, 50.59it/s]\n",
      "100%|██████████| 34/34 [00:00<00:00, 48.04it/s]\n"
     ]
    },
    {
     "name": "stdout",
     "output_type": "stream",
     "text": [
      "Processing image 2671 in test_index = 0 \n",
      "id = 2a3bf1c96ef53b3d9893f42209114d5b471b5f197b779585162739b3d4257cd6\n",
      "multi processing\n"
     ]
    },
    {
     "name": "stderr",
     "output_type": "stream",
     "text": [
      "100%|██████████| 72/72 [00:01<00:00, 38.66it/s]\n",
      "100%|██████████| 77/77 [00:02<00:00, 37.83it/s]\n",
      "100%|██████████| 80/80 [00:01<00:00, 40.43it/s]\n",
      "100%|██████████| 78/78 [00:01<00:00, 39.91it/s]\n"
     ]
    },
    {
     "name": "stdout",
     "output_type": "stream",
     "text": [
      "Processing image 2672 in test_index = 0 \n",
      "id = 5390acefd575cf9b33413ddf6cbb9ce137ae07dc04616ba24c7b5fe476c827d2\n",
      "multi processing\n"
     ]
    },
    {
     "name": "stderr",
     "output_type": "stream",
     "text": [
      "100%|██████████| 167/167 [01:32<00:00,  1.80it/s]\n",
      "100%|██████████| 189/189 [01:46<00:00,  1.77it/s]\n",
      "100%|██████████| 191/191 [01:52<00:00,  1.70it/s]\n",
      "100%|██████████| 195/195 [01:53<00:00,  1.72it/s]\n"
     ]
    },
    {
     "name": "stdout",
     "output_type": "stream",
     "text": [
      "Processing image 2673 in test_index = 0 \n",
      "id = fe79efc09c442a1df17f7ea319d43f197f27a5477fdc165cb86d20caac65e662\n",
      "multi processing\n"
     ]
    },
    {
     "name": "stderr",
     "output_type": "stream",
     "text": [
      "100%|██████████| 252/252 [04:16<00:00,  1.02s/it]\n",
      "100%|██████████| 247/247 [04:15<00:00,  1.04s/it]\n",
      "100%|██████████| 239/239 [04:15<00:00,  1.07s/it]\n",
      "100%|██████████| 248/248 [04:32<00:00,  1.10s/it]\n"
     ]
    },
    {
     "name": "stdout",
     "output_type": "stream",
     "text": [
      "Processing image 2674 in test_index = 0 \n",
      "id = e21d22c7d85bec0de3ad16573e72cc858c3ada5dd43f55efb62269fe8dbd7241\n",
      "multi processing\n"
     ]
    },
    {
     "name": "stderr",
     "output_type": "stream",
     "text": [
      "100%|██████████| 2/2 [00:00<00:00, 84.62it/s]\n"
     ]
    },
    {
     "name": "stdout",
     "output_type": "stream",
     "text": [
      "Processing image 2675 in test_index = 0 \n",
      "id = b678c627c6e3e1c912a7b89e9540fcd67922e45c2f9dfd8794ac95c11ac0739d\n",
      "multi processing\n",
      "Processing image 2676 in test_index = 0 \n",
      "id = 76ba221b2357a45880889cffabdd4c3a843a65a12ab69bba96424c77435e5485\n",
      "multi processing\n"
     ]
    },
    {
     "name": "stderr",
     "output_type": "stream",
     "text": [
      "100%|██████████| 6/6 [00:00<00:00, 342.04it/s]\n",
      "100%|██████████| 5/5 [00:00<00:00, 319.70it/s]\n",
      "100%|██████████| 4/4 [00:00<00:00, 443.92it/s]\n",
      "100%|██████████| 7/7 [00:00<00:00, 349.80it/s]\n"
     ]
    },
    {
     "name": "stdout",
     "output_type": "stream",
     "text": [
      "Processing image 2677 in test_index = 0 \n",
      "id = ee8780b8fad230c37beab528a7f53f81bd26e325cf4e0b358e48246e945623e3\n",
      "multi processing\n",
      "Processing image 2678 in test_index = 0 \n",
      "id = be0f683dae76a2aacef660ee64d3302061284a29fac082c38c6cfa619c0c21e2\n",
      "multi processing\n"
     ]
    },
    {
     "name": "stderr",
     "output_type": "stream",
     "text": [
      "100%|██████████| 32/32 [00:03<00:00,  8.07it/s]\n",
      "100%|██████████| 41/41 [00:04<00:00,  8.20it/s]\n",
      "100%|██████████| 42/42 [00:05<00:00,  7.97it/s]\n",
      "100%|██████████| 43/43 [00:05<00:00,  7.64it/s]\n"
     ]
    },
    {
     "name": "stdout",
     "output_type": "stream",
     "text": [
      "Processing image 2679 in test_index = 0 \n",
      "id = f8ea9320da06c050431bc818db1d1d4c87ed26f11b59f663ef8dd937e76ec2c7\n",
      "multi processing\n"
     ]
    },
    {
     "name": "stderr",
     "output_type": "stream",
     "text": [
      "100%|██████████| 13/13 [00:00<00:00, 42.28it/s]\n",
      "100%|██████████| 15/15 [00:00<00:00, 35.10it/s]\n",
      "100%|██████████| 15/15 [00:00<00:00, 37.69it/s]\n",
      "100%|██████████| 18/18 [00:00<00:00, 31.70it/s]\n"
     ]
    },
    {
     "name": "stdout",
     "output_type": "stream",
     "text": [
      "Processing image 2680 in test_index = 0 \n",
      "id = 3992ae0e50c7f537bc57466a04f8f91084bc18e9daafb566ad5e4fa72caa0537\n",
      "multi processing\n"
     ]
    },
    {
     "name": "stderr",
     "output_type": "stream",
     "text": [
      "100%|██████████| 119/119 [00:48<00:00,  2.43it/s]\n",
      "100%|██████████| 124/124 [00:51<00:00,  2.40it/s]\n",
      "100%|██████████| 129/129 [00:53<00:00,  2.43it/s]\n",
      "100%|██████████| 129/129 [00:53<00:00,  2.40it/s]\n"
     ]
    },
    {
     "name": "stdout",
     "output_type": "stream",
     "text": [
      "Processing image 2681 in test_index = 0 \n",
      "id = aeb792238ba1f7fb84858c7bd9489ccd4d5d28d9b55384f38caec1eb7a610a36\n",
      "multi processing\n"
     ]
    },
    {
     "name": "stderr",
     "output_type": "stream",
     "text": [
      "100%|██████████| 83/83 [00:01<00:00, 51.59it/s]\n",
      "100%|██████████| 81/81 [00:01<00:00, 53.64it/s]\n",
      "100%|██████████| 91/91 [00:01<00:00, 54.68it/s]\n",
      "100%|██████████| 90/90 [00:01<00:00, 49.36it/s]\n"
     ]
    },
    {
     "name": "stdout",
     "output_type": "stream",
     "text": [
      "Processing image 2682 in test_index = 0 \n",
      "id = 7fdc1f8bddaec9d8024a5c2491f911859d50a6f2b3366a65f3e50e7ae844c43c\n",
      "multi processing\n"
     ]
    },
    {
     "name": "stderr",
     "output_type": "stream",
     "text": [
      "100%|██████████| 27/27 [00:00<00:00, 109.38it/s]\n",
      "100%|██████████| 23/23 [00:00<00:00, 103.95it/s]\n",
      "100%|██████████| 30/30 [00:00<00:00, 93.32it/s]\n",
      "100%|██████████| 31/31 [00:00<00:00, 99.37it/s]\n"
     ]
    },
    {
     "name": "stdout",
     "output_type": "stream",
     "text": [
      "Processing image 2683 in test_index = 0 \n",
      "id = 28f81a16b6cd3459ff976bb01df6769fe887f9053197210128285d518a677c9e\n",
      "multi processing\n"
     ]
    },
    {
     "name": "stderr",
     "output_type": "stream",
     "text": [
      "100%|██████████| 11/11 [00:00<00:00, 38.65it/s]\n",
      " 45%|████▌     | 5/11 [00:00<00:00, 16.18it/s]\n",
      "100%|██████████| 11/11 [00:00<00:00, 35.36it/s]\n",
      "100%|██████████| 14/14 [00:00<00:00, 35.51it/s]\n"
     ]
    },
    {
     "name": "stdout",
     "output_type": "stream",
     "text": [
      "Processing image 2684 in test_index = 0 \n",
      "id = 2134a73456bf3e87ed79d35b4bd9672e2215d3d2893a44de9d6be0ab5e6b25f8\n",
      "multi processing\n"
     ]
    },
    {
     "name": "stderr",
     "output_type": "stream",
     "text": [
      "100%|██████████| 2/2 [00:00<00:00, 142.32it/s]\n",
      "100%|██████████| 4/4 [00:00<00:00, 169.27it/s]\n",
      "100%|██████████| 7/7 [00:00<00:00, 178.71it/s]\n",
      "100%|██████████| 7/7 [00:00<00:00, 199.50it/s]\n"
     ]
    },
    {
     "name": "stdout",
     "output_type": "stream",
     "text": [
      "Processing image 2685 in test_index = 0 \n",
      "id = abb7053c019971f25c8b37a82258057d4562b1c1085f5a21007b54603484ef60\n",
      "multi processing\n"
     ]
    },
    {
     "name": "stderr",
     "output_type": "stream",
     "text": [
      "100%|██████████| 50/50 [00:00<00:00, 85.34it/s]\n",
      " 33%|███▎      | 17/51 [00:00<00:01, 28.51it/s]\n",
      "100%|██████████| 49/49 [00:00<00:00, 88.50it/s]\n",
      "100%|██████████| 51/51 [00:00<00:00, 79.87it/s]\n"
     ]
    },
    {
     "name": "stdout",
     "output_type": "stream",
     "text": [
      "Processing image 2686 in test_index = 0 \n",
      "id = 3fceda40ce7dfc8129ab60f3e439de452f5e95f1004e98c7d9f8a53b89c1cfa4\n",
      "multi processing\n"
     ]
    },
    {
     "name": "stderr",
     "output_type": "stream",
     "text": [
      "100%|██████████| 169/169 [01:39<00:00,  1.69it/s]\n",
      "100%|██████████| 164/164 [01:42<00:00,  1.59it/s]\n",
      "100%|██████████| 176/176 [01:47<00:00,  1.63it/s]\n",
      "100%|██████████| 169/169 [01:47<00:00,  1.57it/s]\n"
     ]
    },
    {
     "name": "stdout",
     "output_type": "stream",
     "text": [
      "Processing image 2687 in test_index = 0 \n",
      "id = 8489eee6a63473e99199a27e382668c8a46affd0ab7589c710a9a2c17e5d7791\n",
      "multi processing\n"
     ]
    },
    {
     "name": "stderr",
     "output_type": "stream",
     "text": [
      "100%|██████████| 88/88 [00:05<00:00, 16.89it/s]\n",
      "100%|██████████| 90/90 [00:05<00:00, 16.45it/s]\n",
      "100%|██████████| 88/88 [00:05<00:00, 15.97it/s]\n",
      "100%|██████████| 89/89 [00:05<00:00, 15.29it/s]\n"
     ]
    },
    {
     "name": "stdout",
     "output_type": "stream",
     "text": [
      "Processing image 2688 in test_index = 0 \n",
      "id = 0543691b2760ae9dc963cfb8d335de4b23f2b9402abe6a56e676267042ead205\n",
      "multi processing\n"
     ]
    },
    {
     "name": "stderr",
     "output_type": "stream",
     "text": [
      "100%|██████████| 31/31 [00:02<00:00, 14.46it/s]\n",
      "100%|██████████| 32/32 [00:02<00:00, 11.76it/s]\n",
      "100%|██████████| 34/34 [00:03<00:00, 10.62it/s]\n",
      "100%|██████████| 39/39 [00:03<00:00, 10.58it/s]\n"
     ]
    },
    {
     "name": "stdout",
     "output_type": "stream",
     "text": [
      "Processing image 2689 in test_index = 0 \n",
      "id = 21f6f73a03f6fe2c992b3bdfe009475b13c70875d4d764544f2a4a91a225773f\n",
      "multi processing\n"
     ]
    },
    {
     "name": "stderr",
     "output_type": "stream",
     "text": [
      "100%|██████████| 21/21 [00:01<00:00, 20.43it/s]\n",
      "100%|██████████| 20/20 [00:00<00:00, 20.01it/s]\n",
      "100%|██████████| 26/26 [00:01<00:00, 19.80it/s]\n",
      "100%|██████████| 27/27 [00:01<00:00, 17.48it/s]\n"
     ]
    },
    {
     "name": "stdout",
     "output_type": "stream",
     "text": [
      "Processing image 2690 in test_index = 0 \n",
      "id = 2048326c289b86580112976ec30df138959ed0230b3458b8826f63a70fcdead4\n",
      "multi processing\n"
     ]
    },
    {
     "name": "stderr",
     "output_type": "stream",
     "text": [
      "100%|██████████| 14/14 [00:00<00:00, 37.18it/s]\n",
      "100%|██████████| 15/15 [00:00<00:00, 30.77it/s]\n",
      "100%|██████████| 19/19 [00:00<00:00, 26.16it/s]\n",
      "100%|██████████| 26/26 [00:00<00:00, 27.64it/s]\n"
     ]
    },
    {
     "name": "stdout",
     "output_type": "stream",
     "text": [
      "Processing image 2691 in test_index = 0 \n",
      "id = 62e220353cf36af578120d2a754d9235cce773af9a5df97ba7d1ccc598d6cad5\n",
      "multi processing\n"
     ]
    },
    {
     "name": "stderr",
     "output_type": "stream",
     "text": [
      "100%|██████████| 227/227 [01:55<00:00,  1.96it/s]\n",
      "100%|██████████| 238/238 [01:57<00:00,  2.02it/s]\n",
      "100%|██████████| 225/225 [02:03<00:00,  1.82it/s]\n",
      "100%|██████████| 233/233 [02:04<00:00,  1.87it/s]\n"
     ]
    },
    {
     "name": "stdout",
     "output_type": "stream",
     "text": [
      "Processing image 2692 in test_index = 0 \n",
      "id = 861a0fa08ceacdc6372728920d313a9b80257086e8e733e92d9c18c257ec9e93\n",
      "multi processing\n"
     ]
    },
    {
     "name": "stderr",
     "output_type": "stream",
     "text": [
      "100%|██████████| 36/36 [00:03<00:00, 10.78it/s]\n",
      "100%|██████████| 40/40 [00:03<00:00, 11.35it/s]\n",
      "100%|██████████| 37/37 [00:03<00:00,  9.96it/s]\n",
      "100%|██████████| 42/42 [00:04<00:00, 10.22it/s]\n"
     ]
    },
    {
     "name": "stdout",
     "output_type": "stream",
     "text": [
      "Processing image 2693 in test_index = 0 \n",
      "id = fed8bfbbd40e1ff1fb0e29b457e8b41486e7d9ead28779d094a9998c6ffe794c\n",
      "multi processing\n"
     ]
    },
    {
     "name": "stderr",
     "output_type": "stream",
     "text": [
      "100%|██████████| 22/22 [00:00<00:00, 201.44it/s]\n",
      "100%|██████████| 24/24 [00:00<00:00, 148.57it/s]\n",
      "100%|██████████| 28/28 [00:00<00:00, 159.86it/s]\n",
      "100%|██████████| 32/32 [00:00<00:00, 116.62it/s]\n"
     ]
    },
    {
     "name": "stdout",
     "output_type": "stream",
     "text": [
      "Processing image 2694 in test_index = 0 \n",
      "id = bc9ee507f0b0d0f68f49ee72cbf1a1275465d0b7a991366657e74a1f51b9bd79\n",
      "multi processing\n"
     ]
    },
    {
     "name": "stderr",
     "output_type": "stream",
     "text": [
      "100%|██████████| 32/32 [00:00<00:00, 106.53it/s]\n",
      "100%|██████████| 31/31 [00:00<00:00, 101.84it/s]\n",
      "100%|██████████| 32/32 [00:00<00:00, 84.57it/s]\n",
      "100%|██████████| 44/44 [00:00<00:00, 73.64it/s]\n"
     ]
    },
    {
     "name": "stdout",
     "output_type": "stream",
     "text": [
      "Processing image 2695 in test_index = 0 \n",
      "id = 9bcdf1e7e00d8b8423be2608b3b989d5c94e69a09fb708622afae242d5d08dda\n",
      "multi processing\n"
     ]
    },
    {
     "name": "stderr",
     "output_type": "stream",
     "text": [
      "100%|██████████| 54/54 [00:00<00:00, 79.16it/s]\n",
      "100%|██████████| 63/63 [00:00<00:00, 72.37it/s]\n",
      "100%|██████████| 63/63 [00:00<00:00, 75.21it/s]\n",
      "100%|██████████| 71/71 [00:01<00:00, 65.38it/s]\n"
     ]
    },
    {
     "name": "stdout",
     "output_type": "stream",
     "text": [
      "Processing image 2696 in test_index = 0 \n",
      "id = 545025f2f36c1fa26e8bec38a117560800e557689653e931c13d3141b4018d56\n",
      "multi processing\n"
     ]
    },
    {
     "name": "stderr",
     "output_type": "stream",
     "text": [
      "100%|██████████| 6/6 [00:00<00:00, 179.26it/s]\n",
      "100%|██████████| 12/12 [00:00<00:00, 142.26it/s]\n",
      "100%|██████████| 12/12 [00:00<00:00, 141.99it/s]\n",
      "100%|██████████| 14/14 [00:00<00:00, 136.66it/s]\n"
     ]
    },
    {
     "name": "stdout",
     "output_type": "stream",
     "text": [
      "Processing image 2697 in test_index = 0 \n",
      "id = ac8c7e91aa6b7df49f40bd472cd789e8453b65d4af557a29969ff4f9b5faa8d9\n",
      "multi processing\n"
     ]
    },
    {
     "name": "stderr",
     "output_type": "stream",
     "text": [
      "100%|██████████| 9/9 [00:00<00:00, 351.77it/s]\n",
      "100%|██████████| 16/16 [00:00<00:00, 284.40it/s]\n",
      "100%|██████████| 15/15 [00:00<00:00, 285.38it/s]\n",
      "100%|██████████| 18/18 [00:00<00:00, 262.98it/s]\n"
     ]
    },
    {
     "name": "stdout",
     "output_type": "stream",
     "text": [
      "Processing image 2698 in test_index = 0 \n",
      "id = 3f6562c7a1320360dfffbde527e6f00d6cb71477995b13a6ff38044b02ca0bd0\n",
      "multi processing\n"
     ]
    },
    {
     "name": "stderr",
     "output_type": "stream",
     "text": [
      "100%|██████████| 6/6 [00:00<00:00, 90.90it/s]\n",
      "100%|██████████| 5/5 [00:00<00:00, 88.56it/s]\n",
      "100%|██████████| 5/5 [00:00<00:00, 82.63it/s]\n",
      "100%|██████████| 6/6 [00:00<00:00, 76.60it/s]\n"
     ]
    },
    {
     "name": "stdout",
     "output_type": "stream",
     "text": [
      "Processing image 2699 in test_index = 0 \n",
      "id = c205be364da3c2a193723d7816dc4bec1f2f95982acd239bc194a62818c84e2d\n",
      "multi processing\n"
     ]
    },
    {
     "name": "stderr",
     "output_type": "stream",
     "text": [
      "100%|██████████| 70/70 [00:01<00:00, 45.31it/s]\n",
      "100%|██████████| 81/81 [00:01<00:00, 45.44it/s]\n",
      "100%|██████████| 78/78 [00:01<00:00, 45.98it/s]\n",
      "100%|██████████| 85/85 [00:01<00:00, 43.29it/s]\n"
     ]
    },
    {
     "name": "stdout",
     "output_type": "stream",
     "text": [
      "Processing image 2700 in test_index = 0 \n",
      "id = 31e5fb8458150fb0e10c263abe56b7f43639ce7428dd45943537c502fc398938\n",
      "multi processing\n",
      "Processing image 2701 in test_index = 0 \n",
      "id = e40196bc514419e8474157bdab146c1ab1492bf33f0411b8f9fd0a39065c6cb1\n",
      "multi processing\n"
     ]
    },
    {
     "name": "stderr",
     "output_type": "stream",
     "text": [
      "100%|██████████| 2/2 [00:00<00:00, 421.03it/s]\n",
      "100%|██████████| 3/3 [00:00<00:00, 97.37it/s]\n",
      "100%|██████████| 3/3 [00:00<00:00, 70.29it/s]\n",
      "100%|██████████| 5/5 [00:00<00:00, 103.21it/s]\n"
     ]
    },
    {
     "name": "stdout",
     "output_type": "stream",
     "text": [
      "Processing image 2702 in test_index = 0 \n",
      "id = 1bacf56acbdaaae04ac99d812db92bdd423fceec8b9ce8adc75f064a8fc5091c\n",
      "multi processing\n"
     ]
    },
    {
     "name": "stderr",
     "output_type": "stream",
     "text": [
      "100%|██████████| 68/68 [00:04<00:00, 16.59it/s]\n",
      "100%|██████████| 80/80 [00:04<00:00, 17.10it/s]\n",
      "100%|██████████| 78/78 [00:04<00:00, 15.69it/s]\n",
      "100%|██████████| 78/78 [00:05<00:00, 15.41it/s]\n"
     ]
    },
    {
     "name": "stdout",
     "output_type": "stream",
     "text": [
      "Processing image 2703 in test_index = 0 \n",
      "id = 5389d88e61ef2fb498794c97e72497125eb3c0dfedd7a9b75d9e9d2474c203e3\n",
      "multi processing\n"
     ]
    },
    {
     "name": "stderr",
     "output_type": "stream",
     "text": [
      "100%|██████████| 275/275 [04:39<00:00,  1.02s/it]\n",
      "100%|██████████| 279/279 [04:48<00:00,  1.03s/it]\n",
      "100%|██████████| 269/269 [04:52<00:00,  1.09s/it]\n",
      "100%|██████████| 272/272 [04:51<00:00,  1.07s/it]\n"
     ]
    },
    {
     "name": "stdout",
     "output_type": "stream",
     "text": [
      "Processing image 2704 in test_index = 0 \n",
      "id = e2e236ad21d7dba6f1e739fad2081eae4741731bcb2072fa88a3685a5e0e2b47\n",
      "multi processing\n"
     ]
    },
    {
     "name": "stderr",
     "output_type": "stream",
     "text": [
      "100%|██████████| 44/44 [00:00<00:00, 117.58it/s]\n",
      "100%|██████████| 45/45 [00:00<00:00, 100.09it/s]\n",
      "100%|██████████| 44/44 [00:00<00:00, 84.81it/s]\n",
      "100%|██████████| 50/50 [00:00<00:00, 98.63it/s]\n"
     ]
    },
    {
     "name": "stdout",
     "output_type": "stream",
     "text": [
      "Processing image 2705 in test_index = 0 \n",
      "id = 746496e1d09e6323a1f85b8f2f9d1b229b1182f68229bc594ef455eeee3999db\n",
      "multi processing\n"
     ]
    },
    {
     "name": "stderr",
     "output_type": "stream",
     "text": [
      "100%|██████████| 207/207 [02:30<00:00,  1.38it/s]\n",
      "100%|██████████| 220/220 [02:37<00:00,  1.40it/s]\n",
      "100%|██████████| 211/211 [02:41<00:00,  1.31it/s]\n",
      "100%|██████████| 224/224 [02:42<00:00,  1.37it/s]\n"
     ]
    },
    {
     "name": "stdout",
     "output_type": "stream",
     "text": [
      "Processing image 2706 in test_index = 0 \n",
      "id = 03d9ebe734708631138820bfa1b598528495a049a182902d65efbaa73e738389\n",
      "multi processing\n"
     ]
    },
    {
     "name": "stderr",
     "output_type": "stream",
     "text": [
      "100%|██████████| 182/182 [00:12<00:00, 14.03it/s]\n",
      "100%|██████████| 187/187 [00:13<00:00, 13.83it/s]\n",
      "100%|██████████| 193/193 [00:14<00:00, 13.59it/s]\n",
      "100%|██████████| 189/189 [00:14<00:00, 13.30it/s]\n"
     ]
    },
    {
     "name": "stdout",
     "output_type": "stream",
     "text": [
      "Processing image 2707 in test_index = 0 \n",
      "id = 5d71876e8bba86a57c3e92947fa58ffafacc5e56052f38329f85381f66f187f9\n",
      "multi processing\n"
     ]
    },
    {
     "name": "stderr",
     "output_type": "stream",
     "text": [
      "100%|██████████| 138/138 [00:05<00:00, 23.98it/s]\n",
      "100%|██████████| 142/142 [00:05<00:00, 24.10it/s]\n",
      "100%|██████████| 144/144 [00:06<00:00, 23.21it/s]\n",
      "100%|██████████| 141/141 [00:06<00:00, 23.09it/s]\n"
     ]
    },
    {
     "name": "stdout",
     "output_type": "stream",
     "text": [
      "Processing image 2708 in test_index = 0 \n",
      "id = 88c7fba66a016ceaa25abba59e8b6739df21a102aeffd1022434fd08badd607b\n",
      "multi processing\n"
     ]
    },
    {
     "name": "stderr",
     "output_type": "stream",
     "text": [
      "100%|██████████| 59/59 [00:00<00:00, 65.27it/s]\n",
      "100%|██████████| 60/60 [00:00<00:00, 61.76it/s]\n",
      "100%|██████████| 57/57 [00:00<00:00, 61.00it/s]\n",
      "100%|██████████| 60/60 [00:01<00:00, 53.93it/s]\n"
     ]
    },
    {
     "name": "stdout",
     "output_type": "stream",
     "text": [
      "Processing image 2709 in test_index = 0 \n",
      "id = fb11432e1637804c44c66fa7a02c28886ebcfc4ae2bb9c139fd8cfea20890840\n",
      "multi processing\n"
     ]
    },
    {
     "name": "stderr",
     "output_type": "stream",
     "text": [
      "100%|██████████| 43/43 [00:00<00:00, 97.07it/s]\n",
      "100%|██████████| 35/35 [00:00<00:00, 89.11it/s]\n",
      "100%|██████████| 47/47 [00:00<00:00, 86.87it/s]\n",
      "100%|██████████| 51/51 [00:00<00:00, 84.09it/s]\n"
     ]
    },
    {
     "name": "stdout",
     "output_type": "stream",
     "text": [
      "Processing image 2710 in test_index = 0 \n",
      "id = 364fb54d8bcbf2d67da60c3c1f6bade82c6a72f76010e6cd27309ccf7fa8f3be\n",
      "multi processing\n"
     ]
    },
    {
     "name": "stderr",
     "output_type": "stream",
     "text": [
      "100%|██████████| 75/75 [00:11<00:00,  6.27it/s]\n",
      "100%|██████████| 76/76 [00:12<00:00,  6.14it/s]\n",
      "100%|██████████| 74/74 [00:12<00:00,  6.08it/s]\n",
      "100%|██████████| 79/79 [00:12<00:00,  6.14it/s]\n"
     ]
    },
    {
     "name": "stdout",
     "output_type": "stream",
     "text": [
      "Processing image 2711 in test_index = 0 \n",
      "id = 4716505b5e5a718d5669f2be196c4fa463711a5ba23e7be30499facda1256d43\n",
      "multi processing\n"
     ]
    },
    {
     "name": "stderr",
     "output_type": "stream",
     "text": [
      "100%|██████████| 77/77 [00:04<00:00, 17.02it/s]\n",
      "100%|██████████| 88/88 [00:05<00:00, 16.76it/s]\n",
      "100%|██████████| 88/88 [00:05<00:00, 16.23it/s]\n",
      "100%|██████████| 96/96 [00:06<00:00, 15.47it/s]\n"
     ]
    },
    {
     "name": "stdout",
     "output_type": "stream",
     "text": [
      "Processing image 2712 in test_index = 0 \n",
      "id = c73216e5dd0e7897e18e93fe8aa78479d38eed663560039574ad445a4db7f8f7\n",
      "multi processing\n"
     ]
    },
    {
     "name": "stderr",
     "output_type": "stream",
     "text": [
      "100%|██████████| 15/15 [00:00<00:00, 21.75it/s]\n",
      "100%|██████████| 15/15 [00:00<00:00, 23.74it/s]\n",
      "100%|██████████| 20/20 [00:00<00:00, 20.46it/s]\n",
      "100%|██████████| 21/21 [00:01<00:00, 18.59it/s]\n"
     ]
    },
    {
     "name": "stdout",
     "output_type": "stream",
     "text": [
      "Processing image 2713 in test_index = 0 \n",
      "id = 43db90aa201fdd722138d1b4ebd4ef45c060c9ab349556344054e496a0216b46\n",
      "multi processing\n"
     ]
    },
    {
     "name": "stderr",
     "output_type": "stream",
     "text": [
      "100%|██████████| 83/83 [00:01<00:00, 50.43it/s]\n",
      "100%|██████████| 82/82 [00:01<00:00, 45.20it/s]\n",
      "100%|██████████| 82/82 [00:01<00:00, 46.98it/s]\n",
      "100%|██████████| 88/88 [00:01<00:00, 47.01it/s]\n"
     ]
    },
    {
     "name": "stdout",
     "output_type": "stream",
     "text": [
      "Processing image 2714 in test_index = 0 \n",
      "id = 5694ef74699c2a74bb6d6cc04af7432c29ccd4a0940716eb23044a763d275a89\n",
      "multi processing\n"
     ]
    },
    {
     "name": "stderr",
     "output_type": "stream",
     "text": [
      "100%|██████████| 8/8 [00:00<00:00, 226.64it/s]\n",
      "100%|██████████| 11/11 [00:00<00:00, 186.40it/s]\n",
      "100%|██████████| 11/11 [00:00<00:00, 165.10it/s]\n",
      "100%|██████████| 19/19 [00:00<00:00, 160.47it/s]\n"
     ]
    },
    {
     "name": "stdout",
     "output_type": "stream",
     "text": [
      "Processing image 2715 in test_index = 0 \n",
      "id = e0946fa9d9828d41ef95aad92c052bc09f41a986b7120bbc289b14bcef8c1b91\n",
      "multi processing\n"
     ]
    },
    {
     "name": "stderr",
     "output_type": "stream",
     "text": [
      "100%|██████████| 16/16 [00:00<00:00, 273.37it/s]\n",
      "100%|██████████| 13/13 [00:00<00:00, 230.11it/s]\n",
      "100%|██████████| 11/11 [00:00<00:00, 220.25it/s]\n",
      "100%|██████████| 17/17 [00:00<00:00, 224.62it/s]\n"
     ]
    },
    {
     "name": "stdout",
     "output_type": "stream",
     "text": [
      "Processing image 2716 in test_index = 0 \n",
      "id = 5171307b70da8e144e5ace020a85a985af8c11360297cc2982e05c5312174e6d\n",
      "multi processing\n"
     ]
    },
    {
     "name": "stderr",
     "output_type": "stream",
     "text": [
      "100%|██████████| 1/1 [00:00<00:00, 3711.77it/s]\n"
     ]
    },
    {
     "name": "stdout",
     "output_type": "stream",
     "text": [
      "Processing image 2717 in test_index = 0 \n",
      "id = cbf34fbe7704e76bf1c5357a3c8802708c534b5abf027513e51213d5212fe05b\n",
      "multi processing\n"
     ]
    },
    {
     "name": "stderr",
     "output_type": "stream",
     "text": [
      "100%|██████████| 22/22 [00:01<00:00, 16.35it/s]\n",
      "100%|██████████| 27/27 [00:01<00:00, 15.05it/s]\n",
      "100%|██████████| 28/28 [00:02<00:00, 12.52it/s]\n",
      "100%|██████████| 30/30 [00:02<00:00, 12.63it/s]\n"
     ]
    },
    {
     "name": "stdout",
     "output_type": "stream",
     "text": [
      "Processing image 2718 in test_index = 0 \n",
      "id = 7c055ce40072bae2242ef39251bfd2110996e122cdbdcac28fc6689b57ccea87\n",
      "multi processing\n"
     ]
    },
    {
     "name": "stderr",
     "output_type": "stream",
     "text": [
      "100%|██████████| 65/65 [00:13<00:00,  4.65it/s]\n",
      "100%|██████████| 63/63 [00:14<00:00,  4.44it/s]\n",
      "100%|██████████| 70/70 [00:16<00:00,  4.13it/s]\n",
      "100%|██████████| 73/73 [00:17<00:00,  4.10it/s]\n"
     ]
    },
    {
     "name": "stdout",
     "output_type": "stream",
     "text": [
      "Processing image 2719 in test_index = 0 \n",
      "id = 71260eb68ba996a8d81f7e5770043a5fc7c46219893619f2e9f6fc16f36d738e\n",
      "multi processing\n"
     ]
    },
    {
     "name": "stderr",
     "output_type": "stream",
     "text": [
      "100%|██████████| 2/2 [00:00<00:00, 197.67it/s]\n",
      "100%|██████████| 1/1 [00:00<00:00, 178.95it/s]\n",
      "100%|██████████| 2/2 [00:00<00:00, 182.32it/s]\n",
      "100%|██████████| 2/2 [00:00<00:00, 261.77it/s]\n"
     ]
    },
    {
     "name": "stdout",
     "output_type": "stream",
     "text": [
      "Processing image 2720 in test_index = 0 \n",
      "id = 24928d37f8e4704fed57eb9521248f6e6680f581d487f8aae44491d8ac52d01f\n",
      "multi processing\n"
     ]
    },
    {
     "name": "stderr",
     "output_type": "stream",
     "text": [
      "100%|██████████| 72/72 [00:01<00:00, 43.16it/s]\n",
      "100%|██████████| 73/73 [00:01<00:00, 42.72it/s]\n",
      "100%|██████████| 75/75 [00:01<00:00, 42.06it/s]\n",
      "100%|██████████| 81/81 [00:01<00:00, 41.01it/s]\n"
     ]
    },
    {
     "name": "stdout",
     "output_type": "stream",
     "text": [
      "Processing image 2721 in test_index = 0 \n",
      "id = 0809c8808881395346e23fe04a6750a8f7fe8e562b6db970ef0c4075d9e82117\n",
      "multi processing\n"
     ]
    },
    {
     "name": "stderr",
     "output_type": "stream",
     "text": [
      "100%|██████████| 4/4 [00:00<00:00, 100.52it/s]\n"
     ]
    },
    {
     "name": "stdout",
     "output_type": "stream",
     "text": [
      "Processing image 2722 in test_index = 0 \n",
      "id = 102c2afeb1ce4714ef9b53d8c63e3431a89491bdb9175e189d0b6d391c85ae85\n",
      "multi processing\n"
     ]
    },
    {
     "name": "stderr",
     "output_type": "stream",
     "text": [
      "100%|██████████| 7/7 [00:00<00:00, 174.48it/s]\n",
      "100%|██████████| 13/13 [00:00<00:00, 125.06it/s]\n",
      "100%|██████████| 14/14 [00:00<00:00, 112.75it/s]\n",
      "100%|██████████| 20/20 [00:00<00:00, 106.55it/s]\n"
     ]
    },
    {
     "name": "stdout",
     "output_type": "stream",
     "text": [
      "Processing image 2723 in test_index = 0 \n",
      "id = 817e03b5744dc163e2f7d3b14234e6c20d375aa6c5e9c4158d009627dc57f65f\n",
      "multi processing\n"
     ]
    },
    {
     "name": "stderr",
     "output_type": "stream",
     "text": [
      "100%|██████████| 44/44 [00:07<00:00,  6.07it/s]\n",
      "100%|██████████| 49/49 [00:08<00:00,  5.90it/s]\n",
      "100%|██████████| 49/49 [00:08<00:00,  5.68it/s]\n",
      "100%|██████████| 57/57 [00:09<00:00,  5.88it/s]\n"
     ]
    },
    {
     "name": "stdout",
     "output_type": "stream",
     "text": [
      "Processing image 2724 in test_index = 0 \n",
      "id = 0ec1e0387baf20d0c858d84fcfcdffd255b87db4d3c59953c5dcbed995e14c07\n",
      "multi processing\n",
      "Processing image 2725 in test_index = 0 \n",
      "id = c7ec1b66694579e875e115ab58524b7a482bd2658c74763c67f4c220afd3fd38\n",
      "multi processing\n"
     ]
    },
    {
     "name": "stderr",
     "output_type": "stream",
     "text": [
      "100%|██████████| 28/28 [00:00<00:00, 143.55it/s]\n",
      " 34%|███▍      | 10/29 [00:00<00:00, 47.04it/s]]\n",
      "100%|██████████| 30/30 [00:00<00:00, 159.04it/s]\n",
      "100%|██████████| 29/29 [00:00<00:00, 115.68it/s]\n"
     ]
    },
    {
     "name": "stdout",
     "output_type": "stream",
     "text": [
      "Processing image 2726 in test_index = 0 \n",
      "id = 04387d228734fd5993d61199704cbd741762b10e31856eabe92552c8790ca7e0\n",
      "multi processing\n",
      "Processing image 2727 in test_index = 0 \n",
      "id = 3f2267b39df037b8ecfaf4c94c3113103f9a0dc74683c5dff7217ce7f5f3f189\n",
      "multi processing\n"
     ]
    },
    {
     "name": "stderr",
     "output_type": "stream",
     "text": [
      "100%|██████████| 45/45 [00:00<00:00, 96.47it/s]\n",
      "100%|██████████| 50/50 [00:00<00:00, 89.87it/s]\n",
      "100%|██████████| 48/48 [00:00<00:00, 89.52it/s]\n",
      "100%|██████████| 58/58 [00:00<00:00, 86.62it/s]\n"
     ]
    },
    {
     "name": "stdout",
     "output_type": "stream",
     "text": [
      "Processing image 2728 in test_index = 0 \n",
      "id = 17b3d209dbf19153c53e35b3b69a95708f82ac763104e3e7f968cb78ee18b1a3\n",
      "multi processing\n"
     ]
    },
    {
     "name": "stderr",
     "output_type": "stream",
     "text": [
      "100%|██████████| 56/56 [00:00<00:00, 103.73it/s]\n",
      "100%|██████████| 55/55 [00:00<00:00, 97.63it/s]\n",
      "100%|██████████| 52/52 [00:00<00:00, 96.42it/s]\n",
      "100%|██████████| 57/57 [00:00<00:00, 87.76it/s]\n"
     ]
    },
    {
     "name": "stdout",
     "output_type": "stream",
     "text": [
      "Processing image 2729 in test_index = 0 \n",
      "id = 486fe606382b28907ffd6f4e0b45d6a1b1ea3ef798eb59d5a4dd917fa8ec5f90\n",
      "multi processing\n"
     ]
    },
    {
     "name": "stderr",
     "output_type": "stream",
     "text": [
      "100%|██████████| 31/31 [00:00<00:00, 152.48it/s]\n",
      "100%|██████████| 32/32 [00:00<00:00, 137.47it/s]\n",
      "100%|██████████| 39/39 [00:00<00:00, 138.81it/s]\n",
      "100%|██████████| 37/37 [00:00<00:00, 144.36it/s]\n"
     ]
    },
    {
     "name": "stdout",
     "output_type": "stream",
     "text": [
      "Processing image 2730 in test_index = 0 \n",
      "id = e2d206e4ea6b9e6cb477f85fb32b94f7c2098431b0da258b818ac69e1834c00a\n",
      "multi processing\n"
     ]
    },
    {
     "name": "stderr",
     "output_type": "stream",
     "text": [
      "100%|██████████| 16/16 [00:00<00:00, 31.26it/s]\n",
      "100%|██████████| 24/24 [00:00<00:00, 32.52it/s]\n",
      "100%|██████████| 26/26 [00:01<00:00, 19.73it/s]\n",
      "100%|██████████| 29/29 [00:01<00:00, 17.66it/s]\n"
     ]
    },
    {
     "name": "stdout",
     "output_type": "stream",
     "text": [
      "Processing image 2731 in test_index = 0 \n",
      "id = 804a9fd51a33b145114d7655b65d54a36ba33b358daf0455293bb4d40df0272a\n",
      "multi processing\n"
     ]
    },
    {
     "name": "stderr",
     "output_type": "stream",
     "text": [
      "100%|██████████| 107/107 [00:43<00:00,  2.43it/s]\n",
      "100%|██████████| 118/118 [00:49<00:00,  2.38it/s]\n",
      "100%|██████████| 120/120 [00:51<00:00,  2.33it/s]\n",
      "100%|██████████| 129/129 [00:56<00:00,  2.30it/s]\n"
     ]
    },
    {
     "name": "stdout",
     "output_type": "stream",
     "text": [
      "Processing image 2732 in test_index = 0 \n",
      "id = c5dc5a10b015aa412d816304e5975e01261d99cda3e9909e7a970860737af02e\n",
      "multi processing\n"
     ]
    },
    {
     "name": "stderr",
     "output_type": "stream",
     "text": [
      "100%|██████████| 7/7 [00:00<00:00, 448.57it/s]\n",
      "100%|██████████| 10/10 [00:00<00:00, 389.99it/s]\n",
      "100%|██████████| 6/6 [00:00<00:00, 351.10it/s]\n",
      "100%|██████████| 7/7 [00:00<00:00, 386.60it/s]\n"
     ]
    },
    {
     "name": "stdout",
     "output_type": "stream",
     "text": [
      "Processing image 2733 in test_index = 0 \n",
      "id = 38eaf5c62a54544c9b07881c96f5057acdffa57e8f718e7fca6f4955f9e06690\n",
      "multi processing\n"
     ]
    },
    {
     "name": "stderr",
     "output_type": "stream",
     "text": [
      "100%|██████████| 29/29 [00:01<00:00, 17.40it/s]\n",
      "100%|██████████| 33/33 [00:02<00:00, 11.56it/s]\n",
      "100%|██████████| 31/31 [00:02<00:00, 11.41it/s]\n",
      "100%|██████████| 29/29 [00:02<00:00,  9.77it/s]\n"
     ]
    },
    {
     "name": "stdout",
     "output_type": "stream",
     "text": [
      "Processing image 2734 in test_index = 0 \n",
      "id = a99507e15e1f2c172377ebe77b956143b3229cfd516b9c590b1c8b776ed8a54c\n",
      "multi processing\n"
     ]
    },
    {
     "name": "stderr",
     "output_type": "stream",
     "text": [
      "100%|██████████| 75/75 [00:01<00:00, 64.48it/s]\n",
      "100%|██████████| 72/72 [00:01<00:00, 57.75it/s]\n",
      "100%|██████████| 74/74 [00:01<00:00, 59.81it/s]\n",
      "100%|██████████| 80/80 [00:01<00:00, 60.07it/s]\n"
     ]
    },
    {
     "name": "stdout",
     "output_type": "stream",
     "text": [
      "Processing image 2735 in test_index = 0 \n",
      "id = a3f30b52add039680a19e16e42710e4aeea316505aaa121a72b8d283fd2b4d43\n",
      "multi processing\n"
     ]
    },
    {
     "name": "stderr",
     "output_type": "stream",
     "text": [
      "100%|██████████| 20/20 [00:00<00:00, 20.22it/s]\n",
      "100%|██████████| 21/21 [00:01<00:00, 17.64it/s]\n",
      "100%|██████████| 23/23 [00:01<00:00, 17.29it/s]\n",
      "100%|██████████| 27/27 [00:01<00:00, 14.00it/s]\n"
     ]
    },
    {
     "name": "stdout",
     "output_type": "stream",
     "text": [
      "Processing image 2736 in test_index = 0 \n",
      "id = 13160787b26bb275a2458bad2f65df80d65a962224024493691d7539d0148a4b\n",
      "multi processing\n"
     ]
    },
    {
     "name": "stderr",
     "output_type": "stream",
     "text": [
      "100%|██████████| 56/56 [00:00<00:00, 65.36it/s]\n",
      "100%|██████████| 59/59 [00:00<00:00, 68.68it/s]\n",
      "100%|██████████| 75/75 [00:01<00:00, 67.99it/s]\n",
      "100%|██████████| 70/70 [00:01<00:00, 56.66it/s]\n"
     ]
    },
    {
     "name": "stdout",
     "output_type": "stream",
     "text": [
      "Processing image 2737 in test_index = 0 \n",
      "id = 6f28825a6f47ca1b0a1897bdbd6b7901af2d7a7a36547c819e99baba4c8c6f49\n",
      "multi processing\n"
     ]
    },
    {
     "name": "stderr",
     "output_type": "stream",
     "text": [
      "100%|██████████| 43/43 [00:06<00:00,  6.77it/s]\n",
      "100%|██████████| 47/47 [00:07<00:00,  6.33it/s]\n",
      "100%|██████████| 55/55 [00:07<00:00,  6.95it/s]\n",
      " 85%|████████▍ | 44/52 [00:07<00:01,  5.53it/s]\n",
      "100%|██████████| 52/52 [00:07<00:00,  6.52it/s]"
     ]
    },
    {
     "name": "stdout",
     "output_type": "stream",
     "text": [
      "Processing image 2738 in test_index = 0 \n",
      "id = 5e9bde42fdac02b66190fd109906ae0648c7bf2baf6fa6cf8a43c99052450353\n",
      "multi processing\n"
     ]
    },
    {
     "name": "stderr",
     "output_type": "stream",
     "text": [
      "100%|██████████| 2/2 [00:00<00:00, 155.97it/s]\n"
     ]
    },
    {
     "name": "stdout",
     "output_type": "stream",
     "text": [
      "Processing image 2739 in test_index = 0 \n",
      "id = a04b569f7fda650fddaa7d2945cf8a2fe7f3356883ac3353c6dcab5b3816ff56\n",
      "multi processing\n"
     ]
    },
    {
     "name": "stderr",
     "output_type": "stream",
     "text": [
      "100%|██████████| 2/2 [00:00<00:00, 76.79it/s]\n",
      "100%|██████████| 3/3 [00:00<00:00, 73.71it/s]\n",
      "100%|██████████| 9/9 [00:00<00:00, 82.72it/s]\n",
      "100%|██████████| 11/11 [00:00<00:00, 68.16it/s]\n"
     ]
    },
    {
     "name": "stdout",
     "output_type": "stream",
     "text": [
      "Processing image 2740 in test_index = 0 \n",
      "id = 892c085fac67b6fb93f99186d73391c7292954953f3399880f3126bae7b83fdb\n",
      "multi processing\n"
     ]
    },
    {
     "name": "stderr",
     "output_type": "stream",
     "text": [
      "100%|██████████| 6/6 [00:00<00:00, 305.03it/s]\n",
      "100%|██████████| 8/8 [00:00<00:00, 221.12it/s]\n",
      "100%|██████████| 7/7 [00:00<00:00, 253.90it/s]\n",
      "100%|██████████| 8/8 [00:00<00:00, 238.38it/s]\n"
     ]
    },
    {
     "name": "stdout",
     "output_type": "stream",
     "text": [
      "Processing image 2741 in test_index = 0 \n",
      "id = 21d4efff99cb7512878b19f4b1e978f7e24dd02c6b311bd9b3a2819e2777b3dd\n",
      "multi processing\n"
     ]
    },
    {
     "name": "stderr",
     "output_type": "stream",
     "text": [
      "100%|██████████| 27/27 [00:02<00:00, 10.36it/s]\n",
      "100%|██████████| 35/35 [00:03<00:00, 10.30it/s]\n",
      "100%|██████████| 38/38 [00:03<00:00, 10.09it/s]\n",
      "100%|██████████| 44/44 [00:04<00:00,  9.53it/s]\n"
     ]
    },
    {
     "name": "stdout",
     "output_type": "stream",
     "text": [
      "Processing image 2742 in test_index = 0 \n",
      "id = eeb6873e29c2cdc402531da256a33ec1552abe95128e8c7827b403702513ace3\n",
      "multi processing\n",
      "Processing image 2743 in test_index = 0 \n",
      "id = e1dedfc527eb4b9e0f85e3d9da0ec1f7343b9dfb7651df110958738ed831224b\n",
      "multi processing\n"
     ]
    },
    {
     "name": "stderr",
     "output_type": "stream",
     "text": [
      "100%|██████████| 50/50 [00:00<00:00, 71.19it/s]\n",
      "100%|██████████| 56/56 [00:00<00:00, 61.79it/s]\n",
      "100%|██████████| 66/66 [00:01<00:00, 54.20it/s]\n",
      "100%|██████████| 71/71 [00:01<00:00, 46.86it/s]\n"
     ]
    },
    {
     "name": "stdout",
     "output_type": "stream",
     "text": [
      "Processing image 2744 in test_index = 0 \n",
      "id = 5be85f834d2ccae4b65f29ccf1eef5f2cef827278be23ab01e7fded0d3c00a72\n",
      "multi processing\n"
     ]
    },
    {
     "name": "stderr",
     "output_type": "stream",
     "text": [
      "100%|██████████| 63/63 [00:00<00:00, 69.12it/s]\n",
      "100%|██████████| 68/68 [00:00<00:00, 75.25it/s]\n",
      "100%|██████████| 68/68 [00:01<00:00, 60.84it/s]\n",
      "100%|██████████| 78/78 [00:01<00:00, 67.06it/s]\n"
     ]
    },
    {
     "name": "stdout",
     "output_type": "stream",
     "text": [
      "Processing image 2745 in test_index = 0 \n",
      "id = a2c12dec525c5e619783dad0637cd7355542c50a168af23ca326922c48ec1922\n",
      "multi processing\n"
     ]
    },
    {
     "name": "stderr",
     "output_type": "stream",
     "text": [
      "100%|██████████| 1/1 [00:00<00:00, 3024.01it/s]\n",
      "100%|██████████| 2/2 [00:00<00:00, 185.79it/s]\n",
      "100%|██████████| 1/1 [00:00<00:00, 303.25it/s]\n",
      "100%|██████████| 2/2 [00:00<00:00, 76.61it/s]\n"
     ]
    },
    {
     "name": "stdout",
     "output_type": "stream",
     "text": [
      "Processing image 2746 in test_index = 0 \n",
      "id = 5662665ab4b6341818f74b029f5f997f81320312ea34bb8d2b4c55dcb8cd84aa\n",
      "multi processing\n"
     ]
    },
    {
     "name": "stderr",
     "output_type": "stream",
     "text": [
      "100%|██████████| 15/15 [00:00<00:00, 55.66it/s]\n",
      "100%|██████████| 13/13 [00:00<00:00, 51.22it/s]\n",
      "100%|██████████| 18/18 [00:00<00:00, 49.35it/s]\n",
      "100%|██████████| 25/25 [00:00<00:00, 33.87it/s]\n"
     ]
    },
    {
     "name": "stdout",
     "output_type": "stream",
     "text": [
      "Processing image 2747 in test_index = 0 \n",
      "id = 5e6d5cf7ab4fa2f9279210f9faf36ac8877fccdc2607cebd1e9987be095cc84c\n",
      "multi processing\n"
     ]
    },
    {
     "name": "stderr",
     "output_type": "stream",
     "text": [
      "100%|██████████| 41/41 [00:00<00:00, 103.28it/s]\n",
      "100%|██████████| 44/44 [00:00<00:00, 97.22it/s]\n",
      "100%|██████████| 44/44 [00:00<00:00, 97.28it/s]\n",
      "100%|██████████| 49/49 [00:00<00:00, 91.32it/s]\n"
     ]
    },
    {
     "name": "stdout",
     "output_type": "stream",
     "text": [
      "Processing image 2748 in test_index = 0 \n",
      "id = 45ab35f6951ccedf48f346ae7a9bc117a7479a46636b4da0b14b78fad2e625fc\n",
      "multi processing\n"
     ]
    },
    {
     "name": "stderr",
     "output_type": "stream",
     "text": [
      "100%|██████████| 76/76 [00:20<00:00,  3.64it/s]\n",
      "100%|██████████| 81/81 [00:23<00:00,  3.49it/s]\n",
      "100%|██████████| 83/83 [00:24<00:00,  3.40it/s]\n",
      "100%|██████████| 86/86 [00:25<00:00,  3.42it/s]\n"
     ]
    },
    {
     "name": "stdout",
     "output_type": "stream",
     "text": [
      "Processing image 2749 in test_index = 0 \n",
      "id = 86f28c2c2bed586ed75ff6267b24af1de4c1347787753fec9ff2a92d7b91c5f8\n",
      "multi processing\n"
     ]
    },
    {
     "name": "stderr",
     "output_type": "stream",
     "text": [
      "100%|██████████| 1/1 [00:00<00:00, 3591.01it/s]\n",
      "100%|██████████| 1/1 [00:00<00:00, 3189.58it/s]\n",
      "100%|██████████| 3/3 [00:00<00:00, 120.35it/s]\n"
     ]
    },
    {
     "name": "stdout",
     "output_type": "stream",
     "text": [
      "Processing image 2750 in test_index = 0 \n",
      "id = 3d96585c1070108bda4c15ea5eedb81c40eb18a3efb5578e4670c953af65cd7f\n",
      "multi processing\n"
     ]
    },
    {
     "name": "stderr",
     "output_type": "stream",
     "text": [
      "100%|██████████| 11/11 [00:00<00:00, 131.73it/s]\n",
      "100%|██████████| 11/11 [00:00<00:00, 164.25it/s]\n",
      "100%|██████████| 11/11 [00:00<00:00, 143.33it/s]\n",
      "100%|██████████| 12/12 [00:00<00:00, 126.90it/s]\n"
     ]
    },
    {
     "name": "stdout",
     "output_type": "stream",
     "text": [
      "Processing image 2751 in test_index = 0 \n",
      "id = 522ce42064ddfc4a0e6469ba6384b3b052da41ba26ce59f06560f9204e86bee8\n",
      "multi processing\n"
     ]
    },
    {
     "name": "stderr",
     "output_type": "stream",
     "text": [
      "100%|██████████| 3/3 [00:00<00:00, 94.68it/s]\n",
      "100%|██████████| 3/3 [00:00<00:00, 80.25it/s]\n"
     ]
    },
    {
     "name": "stdout",
     "output_type": "stream",
     "text": [
      "Processing image 2752 in test_index = 0 \n",
      "id = 9c45c366823c80fb2e16280dbcf2e17e834d0bb9991d7ff72b8f2305e198677b\n",
      "multi processing\n"
     ]
    },
    {
     "name": "stderr",
     "output_type": "stream",
     "text": [
      "100%|██████████| 8/8 [00:00<00:00, 224.58it/s]\n",
      "100%|██████████| 11/11 [00:00<00:00, 230.89it/s]\n",
      "100%|██████████| 10/10 [00:00<00:00, 237.90it/s]\n",
      "100%|██████████| 13/13 [00:00<00:00, 193.60it/s]\n"
     ]
    },
    {
     "name": "stdout",
     "output_type": "stream",
     "text": [
      "Processing image 2753 in test_index = 0 \n",
      "id = 4c68676a9c53c685790835bf4a3e85d4b2ea3a90d7a930809960a29e48d6b612\n",
      "multi processing\n"
     ]
    },
    {
     "name": "stderr",
     "output_type": "stream",
     "text": [
      "100%|██████████| 45/45 [00:00<00:00, 99.15it/s]\n",
      "100%|██████████| 45/45 [00:00<00:00, 98.04it/s]\n",
      "100%|██████████| 52/52 [00:00<00:00, 75.87it/s]\n",
      "100%|██████████| 53/53 [00:00<00:00, 77.54it/s]\n"
     ]
    },
    {
     "name": "stdout",
     "output_type": "stream",
     "text": [
      "Processing image 2754 in test_index = 0 \n",
      "id = b2b9b85cf0e5dd9f6803e26e71c7681db346d82c83950141ee1e1ed7f256246d\n",
      "multi processing\n"
     ]
    },
    {
     "name": "stderr",
     "output_type": "stream",
     "text": [
      "100%|██████████| 1/1 [00:00<00:00, 3844.46it/s]\n"
     ]
    },
    {
     "name": "stdout",
     "output_type": "stream",
     "text": [
      "Processing image 2755 in test_index = 0 \n",
      "id = a53c0335a658b1e6fd683a36b2d44d4068dd0e8aca0091e278ad65dab8cee959\n",
      "multi processing\n"
     ]
    },
    {
     "name": "stderr",
     "output_type": "stream",
     "text": [
      "100%|██████████| 10/10 [00:00<00:00, 425.39it/s]\n",
      "100%|██████████| 9/9 [00:00<00:00, 411.39it/s]\n",
      "100%|██████████| 15/15 [00:00<00:00, 392.42it/s]\n",
      "100%|██████████| 17/17 [00:00<00:00, 291.19it/s]\n"
     ]
    },
    {
     "name": "stdout",
     "output_type": "stream",
     "text": [
      "Processing image 2756 in test_index = 0 \n",
      "id = 81537757f724d396ad6c803d8db775b2bd2814c711a839394e6895e5be62178d\n",
      "multi processing\n"
     ]
    },
    {
     "name": "stderr",
     "output_type": "stream",
     "text": [
      "100%|██████████| 2/2 [00:00<00:00, 455.46it/s]\n",
      "100%|██████████| 1/1 [00:00<00:00, 351.93it/s]\n"
     ]
    },
    {
     "name": "stdout",
     "output_type": "stream",
     "text": [
      "Processing image 2757 in test_index = 0 \n",
      "id = 61f15758840c4068c0633f53795f33949dbfca53fe846c76633705373a6ab67f\n",
      "multi processing\n"
     ]
    },
    {
     "name": "stderr",
     "output_type": "stream",
     "text": [
      "100%|██████████| 124/124 [00:49<00:00,  2.51it/s]\n",
      "100%|██████████| 162/162 [01:09<00:00,  2.33it/s]\n",
      "100%|██████████| 160/160 [01:10<00:00,  2.26it/s]\n",
      "100%|██████████| 156/156 [01:10<00:00,  2.22it/s]\n"
     ]
    },
    {
     "name": "stdout",
     "output_type": "stream",
     "text": [
      "Processing image 2758 in test_index = 0 \n",
      "id = b435afe8d2fc55eb5c898b068cb53a5039cc259b971f5b954157eb17c64d45b4\n",
      "multi processing\n"
     ]
    },
    {
     "name": "stderr",
     "output_type": "stream",
     "text": [
      "100%|██████████| 66/66 [00:12<00:00,  5.22it/s]\n",
      "100%|██████████| 81/81 [00:15<00:00,  5.09it/s]\n",
      " 95%|█████████▌| 77/81 [00:17<00:00,  4.53it/s]\n",
      "100%|██████████| 91/91 [00:19<00:00,  4.77it/s]\n"
     ]
    },
    {
     "name": "stdout",
     "output_type": "stream",
     "text": [
      "Processing image 2759 in test_index = 0 \n",
      "id = bec3dd21227544e1012867f361e3cff766e3db79256c28db2bcfa902118240a3\n",
      "multi processing\n"
     ]
    },
    {
     "name": "stderr",
     "output_type": "stream",
     "text": [
      "100%|██████████| 61/61 [00:08<00:00,  7.62it/s]\n",
      "100%|██████████| 62/62 [00:08<00:00,  6.97it/s]\n",
      "100%|██████████| 68/68 [00:09<00:00,  7.24it/s]\n",
      "100%|██████████| 76/76 [00:11<00:00,  6.56it/s]\n"
     ]
    },
    {
     "name": "stdout",
     "output_type": "stream",
     "text": [
      "Processing image 2760 in test_index = 0 \n",
      "id = a19b065f27f139135084a25e17fe4054416947202d63d5c556ea308864ea5396\n",
      "multi processing\n"
     ]
    },
    {
     "name": "stderr",
     "output_type": "stream",
     "text": [
      "100%|██████████| 15/15 [00:00<00:00, 35.90it/s]\n",
      "100%|██████████| 17/17 [00:00<00:00, 26.55it/s]\n",
      "100%|██████████| 19/19 [00:00<00:00, 27.57it/s]\n",
      "100%|██████████| 21/21 [00:00<00:00, 26.42it/s]\n"
     ]
    },
    {
     "name": "stdout",
     "output_type": "stream",
     "text": [
      "Processing image 2761 in test_index = 0 \n",
      "id = 54913a8172590e7268be62281e348c49fb1e66f9ce271e61505013fe591ed804\n",
      "multi processing\n"
     ]
    },
    {
     "name": "stderr",
     "output_type": "stream",
     "text": [
      "100%|██████████| 30/30 [00:02<00:00, 14.76it/s]\n",
      "100%|██████████| 36/36 [00:02<00:00, 14.11it/s]\n",
      "100%|██████████| 35/35 [00:02<00:00, 12.94it/s]\n",
      "100%|██████████| 35/35 [00:03<00:00, 11.61it/s]\n"
     ]
    },
    {
     "name": "stdout",
     "output_type": "stream",
     "text": [
      "Processing image 2762 in test_index = 0 \n",
      "id = 1c69629d540046c19795f48d6ecc7150ea213c810b92a62506bdad498cd39f41\n",
      "multi processing\n"
     ]
    },
    {
     "name": "stderr",
     "output_type": "stream",
     "text": [
      "100%|██████████| 5/5 [00:00<00:00, 70.71it/s]\n",
      "100%|██████████| 3/3 [00:00<00:00, 77.40it/s]\n",
      "100%|██████████| 4/4 [00:00<00:00, 86.09it/s]\n",
      "100%|██████████| 6/6 [00:00<00:00, 66.47it/s]\n"
     ]
    },
    {
     "name": "stdout",
     "output_type": "stream",
     "text": [
      "Processing image 2763 in test_index = 0 \n",
      "id = ea2ec7d4b1c58de4029faf58074f012fdf212e631fb1156b67002fdea8ae2184\n",
      "multi processing\n",
      "Processing image 2764 in test_index = 0 \n",
      "id = e40fb2e18142f0e7ae7f970fee866f89e1b7b414161515d330f1d950846fecd4\n",
      "multi processing\n"
     ]
    },
    {
     "name": "stderr",
     "output_type": "stream",
     "text": [
      "100%|██████████| 1/1 [00:00<00:00, 3358.13it/s]\n"
     ]
    },
    {
     "name": "stdout",
     "output_type": "stream",
     "text": [
      "Processing image 2765 in test_index = 0 \n",
      "id = 59062eacbf265af92719fea96f85a8487804db18f47b834b552759b317d472ce\n",
      "multi processing\n"
     ]
    },
    {
     "name": "stderr",
     "output_type": "stream",
     "text": [
      "100%|██████████| 232/232 [02:57<00:00,  1.30it/s]\n",
      "100%|██████████| 236/236 [03:04<00:00,  1.28it/s]\n",
      "100%|██████████| 256/256 [03:25<00:00,  1.24it/s]\n",
      "100%|██████████| 266/266 [03:40<00:00,  1.21it/s]\n"
     ]
    },
    {
     "name": "stdout",
     "output_type": "stream",
     "text": [
      "Processing image 2766 in test_index = 0 \n",
      "id = a332606fd5bfc159c2688b752b6a64664645fc0b018efb495f2173ed7a0e7c18\n",
      "multi processing\n"
     ]
    },
    {
     "name": "stderr",
     "output_type": "stream",
     "text": [
      "100%|██████████| 57/57 [00:00<00:00, 74.35it/s]\n",
      "100%|██████████| 59/59 [00:00<00:00, 68.00it/s]\n",
      "100%|██████████| 59/59 [00:00<00:00, 77.62it/s]\n",
      "100%|██████████| 70/70 [00:01<00:00, 56.61it/s]\n"
     ]
    },
    {
     "name": "stdout",
     "output_type": "stream",
     "text": [
      "Processing image 2767 in test_index = 0 \n",
      "id = b615c5b5a72a30225b6772c7258c67e40f47be3873b80950671004888950773a\n",
      "multi processing\n"
     ]
    },
    {
     "name": "stderr",
     "output_type": "stream",
     "text": [
      "100%|██████████| 26/26 [00:01<00:00, 17.01it/s]\n",
      "100%|██████████| 30/30 [00:01<00:00, 15.44it/s]\n",
      "100%|██████████| 26/26 [00:01<00:00, 15.91it/s]\n",
      "100%|██████████| 34/34 [00:02<00:00, 14.38it/s]\n"
     ]
    },
    {
     "name": "stdout",
     "output_type": "stream",
     "text": [
      "Processing image 2768 in test_index = 0 \n",
      "id = a0bf5958f91dcfeb45a431944f8664261230b461a5aa99047049c1bff6ee055e\n",
      "multi processing\n"
     ]
    },
    {
     "name": "stderr",
     "output_type": "stream",
     "text": [
      "100%|██████████| 39/39 [00:00<00:00, 85.10it/s]\n",
      "100%|██████████| 45/45 [00:00<00:00, 74.93it/s]\n",
      "100%|██████████| 52/52 [00:00<00:00, 79.67it/s]\n",
      "100%|██████████| 50/50 [00:00<00:00, 68.94it/s]\n"
     ]
    },
    {
     "name": "stdout",
     "output_type": "stream",
     "text": [
      "Processing image 2769 in test_index = 0 \n",
      "id = 6cac54fefe515d19363e6da44f5800535fc9bd6f215765bb73c0f3cdd918d20f\n",
      "multi processing\n"
     ]
    },
    {
     "name": "stderr",
     "output_type": "stream",
     "text": [
      "100%|██████████| 31/31 [00:02<00:00, 11.41it/s]\n",
      "100%|██████████| 30/30 [00:03<00:00,  9.95it/s]\n",
      "100%|██████████| 33/33 [00:03<00:00, 10.36it/s]\n",
      "100%|██████████| 33/33 [00:03<00:00,  9.63it/s]\n"
     ]
    },
    {
     "name": "stdout",
     "output_type": "stream",
     "text": [
      "Processing image 2770 in test_index = 0 \n",
      "id = bd5384e61cd26fc4e6c0833996d1a3fcfd7555bef1cf8c1fbbe54bd215e6a095\n",
      "multi processing\n"
     ]
    },
    {
     "name": "stderr",
     "output_type": "stream",
     "text": [
      "100%|██████████| 22/22 [00:00<00:00, 230.04it/s]\n",
      "100%|██████████| 21/21 [00:00<00:00, 210.09it/s]\n",
      "100%|██████████| 21/21 [00:00<00:00, 225.64it/s]\n",
      "100%|██████████| 28/28 [00:00<00:00, 198.17it/s]\n"
     ]
    },
    {
     "name": "stdout",
     "output_type": "stream",
     "text": [
      "Processing image 2771 in test_index = 0 \n",
      "id = b5d585ce67095b353a8596274af0cf18cb95d9e03a4b4881c29b09f81576c0a5\n",
      "multi processing\n"
     ]
    },
    {
     "name": "stderr",
     "output_type": "stream",
     "text": [
      "100%|██████████| 58/58 [00:00<00:00, 62.45it/s]\n",
      "100%|██████████| 60/60 [00:01<00:00, 54.83it/s]\n",
      "100%|██████████| 69/69 [00:01<00:00, 57.15it/s]\n",
      "100%|██████████| 72/72 [00:01<00:00, 55.62it/s]\n"
     ]
    },
    {
     "name": "stdout",
     "output_type": "stream",
     "text": [
      "Processing image 2772 in test_index = 0 \n",
      "id = 5694ac60bf95b3a8e655ff8ad43e84f8bb8170c23e41f3ff945d6852c686973d\n",
      "multi processing\n"
     ]
    },
    {
     "name": "stderr",
     "output_type": "stream",
     "text": [
      "100%|██████████| 26/26 [00:00<00:00, 145.43it/s]\n",
      "100%|██████████| 29/29 [00:00<00:00, 154.60it/s]\n",
      "100%|██████████| 33/33 [00:00<00:00, 125.89it/s]\n",
      "100%|██████████| 34/34 [00:00<00:00, 117.09it/s]\n"
     ]
    },
    {
     "name": "stdout",
     "output_type": "stream",
     "text": [
      "Processing image 2773 in test_index = 0 \n",
      "id = 13e4eef807af99a8537235fbcbacf0f96f6362f1f3f9782ebf60b5f5dc28db88\n",
      "multi processing\n"
     ]
    },
    {
     "name": "stderr",
     "output_type": "stream",
     "text": [
      "100%|██████████| 75/75 [00:01<00:00, 49.68it/s]\n",
      "100%|██████████| 79/79 [00:01<00:00, 46.65it/s]\n",
      "100%|██████████| 83/83 [00:01<00:00, 44.89it/s]\n",
      "100%|██████████| 85/85 [00:02<00:00, 41.69it/s]\n"
     ]
    },
    {
     "name": "stdout",
     "output_type": "stream",
     "text": [
      "Processing image 2774 in test_index = 0 \n",
      "id = 87d4534ea8555b2ee490a4e6d408f9dad61a330b24f8f0f25940bbc2ab7935d1\n",
      "multi processing\n"
     ]
    },
    {
     "name": "stderr",
     "output_type": "stream",
     "text": [
      "100%|██████████| 106/106 [00:02<00:00, 38.42it/s]\n",
      "100%|██████████| 117/117 [00:03<00:00, 33.42it/s]\n",
      "100%|██████████| 120/120 [00:03<00:00, 32.03it/s]\n",
      "100%|██████████| 128/128 [00:04<00:00, 27.54it/s]\n"
     ]
    },
    {
     "name": "stdout",
     "output_type": "stream",
     "text": [
      "Processing image 2775 in test_index = 0 \n",
      "id = 218eadb4336ce74de6ff2d9661839ac739cbb2850c682b0f6f83e9dc0c169810\n",
      "multi processing\n",
      "Processing image 2776 in test_index = 0 \n",
      "id = 970a6a7c4a4e0a67f23378bfac45b6a98537fe8dc7ee569c5d92f4463534862a\n",
      "multi processing\n"
     ]
    },
    {
     "name": "stderr",
     "output_type": "stream",
     "text": [
      "100%|██████████| 92/92 [00:30<00:00,  3.03it/s]]\n",
      "100%|██████████| 94/94 [00:33<00:00,  2.82it/s]]\n",
      "100%|██████████| 98/98 [00:35<00:00,  2.74it/s]]\n",
      "100%|██████████| 103/103 [00:37<00:00,  2.74it/s]\n"
     ]
    },
    {
     "name": "stdout",
     "output_type": "stream",
     "text": [
      "Processing image 2777 in test_index = 0 \n",
      "id = e94e718dfcd212e4af16f095fced0c37273adfeca56748937786e1c355099e5f\n",
      "multi processing\n"
     ]
    },
    {
     "name": "stderr",
     "output_type": "stream",
     "text": [
      "100%|██████████| 16/16 [00:00<00:00, 43.88it/s]\n",
      "100%|██████████| 19/19 [00:00<00:00, 31.12it/s]\n",
      "100%|██████████| 20/20 [00:00<00:00, 28.80it/s]\n",
      "100%|██████████| 25/25 [00:01<00:00, 24.52it/s]\n"
     ]
    },
    {
     "name": "stdout",
     "output_type": "stream",
     "text": [
      "Processing image 2778 in test_index = 0 \n",
      "id = 754893e0818d8292fae48fe2cf8f70bef003992813f620c22b920ac03853f021\n",
      "multi processing\n",
      "Processing image 2779 in test_index = 0 \n",
      "id = 912a1d0d563de4f5e2c8e6ca8c8721994492e64702e18d1b2b56a872ce825767\n",
      "multi processing\n"
     ]
    },
    {
     "name": "stderr",
     "output_type": "stream",
     "text": [
      "100%|██████████| 93/93 [00:02<00:00, 34.29it/s]]\n",
      "100%|██████████| 93/93 [00:02<00:00, 32.71it/s]]\n",
      "100%|██████████| 95/95 [00:02<00:00, 31.97it/s]]\n",
      "100%|██████████| 100/100 [00:03<00:00, 30.87it/s]\n"
     ]
    },
    {
     "name": "stdout",
     "output_type": "stream",
     "text": [
      "Processing image 2780 in test_index = 0 \n",
      "id = 6d9facf21108870819ebf0d649194337b109f4fae58d757e3819e309640f9b39\n",
      "multi processing\n"
     ]
    },
    {
     "name": "stderr",
     "output_type": "stream",
     "text": [
      "100%|██████████| 67/67 [00:03<00:00, 18.50it/s]\n",
      "100%|██████████| 68/68 [00:03<00:00, 17.50it/s]\n",
      "100%|██████████| 69/69 [00:03<00:00, 18.13it/s]\n",
      "100%|██████████| 64/64 [00:04<00:00, 15.75it/s]\n"
     ]
    },
    {
     "name": "stdout",
     "output_type": "stream",
     "text": [
      "Processing image 2781 in test_index = 0 \n",
      "id = c7fabd67abacd9e825637d22ea79223304d6969f94283b9409f4fd146f60f7bc\n",
      "multi processing\n"
     ]
    },
    {
     "name": "stderr",
     "output_type": "stream",
     "text": [
      "100%|██████████| 43/43 [00:00<00:00, 76.36it/s]\n",
      "100%|██████████| 40/40 [00:00<00:00, 69.48it/s]\n",
      "100%|██████████| 48/48 [00:00<00:00, 69.98it/s]\n",
      "100%|██████████| 42/42 [00:00<00:00, 67.11it/s]\n"
     ]
    },
    {
     "name": "stdout",
     "output_type": "stream",
     "text": [
      "Processing image 2782 in test_index = 0 \n",
      "id = c0b7829acc12f87ab54f1ce7779749cfedea7695d99741215593fa1e8f7c17d9\n",
      "multi processing\n",
      "Processing image 2783 in test_index = 0 \n",
      "id = 5a4d8a5919cfaa10cf43a7404827154340d41f5df2d328852bbda11105fe9822\n",
      "multi processing\n"
     ]
    },
    {
     "name": "stderr",
     "output_type": "stream",
     "text": [
      "100%|██████████| 143/143 [01:09<00:00,  2.07it/s]\n",
      "100%|██████████| 155/155 [01:14<00:00,  2.08it/s]\n",
      "100%|██████████| 152/152 [01:15<00:00,  2.01it/s]\n",
      "100%|██████████| 158/158 [01:19<00:00,  1.98it/s]\n"
     ]
    },
    {
     "name": "stdout",
     "output_type": "stream",
     "text": [
      "Processing image 2784 in test_index = 0 \n",
      "id = 68717e395e763c1e00f3aa5f6358ac1bb4c71b42fa30d40aeedba17da04aa238\n",
      "multi processing\n"
     ]
    },
    {
     "name": "stderr",
     "output_type": "stream",
     "text": [
      "100%|██████████| 76/76 [00:01<00:00, 48.12it/s]\n",
      "100%|██████████| 78/78 [00:01<00:00, 46.17it/s]\n",
      "100%|██████████| 84/84 [00:01<00:00, 44.66it/s]\n",
      "100%|██████████| 80/80 [00:01<00:00, 46.82it/s]\n"
     ]
    },
    {
     "name": "stdout",
     "output_type": "stream",
     "text": [
      "Processing image 2785 in test_index = 0 \n",
      "id = 0a9b684358ddd521550545ffc44a4f2ab335f7e2cfa4124a6ed63944371b6937\n",
      "multi processing\n"
     ]
    },
    {
     "name": "stderr",
     "output_type": "stream",
     "text": [
      "100%|██████████| 4/4 [00:00<00:00, 184.62it/s]\n",
      "100%|██████████| 5/5 [00:00<00:00, 215.93it/s]\n",
      "100%|██████████| 4/4 [00:00<00:00, 199.29it/s]\n",
      "100%|██████████| 6/6 [00:00<00:00, 249.46it/s]\n"
     ]
    },
    {
     "name": "stdout",
     "output_type": "stream",
     "text": [
      "Processing image 2786 in test_index = 0 \n",
      "id = 23d5887339759baab135fc252655a609d98bdd6d981e0f17c9fa4594d39fbecf\n",
      "multi processing\n"
     ]
    },
    {
     "name": "stderr",
     "output_type": "stream",
     "text": [
      "100%|██████████| 114/114 [00:31<00:00,  3.62it/s]\n",
      "100%|██████████| 111/111 [00:32<00:00,  3.44it/s]\n",
      "100%|██████████| 117/117 [00:34<00:00,  3.39it/s]\n",
      "100%|██████████| 126/126 [00:37<00:00,  3.37it/s]\n"
     ]
    },
    {
     "name": "stdout",
     "output_type": "stream",
     "text": [
      "Processing image 2787 in test_index = 0 \n",
      "id = cab1048d120984536932df523f8b06eb33d3b5f4704b8a99e79962d740fb25a7\n",
      "multi processing\n"
     ]
    },
    {
     "name": "stderr",
     "output_type": "stream",
     "text": [
      "100%|██████████| 72/72 [00:00<00:00, 75.52it/s]\n",
      "100%|██████████| 76/76 [00:01<00:00, 65.76it/s]\n",
      "100%|██████████| 83/83 [00:01<00:00, 60.06it/s]\n",
      "100%|██████████| 86/86 [00:01<00:00, 53.25it/s]\n"
     ]
    },
    {
     "name": "stdout",
     "output_type": "stream",
     "text": [
      "Processing image 2788 in test_index = 0 \n",
      "id = 50664b1805096e83717f86b4713c4d8f77b2a32bedaee607bbebc26de42e5504\n",
      "multi processing\n"
     ]
    },
    {
     "name": "stderr",
     "output_type": "stream",
     "text": [
      "100%|██████████| 19/19 [00:00<00:00, 19.45it/s]\n",
      "100%|██████████| 19/19 [00:01<00:00, 18.30it/s]\n",
      "100%|██████████| 21/21 [00:01<00:00, 17.81it/s]\n",
      "100%|██████████| 22/22 [00:01<00:00, 18.53it/s]\n"
     ]
    },
    {
     "name": "stdout",
     "output_type": "stream",
     "text": [
      "Processing image 2789 in test_index = 0 \n",
      "id = 58ed3013e2e776f7b52ad20f79ea1c4a88d7f67805b0356aca982ddf71cda65a\n",
      "multi processing\n"
     ]
    },
    {
     "name": "stderr",
     "output_type": "stream",
     "text": [
      "100%|██████████| 25/25 [00:00<00:00, 118.78it/s]\n",
      "100%|██████████| 24/24 [00:00<00:00, 102.13it/s]\n",
      "100%|██████████| 33/33 [00:00<00:00, 107.62it/s]\n",
      "100%|██████████| 40/40 [00:00<00:00, 81.27it/s]\n"
     ]
    },
    {
     "name": "stdout",
     "output_type": "stream",
     "text": [
      "Processing image 2790 in test_index = 0 \n",
      "id = b5de7304dabacb5d36ff92a82580f49d84004fa06b45814874deecd6abe05337\n",
      "multi processing\n",
      "Processing image 2791 in test_index = 0 \n",
      "id = e5d0fee7b49a212832118a5f55b1135e998a866a0542bbf4c2181eadd770fc30\n",
      "multi processing\n"
     ]
    },
    {
     "name": "stderr",
     "output_type": "stream",
     "text": [
      "100%|██████████| 5/5 [00:00<00:00, 96.87it/s]\n",
      "100%|██████████| 5/5 [00:00<00:00, 96.27it/s]\n",
      "100%|██████████| 5/5 [00:00<00:00, 93.22it/s]\n",
      "100%|██████████| 9/9 [00:00<00:00, 109.01it/s]\n"
     ]
    },
    {
     "name": "stdout",
     "output_type": "stream",
     "text": [
      "Processing image 2792 in test_index = 0 \n",
      "id = b57c8330eb99bf32c4eca0fcb3dcee30161d4be007c28614d8fedb83d6d9434c\n",
      "multi processing\n"
     ]
    },
    {
     "name": "stderr",
     "output_type": "stream",
     "text": [
      "100%|██████████| 29/29 [00:00<00:00, 142.35it/s]\n",
      "100%|██████████| 39/39 [00:00<00:00, 146.91it/s]\n",
      "100%|██████████| 33/33 [00:00<00:00, 147.46it/s]\n",
      "100%|██████████| 41/41 [00:00<00:00, 142.14it/s]\n"
     ]
    },
    {
     "name": "stdout",
     "output_type": "stream",
     "text": [
      "Processing image 2793 in test_index = 0 \n",
      "id = 2406640f7869d4c3c021ffa01fb5cad0059c46837baa3ab689ccba302cdd37bd\n",
      "multi processing\n",
      "Processing image 2794 in test_index = 0 \n",
      "id = 4edad1bb8932fc0d1b1d7af10d31918c075e26af50c2c6d7084d8ae032502e5c\n",
      "multi processing\n",
      "Processing image 2795 in test_index = 0 \n",
      "id = 7e23ad482f74d9410eb280c7d8f99f9855651f4253dd61fa92f658b4eb074883\n",
      "multi processing\n",
      "Processing image 2796 in test_index = 0 \n",
      "id = 0a8dfb6763ec049b57454e6b5605f872cdf41cd13951fb2a2f31a6e3c8667712\n",
      "multi processing\n"
     ]
    },
    {
     "name": "stderr",
     "output_type": "stream",
     "text": [
      "100%|██████████| 21/21 [00:00<00:00, 190.57it/s]\n",
      "100%|██████████| 32/32 [00:00<00:00, 141.13it/s]\n",
      "100%|██████████| 36/36 [00:00<00:00, 147.27it/s]\n",
      "100%|██████████| 37/37 [00:00<00:00, 142.33it/s]\n"
     ]
    },
    {
     "name": "stdout",
     "output_type": "stream",
     "text": [
      "Processing image 2797 in test_index = 0 \n",
      "id = 330b9666c7962207e4e9d054fe6c135f59aab62395d61b748774939d32cf300d\n",
      "multi processing\n"
     ]
    },
    {
     "name": "stderr",
     "output_type": "stream",
     "text": [
      "100%|██████████| 1/1 [00:00<00:00, 2302.03it/s]\n",
      "100%|██████████| 2/2 [00:00<00:00, 212.97it/s]\n",
      "100%|██████████| 5/5 [00:00<00:00, 251.77it/s]\n",
      "100%|██████████| 4/4 [00:00<00:00, 215.63it/s]\n"
     ]
    },
    {
     "name": "stdout",
     "output_type": "stream",
     "text": [
      "Processing image 2798 in test_index = 0 \n",
      "id = 7d467ae316bf2a0b824c9f02b062cd2fc0a26ec009e944f5c129a50e7ba82c4d\n",
      "multi processing\n",
      "Processing image 2799 in test_index = 0 \n",
      "id = 63ca8df5136ecd722e10263950a490f22f41702ab7dcea3980ba37ec1094f2f6\n",
      "multi processing\n"
     ]
    },
    {
     "name": "stderr",
     "output_type": "stream",
     "text": [
      "100%|██████████| 20/20 [00:00<00:00, 207.39it/s]\n",
      "100%|██████████| 22/22 [00:00<00:00, 195.43it/s]\n",
      "100%|██████████| 27/27 [00:00<00:00, 153.01it/s]\n",
      "100%|██████████| 32/32 [00:00<00:00, 138.80it/s]\n"
     ]
    },
    {
     "name": "stdout",
     "output_type": "stream",
     "text": [
      "Processing image 2800 in test_index = 0 \n",
      "id = 0801c13e30c0e1c6918699ba8b28fb5381513de55902de7c9df2455a35482a66\n",
      "multi processing\n"
     ]
    },
    {
     "name": "stderr",
     "output_type": "stream",
     "text": [
      "100%|██████████| 10/10 [00:00<00:00, 48.65it/s]\n",
      "100%|██████████| 15/15 [00:00<00:00, 39.51it/s]\n",
      "100%|██████████| 16/16 [00:00<00:00, 28.01it/s]\n",
      "100%|██████████| 19/19 [00:00<00:00, 25.21it/s]\n"
     ]
    },
    {
     "name": "stdout",
     "output_type": "stream",
     "text": [
      "Processing image 2801 in test_index = 0 \n",
      "id = 4d13b19f4d9b74ba6e69d4bd47c7f534b035716473edba31bfcfe5249e1aaaf1\n",
      "multi processing\n"
     ]
    },
    {
     "name": "stderr",
     "output_type": "stream",
     "text": [
      "100%|██████████| 5/5 [00:00<00:00, 167.41it/s]\n",
      "100%|██████████| 2/2 [00:00<00:00, 139.00it/s]\n",
      "100%|██████████| 6/6 [00:00<00:00, 182.35it/s]\n",
      "100%|██████████| 9/9 [00:00<00:00, 160.93it/s]\n"
     ]
    },
    {
     "name": "stdout",
     "output_type": "stream",
     "text": [
      "Processing image 2802 in test_index = 0 \n",
      "id = 7f1377ba86c59405c8b02f8cb933e8f965ae5a29d51885929bf5ca0599c46cde\n",
      "multi processing\n"
     ]
    },
    {
     "name": "stderr",
     "output_type": "stream",
     "text": [
      "100%|██████████| 84/84 [00:24<00:00,  3.48it/s]\n",
      "100%|██████████| 86/86 [00:25<00:00,  3.37it/s]\n",
      "100%|██████████| 97/97 [00:27<00:00,  3.55it/s]\n",
      "100%|██████████| 97/97 [00:27<00:00,  3.50it/s]\n"
     ]
    },
    {
     "name": "stdout",
     "output_type": "stream",
     "text": [
      "Loading weights from  logs/Final Models/partial_he_70.h5\n",
      "Processing image 0 in test_index = 1 \n",
      "id = fdee330bfce2c945e54b88b97da54de37dd4774e90ca6ec4033dd4e76d18a757\n",
      "multi processing\n"
     ]
    },
    {
     "name": "stderr",
     "output_type": "stream",
     "text": [
      "100%|██████████| 111/111 [00:04<00:00, 24.58it/s]\n",
      "100%|██████████| 120/120 [00:04<00:00, 24.34it/s]\n",
      "100%|██████████| 115/115 [00:04<00:00, 24.04it/s]\n",
      "100%|██████████| 128/128 [00:06<00:00, 18.39it/s]\n"
     ]
    },
    {
     "name": "stdout",
     "output_type": "stream",
     "text": [
      "Processing image 1 in test_index = 1 \n",
      "id = 4f9a3e99f1ae71d6af95c22d815492aa57037b1cf5aa9c2c64d88f18db7c3dca\n",
      "multi processing\n"
     ]
    },
    {
     "name": "stderr",
     "output_type": "stream",
     "text": [
      "100%|██████████| 168/168 [00:11<00:00, 14.34it/s]\n",
      "100%|██████████| 171/171 [00:11<00:00, 14.31it/s]\n",
      "100%|██████████| 169/169 [00:12<00:00, 13.93it/s]\n",
      "100%|██████████| 170/170 [00:12<00:00, 14.00it/s]\n"
     ]
    },
    {
     "name": "stdout",
     "output_type": "stream",
     "text": [
      "Processing image 2 in test_index = 1 \n",
      "id = a236bdb20d8232642f64a09e41625c170bd825c4f92d766792499925a5ef9d58\n",
      "multi processing\n"
     ]
    },
    {
     "name": "stderr",
     "output_type": "stream",
     "text": [
      "100%|██████████| 127/127 [00:05<00:00, 23.47it/s]\n",
      "100%|██████████| 118/118 [00:05<00:00, 20.83it/s]\n",
      "100%|██████████| 124/124 [00:05<00:00, 21.39it/s]\n",
      "100%|██████████| 119/119 [00:05<00:00, 21.16it/s]\n"
     ]
    },
    {
     "name": "stdout",
     "output_type": "stream",
     "text": [
      "Processing image 3 in test_index = 1 \n",
      "id = 59976c22f60f691d9daaa812e7c3ed8e7482dad89dbf6f20758828a141caa77e\n",
      "multi processing\n"
     ]
    },
    {
     "name": "stderr",
     "output_type": "stream",
     "text": [
      "100%|██████████| 124/124 [00:05<00:00, 22.72it/s]\n",
      " 35%|███▌      | 47/133 [00:05<00:10,  7.98it/s]\n",
      "100%|██████████| 133/133 [00:06<00:00, 21.29it/s]\n",
      "100%|██████████| 138/138 [00:06<00:00, 21.02it/s]\n"
     ]
    },
    {
     "name": "stdout",
     "output_type": "stream",
     "text": [
      "Processing image 4 in test_index = 1 \n",
      "id = 62376362668799384fffe37e3d59b702bda79ab97578d3866620022820394507\n",
      "multi processing\n"
     ]
    },
    {
     "name": "stderr",
     "output_type": "stream",
     "text": [
      "100%|██████████| 109/109 [00:04<00:00, 22.91it/s]\n",
      "100%|██████████| 106/106 [00:04<00:00, 21.23it/s]\n",
      "100%|██████████| 127/127 [00:05<00:00, 22.33it/s]\n",
      "100%|██████████| 137/137 [00:06<00:00, 22.76it/s]\n"
     ]
    },
    {
     "name": "stdout",
     "output_type": "stream",
     "text": [
      "Processing image 5 in test_index = 1 \n",
      "id = 3c20f44a4d4f215ff42b752e31444d674a20de481fa44137aeb3893edbffb08d\n",
      "multi processing\n"
     ]
    },
    {
     "name": "stderr",
     "output_type": "stream",
     "text": [
      "100%|██████████| 159/159 [00:09<00:00, 16.74it/s]\n",
      "100%|██████████| 150/150 [00:10<00:00, 14.58it/s]\n",
      "100%|██████████| 166/166 [00:10<00:00, 15.20it/s]\n",
      "100%|██████████| 171/171 [00:10<00:00, 15.73it/s]\n"
     ]
    },
    {
     "name": "stdout",
     "output_type": "stream",
     "text": [
      "Processing image 6 in test_index = 1 \n",
      "id = 6c51b3db308c819131ffb1c470276497f4916ded38702056169f47a57b6dd78d\n",
      "multi processing\n"
     ]
    },
    {
     "name": "stderr",
     "output_type": "stream",
     "text": [
      "100%|██████████| 155/155 [00:08<00:00, 19.02it/s]\n",
      " 58%|█████▊    | 90/155 [00:08<00:06, 10.18it/s]\n",
      "100%|██████████| 161/161 [00:08<00:00, 18.69it/s]\n",
      " 76%|███████▌  | 108/143 [00:08<00:02, 12.13it/s]\n",
      "100%|██████████| 143/143 [00:08<00:00, 16.03it/s]"
     ]
    },
    {
     "name": "stdout",
     "output_type": "stream",
     "text": [
      "Processing image 7 in test_index = 1 \n",
      "id = e2ae4a70f70fa7cc1efe688b7e35bc2307c30ca532cd85b7ecaa48475df420b7\n",
      "multi processing\n"
     ]
    },
    {
     "name": "stderr",
     "output_type": "stream",
     "text": [
      "100%|██████████| 134/134 [00:06<00:00, 22.33it/s]\n",
      "100%|██████████| 132/132 [00:06<00:00, 21.32it/s]\n",
      "100%|██████████| 133/133 [00:06<00:00, 21.47it/s]\n",
      "100%|██████████| 148/148 [00:06<00:00, 22.56it/s]\n"
     ]
    },
    {
     "name": "stdout",
     "output_type": "stream",
     "text": [
      "Processing image 8 in test_index = 1 \n",
      "id = 5164fda32d6a57286d2f6063abda877ca81a4348bb4445b787533454b9a9c1be\n",
      "multi processing\n"
     ]
    },
    {
     "name": "stderr",
     "output_type": "stream",
     "text": [
      "100%|██████████| 149/149 [00:07<00:00, 19.36it/s]\n",
      "100%|██████████| 148/148 [00:08<00:00, 18.24it/s]\n",
      "100%|██████████| 155/155 [00:08<00:00, 17.59it/s]\n",
      " 54%|█████▍    | 87/160 [00:08<00:07,  9.86it/s]\n",
      "100%|██████████| 160/160 [00:08<00:00, 18.09it/s]"
     ]
    },
    {
     "name": "stdout",
     "output_type": "stream",
     "text": [
      "Processing image 9 in test_index = 1 \n",
      "id = fb9b0b2daa50af5e0eb219c08f1f2b8926efbb4827706311435b6c3d2aff8a20\n",
      "multi processing\n"
     ]
    },
    {
     "name": "stderr",
     "output_type": "stream",
     "text": [
      "100%|██████████| 64/64 [00:01<00:00, 40.84it/s]\n",
      "100%|██████████| 62/62 [00:01<00:00, 39.97it/s]\n",
      "100%|██████████| 65/65 [00:01<00:00, 40.11it/s]\n",
      "100%|██████████| 74/74 [00:01<00:00, 41.97it/s]\n"
     ]
    },
    {
     "name": "stdout",
     "output_type": "stream",
     "text": [
      "Processing image 10 in test_index = 1 \n",
      "id = 2e0f1c047c4674fcd361edc271ff7cf66f7712fe91435b88f7848a8b5f06da83\n",
      "multi processing\n"
     ]
    },
    {
     "name": "stderr",
     "output_type": "stream",
     "text": [
      "100%|██████████| 61/61 [00:01<00:00, 41.65it/s]\n",
      "100%|██████████| 59/59 [00:01<00:00, 36.90it/s]\n",
      "100%|██████████| 64/64 [00:01<00:00, 36.83it/s]\n",
      "100%|██████████| 66/66 [00:01<00:00, 37.14it/s]\n"
     ]
    },
    {
     "name": "stdout",
     "output_type": "stream",
     "text": [
      "Processing image 11 in test_index = 1 \n",
      "id = 0c05a71fc7981ba2c0c6b5dde6d8b3eea6ed084c929eb5445b302886bc9eb57c\n",
      "multi processing\n"
     ]
    },
    {
     "name": "stderr",
     "output_type": "stream",
     "text": [
      "100%|██████████| 135/135 [00:07<00:00, 19.03it/s]\n",
      "100%|██████████| 155/155 [00:08<00:00, 18.64it/s]\n",
      "100%|██████████| 150/150 [00:08<00:00, 17.61it/s]\n",
      "100%|██████████| 147/147 [00:08<00:00, 17.71it/s]\n"
     ]
    },
    {
     "name": "stdout",
     "output_type": "stream",
     "text": [
      "Processing image 12 in test_index = 1 \n",
      "id = 16b73858cc19211efbe8d3950800b33d66f9e430e4558826eec60004b19eb2fe\n",
      "multi processing\n"
     ]
    },
    {
     "name": "stderr",
     "output_type": "stream",
     "text": [
      "100%|██████████| 140/140 [00:07<00:00, 18.36it/s]\n",
      "100%|██████████| 143/143 [00:07<00:00, 19.11it/s]\n",
      "100%|██████████| 141/141 [00:07<00:00, 18.10it/s]\n",
      "100%|██████████| 151/151 [00:08<00:00, 17.40it/s]\n"
     ]
    },
    {
     "name": "stdout",
     "output_type": "stream",
     "text": [
      "Processing image 13 in test_index = 1 \n",
      "id = dd5c25a6d7691af9ccd4020fb4bf32d9eff34f94886f90a1aa11ed32c2f788bc\n",
      "multi processing\n"
     ]
    },
    {
     "name": "stderr",
     "output_type": "stream",
     "text": [
      "100%|██████████| 171/171 [00:10<00:00, 16.45it/s]\n",
      "100%|██████████| 169/169 [00:10<00:00, 15.47it/s]\n",
      "100%|██████████| 168/168 [00:11<00:00, 15.03it/s]\n",
      "100%|██████████| 170/170 [00:11<00:00, 14.82it/s]\n"
     ]
    },
    {
     "name": "stdout",
     "output_type": "stream",
     "text": [
      "Processing image 14 in test_index = 1 \n",
      "id = 11faede22ca726b7914a6a9f44ec4863dfa07102154c8e7e07c233d28fb0d6bc\n",
      "multi processing\n"
     ]
    },
    {
     "name": "stderr",
     "output_type": "stream",
     "text": [
      "100%|██████████| 129/129 [00:06<00:00, 18.44it/s]\n",
      "100%|██████████| 134/134 [00:07<00:00, 18.50it/s]\n",
      "100%|██████████| 145/145 [00:08<00:00, 17.77it/s]\n",
      "100%|██████████| 154/154 [00:08<00:00, 17.44it/s]\n"
     ]
    },
    {
     "name": "stdout",
     "output_type": "stream",
     "text": [
      "Processing image 15 in test_index = 1 \n",
      "id = 034ac7e5aca2a7c455a1ca65942948da016fe04f03ba4357eebce8ab458eb5d3\n",
      "multi processing\n"
     ]
    },
    {
     "name": "stderr",
     "output_type": "stream",
     "text": [
      "100%|██████████| 148/148 [00:10<00:00, 13.69it/s]\n",
      "100%|██████████| 141/141 [00:10<00:00, 13.51it/s]\n",
      "100%|██████████| 162/162 [00:11<00:00, 14.10it/s]\n",
      "100%|██████████| 165/165 [00:11<00:00, 13.77it/s]\n"
     ]
    },
    {
     "name": "stdout",
     "output_type": "stream",
     "text": [
      "Processing image 16 in test_index = 1 \n",
      "id = d2c576309a465609700993ab6d356c9853f935193b7f8115766a37ff3e0d8477\n",
      "multi processing\n"
     ]
    },
    {
     "name": "stderr",
     "output_type": "stream",
     "text": [
      "100%|██████████| 200/200 [00:17<00:00, 11.28it/s]\n",
      "100%|██████████| 204/204 [00:18<00:00, 11.10it/s]\n",
      "100%|██████████| 216/216 [00:19<00:00, 10.87it/s]\n",
      "100%|██████████| 203/203 [00:19<00:00, 10.33it/s]\n"
     ]
    },
    {
     "name": "stdout",
     "output_type": "stream",
     "text": [
      "Processing image 17 in test_index = 1 \n",
      "id = 5401abf46b253f6e7af3f23f08e64d760d4d6680a49c38d2c7344870d28f4206\n",
      "multi processing\n"
     ]
    },
    {
     "name": "stderr",
     "output_type": "stream",
     "text": [
      "100%|██████████| 25/25 [00:00<00:00, 127.25it/s]\n",
      "100%|██████████| 30/30 [00:00<00:00, 127.27it/s]\n",
      "100%|██████████| 28/28 [00:00<00:00, 91.19it/s]\n",
      "100%|██████████| 30/30 [00:00<00:00, 101.77it/s]\n"
     ]
    },
    {
     "name": "stdout",
     "output_type": "stream",
     "text": [
      "Processing image 18 in test_index = 1 \n",
      "id = 9cbc41a528791e77977e0a331c6318f8df398e53fe334a9f2aa933afdf3aed44\n",
      "multi processing\n"
     ]
    },
    {
     "name": "stderr",
     "output_type": "stream",
     "text": [
      "100%|██████████| 108/108 [00:03<00:00, 31.64it/s]\n",
      "100%|██████████| 124/124 [00:04<00:00, 27.41it/s]\n",
      "100%|██████████| 125/125 [00:04<00:00, 27.54it/s]\n",
      "100%|██████████| 136/136 [00:04<00:00, 28.11it/s]\n"
     ]
    },
    {
     "name": "stdout",
     "output_type": "stream",
     "text": [
      "Processing image 19 in test_index = 1 \n",
      "id = e67209824250c5d48e425ed812ace8506f72da34c030bb95ea01b81b22fe8907\n",
      "multi processing\n"
     ]
    },
    {
     "name": "stderr",
     "output_type": "stream",
     "text": [
      "100%|██████████| 130/130 [00:05<00:00, 24.43it/s]\n",
      "100%|██████████| 132/132 [00:05<00:00, 22.51it/s]\n",
      "100%|██████████| 129/129 [00:06<00:00, 20.87it/s]\n",
      "100%|██████████| 141/141 [00:06<00:00, 22.07it/s]\n"
     ]
    },
    {
     "name": "stdout",
     "output_type": "stream",
     "text": [
      "Processing image 20 in test_index = 1 \n",
      "id = 7188b9a7b509168e923c7a621a1f730f53014dc254dde18dfd3de4d2dc41b7d6\n",
      "multi processing\n"
     ]
    },
    {
     "name": "stderr",
     "output_type": "stream",
     "text": [
      "100%|██████████| 127/127 [00:09<00:00, 13.21it/s]\n",
      "100%|██████████| 142/142 [00:10<00:00, 13.20it/s]\n",
      "100%|██████████| 146/146 [00:11<00:00, 12.72it/s]\n",
      "100%|██████████| 154/154 [00:12<00:00, 12.51it/s]\n"
     ]
    },
    {
     "name": "stdout",
     "output_type": "stream",
     "text": [
      "Processing image 21 in test_index = 1 \n",
      "id = 010c48f7f53524acf3e36b957046cb4f3ae731d346c1921dae33d6f5b36f0626\n",
      "multi processing\n"
     ]
    },
    {
     "name": "stderr",
     "output_type": "stream",
     "text": [
      "100%|██████████| 27/27 [00:00<00:00, 149.16it/s]\n",
      "100%|██████████| 25/25 [00:00<00:00, 144.58it/s]\n",
      "100%|██████████| 25/25 [00:00<00:00, 114.44it/s]\n",
      "100%|██████████| 24/24 [00:00<00:00, 101.00it/s]\n"
     ]
    },
    {
     "name": "stdout",
     "output_type": "stream",
     "text": [
      "Processing image 22 in test_index = 1 \n",
      "id = 16e5f3f89ae463d087b2f2dec239f0dabfaca9226b18e90dc3511b53efd457ec\n",
      "multi processing\n"
     ]
    },
    {
     "name": "stderr",
     "output_type": "stream",
     "text": [
      "100%|██████████| 153/153 [00:09<00:00, 16.95it/s]\n",
      "100%|██████████| 154/154 [00:09<00:00, 17.10it/s]\n",
      "100%|██████████| 149/149 [00:09<00:00, 16.01it/s]\n",
      "100%|██████████| 160/160 [00:10<00:00, 15.42it/s]\n"
     ]
    },
    {
     "name": "stdout",
     "output_type": "stream",
     "text": [
      "Processing image 23 in test_index = 1 \n",
      "id = 914e7461bbac448390aa3ea923e00995816a4e68b792493cb73dfc6a0d43bd71\n",
      "multi processing\n"
     ]
    },
    {
     "name": "stderr",
     "output_type": "stream",
     "text": [
      "100%|██████████| 54/54 [00:01<00:00, 47.71it/s]\n",
      " 69%|██████▉   | 41/59 [00:01<00:00, 33.43it/s]\n",
      "100%|██████████| 58/58 [00:01<00:00, 42.20it/s]\n",
      "100%|██████████| 67/67 [00:01<00:00, 44.82it/s]\n"
     ]
    },
    {
     "name": "stdout",
     "output_type": "stream",
     "text": [
      "Processing image 24 in test_index = 1 \n",
      "id = f6b4f83301ea52e5bcca2652bf191299aec57ed3344478b5903cd8b1fed27bbb\n",
      "multi processing\n"
     ]
    },
    {
     "name": "stderr",
     "output_type": "stream",
     "text": [
      "100%|██████████| 139/139 [00:09<00:00, 15.28it/s]\n",
      "100%|██████████| 145/145 [00:09<00:00, 15.81it/s]\n",
      "100%|██████████| 151/151 [00:10<00:00, 15.00it/s]\n",
      "100%|██████████| 151/151 [00:10<00:00, 14.87it/s]\n"
     ]
    },
    {
     "name": "stdout",
     "output_type": "stream",
     "text": [
      "Processing image 25 in test_index = 1 \n",
      "id = 88c541f7da8cc591203875a66649790679854607997356454e35fd2ac79c1e8b\n",
      "multi processing\n"
     ]
    },
    {
     "name": "stderr",
     "output_type": "stream",
     "text": [
      "100%|██████████| 142/142 [00:07<00:00, 17.94it/s]\n",
      "100%|██████████| 136/136 [00:07<00:00, 17.64it/s]\n",
      "100%|██████████| 144/144 [00:07<00:00, 18.04it/s]\n",
      "100%|██████████| 146/146 [00:08<00:00, 17.56it/s]\n"
     ]
    },
    {
     "name": "stdout",
     "output_type": "stream",
     "text": [
      "Processing image 26 in test_index = 1 \n",
      "id = 990ce3042342802a19b1724deb11b9ee070ad50c949ad87bb521c7f00f732eea\n",
      "multi processing\n"
     ]
    },
    {
     "name": "stderr",
     "output_type": "stream",
     "text": [
      "100%|██████████| 21/21 [00:00<00:00, 171.87it/s]\n",
      "100%|██████████| 19/19 [00:00<00:00, 175.81it/s]\n",
      "100%|██████████| 25/25 [00:00<00:00, 129.01it/s]\n",
      "100%|██████████| 22/22 [00:00<00:00, 117.68it/s]\n"
     ]
    },
    {
     "name": "stdout",
     "output_type": "stream",
     "text": [
      "Processing image 27 in test_index = 1 \n",
      "id = 85d8fee728cf64f6aa00d0d5b3e9a7d400b02f15d791133ac9981793152d85fc\n",
      "multi processing\n"
     ]
    },
    {
     "name": "stderr",
     "output_type": "stream",
     "text": [
      "100%|██████████| 63/63 [00:01<00:00, 42.83it/s]\n",
      " 41%|████      | 28/69 [00:01<00:02, 17.29it/s]\n",
      "100%|██████████| 69/69 [00:01<00:00, 41.41it/s]\n",
      "100%|██████████| 65/65 [00:01<00:00, 41.89it/s]\n"
     ]
    },
    {
     "name": "stdout",
     "output_type": "stream",
     "text": [
      "Processing image 28 in test_index = 1 \n",
      "id = 8b80aca225c1dd0aa5637229f0e0bec0dbd7b5313b462effd768da2bb5a56a06\n",
      "multi processing\n"
     ]
    },
    {
     "name": "stderr",
     "output_type": "stream",
     "text": [
      "100%|██████████| 89/89 [00:05<00:00, 16.24it/s]]\n",
      "100%|██████████| 93/93 [00:05<00:00, 16.65it/s]]\n",
      "100%|██████████| 98/98 [00:05<00:00, 17.22it/s]]\n",
      "100%|██████████| 106/106 [00:06<00:00, 16.15it/s]\n"
     ]
    },
    {
     "name": "stdout",
     "output_type": "stream",
     "text": [
      "Processing image 29 in test_index = 1 \n",
      "id = da97d4b894efa3d6c6215861aed587c89993d80887893ecf11fa8b7ecd70ac50\n",
      "multi processing\n"
     ]
    },
    {
     "name": "stderr",
     "output_type": "stream",
     "text": [
      "100%|██████████| 107/107 [00:04<00:00, 25.40it/s]\n",
      "100%|██████████| 111/111 [00:04<00:00, 23.71it/s]\n",
      "100%|██████████| 115/115 [00:04<00:00, 24.02it/s]\n",
      "100%|██████████| 119/119 [00:05<00:00, 22.64it/s]\n"
     ]
    },
    {
     "name": "stdout",
     "output_type": "stream",
     "text": [
      "Processing image 30 in test_index = 1 \n",
      "id = a18985a2397df0cb26da53500399591baadd4271c7463c66d0186657ed2a5fdf\n",
      "multi processing\n"
     ]
    },
    {
     "name": "stderr",
     "output_type": "stream",
     "text": [
      "100%|██████████| 92/92 [00:02<00:00, 31.87it/s]]\n",
      "100%|██████████| 102/102 [00:03<00:00, 32.51it/s]\n",
      "100%|██████████| 102/102 [00:03<00:00, 31.39it/s]\n",
      "100%|██████████| 108/108 [00:03<00:00, 32.53it/s]\n"
     ]
    },
    {
     "name": "stdout",
     "output_type": "stream",
     "text": [
      "Processing image 31 in test_index = 1 \n",
      "id = 8f5e36186e54f484e212357e5d848dfcd497ea87e8757b3809fa91776525d908\n",
      "multi processing\n"
     ]
    },
    {
     "name": "stderr",
     "output_type": "stream",
     "text": [
      "100%|██████████| 72/72 [00:01<00:00, 36.16it/s]\n",
      "100%|██████████| 79/79 [00:02<00:00, 34.11it/s]\n",
      "100%|██████████| 79/79 [00:02<00:00, 32.45it/s]\n",
      "100%|██████████| 85/85 [00:02<00:00, 34.95it/s]\n"
     ]
    },
    {
     "name": "stdout",
     "output_type": "stream",
     "text": [
      "Processing image 32 in test_index = 1 \n",
      "id = e85088d00c22ff75722a86d8ce73ce1ae4f17b9b826c4d2160e1e49d848c1635\n",
      "multi processing\n"
     ]
    },
    {
     "name": "stderr",
     "output_type": "stream",
     "text": [
      "100%|██████████| 19/19 [00:00<00:00, 168.52it/s]\n",
      "100%|██████████| 24/24 [00:00<00:00, 131.88it/s]\n",
      "100%|██████████| 21/21 [00:00<00:00, 117.73it/s]\n",
      "100%|██████████| 21/21 [00:00<00:00, 138.35it/s]\n"
     ]
    },
    {
     "name": "stdout",
     "output_type": "stream",
     "text": [
      "Processing image 33 in test_index = 1 \n",
      "id = 1f39f641a895becba2fe7bd8e0cd5a94983f81a7b010c5c225a0d06ee0d2ceb7\n",
      "multi processing\n"
     ]
    },
    {
     "name": "stderr",
     "output_type": "stream",
     "text": [
      "100%|██████████| 163/163 [00:10<00:00, 15.40it/s]\n",
      "100%|██████████| 166/166 [00:10<00:00, 15.34it/s]\n",
      "100%|██████████| 165/165 [00:10<00:00, 15.37it/s]\n",
      "100%|██████████| 165/165 [00:10<00:00, 15.21it/s]\n"
     ]
    },
    {
     "name": "stdout",
     "output_type": "stream",
     "text": [
      "Processing image 34 in test_index = 1 \n",
      "id = d76f19c686fee315ed5fcf90ea51a34da50c2a1d6eee124bcac3815ca4c15df8\n",
      "multi processing\n"
     ]
    },
    {
     "name": "stderr",
     "output_type": "stream",
     "text": [
      "100%|██████████| 59/59 [00:01<00:00, 40.99it/s]\n",
      "100%|██████████| 62/62 [00:01<00:00, 38.23it/s]\n",
      "100%|██████████| 61/61 [00:01<00:00, 38.88it/s]\n",
      "100%|██████████| 68/68 [00:01<00:00, 37.59it/s]\n"
     ]
    },
    {
     "name": "stdout",
     "output_type": "stream",
     "text": [
      "Processing image 35 in test_index = 1 \n",
      "id = 9f0e2b9788be75381ab1def8f4f2952d67f06ccde8c5201e0c7fb5f31eb25eb9\n",
      "multi processing\n"
     ]
    },
    {
     "name": "stderr",
     "output_type": "stream",
     "text": [
      "100%|██████████| 51/51 [00:00<00:00, 58.79it/s]\n",
      "100%|██████████| 56/56 [00:00<00:00, 59.52it/s]\n",
      "100%|██████████| 53/53 [00:00<00:00, 55.76it/s]\n",
      "100%|██████████| 53/53 [00:00<00:00, 58.92it/s]\n"
     ]
    },
    {
     "name": "stdout",
     "output_type": "stream",
     "text": [
      "Processing image 36 in test_index = 1 \n",
      "id = 7b58698b0ae67487db98e3478a30a596f5417a371771e10e2dac28baecf90abb\n",
      "multi processing\n"
     ]
    },
    {
     "name": "stderr",
     "output_type": "stream",
     "text": [
      "100%|██████████| 89/89 [00:03<00:00, 25.43it/s]]\n",
      "100%|██████████| 92/92 [00:03<00:00, 24.12it/s]\n",
      "100%|██████████| 95/95 [00:03<00:00, 24.49it/s]]\n",
      "100%|██████████| 106/106 [00:04<00:00, 23.92it/s]\n"
     ]
    },
    {
     "name": "stdout",
     "output_type": "stream",
     "text": [
      "Processing image 37 in test_index = 1 \n",
      "id = e47b9bf1d70398249142fd3debc209b9a51b22888c0d81118179a2b5fa18ed20\n",
      "multi processing\n"
     ]
    },
    {
     "name": "stderr",
     "output_type": "stream",
     "text": [
      "100%|██████████| 157/157 [00:10<00:00, 14.30it/s]\n",
      "100%|██████████| 173/173 [00:12<00:00, 13.62it/s]\n",
      "100%|██████████| 181/181 [00:13<00:00, 13.62it/s]\n",
      "100%|██████████| 192/192 [00:15<00:00, 12.39it/s]\n"
     ]
    },
    {
     "name": "stdout",
     "output_type": "stream",
     "text": [
      "Processing image 38 in test_index = 1 \n",
      "id = f9da8312544a4a431b72cd71ce240ec2f060e0be9642e66c5ede1b865b0c00f4\n",
      "multi processing\n"
     ]
    },
    {
     "name": "stderr",
     "output_type": "stream",
     "text": [
      "100%|██████████| 162/162 [00:10<00:00, 15.75it/s]\n",
      "100%|██████████| 166/166 [00:10<00:00, 16.41it/s]\n",
      "100%|██████████| 167/167 [00:10<00:00, 15.79it/s]\n",
      "100%|██████████| 173/173 [00:11<00:00, 15.52it/s]\n"
     ]
    },
    {
     "name": "stdout",
     "output_type": "stream",
     "text": [
      "Processing image 39 in test_index = 1 \n",
      "id = 3c4189506c8ea3bde5e8b0be036d616835ef88e0a12a6686c391a8754d744d68\n",
      "multi processing\n"
     ]
    },
    {
     "name": "stderr",
     "output_type": "stream",
     "text": [
      "100%|██████████| 135/135 [00:06<00:00, 21.89it/s]\n",
      "100%|██████████| 133/133 [00:06<00:00, 21.87it/s]\n",
      " 83%|████████▎ | 109/131 [00:06<00:01, 17.65it/s]\n",
      "100%|██████████| 131/131 [00:06<00:00, 21.14it/s]\n"
     ]
    },
    {
     "name": "stdout",
     "output_type": "stream",
     "text": [
      "Processing image 40 in test_index = 1 \n",
      "id = 0ca87beee0808d4865973ee05aeaac803e836984bc6d64796c4508d094ee6cb6\n",
      "multi processing\n"
     ]
    },
    {
     "name": "stderr",
     "output_type": "stream",
     "text": [
      "100%|██████████| 145/145 [00:07<00:00, 18.50it/s]\n",
      "100%|██████████| 149/149 [00:07<00:00, 19.14it/s]\n",
      "100%|██████████| 147/147 [00:07<00:00, 19.58it/s]\n",
      "100%|██████████| 154/154 [00:08<00:00, 18.87it/s]\n"
     ]
    },
    {
     "name": "stdout",
     "output_type": "stream",
     "text": [
      "Processing image 41 in test_index = 1 \n",
      "id = 54e6a53122767ee9a0db553efc04ddfefab6a244c3f29b249a34071032a3b0fb\n",
      "multi processing\n"
     ]
    },
    {
     "name": "stderr",
     "output_type": "stream",
     "text": [
      "100%|██████████| 72/72 [00:01<00:00, 39.17it/s]\n",
      "100%|██████████| 72/72 [00:01<00:00, 39.93it/s]\n",
      "100%|██████████| 76/76 [00:01<00:00, 38.31it/s]\n",
      "100%|██████████| 84/84 [00:02<00:00, 37.95it/s]\n"
     ]
    },
    {
     "name": "stdout",
     "output_type": "stream",
     "text": [
      "Processing image 42 in test_index = 1 \n",
      "id = 95994a75d6e0c56fc5c013cd684a75c538212c8e2705beebff377c19d8041db4\n",
      "multi processing\n"
     ]
    },
    {
     "name": "stderr",
     "output_type": "stream",
     "text": [
      "100%|██████████| 45/45 [00:00<00:00, 64.29it/s]\n",
      "100%|██████████| 58/58 [00:00<00:00, 58.31it/s]\n",
      "100%|██████████| 54/54 [00:00<00:00, 59.80it/s]\n",
      "100%|██████████| 57/57 [00:01<00:00, 55.91it/s]\n"
     ]
    },
    {
     "name": "stdout",
     "output_type": "stream",
     "text": [
      "Processing image 43 in test_index = 1 \n",
      "id = 5d0cbd240272ee88a41715cbfa7b4febfff79f60773f9652c14af41aaed6a7cf\n",
      "multi processing\n"
     ]
    },
    {
     "name": "stderr",
     "output_type": "stream",
     "text": [
      "100%|██████████| 142/142 [00:07<00:00, 19.69it/s]\n",
      "100%|██████████| 148/148 [00:07<00:00, 18.54it/s]\n",
      "100%|██████████| 152/152 [00:08<00:00, 18.76it/s]\n",
      "100%|██████████| 150/150 [00:08<00:00, 18.60it/s]\n"
     ]
    },
    {
     "name": "stdout",
     "output_type": "stream",
     "text": [
      "Processing image 44 in test_index = 1 \n",
      "id = c41936544b9c943ed7ddbdc73f0cfef91e84c062e9e84fc0e224b714a466ae09\n",
      "multi processing\n"
     ]
    },
    {
     "name": "stderr",
     "output_type": "stream",
     "text": [
      "100%|██████████| 116/116 [00:05<00:00, 21.17it/s]\n",
      "100%|██████████| 131/131 [00:05<00:00, 22.12it/s]\n",
      "100%|██████████| 136/136 [00:06<00:00, 22.32it/s]\n",
      "100%|██████████| 133/133 [00:06<00:00, 20.89it/s]\n"
     ]
    },
    {
     "name": "stdout",
     "output_type": "stream",
     "text": [
      "Processing image 45 in test_index = 1 \n",
      "id = 187053f9593d6a513fe798953dcccb58a50d16e3153e6e1936e343fb6cb29b93\n",
      "multi processing\n"
     ]
    },
    {
     "name": "stderr",
     "output_type": "stream",
     "text": [
      "100%|██████████| 116/116 [00:04<00:00, 26.95it/s]\n",
      "100%|██████████| 119/119 [00:04<00:00, 24.90it/s]\n",
      "100%|██████████| 124/124 [00:05<00:00, 24.71it/s]\n",
      "100%|██████████| 132/132 [00:05<00:00, 25.31it/s]\n"
     ]
    },
    {
     "name": "stdout",
     "output_type": "stream",
     "text": [
      "Processing image 46 in test_index = 1 \n",
      "id = 3219ba6a33fb8e76a9b2f20ccf24bf2549c9a8f4ee346765768521c76833d58b\n",
      "multi processing\n"
     ]
    },
    {
     "name": "stderr",
     "output_type": "stream",
     "text": [
      "100%|██████████| 159/159 [00:10<00:00, 14.51it/s]\n",
      "100%|██████████| 168/168 [00:11<00:00, 14.72it/s]\n",
      "100%|██████████| 170/170 [00:11<00:00, 15.05it/s]\n",
      "100%|██████████| 177/177 [00:11<00:00, 14.98it/s]\n"
     ]
    },
    {
     "name": "stdout",
     "output_type": "stream",
     "text": [
      "Processing image 47 in test_index = 1 \n",
      "id = e519382bf2f2e9bcd64082a580ef841a7d3d8d1ce918c8bc3e531596f1d9b1fd\n",
      "multi processing\n"
     ]
    },
    {
     "name": "stderr",
     "output_type": "stream",
     "text": [
      "100%|██████████| 14/14 [00:00<00:00, 216.99it/s]\n",
      "100%|██████████| 18/18 [00:00<00:00, 191.19it/s]\n",
      "100%|██████████| 17/17 [00:00<00:00, 196.84it/s]\n",
      "100%|██████████| 19/19 [00:00<00:00, 192.51it/s]\n"
     ]
    },
    {
     "name": "stdout",
     "output_type": "stream",
     "text": [
      "Processing image 48 in test_index = 1 \n",
      "id = faa5e6c3397f97d07763f5071e15ed8b8eb4699f3430a5d668a8dca5c03e79a1\n",
      "multi processing\n"
     ]
    },
    {
     "name": "stderr",
     "output_type": "stream",
     "text": [
      "100%|██████████| 46/46 [00:00<00:00, 54.07it/s]\n",
      "100%|██████████| 54/54 [00:00<00:00, 61.12it/s]\n",
      "100%|██████████| 57/57 [00:01<00:00, 47.71it/s]\n",
      "100%|██████████| 63/63 [00:01<00:00, 52.15it/s]\n"
     ]
    },
    {
     "name": "stdout",
     "output_type": "stream",
     "text": [
      "Processing image 49 in test_index = 1 \n",
      "id = 2f9f71e6a7339c86061f79b5fc3d095104b3ab4b6ca3075fd20e51026e5b2ffe\n",
      "multi processing\n"
     ]
    },
    {
     "name": "stderr",
     "output_type": "stream",
     "text": [
      "100%|██████████| 73/73 [00:01<00:00, 43.04it/s]\n",
      "100%|██████████| 75/75 [00:01<00:00, 47.81it/s]\n",
      "100%|██████████| 80/80 [00:02<00:00, 39.91it/s]\n",
      "100%|██████████| 81/81 [00:01<00:00, 41.23it/s]\n"
     ]
    },
    {
     "name": "stdout",
     "output_type": "stream",
     "text": [
      "Processing image 50 in test_index = 1 \n",
      "id = 7a7297a33fa5ddb64f1f5c39aa38d33fc548f4efcd4929e5bcc7786b943face0\n",
      "multi processing\n"
     ]
    },
    {
     "name": "stderr",
     "output_type": "stream",
     "text": [
      "100%|██████████| 153/153 [00:08<00:00, 18.25it/s]\n",
      "100%|██████████| 156/156 [00:08<00:00, 17.57it/s]\n",
      "100%|██████████| 166/166 [00:09<00:00, 17.64it/s]\n",
      "100%|██████████| 162/162 [00:09<00:00, 17.70it/s]\n"
     ]
    },
    {
     "name": "stdout",
     "output_type": "stream",
     "text": [
      "Processing image 51 in test_index = 1 \n",
      "id = f5bc78dfdce118b5375f681a89adce1655a468b7d8ef67039d420d49e46a7c2f\n",
      "multi processing\n"
     ]
    },
    {
     "name": "stderr",
     "output_type": "stream",
     "text": [
      "100%|██████████| 139/139 [00:07<00:00, 19.05it/s]\n",
      "100%|██████████| 145/145 [00:07<00:00, 18.50it/s]\n",
      "100%|██████████| 142/142 [00:08<00:00, 17.71it/s]\n",
      "100%|██████████| 146/146 [00:08<00:00, 18.03it/s]\n"
     ]
    },
    {
     "name": "stdout",
     "output_type": "stream",
     "text": [
      "Processing image 52 in test_index = 1 \n",
      "id = 54b644a287003ffd94a13b30b88c35807ff5e5bef13fb739cb8ac30b9d15eb90\n",
      "multi processing\n"
     ]
    },
    {
     "name": "stderr",
     "output_type": "stream",
     "text": [
      "100%|██████████| 45/45 [00:00<00:00, 69.79it/s]\n",
      "100%|██████████| 53/53 [00:00<00:00, 71.98it/s]\n",
      "100%|██████████| 51/51 [00:00<00:00, 65.81it/s]\n",
      "100%|██████████| 55/55 [00:00<00:00, 58.85it/s]\n"
     ]
    },
    {
     "name": "stdout",
     "output_type": "stream",
     "text": [
      "Processing image 53 in test_index = 1 \n",
      "id = 05cc503b996fd999c8ddf4aead7410e523542497348234acf23818c8e201bb5b\n",
      "multi processing\n"
     ]
    },
    {
     "name": "stderr",
     "output_type": "stream",
     "text": [
      "100%|██████████| 41/41 [00:00<00:00, 80.34it/s]\n",
      "100%|██████████| 37/37 [00:00<00:00, 69.75it/s]\n",
      "100%|██████████| 40/40 [00:00<00:00, 69.26it/s]\n",
      "100%|██████████| 42/42 [00:00<00:00, 71.98it/s]\n"
     ]
    },
    {
     "name": "stdout",
     "output_type": "stream",
     "text": [
      "Processing image 54 in test_index = 1 \n",
      "id = 54377763127a5ab8f21228729853796275718dcf33e63bdb4df59deaf1c301f3\n",
      "multi processing\n"
     ]
    },
    {
     "name": "stderr",
     "output_type": "stream",
     "text": [
      "100%|██████████| 46/46 [00:00<00:00, 66.37it/s]\n",
      "100%|██████████| 48/48 [00:00<00:00, 65.17it/s]\n",
      "100%|██████████| 56/56 [00:00<00:00, 60.87it/s]\n",
      "100%|██████████| 55/55 [00:00<00:00, 60.42it/s]\n"
     ]
    },
    {
     "name": "stdout",
     "output_type": "stream",
     "text": [
      "Processing image 55 in test_index = 1 \n",
      "id = d8cfb5b1cab2ca009f63b89dfc8cc05571a027acf201d6f7440107ac8df9c61c\n",
      "multi processing\n"
     ]
    },
    {
     "name": "stderr",
     "output_type": "stream",
     "text": [
      "100%|██████████| 166/166 [00:10<00:00, 15.09it/s]\n",
      "100%|██████████| 179/179 [00:11<00:00, 15.37it/s]\n",
      " 72%|███████▏  | 127/177 [00:12<00:04, 10.58it/s]\n",
      "100%|██████████| 189/189 [00:12<00:00, 15.10it/s]\n"
     ]
    },
    {
     "name": "stdout",
     "output_type": "stream",
     "text": [
      "Processing image 56 in test_index = 1 \n",
      "id = 89246255fda235bced63577d17017fb7b1afb1c2d69824a9e8863fd6da976b9b\n",
      "multi processing\n"
     ]
    },
    {
     "name": "stderr",
     "output_type": "stream",
     "text": [
      "100%|██████████| 77/77 [00:01<00:00, 39.18it/s]\n",
      "100%|██████████| 73/73 [00:01<00:00, 40.24it/s]\n",
      "100%|██████████| 81/81 [00:02<00:00, 37.20it/s]\n",
      "100%|██████████| 89/89 [00:02<00:00, 34.78it/s]\n"
     ]
    },
    {
     "name": "stdout",
     "output_type": "stream",
     "text": [
      "Processing image 57 in test_index = 1 \n",
      "id = f22874c8fac3c7c39297796cf8e03f1b5c18a1a2497973ae9338f7f7dd46d36b\n",
      "multi processing\n"
     ]
    },
    {
     "name": "stderr",
     "output_type": "stream",
     "text": [
      "100%|██████████| 74/74 [00:04<00:00, 18.26it/s]\n",
      "100%|██████████| 72/72 [00:04<00:00, 17.58it/s]\n",
      "100%|██████████| 84/84 [00:05<00:00, 15.72it/s]\n",
      "100%|██████████| 90/90 [00:05<00:00, 16.21it/s]\n"
     ]
    },
    {
     "name": "stdout",
     "output_type": "stream",
     "text": [
      "Processing image 58 in test_index = 1 \n",
      "id = 1993f30556b35c2ac453e5feaf715156463e948ad72fdf184e00a9b1968fe1b0\n",
      "multi processing\n"
     ]
    },
    {
     "name": "stderr",
     "output_type": "stream",
     "text": [
      "100%|██████████| 90/90 [00:02<00:00, 32.90it/s]]\n",
      "100%|██████████| 102/102 [00:03<00:00, 33.05it/s]\n",
      "100%|██████████| 100/100 [00:03<00:00, 28.45it/s]\n",
      "100%|██████████| 107/107 [00:03<00:00, 31.03it/s]\n"
     ]
    },
    {
     "name": "stdout",
     "output_type": "stream",
     "text": [
      "Processing image 59 in test_index = 1 \n",
      "id = 56d84a8adbcbbce78fd3ebf30203512a4369640cfe5e8e2bc8f9ddfc211d9afb\n",
      "multi processing\n"
     ]
    },
    {
     "name": "stderr",
     "output_type": "stream",
     "text": [
      "100%|██████████| 173/173 [00:11<00:00, 15.07it/s]\n",
      "100%|██████████| 179/179 [00:12<00:00, 14.69it/s]\n",
      "100%|██████████| 172/172 [00:11<00:00, 14.42it/s]\n",
      "100%|██████████| 176/176 [00:12<00:00, 14.20it/s]\n"
     ]
    },
    {
     "name": "stdout",
     "output_type": "stream",
     "text": [
      "Processing image 60 in test_index = 1 \n",
      "id = ae2a95ec43b31a0bc89c472779aeee1f7b683f747aa19caa3efd79b473df2f2e\n",
      "multi processing\n"
     ]
    },
    {
     "name": "stderr",
     "output_type": "stream",
     "text": [
      "100%|██████████| 156/156 [00:11<00:00, 13.73it/s]\n",
      "100%|██████████| 166/166 [00:12<00:00, 13.30it/s]\n",
      "100%|██████████| 168/168 [00:12<00:00, 13.42it/s]\n",
      "100%|██████████| 160/160 [00:12<00:00, 12.73it/s]\n"
     ]
    },
    {
     "name": "stdout",
     "output_type": "stream",
     "text": [
      "Processing image 61 in test_index = 1 \n",
      "id = bf064c8f6dc9c17845bbbac520e01c2652246dd954b8f0f413aef8078fb5717c\n",
      "multi processing\n"
     ]
    },
    {
     "name": "stderr",
     "output_type": "stream",
     "text": [
      "100%|██████████| 165/165 [00:11<00:00, 14.62it/s]\n",
      "100%|██████████| 169/169 [00:12<00:00, 13.86it/s]\n",
      "100%|██████████| 179/179 [00:12<00:00, 14.25it/s]\n",
      "100%|██████████| 177/177 [00:13<00:00, 13.29it/s]\n"
     ]
    },
    {
     "name": "stdout",
     "output_type": "stream",
     "text": [
      "Processing image 62 in test_index = 1 \n",
      "id = b8be2888a8de0651a86756b54258e50c224305f00b813121ccd0ecfc9db475c0\n",
      "multi processing\n"
     ]
    },
    {
     "name": "stderr",
     "output_type": "stream",
     "text": [
      "100%|██████████| 111/111 [00:04<00:00, 26.40it/s]\n",
      "100%|██████████| 110/110 [00:04<00:00, 25.04it/s]\n",
      "100%|██████████| 118/118 [00:04<00:00, 24.96it/s]\n",
      "100%|██████████| 115/115 [00:04<00:00, 23.15it/s]\n"
     ]
    },
    {
     "name": "stdout",
     "output_type": "stream",
     "text": [
      "Processing image 63 in test_index = 1 \n",
      "id = 8ac1bb51234d469a09daab42b8cf7526431bdefb71a6673815816324921bfdf6\n",
      "multi processing\n"
     ]
    },
    {
     "name": "stderr",
     "output_type": "stream",
     "text": [
      "100%|██████████| 169/169 [00:10<00:00, 16.29it/s]\n",
      "100%|██████████| 165/165 [00:10<00:00, 15.88it/s]\n",
      "100%|██████████| 160/160 [00:10<00:00, 14.76it/s]\n",
      "100%|██████████| 182/182 [00:11<00:00, 15.85it/s]\n"
     ]
    },
    {
     "name": "stdout",
     "output_type": "stream",
     "text": [
      "Processing image 64 in test_index = 1 \n",
      "id = ed7fe4d266acc1d97f88d569446bc4ba7b3e2786334ec11288f73a0bd90c2efa\n",
      "multi processing\n"
     ]
    },
    {
     "name": "stderr",
     "output_type": "stream",
     "text": [
      "100%|██████████| 111/111 [00:05<00:00, 20.21it/s]\n",
      "100%|██████████| 122/122 [00:06<00:00, 19.57it/s]\n",
      "100%|██████████| 134/134 [00:06<00:00, 20.06it/s]\n",
      "100%|██████████| 144/144 [00:07<00:00, 20.29it/s]\n"
     ]
    },
    {
     "name": "stdout",
     "output_type": "stream",
     "text": [
      "Processing image 65 in test_index = 1 \n",
      "id = 4165350feb1ec46ff36a3dcc716f9b087d243b47d26c1530ac703e8bf8bb2e4c\n",
      "multi processing\n"
     ]
    },
    {
     "name": "stderr",
     "output_type": "stream",
     "text": [
      "100%|██████████| 142/142 [00:07<00:00, 17.80it/s]\n",
      "100%|██████████| 138/138 [00:08<00:00, 17.08it/s]\n",
      "100%|██████████| 147/147 [00:08<00:00, 16.81it/s]\n",
      "100%|██████████| 152/152 [00:08<00:00, 17.91it/s]\n"
     ]
    },
    {
     "name": "stdout",
     "output_type": "stream",
     "text": [
      "Processing image 66 in test_index = 1 \n",
      "id = 14ff49df48363b4f950a49c08313d933273fe9058dbda881d9579a1700e16dc8\n",
      "multi processing\n"
     ]
    },
    {
     "name": "stderr",
     "output_type": "stream",
     "text": [
      "100%|██████████| 144/144 [00:10<00:00, 13.36it/s]\n",
      "100%|██████████| 166/166 [00:12<00:00, 13.33it/s]\n",
      "100%|██████████| 173/173 [00:12<00:00, 13.71it/s]\n",
      "100%|██████████| 176/176 [00:13<00:00, 12.64it/s]\n"
     ]
    },
    {
     "name": "stdout",
     "output_type": "stream",
     "text": [
      "Processing image 67 in test_index = 1 \n",
      "id = 5dfdef7486890b822a49cae9fd2e7aa332f782bbac9bb9fc892cd280ff09cf6c\n",
      "multi processing\n"
     ]
    },
    {
     "name": "stderr",
     "output_type": "stream",
     "text": [
      "100%|██████████| 134/134 [00:07<00:00, 18.00it/s]\n",
      "100%|██████████| 148/148 [00:07<00:00, 18.68it/s]\n",
      "100%|██████████| 149/149 [00:08<00:00, 18.03it/s]\n",
      "100%|██████████| 163/163 [00:08<00:00, 19.11it/s]\n"
     ]
    },
    {
     "name": "stdout",
     "output_type": "stream",
     "text": [
      "Processing image 68 in test_index = 1 \n",
      "id = 82e651f4854c05766a3e70f0b9557aaa1be1c580f9c0cc65a2066556d6452f85\n",
      "multi processing\n"
     ]
    },
    {
     "name": "stderr",
     "output_type": "stream",
     "text": [
      "100%|██████████| 176/176 [00:11<00:00, 14.92it/s]\n",
      "100%|██████████| 175/175 [00:12<00:00, 14.03it/s]\n",
      "100%|██████████| 182/182 [00:12<00:00, 14.70it/s]\n",
      "100%|██████████| 180/180 [00:12<00:00, 14.52it/s]\n"
     ]
    },
    {
     "name": "stdout",
     "output_type": "stream",
     "text": [
      "Processing image 69 in test_index = 1 \n",
      "id = 2012fffe6ccac56b4ed6d88e2e8dc428e444ec2507dbfbf94a629a33a12169c9\n",
      "multi processing\n"
     ]
    },
    {
     "name": "stderr",
     "output_type": "stream",
     "text": [
      "100%|██████████| 187/187 [00:13<00:00, 13.47it/s]\n",
      "100%|██████████| 173/173 [00:13<00:00, 12.74it/s]\n",
      "100%|██████████| 191/191 [00:13<00:00, 13.67it/s]\n",
      "100%|██████████| 187/187 [00:14<00:00, 13.01it/s]\n"
     ]
    },
    {
     "name": "stdout",
     "output_type": "stream",
     "text": [
      "Processing image 70 in test_index = 1 \n",
      "id = 80d378a507343e202f7697f6005700dcf622cc51893cf2e334c7190820d8495a\n",
      "multi processing\n"
     ]
    },
    {
     "name": "stderr",
     "output_type": "stream",
     "text": [
      "100%|██████████| 172/172 [00:12<00:00, 14.07it/s]\n",
      "100%|██████████| 173/173 [00:12<00:00, 14.13it/s]\n",
      "100%|██████████| 175/175 [00:12<00:00, 14.36it/s]\n",
      "100%|██████████| 184/184 [00:13<00:00, 14.00it/s]\n"
     ]
    },
    {
     "name": "stdout",
     "output_type": "stream",
     "text": [
      "Processing image 71 in test_index = 1 \n",
      "id = af9d1de2340e64173aeb8a90b064d6b7da0e195a4092f37b859e3fb085ffd40e\n",
      "multi processing\n"
     ]
    },
    {
     "name": "stderr",
     "output_type": "stream",
     "text": [
      "100%|██████████| 102/102 [00:04<00:00, 25.08it/s]\n",
      "100%|██████████| 103/103 [00:04<00:00, 24.95it/s]\n",
      "100%|██████████| 100/100 [00:03<00:00, 25.32it/s]\n",
      "100%|██████████| 116/116 [00:04<00:00, 26.11it/s]\n"
     ]
    },
    {
     "name": "stdout",
     "output_type": "stream",
     "text": [
      "Processing image 72 in test_index = 1 \n",
      "id = d69da362d25593447d676a0b78765b06f434667ef58cba5e4076721d82ca477e\n",
      "multi processing\n"
     ]
    },
    {
     "name": "stderr",
     "output_type": "stream",
     "text": [
      "100%|██████████| 46/46 [00:00<00:00, 65.88it/s]\n",
      "100%|██████████| 47/47 [00:00<00:00, 54.92it/s]\n",
      "100%|██████████| 50/50 [00:00<00:00, 55.87it/s]\n",
      "100%|██████████| 61/61 [00:01<00:00, 53.56it/s]\n"
     ]
    },
    {
     "name": "stdout",
     "output_type": "stream",
     "text": [
      "Processing image 73 in test_index = 1 \n",
      "id = f38f1c9c5115b248cb06575d4d080244324c3e7b22d5ffb2fd2b3583e9de6682\n",
      "multi processing\n"
     ]
    },
    {
     "name": "stderr",
     "output_type": "stream",
     "text": [
      "100%|██████████| 158/158 [00:11<00:00, 14.18it/s]\n",
      "100%|██████████| 159/159 [00:11<00:00, 13.53it/s]\n",
      "100%|██████████| 166/166 [00:12<00:00, 13.55it/s]\n",
      "100%|██████████| 169/169 [00:12<00:00, 13.26it/s]\n"
     ]
    },
    {
     "name": "stdout",
     "output_type": "stream",
     "text": [
      "Processing image 74 in test_index = 1 \n",
      "id = a03a8b38411cc62d0c6575dc33e2f98642e8a67880ca05799b4fabc76fabd1fe\n",
      "multi processing\n"
     ]
    },
    {
     "name": "stderr",
     "output_type": "stream",
     "text": [
      "100%|██████████| 201/201 [00:19<00:00, 10.41it/s]\n",
      "100%|██████████| 203/203 [00:19<00:00, 10.19it/s]\n",
      "100%|██████████| 203/203 [00:19<00:00, 10.25it/s]\n",
      "100%|██████████| 216/216 [00:20<00:00, 10.58it/s]\n"
     ]
    },
    {
     "name": "stdout",
     "output_type": "stream",
     "text": [
      "Processing image 75 in test_index = 1 \n",
      "id = 213bccb0c1676ab6cacd548b4fda37223dfa97263dc0172e96519af22d80ecdd\n",
      "multi processing\n"
     ]
    },
    {
     "name": "stderr",
     "output_type": "stream",
     "text": [
      "100%|██████████| 156/156 [00:10<00:00, 15.19it/s]\n",
      "100%|██████████| 171/171 [00:12<00:00, 14.18it/s]\n",
      "100%|██████████| 168/168 [00:11<00:00, 14.04it/s]\n",
      "100%|██████████| 180/180 [00:12<00:00, 14.44it/s]\n"
     ]
    },
    {
     "name": "stdout",
     "output_type": "stream",
     "text": [
      "Processing image 76 in test_index = 1 \n",
      "id = b3e6611ab7ec24724600c7187fd57890dea9ba3f9512768efe8db5bf6e3cf2ad\n",
      "multi processing\n"
     ]
    },
    {
     "name": "stderr",
     "output_type": "stream",
     "text": [
      "100%|██████████| 151/151 [00:08<00:00, 17.54it/s]\n",
      "100%|██████████| 153/153 [00:09<00:00, 16.48it/s]\n",
      " 63%|██████▎   | 104/164 [00:09<00:05, 10.70it/s]\n",
      "100%|██████████| 178/178 [00:10<00:00, 16.80it/s]\n"
     ]
    },
    {
     "name": "stdout",
     "output_type": "stream",
     "text": [
      "Processing image 77 in test_index = 1 \n",
      "id = ffb383db5ee04d316f2e40f74649aab78648cf9b9d7fc6a7cb24b7ee95b9039c\n",
      "multi processing\n"
     ]
    },
    {
     "name": "stderr",
     "output_type": "stream",
     "text": [
      "100%|██████████| 131/131 [00:06<00:00, 19.85it/s]\n",
      "100%|██████████| 151/151 [00:08<00:00, 18.47it/s]\n",
      "100%|██████████| 142/142 [00:07<00:00, 17.91it/s]\n",
      "100%|██████████| 158/158 [00:08<00:00, 18.61it/s]\n"
     ]
    },
    {
     "name": "stdout",
     "output_type": "stream",
     "text": [
      "Processing image 78 in test_index = 1 \n",
      "id = 2fbcf6e0d65eece04a72daae3ea5f688ff04ef8c716ad49bd2b5fbf381b86163\n",
      "multi processing\n"
     ]
    },
    {
     "name": "stderr",
     "output_type": "stream",
     "text": [
      "100%|██████████| 14/14 [00:00<00:00, 189.71it/s]\n",
      "100%|██████████| 17/17 [00:00<00:00, 183.62it/s]\n",
      "100%|██████████| 15/15 [00:00<00:00, 171.72it/s]\n",
      "100%|██████████| 14/14 [00:00<00:00, 177.78it/s]\n"
     ]
    },
    {
     "name": "stdout",
     "output_type": "stream",
     "text": [
      "Processing image 79 in test_index = 1 \n",
      "id = 8cc0a137361ce29cd4ac341af01cbcf19b1ddf12cc5cab5b3073075da347dad5\n",
      "multi processing\n"
     ]
    },
    {
     "name": "stderr",
     "output_type": "stream",
     "text": [
      "100%|██████████| 109/109 [00:04<00:00, 26.88it/s]\n",
      "100%|██████████| 125/125 [00:04<00:00, 25.27it/s]\n",
      "100%|██████████| 134/134 [00:05<00:00, 24.59it/s]\n",
      "100%|██████████| 131/131 [00:05<00:00, 23.95it/s]\n"
     ]
    },
    {
     "name": "stdout",
     "output_type": "stream",
     "text": [
      "Processing image 80 in test_index = 1 \n",
      "id = b2cd05231629916f8b7a7a55e2de3ca872b2cf431cc7fe776f6120126599c3ed\n",
      "multi processing\n"
     ]
    },
    {
     "name": "stderr",
     "output_type": "stream",
     "text": [
      "100%|██████████| 40/40 [00:00<00:00, 77.70it/s]\n",
      "100%|██████████| 45/45 [00:00<00:00, 70.98it/s]\n",
      "100%|██████████| 45/45 [00:00<00:00, 56.77it/s]\n",
      "100%|██████████| 50/50 [00:00<00:00, 59.21it/s]\n"
     ]
    },
    {
     "name": "stdout",
     "output_type": "stream",
     "text": [
      "Processing image 81 in test_index = 1 \n",
      "id = 01e7cc3424aee5065c9c7232df5a39b1f11c15ab0ccac0282c422905f93507d3\n",
      "multi processing\n"
     ]
    },
    {
     "name": "stderr",
     "output_type": "stream",
     "text": [
      "100%|██████████| 125/125 [00:05<00:00, 22.71it/s]\n",
      "100%|██████████| 125/125 [00:05<00:00, 21.59it/s]\n",
      "100%|██████████| 136/136 [00:05<00:00, 23.15it/s]\n",
      "100%|██████████| 135/135 [00:06<00:00, 21.68it/s]\n"
     ]
    },
    {
     "name": "stdout",
     "output_type": "stream",
     "text": [
      "Processing image 82 in test_index = 1 \n",
      "id = 358b9f6bb6bd8d6f9c5426559d6c3b65a9ade3e784d45487d247d6b8fefbc0dc\n",
      "multi processing\n"
     ]
    },
    {
     "name": "stderr",
     "output_type": "stream",
     "text": [
      "100%|██████████| 144/144 [00:08<00:00, 17.36it/s]\n",
      "100%|██████████| 143/143 [00:08<00:00, 16.95it/s]\n",
      "100%|██████████| 142/142 [00:08<00:00, 16.19it/s]\n",
      "100%|██████████| 159/159 [00:09<00:00, 16.58it/s]\n"
     ]
    },
    {
     "name": "stdout",
     "output_type": "stream",
     "text": [
      "Processing image 83 in test_index = 1 \n",
      "id = c30f369ff514082980cda5f38b088c41844dff6e6a448eac07eff1563e854efc\n",
      "multi processing\n"
     ]
    },
    {
     "name": "stderr",
     "output_type": "stream",
     "text": [
      "100%|██████████| 64/64 [00:01<00:00, 34.91it/s]\n",
      "100%|██████████| 70/70 [00:02<00:00, 34.56it/s]\n",
      "100%|██████████| 63/63 [00:02<00:00, 31.16it/s]\n",
      "100%|██████████| 65/65 [00:02<00:00, 30.16it/s]\n"
     ]
    },
    {
     "name": "stdout",
     "output_type": "stream",
     "text": [
      "Processing image 84 in test_index = 1 \n",
      "id = 7cddaa5b6a3c051cd730be414fce227e04b82f21dc08df69f303fb41a4129415\n",
      "multi processing\n"
     ]
    },
    {
     "name": "stderr",
     "output_type": "stream",
     "text": [
      "100%|██████████| 76/76 [00:01<00:00, 38.09it/s]\n",
      "100%|██████████| 78/78 [00:02<00:00, 38.58it/s]\n",
      "100%|██████████| 82/82 [00:02<00:00, 37.30it/s]\n",
      "100%|██████████| 91/91 [00:02<00:00, 36.58it/s]\n"
     ]
    },
    {
     "name": "stdout",
     "output_type": "stream",
     "text": [
      "Processing image 85 in test_index = 1 \n",
      "id = bacc0a047665ae0a8ffa62be76298283fe1c6c013c521ae063702fce9abc851f\n",
      "multi processing\n"
     ]
    },
    {
     "name": "stderr",
     "output_type": "stream",
     "text": [
      "100%|██████████| 132/132 [00:08<00:00, 15.89it/s]\n",
      "100%|██████████| 131/131 [00:08<00:00, 15.13it/s]\n",
      "100%|██████████| 139/139 [00:09<00:00, 14.74it/s]\n",
      "100%|██████████| 157/157 [00:10<00:00, 14.65it/s]\n"
     ]
    },
    {
     "name": "stdout",
     "output_type": "stream",
     "text": [
      "Processing image 86 in test_index = 1 \n",
      "id = a6f339fa5fd2407519fe0170bed295bca475ef8b55e53a181b058cef38f730fc\n",
      "multi processing\n"
     ]
    },
    {
     "name": "stderr",
     "output_type": "stream",
     "text": [
      "100%|██████████| 115/115 [00:05<00:00, 20.98it/s]\n",
      "100%|██████████| 130/130 [00:06<00:00, 21.11it/s]\n",
      "100%|██████████| 124/124 [00:06<00:00, 20.43it/s]\n",
      "100%|██████████| 141/141 [00:07<00:00, 18.61it/s]\n"
     ]
    },
    {
     "name": "stdout",
     "output_type": "stream",
     "text": [
      "Processing image 87 in test_index = 1 \n",
      "id = 7b74800ff4b5c1e43919f825b1e41f5ea428240596a32c591d44d53b0476b21c\n",
      "multi processing\n",
      "Processing image 88 in test_index = 1 \n",
      "id = 1c4e26959e8326d80104ca7c1f9f21924646aceee86242d6daba338a59154e33\n",
      "multi processing\n"
     ]
    },
    {
     "name": "stderr",
     "output_type": "stream",
     "text": [
      "100%|██████████| 28/28 [00:00<00:00, 121.40it/s]\n",
      "100%|██████████| 35/35 [00:00<00:00, 107.31it/s]\n",
      "100%|██████████| 28/28 [00:00<00:00, 95.02it/s]\n",
      "100%|██████████| 34/34 [00:00<00:00, 94.98it/s]\n"
     ]
    },
    {
     "name": "stdout",
     "output_type": "stream",
     "text": [
      "Processing image 89 in test_index = 1 \n",
      "id = 5b46fd8c53508aaccda58888c63a73919b0401655eb711ce03aa8363898c72c7\n",
      "multi processing\n"
     ]
    },
    {
     "name": "stderr",
     "output_type": "stream",
     "text": [
      "100%|██████████| 111/111 [00:05<00:00, 20.93it/s]\n",
      "100%|██████████| 116/116 [00:05<00:00, 21.60it/s]\n",
      "100%|██████████| 132/132 [00:06<00:00, 21.16it/s]\n",
      "100%|██████████| 129/129 [00:06<00:00, 21.28it/s]\n"
     ]
    },
    {
     "name": "stdout",
     "output_type": "stream",
     "text": [
      "Processing image 90 in test_index = 1 \n",
      "id = cddadd0e1abb85b605d090c2f075c6c58f03dff6c4f59f24342f0b753834c11e\n",
      "multi processing\n"
     ]
    },
    {
     "name": "stderr",
     "output_type": "stream",
     "text": [
      "100%|██████████| 50/50 [00:00<00:00, 56.99it/s]\n",
      "100%|██████████| 48/48 [00:00<00:00, 50.27it/s]\n",
      "100%|██████████| 58/58 [00:01<00:00, 47.11it/s]\n",
      "100%|██████████| 64/64 [00:01<00:00, 47.72it/s]\n"
     ]
    },
    {
     "name": "stdout",
     "output_type": "stream",
     "text": [
      "Processing image 91 in test_index = 1 \n",
      "id = ed713ccbd06323f9e817169486fed0feca4654f1cbe43dca5955cee06d0497d2\n",
      "multi processing\n"
     ]
    },
    {
     "name": "stderr",
     "output_type": "stream",
     "text": [
      "100%|██████████| 44/44 [00:00<00:00, 63.74it/s]\n",
      "100%|██████████| 45/45 [00:00<00:00, 58.53it/s]\n",
      "100%|██████████| 50/50 [00:00<00:00, 60.29it/s]\n",
      "100%|██████████| 52/52 [00:00<00:00, 62.84it/s]\n"
     ]
    },
    {
     "name": "stdout",
     "output_type": "stream",
     "text": [
      "Processing image 92 in test_index = 1 \n",
      "id = be4e502a6bd28ffed69cc3b3841c84967585bd1e6806f39b8215005cd4cfe038\n",
      "multi processing\n"
     ]
    },
    {
     "name": "stderr",
     "output_type": "stream",
     "text": [
      "100%|██████████| 18/18 [00:00<00:00, 189.04it/s]\n",
      "100%|██████████| 19/19 [00:00<00:00, 181.51it/s]\n",
      "100%|██████████| 20/20 [00:00<00:00, 158.57it/s]\n",
      "100%|██████████| 28/28 [00:00<00:00, 141.48it/s]\n"
     ]
    },
    {
     "name": "stdout",
     "output_type": "stream",
     "text": [
      "Processing image 93 in test_index = 1 \n",
      "id = 3f91429dff354b9876bb38c32510c6093e284b722f51d5d064d68a4b83757d66\n",
      "multi processing\n"
     ]
    },
    {
     "name": "stderr",
     "output_type": "stream",
     "text": [
      "100%|██████████| 93/93 [00:02<00:00, 36.00it/s]]\n",
      "100%|██████████| 102/102 [00:02<00:00, 34.50it/s]\n",
      "100%|██████████| 100/100 [00:02<00:00, 33.42it/s]\n",
      "100%|██████████| 103/103 [00:03<00:00, 31.96it/s]\n"
     ]
    },
    {
     "name": "stdout",
     "output_type": "stream",
     "text": [
      "Processing image 94 in test_index = 1 \n",
      "id = 17e1b2324ba299fbddf2643520d2a5e860a44f4af19f09797fb20eb684e1c47e\n",
      "multi processing\n"
     ]
    },
    {
     "name": "stderr",
     "output_type": "stream",
     "text": [
      "100%|██████████| 134/134 [00:07<00:00, 17.80it/s]\n",
      "100%|██████████| 138/138 [00:07<00:00, 18.37it/s]\n",
      "100%|██████████| 139/139 [00:08<00:00, 16.98it/s]\n",
      "100%|██████████| 156/156 [00:08<00:00, 17.80it/s]\n"
     ]
    },
    {
     "name": "stdout",
     "output_type": "stream",
     "text": [
      "Processing image 95 in test_index = 1 \n",
      "id = 308b654a57190ec7604923da469c3d44f2e612913950b09ca9f8f61a795117cc\n",
      "multi processing\n"
     ]
    },
    {
     "name": "stderr",
     "output_type": "stream",
     "text": [
      "100%|██████████| 48/48 [00:01<00:00, 47.58it/s]\n",
      "100%|██████████| 53/53 [00:01<00:00, 46.56it/s]\n",
      "100%|██████████| 52/52 [00:01<00:00, 47.17it/s]\n",
      "100%|██████████| 51/51 [00:01<00:00, 43.71it/s]\n"
     ]
    },
    {
     "name": "stdout",
     "output_type": "stream",
     "text": [
      "Processing image 96 in test_index = 1 \n",
      "id = ef20c80c5795f0cb058f018ad1e43a87005f2cf2727cf963d786574d50800f1d\n",
      "multi processing\n"
     ]
    },
    {
     "name": "stderr",
     "output_type": "stream",
     "text": [
      "100%|██████████| 156/156 [00:08<00:00, 18.57it/s]\n",
      "100%|██████████| 155/155 [00:08<00:00, 17.94it/s]\n",
      "100%|██████████| 158/158 [00:08<00:00, 18.14it/s]\n",
      "100%|██████████| 169/169 [00:09<00:00, 18.52it/s]\n"
     ]
    },
    {
     "name": "stdout",
     "output_type": "stream",
     "text": [
      "Processing image 97 in test_index = 1 \n",
      "id = 85ec95e87228d5e09e617f7263c45d8ca880db43f26d30e449cfd71ef2b2a502\n",
      "multi processing\n"
     ]
    },
    {
     "name": "stderr",
     "output_type": "stream",
     "text": [
      "100%|██████████| 159/159 [00:10<00:00, 15.77it/s]\n",
      "100%|██████████| 161/161 [00:10<00:00, 15.81it/s]\n",
      "100%|██████████| 153/153 [00:10<00:00, 14.95it/s]\n",
      "100%|██████████| 164/164 [00:11<00:00, 14.68it/s]\n"
     ]
    },
    {
     "name": "stdout",
     "output_type": "stream",
     "text": [
      "Processing image 98 in test_index = 1 \n",
      "id = d8d003b17919e765b801c66b8bbe982282b67b2fbd402bf0482ce0a34f793686\n",
      "multi processing\n"
     ]
    },
    {
     "name": "stderr",
     "output_type": "stream",
     "text": [
      "100%|██████████| 152/152 [00:10<00:00, 14.78it/s]\n",
      "100%|██████████| 173/173 [00:11<00:00, 14.71it/s]\n",
      "100%|██████████| 186/186 [00:13<00:00, 13.89it/s]\n",
      "100%|██████████| 192/192 [00:15<00:00, 12.19it/s]\n"
     ]
    },
    {
     "name": "stdout",
     "output_type": "stream",
     "text": [
      "Processing image 99 in test_index = 1 \n",
      "id = 285a1b852717703a725c2ca471405311a662e3a33766379cf0768b5f766e4964\n",
      "multi processing\n"
     ]
    },
    {
     "name": "stderr",
     "output_type": "stream",
     "text": [
      "100%|██████████| 121/121 [00:06<00:00, 19.46it/s]\n",
      "100%|██████████| 130/130 [00:06<00:00, 20.36it/s]\n",
      "100%|██████████| 138/138 [00:06<00:00, 20.95it/s]\n",
      "100%|██████████| 148/148 [00:07<00:00, 21.03it/s]\n"
     ]
    },
    {
     "name": "stdout",
     "output_type": "stream",
     "text": [
      "Processing image 100 in test_index = 1 \n",
      "id = 8b1693c65643b7081cc84bf55aa7323940ca89ace609eeb99bf3aa2524986197\n",
      "multi processing\n"
     ]
    },
    {
     "name": "stderr",
     "output_type": "stream",
     "text": [
      "100%|██████████| 84/84 [00:02<00:00, 34.45it/s]\n",
      "100%|██████████| 82/82 [00:02<00:00, 33.28it/s]\n",
      "100%|██████████| 95/95 [00:02<00:00, 33.50it/s]\n",
      "100%|██████████| 91/91 [00:02<00:00, 31.06it/s]\n"
     ]
    },
    {
     "name": "stdout",
     "output_type": "stream",
     "text": [
      "Processing image 101 in test_index = 1 \n",
      "id = 3a829587e31df7853846d9b8df7eb42acc28145ecb5de6dbb2c5d19ef98954c3\n",
      "multi processing\n"
     ]
    },
    {
     "name": "stderr",
     "output_type": "stream",
     "text": [
      "100%|██████████| 101/101 [00:03<00:00, 25.33it/s]\n",
      "100%|██████████| 115/115 [00:04<00:00, 24.72it/s]\n",
      "100%|██████████| 103/103 [00:04<00:00, 22.59it/s]\n",
      "100%|██████████| 115/115 [00:04<00:00, 24.23it/s]\n"
     ]
    },
    {
     "name": "stdout",
     "output_type": "stream",
     "text": [
      "Processing image 102 in test_index = 1 \n",
      "id = c9e2d6b09f6f55999dad8daabcc04f73f65d35d6afefacb57db32df35546a017\n",
      "multi processing\n"
     ]
    },
    {
     "name": "stderr",
     "output_type": "stream",
     "text": [
      "100%|██████████| 162/162 [00:11<00:00, 13.94it/s]\n",
      "100%|██████████| 176/176 [00:12<00:00, 14.41it/s]\n",
      "100%|██████████| 177/177 [00:12<00:00, 14.17it/s]\n",
      "100%|██████████| 179/179 [00:12<00:00, 13.77it/s]\n"
     ]
    },
    {
     "name": "stdout",
     "output_type": "stream",
     "text": [
      "Processing image 103 in test_index = 1 \n",
      "id = 4bbf235ec8c0a339626a749274affa9bb2a9e51ee8d4725a2044bc1a2342e710\n",
      "multi processing\n"
     ]
    },
    {
     "name": "stderr",
     "output_type": "stream",
     "text": [
      "100%|██████████| 176/176 [00:12<00:00, 14.08it/s]\n",
      "100%|██████████| 176/176 [00:12<00:00, 13.77it/s]\n",
      "100%|██████████| 184/184 [00:13<00:00, 13.68it/s]\n",
      "100%|██████████| 188/188 [00:13<00:00, 13.60it/s]\n"
     ]
    },
    {
     "name": "stdout",
     "output_type": "stream",
     "text": [
      "Processing image 104 in test_index = 1 \n",
      "id = 04c7531bd6e7db41341892f85f26163885bace79ea4501c8388e044d7da8e35f\n",
      "multi processing\n"
     ]
    },
    {
     "name": "stderr",
     "output_type": "stream",
     "text": [
      "100%|██████████| 156/156 [00:07<00:00, 19.98it/s]\n",
      "100%|██████████| 143/143 [00:07<00:00, 18.25it/s]\n",
      "100%|██████████| 153/153 [00:08<00:00, 18.21it/s]\n",
      "100%|██████████| 149/149 [00:08<00:00, 18.53it/s]\n"
     ]
    },
    {
     "name": "stdout",
     "output_type": "stream",
     "text": [
      "Processing image 105 in test_index = 1 \n",
      "id = 76ae6e2607c5dada55e32d21f1c57dcf777307918df57e174e61b20b2f1c7c5e\n",
      "multi processing\n"
     ]
    },
    {
     "name": "stderr",
     "output_type": "stream",
     "text": [
      "100%|██████████| 147/147 [00:08<00:00, 17.95it/s]\n",
      "100%|██████████| 158/158 [00:08<00:00, 18.54it/s]\n",
      "100%|██████████| 162/162 [00:09<00:00, 17.71it/s]\n",
      "100%|██████████| 172/172 [00:09<00:00, 18.43it/s]\n"
     ]
    },
    {
     "name": "stdout",
     "output_type": "stream",
     "text": [
      "Processing image 106 in test_index = 1 \n",
      "id = 0eb4feb7ab8c3c6c129dd0abda6a7fec8c477d933484b4581a20dca249d1b12d\n",
      "multi processing\n"
     ]
    },
    {
     "name": "stderr",
     "output_type": "stream",
     "text": [
      "100%|██████████| 92/92 [00:03<00:00, 23.25it/s]]\n",
      "100%|██████████| 103/103 [00:04<00:00, 22.11it/s]\n",
      "100%|██████████| 109/109 [00:05<00:00, 21.68it/s]\n",
      "100%|██████████| 110/110 [00:05<00:00, 21.49it/s]\n"
     ]
    },
    {
     "name": "stdout",
     "output_type": "stream",
     "text": [
      "Processing image 107 in test_index = 1 \n",
      "id = 8a1cabd715b721bd30b29923d7f3443211e26bc783c5263ac67d778602f72657\n",
      "multi processing\n"
     ]
    },
    {
     "name": "stderr",
     "output_type": "stream",
     "text": [
      "100%|██████████| 84/84 [00:02<00:00, 29.88it/s]\n",
      "100%|██████████| 86/86 [00:03<00:00, 26.99it/s]\n",
      "100%|██████████| 90/90 [00:03<00:00, 29.35it/s]\n",
      "100%|██████████| 88/88 [00:03<00:00, 26.50it/s]\n"
     ]
    },
    {
     "name": "stdout",
     "output_type": "stream",
     "text": [
      "Processing image 108 in test_index = 1 \n",
      "id = c7bd3be6a4f3a07008cd6a77b885dbc7f3803d4b26c261283bdc6ccd1d4a6752\n",
      "multi processing\n"
     ]
    },
    {
     "name": "stderr",
     "output_type": "stream",
     "text": [
      "100%|██████████| 161/161 [00:12<00:00, 12.83it/s]\n",
      "100%|██████████| 171/171 [00:14<00:00, 11.64it/s]\n",
      "100%|██████████| 167/167 [00:14<00:00, 11.31it/s]\n",
      "100%|██████████| 171/171 [00:14<00:00, 11.73it/s]\n"
     ]
    },
    {
     "name": "stdout",
     "output_type": "stream",
     "text": [
      "Processing image 109 in test_index = 1 \n",
      "id = 7fb334edaf9fa6770015f1703d01d75e3fe0b1c21ac3f6fcce89abb646ab616f\n",
      "multi processing\n"
     ]
    },
    {
     "name": "stderr",
     "output_type": "stream",
     "text": [
      "100%|██████████| 122/122 [00:05<00:00, 22.00it/s]\n",
      "100%|██████████| 132/132 [00:06<00:00, 21.87it/s]\n",
      "100%|██████████| 131/131 [00:05<00:00, 21.91it/s]\n",
      "100%|██████████| 140/140 [00:06<00:00, 21.82it/s]\n"
     ]
    },
    {
     "name": "stdout",
     "output_type": "stream",
     "text": [
      "Processing image 110 in test_index = 1 \n",
      "id = 219c6c29615c816476a71ed82c7e50fdcca4727020e0e52c019c6d252d6569d0\n",
      "multi processing\n"
     ]
    },
    {
     "name": "stderr",
     "output_type": "stream",
     "text": [
      "100%|██████████| 152/152 [00:08<00:00, 17.76it/s]\n",
      "100%|██████████| 150/150 [00:09<00:00, 16.50it/s]\n",
      " 77%|███████▋  | 121/157 [00:08<00:02, 13.55it/s]\n",
      "100%|██████████| 153/153 [00:09<00:00, 16.43it/s]\n"
     ]
    },
    {
     "name": "stdout",
     "output_type": "stream",
     "text": [
      "Processing image 111 in test_index = 1 \n",
      "id = c78147af0e941fdf3d6bb1bc57646bcb8ad6f522b0c6a7ae7c151b7611f34da9\n",
      "multi processing\n"
     ]
    },
    {
     "name": "stderr",
     "output_type": "stream",
     "text": [
      "100%|██████████| 38/38 [00:00<00:00, 74.22it/s]\n",
      "100%|██████████| 39/39 [00:00<00:00, 60.47it/s]\n",
      "100%|██████████| 47/47 [00:00<00:00, 60.92it/s]\n",
      "100%|██████████| 57/57 [00:00<00:00, 62.26it/s]\n"
     ]
    },
    {
     "name": "stdout",
     "output_type": "stream",
     "text": [
      "Processing image 112 in test_index = 1 \n",
      "id = 63bc2a0c564882b414349b3485208e50b47aa56f8f0e9cc1fe1e0fe8cf60d1f6\n",
      "multi processing\n"
     ]
    },
    {
     "name": "stderr",
     "output_type": "stream",
     "text": [
      "100%|██████████| 166/166 [00:12<00:00, 13.32it/s]\n",
      "100%|██████████| 157/157 [00:12<00:00, 12.31it/s]\n",
      "100%|██████████| 175/175 [00:13<00:00, 12.61it/s]\n",
      "100%|██████████| 177/177 [00:14<00:00, 12.00it/s]\n"
     ]
    },
    {
     "name": "stdout",
     "output_type": "stream",
     "text": [
      "Processing image 113 in test_index = 1 \n",
      "id = 5107baeac5b554c41180574a9f3384ca91fca8333ad07453c785a4e27f99668e\n",
      "multi processing\n"
     ]
    },
    {
     "name": "stderr",
     "output_type": "stream",
     "text": [
      "100%|██████████| 177/177 [00:11<00:00, 14.98it/s]\n",
      "100%|██████████| 170/170 [00:11<00:00, 14.36it/s]\n",
      "100%|██████████| 184/184 [00:12<00:00, 14.88it/s]\n",
      "100%|██████████| 174/174 [00:12<00:00, 13.67it/s]\n"
     ]
    },
    {
     "name": "stdout",
     "output_type": "stream",
     "text": [
      "Processing image 114 in test_index = 1 \n",
      "id = 14eb1afbd8482bced9b2423064101026a481138b816155f32b416e1c2df53265\n",
      "multi processing\n"
     ]
    },
    {
     "name": "stderr",
     "output_type": "stream",
     "text": [
      "100%|██████████| 1/1 [00:00<00:00, 2300.77it/s]\n",
      "100%|██████████| 2/2 [00:00<00:00, 320.08it/s]\n",
      "100%|██████████| 3/3 [00:00<00:00, 257.76it/s]\n"
     ]
    },
    {
     "name": "stdout",
     "output_type": "stream",
     "text": [
      "Processing image 115 in test_index = 1 \n",
      "id = a1078a2bf136f069120e5b696e63a2f8eb901e5f144676456bc6afa8b5a18025\n",
      "multi processing\n"
     ]
    },
    {
     "name": "stderr",
     "output_type": "stream",
     "text": [
      "100%|██████████| 139/139 [00:06<00:00, 20.42it/s]\n",
      "100%|██████████| 135/135 [00:07<00:00, 19.09it/s]\n",
      "100%|██████████| 144/144 [00:07<00:00, 19.85it/s]\n",
      "100%|██████████| 151/151 [00:07<00:00, 19.98it/s]\n"
     ]
    },
    {
     "name": "stdout",
     "output_type": "stream",
     "text": [
      "Processing image 116 in test_index = 1 \n",
      "id = c0e1a856a3d73a1a5906ef8294feb22b42c9c344efa9b7d200d9f8de18f10985\n",
      "multi processing\n"
     ]
    },
    {
     "name": "stderr",
     "output_type": "stream",
     "text": [
      "100%|██████████| 106/106 [00:04<00:00, 24.09it/s]\n",
      "100%|██████████| 108/108 [00:04<00:00, 23.07it/s]\n",
      "100%|██████████| 116/116 [00:04<00:00, 23.58it/s]\n",
      "100%|██████████| 123/123 [00:05<00:00, 22.59it/s]\n"
     ]
    },
    {
     "name": "stdout",
     "output_type": "stream",
     "text": [
      "Processing image 117 in test_index = 1 \n",
      "id = b20cdedbdb2f5ed9cfa75eb255e0665a7ba01bb0ba05748ad4c95b2b606eea62\n",
      "multi processing\n"
     ]
    },
    {
     "name": "stderr",
     "output_type": "stream",
     "text": [
      "100%|██████████| 149/149 [00:08<00:00, 18.53it/s]\n",
      "100%|██████████| 145/145 [00:08<00:00, 17.97it/s]\n",
      "100%|██████████| 147/147 [00:08<00:00, 18.27it/s]\n",
      "100%|██████████| 162/162 [00:08<00:00, 18.24it/s]\n"
     ]
    },
    {
     "name": "stdout",
     "output_type": "stream",
     "text": [
      "Processing image 118 in test_index = 1 \n",
      "id = ea7015106f3e263aca340cdd49e02be2a287e3ef35cf08f56b367be81e03ea6f\n",
      "multi processing\n"
     ]
    },
    {
     "name": "stderr",
     "output_type": "stream",
     "text": [
      "100%|██████████| 107/107 [00:04<00:00, 24.56it/s]\n",
      "100%|██████████| 111/111 [00:04<00:00, 23.01it/s]\n",
      "100%|██████████| 125/125 [00:05<00:00, 22.57it/s]\n",
      "100%|██████████| 122/122 [00:05<00:00, 22.34it/s]\n"
     ]
    },
    {
     "name": "stdout",
     "output_type": "stream",
     "text": [
      "Processing image 119 in test_index = 1 \n",
      "id = 0019c086029dd3be01f72131edb74e21ee995574e6d5c136ea868630b0d73523\n",
      "multi processing\n"
     ]
    },
    {
     "name": "stderr",
     "output_type": "stream",
     "text": [
      "100%|██████████| 85/85 [00:02<00:00, 32.80it/s]]\n",
      "100%|██████████| 91/91 [00:03<00:00, 29.58it/s]]\n",
      "100%|██████████| 100/100 [00:03<00:00, 31.40it/s]\n",
      "100%|██████████| 96/96 [00:03<00:00, 30.01it/s]\n"
     ]
    },
    {
     "name": "stdout",
     "output_type": "stream",
     "text": [
      "Processing image 120 in test_index = 1 \n",
      "id = c472a7c4b06821e7c82aaa1205578a03126be62eb3b30516aeb2c120a7f4d006\n",
      "multi processing\n"
     ]
    },
    {
     "name": "stderr",
     "output_type": "stream",
     "text": [
      "100%|██████████| 152/152 [00:13<00:00, 11.61it/s]\n",
      "100%|██████████| 153/153 [00:13<00:00, 10.98it/s]\n",
      "100%|██████████| 156/156 [00:14<00:00, 10.66it/s]\n",
      "100%|██████████| 177/177 [00:17<00:00, 10.24it/s]\n"
     ]
    },
    {
     "name": "stdout",
     "output_type": "stream",
     "text": [
      "Processing image 121 in test_index = 1 \n",
      "id = c10c1730e6b7c0568c6ccdfe419a52ec04378eb4057478d226fd010134aabc4e\n",
      "multi processing\n"
     ]
    },
    {
     "name": "stderr",
     "output_type": "stream",
     "text": [
      "100%|██████████| 177/177 [00:17<00:00,  9.97it/s]\n",
      "100%|██████████| 191/191 [00:18<00:00, 10.41it/s]\n",
      "100%|██████████| 189/189 [00:18<00:00, 10.15it/s]\n",
      "100%|██████████| 197/197 [00:20<00:00,  9.72it/s]\n"
     ]
    },
    {
     "name": "stdout",
     "output_type": "stream",
     "text": [
      "Processing image 122 in test_index = 1 \n",
      "id = efe26222bbc18e649a1e716816bc149379c7d38d26240482e5f8b4cb902cc2e9\n",
      "multi processing\n"
     ]
    },
    {
     "name": "stderr",
     "output_type": "stream",
     "text": [
      "100%|██████████| 39/39 [00:00<00:00, 94.17it/s]\n",
      "100%|██████████| 35/35 [00:00<00:00, 78.58it/s]\n",
      "100%|██████████| 38/38 [00:00<00:00, 77.15it/s]\n",
      "100%|██████████| 39/39 [00:00<00:00, 70.26it/s]\n"
     ]
    },
    {
     "name": "stdout",
     "output_type": "stream",
     "text": [
      "Processing image 123 in test_index = 1 \n",
      "id = cdfc7aa2efc0dd13a0ac86c6a3dcbc3d12cda592e2ce0e26dc2166a7cd091228\n",
      "multi processing\n"
     ]
    },
    {
     "name": "stderr",
     "output_type": "stream",
     "text": [
      "100%|██████████| 171/171 [00:10<00:00, 15.66it/s]\n",
      "100%|██████████| 174/174 [00:11<00:00, 15.81it/s]\n",
      "100%|██████████| 175/175 [00:11<00:00, 15.49it/s]\n",
      "100%|██████████| 185/185 [00:12<00:00, 15.38it/s]\n"
     ]
    },
    {
     "name": "stdout",
     "output_type": "stream",
     "text": [
      "Processing image 124 in test_index = 1 \n",
      "id = ac6fbb12e2f76e219c09c6990300bf408cebcbb36e7a0fbd19d28f76d8dce512\n",
      "multi processing\n"
     ]
    },
    {
     "name": "stderr",
     "output_type": "stream",
     "text": [
      "100%|██████████| 182/182 [00:14<00:00, 12.43it/s]\n",
      "100%|██████████| 198/198 [00:16<00:00, 12.03it/s]\n",
      "100%|██████████| 191/191 [00:16<00:00, 11.48it/s]\n",
      "100%|██████████| 195/195 [00:16<00:00, 11.77it/s]\n"
     ]
    },
    {
     "name": "stdout",
     "output_type": "stream",
     "text": [
      "Processing image 125 in test_index = 1 \n",
      "id = 2c50d0073f547c962997e0a1203116f1e18b836197367523b631b7082efbee74\n",
      "multi processing\n"
     ]
    },
    {
     "name": "stderr",
     "output_type": "stream",
     "text": [
      "100%|██████████| 135/135 [00:07<00:00, 16.89it/s]\n",
      "100%|██████████| 144/144 [00:08<00:00, 16.53it/s]\n",
      "100%|██████████| 145/145 [00:09<00:00, 15.75it/s]\n",
      "100%|██████████| 148/148 [00:09<00:00, 16.23it/s]\n"
     ]
    },
    {
     "name": "stdout",
     "output_type": "stream",
     "text": [
      "Processing image 126 in test_index = 1 \n",
      "id = d5de381bbcedd55315a8a91108dafcc09ed7ed12222cd6cf77b2816a5c1e277e\n",
      "multi processing\n"
     ]
    },
    {
     "name": "stderr",
     "output_type": "stream",
     "text": [
      "100%|██████████| 80/80 [00:02<00:00, 39.71it/s]\n",
      "100%|██████████| 72/72 [00:02<00:00, 35.20it/s]\n",
      "100%|██████████| 86/86 [00:02<00:00, 38.78it/s]\n",
      "100%|██████████| 78/78 [00:02<00:00, 32.77it/s]\n"
     ]
    },
    {
     "name": "stdout",
     "output_type": "stream",
     "text": [
      "Processing image 127 in test_index = 1 \n",
      "id = cc051eba2755c9ad920146ed8570e0b8f1e06f49c01ce9350561f3cec3f908ed\n",
      "multi processing\n"
     ]
    },
    {
     "name": "stderr",
     "output_type": "stream",
     "text": [
      "100%|██████████| 59/59 [00:01<00:00, 47.72it/s]\n",
      "100%|██████████| 59/59 [00:01<00:00, 39.54it/s]\n",
      "100%|██████████| 63/63 [00:01<00:00, 42.07it/s]\n",
      "100%|██████████| 73/73 [00:01<00:00, 40.20it/s]\n"
     ]
    },
    {
     "name": "stdout",
     "output_type": "stream",
     "text": [
      "Processing image 128 in test_index = 1 \n",
      "id = dab07e5eeb4904eb7efcd3bd0a35fff174433e9752de95c4eb34c6a36af9f275\n",
      "multi processing\n"
     ]
    },
    {
     "name": "stderr",
     "output_type": "stream",
     "text": [
      "100%|██████████| 153/153 [00:13<00:00, 11.15it/s]\n",
      "100%|██████████| 160/160 [00:14<00:00, 10.83it/s]\n",
      "100%|██████████| 161/161 [00:15<00:00, 10.58it/s]\n",
      "100%|██████████| 164/164 [00:15<00:00, 10.66it/s]\n"
     ]
    },
    {
     "name": "stdout",
     "output_type": "stream",
     "text": [
      "Processing image 129 in test_index = 1 \n",
      "id = 9e58ea72ba12e78449fa8426184768d78856dcabaeb557088e431ed2159a0d28\n",
      "multi processing\n"
     ]
    },
    {
     "name": "stderr",
     "output_type": "stream",
     "text": [
      "100%|██████████| 176/176 [00:14<00:00, 12.18it/s]\n",
      "100%|██████████| 196/196 [00:14<00:00, 13.18it/s]\n",
      "100%|██████████| 191/191 [00:15<00:00, 12.47it/s]\n",
      "100%|██████████| 209/209 [00:16<00:00, 13.03it/s]\n"
     ]
    },
    {
     "name": "stdout",
     "output_type": "stream",
     "text": [
      "Processing image 130 in test_index = 1 \n",
      "id = f5e08f04b802fb4485e46c52b228e0c850935cbad684236fd84814d11b461cb9\n",
      "multi processing\n"
     ]
    },
    {
     "name": "stderr",
     "output_type": "stream",
     "text": [
      "100%|██████████| 165/165 [00:11<00:00, 14.88it/s]\n",
      "100%|██████████| 165/165 [00:11<00:00, 14.73it/s]\n",
      "100%|██████████| 172/172 [00:11<00:00, 15.46it/s]\n",
      "100%|██████████| 160/160 [00:12<00:00, 13.12it/s]\n"
     ]
    },
    {
     "name": "stdout",
     "output_type": "stream",
     "text": [
      "Processing image 131 in test_index = 1 \n",
      "id = 5c778a00754f3180c8a85a4f0d3a7a01ecb89a87069f3bd0146a78011eb5149c\n",
      "multi processing\n"
     ]
    },
    {
     "name": "stderr",
     "output_type": "stream",
     "text": [
      "100%|██████████| 92/92 [00:03<00:00, 27.66it/s]\n",
      "100%|██████████| 91/91 [00:03<00:00, 27.34it/s]\n",
      " 42%|████▏     | 40/95 [00:03<00:05, 10.92it/s]\n",
      "100%|██████████| 95/95 [00:03<00:00, 24.45it/s]\n"
     ]
    },
    {
     "name": "stdout",
     "output_type": "stream",
     "text": [
      "Processing image 132 in test_index = 1 \n",
      "id = f557cd3a98abe1d3e2d68c01ac1a04915b3e2f5263c11c3c12d32310c81fd580\n",
      "multi processing\n"
     ]
    },
    {
     "name": "stderr",
     "output_type": "stream",
     "text": [
      "100%|██████████| 116/116 [00:04<00:00, 25.78it/s]\n",
      "100%|██████████| 114/114 [00:04<00:00, 24.34it/s]\n",
      "100%|██████████| 117/117 [00:04<00:00, 25.08it/s]\n",
      "100%|██████████| 120/120 [00:04<00:00, 24.12it/s]\n"
     ]
    },
    {
     "name": "stdout",
     "output_type": "stream",
     "text": [
      "Processing image 133 in test_index = 1 \n",
      "id = 27d57b1c1139062117faf96f6c527a38631cbb833100d2753d2faa29121a817f\n",
      "multi processing\n"
     ]
    },
    {
     "name": "stderr",
     "output_type": "stream",
     "text": [
      "100%|██████████| 129/129 [00:05<00:00, 22.69it/s]\n",
      "100%|██████████| 136/136 [00:06<00:00, 20.62it/s]\n",
      "100%|██████████| 148/148 [00:07<00:00, 20.84it/s]\n",
      "100%|██████████| 145/145 [00:07<00:00, 20.54it/s]\n"
     ]
    },
    {
     "name": "stdout",
     "output_type": "stream",
     "text": [
      "Processing image 134 in test_index = 1 \n",
      "id = fd959b91f1fd8971f6e0cfc0848e80e302ca748bb26daf1aa5c70d5e07b416c6\n",
      "multi processing\n"
     ]
    },
    {
     "name": "stderr",
     "output_type": "stream",
     "text": [
      "100%|██████████| 197/197 [00:16<00:00, 11.84it/s]\n",
      "100%|██████████| 199/199 [00:16<00:00, 11.85it/s]\n",
      "100%|██████████| 188/188 [00:16<00:00, 11.42it/s]\n",
      " 71%|███████▏  | 134/188 [00:16<00:06,  7.89it/s]\n",
      "100%|██████████| 188/188 [00:16<00:00, 11.06it/s]"
     ]
    },
    {
     "name": "stdout",
     "output_type": "stream",
     "text": [
      "Processing image 135 in test_index = 1 \n",
      "id = adac3fd791912bc696d777fe19602ed7f4093a60d56d9a22847a91abb10e57ab\n",
      "multi processing\n"
     ]
    },
    {
     "name": "stderr",
     "output_type": "stream",
     "text": [
      "100%|██████████| 140/140 [00:07<00:00, 19.31it/s]\n",
      "100%|██████████| 141/141 [00:07<00:00, 19.28it/s]\n",
      "100%|██████████| 150/150 [00:07<00:00, 19.60it/s]\n",
      "100%|██████████| 156/156 [00:07<00:00, 19.80it/s]\n"
     ]
    },
    {
     "name": "stdout",
     "output_type": "stream",
     "text": [
      "Processing image 136 in test_index = 1 \n",
      "id = b1507aaba58e66642a88decf0fd77cc2b7cbe66a02cd999d8e32932a2fc3962e\n",
      "multi processing\n"
     ]
    },
    {
     "name": "stderr",
     "output_type": "stream",
     "text": [
      "100%|██████████| 143/143 [00:07<00:00, 19.11it/s]\n",
      "100%|██████████| 143/143 [00:07<00:00, 18.72it/s]\n",
      "100%|██████████| 144/144 [00:07<00:00, 18.00it/s]\n",
      "100%|██████████| 154/154 [00:08<00:00, 18.54it/s]\n"
     ]
    },
    {
     "name": "stdout",
     "output_type": "stream",
     "text": [
      "Processing image 137 in test_index = 1 \n",
      "id = 59cbe2d78e448da8ec5d187a64f399b748a85c7dddeaeb00edf4165716153b53\n",
      "multi processing\n"
     ]
    },
    {
     "name": "stderr",
     "output_type": "stream",
     "text": [
      "100%|██████████| 116/116 [00:05<00:00, 20.08it/s]\n",
      "100%|██████████| 132/132 [00:05<00:00, 22.01it/s]\n",
      " 58%|█████▊    | 77/132 [00:06<00:04, 12.76it/s]\n",
      "100%|██████████| 138/138 [00:06<00:00, 20.67it/s]\n"
     ]
    },
    {
     "name": "stdout",
     "output_type": "stream",
     "text": [
      "Processing image 138 in test_index = 1 \n",
      "id = d8a48316dcbb8a96e4cc2844eedad637bb955fc12a365b12cfa75f063a95a72b\n",
      "multi processing\n"
     ]
    },
    {
     "name": "stderr",
     "output_type": "stream",
     "text": [
      "100%|██████████| 155/155 [00:10<00:00, 15.31it/s]\n",
      "100%|██████████| 159/159 [00:10<00:00, 15.56it/s]\n",
      "100%|██████████| 153/153 [00:10<00:00, 14.94it/s]\n",
      "100%|██████████| 171/171 [00:11<00:00, 15.48it/s]\n"
     ]
    },
    {
     "name": "stdout",
     "output_type": "stream",
     "text": [
      "Processing image 139 in test_index = 1 \n",
      "id = 45b246208503b77fb46529df3c54596e4ef02d2f6275fd19566e7d7f2769f68e\n",
      "multi processing\n"
     ]
    },
    {
     "name": "stderr",
     "output_type": "stream",
     "text": [
      "100%|██████████| 180/180 [00:15<00:00, 11.79it/s]\n",
      "100%|██████████| 187/187 [00:15<00:00, 11.93it/s]\n",
      "100%|██████████| 196/196 [00:16<00:00, 11.86it/s]\n",
      "100%|██████████| 211/211 [00:18<00:00, 11.67it/s]\n"
     ]
    },
    {
     "name": "stdout",
     "output_type": "stream",
     "text": [
      "Processing image 140 in test_index = 1 \n",
      "id = cf0f82588fc748a501bb6ab2544fba78a80c600fc027c2934fc0057e155cbb9b\n",
      "multi processing\n"
     ]
    },
    {
     "name": "stderr",
     "output_type": "stream",
     "text": [
      "100%|██████████| 113/113 [00:04<00:00, 23.97it/s]\n",
      "100%|██████████| 129/129 [00:05<00:00, 25.34it/s]\n",
      "100%|██████████| 122/122 [00:05<00:00, 23.31it/s]\n",
      "100%|██████████| 130/130 [00:05<00:00, 25.85it/s]\n"
     ]
    },
    {
     "name": "stdout",
     "output_type": "stream",
     "text": [
      "Processing image 141 in test_index = 1 \n",
      "id = 1f0eb72a4fa969830d8de21102cf49380ad6c4a1d6705b8474377e555b736e74\n",
      "multi processing\n"
     ]
    },
    {
     "name": "stderr",
     "output_type": "stream",
     "text": [
      "100%|██████████| 134/134 [00:12<00:00, 11.12it/s]\n",
      "100%|██████████| 141/141 [00:12<00:00, 11.54it/s]\n",
      "100%|██████████| 148/148 [00:12<00:00, 12.22it/s]\n",
      "100%|██████████| 153/153 [00:13<00:00, 11.47it/s]\n"
     ]
    },
    {
     "name": "stdout",
     "output_type": "stream",
     "text": [
      "Processing image 142 in test_index = 1 \n",
      "id = f48cc60f3d640c726becf9a45c24909950339019c0e190200f093bbee796f2b3\n",
      "multi processing\n"
     ]
    },
    {
     "name": "stderr",
     "output_type": "stream",
     "text": [
      "100%|██████████| 71/71 [00:01<00:00, 41.78it/s]\n",
      "100%|██████████| 78/78 [00:01<00:00, 39.74it/s]\n",
      "100%|██████████| 84/84 [00:02<00:00, 38.32it/s]\n",
      "100%|██████████| 90/90 [00:02<00:00, 36.27it/s]\n"
     ]
    },
    {
     "name": "stdout",
     "output_type": "stream",
     "text": [
      "Processing image 143 in test_index = 1 \n",
      "id = 39b6ed3e0dd50ea6e113e4f95b656c9bdc6d3866579f648a16a853aeb5af1a61\n",
      "multi processing\n"
     ]
    },
    {
     "name": "stderr",
     "output_type": "stream",
     "text": [
      "100%|██████████| 94/94 [00:17<00:00,  5.23it/s]]\n",
      "100%|██████████| 97/97 [00:19<00:00,  5.05it/s]]\n",
      "100%|██████████| 101/101 [00:19<00:00,  5.19it/s]\n",
      "100%|██████████| 96/96 [00:20<00:00,  4.76it/s]\n"
     ]
    },
    {
     "name": "stdout",
     "output_type": "stream",
     "text": [
      "Processing image 144 in test_index = 1 \n",
      "id = 14b727c9b98ac6a139a3c2abae2814595f011ec4997610faa49bf59cd35972fd\n",
      "multi processing\n"
     ]
    },
    {
     "name": "stderr",
     "output_type": "stream",
     "text": [
      "100%|██████████| 33/33 [00:00<00:00, 95.51it/s]\n",
      "100%|██████████| 33/33 [00:00<00:00, 116.39it/s]\n",
      "100%|██████████| 39/39 [00:00<00:00, 100.57it/s]\n",
      "100%|██████████| 37/37 [00:00<00:00, 88.15it/s]\n"
     ]
    },
    {
     "name": "stdout",
     "output_type": "stream",
     "text": [
      "Processing image 145 in test_index = 1 \n",
      "id = f6f5ddbd961a34a4df6cafe379e6070ca6c6465b0193ab9476245397b3d28c28\n",
      "multi processing\n"
     ]
    },
    {
     "name": "stderr",
     "output_type": "stream",
     "text": [
      "100%|██████████| 28/28 [00:01<00:00, 17.82it/s]\n",
      "100%|██████████| 32/32 [00:01<00:00, 20.66it/s]\n",
      "100%|██████████| 33/33 [00:02<00:00, 15.95it/s]\n",
      "100%|██████████| 32/32 [00:02<00:00, 15.44it/s]\n"
     ]
    },
    {
     "name": "stdout",
     "output_type": "stream",
     "text": [
      "Processing image 146 in test_index = 1 \n",
      "id = 7f6f479d50008a4e7dbdd28e30e42596c4c90adbc0b0b7c8f78a79517a80f4d7\n",
      "multi processing\n"
     ]
    },
    {
     "name": "stderr",
     "output_type": "stream",
     "text": [
      "100%|██████████| 154/154 [00:08<00:00, 18.69it/s]\n",
      "100%|██████████| 161/161 [00:09<00:00, 17.78it/s]\n",
      "100%|██████████| 161/161 [00:09<00:00, 17.72it/s]\n",
      "100%|██████████| 162/162 [00:09<00:00, 16.75it/s]\n"
     ]
    },
    {
     "name": "stdout",
     "output_type": "stream",
     "text": [
      "Processing image 147 in test_index = 1 \n",
      "id = 0d179d0cc0754bdb02b16f54708cd7e012a602151b02c4abc5c6f5da160e0c65\n",
      "multi processing\n"
     ]
    },
    {
     "name": "stderr",
     "output_type": "stream",
     "text": [
      "100%|██████████| 35/35 [00:00<00:00, 121.19it/s]\n",
      "100%|██████████| 29/29 [00:00<00:00, 95.49it/s]\n",
      "100%|██████████| 35/35 [00:00<00:00, 102.53it/s]\n",
      "100%|██████████| 36/36 [00:00<00:00, 115.87it/s]\n"
     ]
    },
    {
     "name": "stdout",
     "output_type": "stream",
     "text": [
      "Processing image 148 in test_index = 1 \n",
      "id = 38201e51e00f599ca106e3c39573a587b88a238381b2f594a81bb01435896a96\n",
      "multi processing\n"
     ]
    },
    {
     "name": "stderr",
     "output_type": "stream",
     "text": [
      "100%|██████████| 175/175 [00:11<00:00, 14.98it/s]\n",
      "100%|██████████| 160/160 [00:12<00:00, 13.21it/s]\n",
      "100%|██████████| 180/180 [00:12<00:00, 14.64it/s]\n",
      "100%|██████████| 178/178 [00:12<00:00, 14.28it/s]\n"
     ]
    },
    {
     "name": "stdout",
     "output_type": "stream",
     "text": [
      "Processing image 149 in test_index = 1 \n",
      "id = 6991d83ca198dbb52e40d5c8f44791385551496800974c5e76ab4849c06b1680\n",
      "multi processing\n"
     ]
    },
    {
     "name": "stderr",
     "output_type": "stream",
     "text": [
      "100%|██████████| 140/140 [00:08<00:00, 16.89it/s]\n",
      "100%|██████████| 136/136 [00:08<00:00, 16.90it/s]\n",
      "100%|██████████| 137/137 [00:08<00:00, 16.57it/s]\n",
      "100%|██████████| 140/140 [00:08<00:00, 16.84it/s]\n"
     ]
    },
    {
     "name": "stdout",
     "output_type": "stream",
     "text": [
      "Processing image 150 in test_index = 1 \n",
      "id = 873d46418959a13877f6a01d001c82eee2495a3043bef8b96c59ad31c8a27ec7\n",
      "multi processing\n"
     ]
    },
    {
     "name": "stderr",
     "output_type": "stream",
     "text": [
      "100%|██████████| 134/134 [00:07<00:00, 17.32it/s]\n",
      "100%|██████████| 136/136 [00:07<00:00, 17.21it/s]\n",
      "100%|██████████| 144/144 [00:08<00:00, 17.13it/s]\n",
      "100%|██████████| 141/141 [00:08<00:00, 16.48it/s]\n"
     ]
    },
    {
     "name": "stdout",
     "output_type": "stream",
     "text": [
      "Processing image 151 in test_index = 1 \n",
      "id = 58ab87e7fe93297b478ee2401ee91271e80f4e452dd32455a99b83b90ecb407b\n",
      "multi processing\n"
     ]
    },
    {
     "name": "stderr",
     "output_type": "stream",
     "text": [
      "100%|██████████| 120/120 [00:04<00:00, 28.14it/s]\n",
      "100%|██████████| 122/122 [00:04<00:00, 26.86it/s]\n",
      "100%|██████████| 127/127 [00:04<00:00, 25.63it/s]\n",
      "100%|██████████| 130/130 [00:04<00:00, 27.43it/s]\n"
     ]
    },
    {
     "name": "stdout",
     "output_type": "stream",
     "text": [
      "Processing image 152 in test_index = 1 \n",
      "id = c2d36bd0202a94a004b93c5d53a17ab129881482a428f4064e7184e610a215de\n",
      "multi processing\n"
     ]
    },
    {
     "name": "stderr",
     "output_type": "stream",
     "text": [
      "100%|██████████| 113/113 [00:05<00:00, 21.27it/s]\n",
      "100%|██████████| 119/119 [00:05<00:00, 21.51it/s]\n",
      "100%|██████████| 123/123 [00:05<00:00, 21.99it/s]\n",
      "100%|██████████| 130/130 [00:06<00:00, 20.88it/s]\n"
     ]
    },
    {
     "name": "stdout",
     "output_type": "stream",
     "text": [
      "Processing image 153 in test_index = 1 \n",
      "id = 840ca25f4e2a6e8ab77bf28226e6c3b9cda8d00010b13c65cfeb32814820141d\n",
      "multi processing\n"
     ]
    },
    {
     "name": "stderr",
     "output_type": "stream",
     "text": [
      "100%|██████████| 97/97 [00:02<00:00, 35.58it/s]]\n",
      "100%|██████████| 100/100 [00:03<00:00, 32.66it/s]\n",
      "100%|██████████| 107/107 [00:03<00:00, 35.28it/s]\n",
      "100%|██████████| 96/96 [00:03<00:00, 30.51it/s]\n"
     ]
    },
    {
     "name": "stdout",
     "output_type": "stream",
     "text": [
      "Processing image 154 in test_index = 1 \n",
      "id = 91b356b01f1a45e32cff3f5ad644dfd3ebaed2df35dc7dd7633a5d857e600797\n",
      "multi processing\n"
     ]
    },
    {
     "name": "stderr",
     "output_type": "stream",
     "text": [
      "100%|██████████| 165/165 [00:11<00:00, 14.23it/s]\n",
      "100%|██████████| 164/164 [00:12<00:00, 13.55it/s]\n",
      "100%|██████████| 171/171 [00:12<00:00, 13.24it/s]\n",
      "100%|██████████| 169/169 [00:12<00:00, 13.32it/s]\n"
     ]
    },
    {
     "name": "stdout",
     "output_type": "stream",
     "text": [
      "Processing image 155 in test_index = 1 \n",
      "id = ff4dafefa29d4ea375b36321bc55926e743fab64dcaa5a60b36374fb52d1e9d8\n",
      "multi processing\n"
     ]
    },
    {
     "name": "stderr",
     "output_type": "stream",
     "text": [
      "100%|██████████| 152/152 [00:09<00:00, 16.02it/s]\n",
      " 86%|████████▌ | 126/147 [00:09<00:01, 13.20it/s]\n",
      "100%|██████████| 168/168 [00:10<00:00, 15.58it/s]\n",
      "100%|██████████| 160/160 [00:11<00:00, 14.53it/s]\n"
     ]
    },
    {
     "name": "stdout",
     "output_type": "stream",
     "text": [
      "Processing image 156 in test_index = 1 \n",
      "id = f0c40bcaa222468d2a32a13f6d5f145bb2fc9c18f408ddcf4e175594b398ab68\n",
      "multi processing\n"
     ]
    },
    {
     "name": "stderr",
     "output_type": "stream",
     "text": [
      "100%|██████████| 164/164 [00:17<00:00,  9.62it/s]\n",
      "100%|██████████| 177/177 [00:18<00:00,  9.35it/s]\n",
      "100%|██████████| 177/177 [00:19<00:00,  9.20it/s]\n",
      "100%|██████████| 188/188 [00:20<00:00,  9.36it/s]\n"
     ]
    },
    {
     "name": "stdout",
     "output_type": "stream",
     "text": [
      "Processing image 157 in test_index = 1 \n",
      "id = a8321208363ad4fb73148c1872c697bb2dffcee790dff41942faeaebd6d0f7a5\n",
      "multi processing\n"
     ]
    },
    {
     "name": "stderr",
     "output_type": "stream",
     "text": [
      "100%|██████████| 153/153 [00:12<00:00, 11.97it/s]\n",
      "100%|██████████| 178/178 [00:14<00:00, 12.71it/s]\n",
      "100%|██████████| 160/160 [00:14<00:00, 10.85it/s]\n",
      "100%|██████████| 180/180 [00:15<00:00, 11.32it/s]\n"
     ]
    },
    {
     "name": "stdout",
     "output_type": "stream",
     "text": [
      "Processing image 158 in test_index = 1 \n",
      "id = cbcb008ddccb3da666092952a0465969d4997807578b13ded13d11a5fdd2e806\n",
      "multi processing\n"
     ]
    },
    {
     "name": "stderr",
     "output_type": "stream",
     "text": [
      "100%|██████████| 156/156 [00:17<00:00,  8.93it/s]\n",
      "100%|██████████| 161/161 [00:17<00:00,  9.05it/s]\n",
      "100%|██████████| 164/164 [00:18<00:00,  8.89it/s]\n",
      "100%|██████████| 164/164 [00:19<00:00,  8.42it/s]\n"
     ]
    },
    {
     "name": "stdout",
     "output_type": "stream",
     "text": [
      "Processing image 159 in test_index = 1 \n",
      "id = a12e6ceb81bd05295b083086f31570823e6be795959117029bda0a441d56b5eb\n",
      "multi processing\n"
     ]
    },
    {
     "name": "stderr",
     "output_type": "stream",
     "text": [
      "100%|██████████| 45/45 [00:00<00:00, 59.26it/s]\n",
      "100%|██████████| 46/46 [00:00<00:00, 51.28it/s]\n",
      "100%|██████████| 42/42 [00:00<00:00, 47.43it/s]\n",
      "100%|██████████| 46/46 [00:01<00:00, 45.77it/s]\n"
     ]
    },
    {
     "name": "stdout",
     "output_type": "stream",
     "text": [
      "Processing image 160 in test_index = 1 \n",
      "id = 33fd877e3dbfccc9bb70628079e1dbcabb79b906e5ed79211f66b99b3770bb52\n",
      "multi processing\n"
     ]
    },
    {
     "name": "stderr",
     "output_type": "stream",
     "text": [
      "100%|██████████| 132/132 [00:08<00:00, 15.85it/s]\n",
      "100%|██████████| 142/142 [00:09<00:00, 14.63it/s]\n",
      "100%|██████████| 135/135 [00:09<00:00, 14.11it/s]\n",
      "100%|██████████| 139/139 [00:09<00:00, 14.64it/s]\n"
     ]
    },
    {
     "name": "stdout",
     "output_type": "stream",
     "text": [
      "Processing image 161 in test_index = 1 \n",
      "id = 838f7e9b76b14f365e72ee75ee9942a9c3f1370a2682c9095eb0419301970f70\n",
      "multi processing\n"
     ]
    },
    {
     "name": "stderr",
     "output_type": "stream",
     "text": [
      "100%|██████████| 121/121 [00:08<00:00, 14.29it/s]\n",
      "100%|██████████| 132/132 [00:08<00:00, 15.31it/s]\n",
      "100%|██████████| 130/130 [00:09<00:00, 14.16it/s]\n",
      "100%|██████████| 122/122 [00:08<00:00, 13.72it/s]\n"
     ]
    },
    {
     "name": "stdout",
     "output_type": "stream",
     "text": [
      "Processing image 162 in test_index = 1 \n",
      "id = 4fab51904dd3d043594041c2d33bf265f2133b0035c5bb586a4e31302797f2a7\n",
      "multi processing\n"
     ]
    },
    {
     "name": "stderr",
     "output_type": "stream",
     "text": [
      "100%|██████████| 102/102 [00:06<00:00, 16.31it/s]\n",
      "100%|██████████| 109/109 [00:06<00:00, 17.41it/s]\n",
      "100%|██████████| 124/124 [00:07<00:00, 16.77it/s]\n",
      "100%|██████████| 127/127 [00:07<00:00, 16.37it/s]\n"
     ]
    },
    {
     "name": "stdout",
     "output_type": "stream",
     "text": [
      "Processing image 163 in test_index = 1 \n",
      "id = 16b078d49301dec3368b349132db22b4657767875eef06cdc7982ebd19027d5b\n",
      "multi processing\n"
     ]
    },
    {
     "name": "stderr",
     "output_type": "stream",
     "text": [
      "100%|██████████| 65/65 [00:02<00:00, 27.29it/s]\n",
      "100%|██████████| 69/69 [00:02<00:00, 26.67it/s]\n",
      "100%|██████████| 71/71 [00:02<00:00, 26.09it/s]\n",
      "100%|██████████| 80/80 [00:02<00:00, 27.66it/s]\n"
     ]
    },
    {
     "name": "stdout",
     "output_type": "stream",
     "text": [
      "Processing image 164 in test_index = 1 \n",
      "id = b52b0e837c521125deb7ae7a9956b24a3d1665aad0e5e5ffd2c6ed39ad57634c\n",
      "multi processing\n"
     ]
    },
    {
     "name": "stderr",
     "output_type": "stream",
     "text": [
      "100%|██████████| 148/148 [00:13<00:00, 11.01it/s]\n",
      "100%|██████████| 150/150 [00:13<00:00, 11.10it/s]\n",
      "100%|██████████| 161/161 [00:14<00:00, 11.33it/s]\n",
      "100%|██████████| 173/173 [00:15<00:00, 11.23it/s]\n"
     ]
    },
    {
     "name": "stdout",
     "output_type": "stream",
     "text": [
      "Processing image 165 in test_index = 1 \n",
      "id = 7b129332ad3e437845486b494bbf3916afa7f78c947e9603170ac73e92912da4\n",
      "multi processing\n"
     ]
    },
    {
     "name": "stderr",
     "output_type": "stream",
     "text": [
      "100%|██████████| 129/129 [00:07<00:00, 17.22it/s]\n",
      "100%|██████████| 129/129 [00:07<00:00, 16.41it/s]\n",
      "100%|██████████| 123/123 [00:08<00:00, 15.31it/s]\n",
      "100%|██████████| 126/126 [00:08<00:00, 15.10it/s]\n"
     ]
    },
    {
     "name": "stdout",
     "output_type": "stream",
     "text": [
      "Processing image 166 in test_index = 1 \n",
      "id = b732d0b1701876533bc26482a8cfa64a036afeb79e1efc7495fb4d7b9475fb5e\n",
      "multi processing\n"
     ]
    },
    {
     "name": "stderr",
     "output_type": "stream",
     "text": [
      "100%|██████████| 159/159 [00:13<00:00, 11.79it/s]\n",
      "100%|██████████| 154/154 [00:13<00:00, 11.02it/s]\n",
      "100%|██████████| 168/168 [00:14<00:00, 11.69it/s]\n",
      "100%|██████████| 183/183 [00:15<00:00, 11.73it/s]\n"
     ]
    },
    {
     "name": "stdout",
     "output_type": "stream",
     "text": [
      "Processing image 167 in test_index = 1 \n",
      "id = a39799279ff63c07a832fdcd5ccf4cfd3f339ba22bae49dbf8b49d3a57af49af\n",
      "multi processing\n"
     ]
    },
    {
     "name": "stderr",
     "output_type": "stream",
     "text": [
      "100%|██████████| 150/150 [00:15<00:00,  9.57it/s]\n",
      "100%|██████████| 157/157 [00:17<00:00,  9.08it/s]\n",
      "100%|██████████| 161/161 [00:17<00:00,  9.20it/s]\n",
      "100%|██████████| 169/169 [00:18<00:00,  9.04it/s]\n"
     ]
    },
    {
     "name": "stdout",
     "output_type": "stream",
     "text": [
      "Processing image 168 in test_index = 1 \n",
      "id = 5fe25ac2240cd2c985d44fef11b604608ca643ba1cce862b4ded4a05a9f25816\n",
      "multi processing\n"
     ]
    },
    {
     "name": "stderr",
     "output_type": "stream",
     "text": [
      "100%|██████████| 76/76 [00:02<00:00, 28.12it/s]\n",
      "100%|██████████| 72/72 [00:02<00:00, 24.54it/s]\n",
      "100%|██████████| 80/80 [00:03<00:00, 25.36it/s]\n",
      "100%|██████████| 82/82 [00:03<00:00, 24.41it/s]\n"
     ]
    },
    {
     "name": "stdout",
     "output_type": "stream",
     "text": [
      "Processing image 169 in test_index = 1 \n",
      "id = fae7766ca49d917e00d7967686ac86bdbf2d92b343914560ff428cd376614770\n",
      "multi processing\n"
     ]
    },
    {
     "name": "stderr",
     "output_type": "stream",
     "text": [
      "100%|██████████| 18/18 [00:00<00:00, 141.04it/s]\n",
      "100%|██████████| 21/21 [00:00<00:00, 120.49it/s]\n",
      "100%|██████████| 17/17 [00:00<00:00, 110.47it/s]\n",
      " 60%|██████    | 12/20 [00:00<00:00, 55.57it/s]\n",
      "100%|██████████| 20/20 [00:00<00:00, 91.70it/s]"
     ]
    },
    {
     "name": "stdout",
     "output_type": "stream",
     "text": [
      "Processing image 170 in test_index = 1 \n",
      "id = a2561154428c9e42827b08e8a61c00362596c49d2a795eba26ae89ede0f1e331\n",
      "multi processing\n"
     ]
    },
    {
     "name": "stderr",
     "output_type": "stream",
     "text": [
      "100%|██████████| 99/99 [00:05<00:00, 19.47it/s]]\n",
      "100%|██████████| 102/102 [00:05<00:00, 18.26it/s]\n",
      "100%|██████████| 107/107 [00:05<00:00, 18.51it/s]\n",
      "100%|██████████| 112/112 [00:05<00:00, 19.33it/s]\n"
     ]
    },
    {
     "name": "stdout",
     "output_type": "stream",
     "text": [
      "Processing image 171 in test_index = 1 \n",
      "id = 37704d90bf2625d8bcda7dfbd71e2c1d075cc909ae854fbf18892aeae6d5e12d\n",
      "multi processing\n"
     ]
    },
    {
     "name": "stderr",
     "output_type": "stream",
     "text": [
      "100%|██████████| 36/36 [00:00<00:00, 70.76it/s]\n",
      "100%|██████████| 45/45 [00:00<00:00, 46.00it/s]\n",
      "100%|██████████| 49/49 [00:01<00:00, 44.16it/s]\n",
      "100%|██████████| 57/57 [00:01<00:00, 46.73it/s]\n"
     ]
    },
    {
     "name": "stdout",
     "output_type": "stream",
     "text": [
      "Processing image 172 in test_index = 1 \n",
      "id = 554c6db944fddd06ef2dd58d9f3932495dcb358e37544ebee7c3277485ac0d6a\n",
      "multi processing\n"
     ]
    },
    {
     "name": "stderr",
     "output_type": "stream",
     "text": [
      "100%|██████████| 181/181 [00:17<00:00, 10.40it/s]\n",
      "100%|██████████| 183/183 [00:17<00:00, 10.29it/s]\n",
      "100%|██████████| 174/174 [00:18<00:00,  9.52it/s]\n",
      "100%|██████████| 185/185 [00:19<00:00,  9.53it/s]\n"
     ]
    },
    {
     "name": "stdout",
     "output_type": "stream",
     "text": [
      "Processing image 173 in test_index = 1 \n",
      "id = 0d3b7476b61190df36fa766d01ec5541e0a36505d9f63719c044dd0fe6e09484\n",
      "multi processing\n"
     ]
    },
    {
     "name": "stderr",
     "output_type": "stream",
     "text": [
      "100%|██████████| 175/175 [00:22<00:00,  7.80it/s]\n",
      "100%|██████████| 185/185 [00:25<00:00,  7.24it/s]\n",
      "100%|██████████| 187/187 [00:25<00:00,  7.22it/s]\n",
      "100%|██████████| 190/190 [00:26<00:00,  7.19it/s]\n"
     ]
    },
    {
     "name": "stdout",
     "output_type": "stream",
     "text": [
      "Processing image 174 in test_index = 1 \n",
      "id = 3d8260f94e55af7d298e8aab8bdb583c95b13bd633272acadd1fc1f9495fb8c6\n",
      "multi processing\n"
     ]
    },
    {
     "name": "stderr",
     "output_type": "stream",
     "text": [
      "100%|██████████| 143/143 [00:09<00:00, 15.01it/s]\n",
      "100%|██████████| 137/137 [00:09<00:00, 14.11it/s]\n",
      "100%|██████████| 143/143 [00:09<00:00, 14.32it/s]\n",
      "100%|██████████| 148/148 [00:10<00:00, 13.79it/s]\n"
     ]
    },
    {
     "name": "stdout",
     "output_type": "stream",
     "text": [
      "Processing image 175 in test_index = 1 \n",
      "id = 592953e8b4bbde9c6d17afd9fd6e6a838148534916fd87447658f9db1de6e850\n",
      "multi processing\n"
     ]
    },
    {
     "name": "stderr",
     "output_type": "stream",
     "text": [
      "100%|██████████| 116/116 [00:08<00:00, 13.69it/s]\n",
      "100%|██████████| 117/117 [00:08<00:00, 13.22it/s]\n",
      "100%|██████████| 122/122 [00:09<00:00, 13.08it/s]\n",
      "100%|██████████| 131/131 [00:09<00:00, 13.22it/s]\n"
     ]
    },
    {
     "name": "stdout",
     "output_type": "stream",
     "text": [
      "Processing image 176 in test_index = 1 \n",
      "id = 7b65cac8e559de50fa2b64d621c5bc0f28308d6ec2effefd1df31f794301c441\n",
      "multi processing\n"
     ]
    },
    {
     "name": "stderr",
     "output_type": "stream",
     "text": [
      "100%|██████████| 43/43 [00:00<00:00, 60.95it/s]\n",
      "100%|██████████| 41/41 [00:00<00:00, 50.21it/s]\n",
      "100%|██████████| 36/36 [00:00<00:00, 49.00it/s]\n",
      "100%|██████████| 45/45 [00:00<00:00, 48.28it/s]\n"
     ]
    },
    {
     "name": "stdout",
     "output_type": "stream",
     "text": [
      "Processing image 177 in test_index = 1 \n",
      "id = de01feba2e3d0b704cdb074a7d0f85f54c1ccd0bd387374a058928b4515e6e81\n",
      "multi processing\n"
     ]
    },
    {
     "name": "stderr",
     "output_type": "stream",
     "text": [
      "100%|██████████| 121/121 [00:05<00:00, 21.21it/s]\n",
      "100%|██████████| 120/120 [00:06<00:00, 19.34it/s]\n",
      "100%|██████████| 126/126 [00:06<00:00, 18.52it/s]\n",
      "100%|██████████| 126/126 [00:07<00:00, 17.60it/s]\n"
     ]
    },
    {
     "name": "stdout",
     "output_type": "stream",
     "text": [
      "Processing image 178 in test_index = 1 \n",
      "id = a4c845af54a6abc44a71494f0b7445ed2e0d0497523eb9cef5f0cffd36b73557\n",
      "multi processing\n"
     ]
    },
    {
     "name": "stderr",
     "output_type": "stream",
     "text": [
      "100%|██████████| 187/187 [00:18<00:00, 10.25it/s]\n",
      "100%|██████████| 182/182 [00:19<00:00,  9.53it/s]\n",
      "100%|██████████| 185/185 [00:19<00:00,  9.43it/s]\n",
      "100%|██████████| 193/193 [00:19<00:00,  9.93it/s]\n"
     ]
    },
    {
     "name": "stdout",
     "output_type": "stream",
     "text": [
      "Processing image 179 in test_index = 1 \n",
      "id = 5875e1fe1ea7fa852d5af7a14bbaa47aa52eaa5fde84b6a17f78fd33e9672015\n",
      "multi processing\n"
     ]
    },
    {
     "name": "stderr",
     "output_type": "stream",
     "text": [
      "100%|██████████| 57/57 [00:01<00:00, 34.38it/s]\n",
      "100%|██████████| 60/60 [00:01<00:00, 33.21it/s]\n",
      "100%|██████████| 62/62 [00:01<00:00, 34.31it/s]\n",
      "100%|██████████| 63/63 [00:01<00:00, 32.33it/s]\n"
     ]
    },
    {
     "name": "stdout",
     "output_type": "stream",
     "text": [
      "Processing image 180 in test_index = 1 \n",
      "id = adb2bfe9399c70a1e20f1ac59e39bc1a39a7caa4fb372f5b8c1b0b6799dd24e9\n",
      "multi processing\n"
     ]
    },
    {
     "name": "stderr",
     "output_type": "stream",
     "text": [
      "100%|██████████| 131/131 [00:08<00:00, 15.42it/s]\n",
      "100%|██████████| 140/140 [00:09<00:00, 14.85it/s]\n",
      "100%|██████████| 148/148 [00:10<00:00, 14.35it/s]\n",
      "100%|██████████| 145/145 [00:10<00:00, 14.13it/s]\n"
     ]
    },
    {
     "name": "stdout",
     "output_type": "stream",
     "text": [
      "Processing image 181 in test_index = 1 \n",
      "id = f394b498a92da0d59f909150fb3f5f45fa39bfdd88bb68a584717cbf94e66f71\n",
      "multi processing\n"
     ]
    },
    {
     "name": "stderr",
     "output_type": "stream",
     "text": [
      "100%|██████████| 91/91 [00:04<00:00, 21.62it/s]]\n",
      "100%|██████████| 103/103 [00:05<00:00, 20.44it/s]\n",
      "100%|██████████| 96/96 [00:05<00:00, 18.72it/s]\n",
      "100%|██████████| 99/99 [00:05<00:00, 19.51it/s]\n"
     ]
    },
    {
     "name": "stdout",
     "output_type": "stream",
     "text": [
      "Processing image 182 in test_index = 1 \n",
      "id = 0514cc7f8da5ed8572eca6b9beab69a8ebe99a297d2cba24f1d743e910a4891f\n",
      "multi processing\n"
     ]
    },
    {
     "name": "stderr",
     "output_type": "stream",
     "text": [
      "100%|██████████| 75/75 [00:03<00:00, 23.83it/s]\n",
      "100%|██████████| 76/76 [00:03<00:00, 23.66it/s]\n",
      "100%|██████████| 77/77 [00:03<00:00, 23.10it/s]\n",
      "100%|██████████| 95/95 [00:04<00:00, 22.58it/s]\n"
     ]
    },
    {
     "name": "stdout",
     "output_type": "stream",
     "text": [
      "Processing image 183 in test_index = 1 \n",
      "id = 1652c2fccd5cc10f144cdf73bcdf4c351a59ecca37e0ce5366645c3fa5775914\n",
      "multi processing\n"
     ]
    },
    {
     "name": "stderr",
     "output_type": "stream",
     "text": [
      "100%|██████████| 145/145 [00:11<00:00, 12.13it/s]\n",
      "100%|██████████| 163/163 [00:13<00:00, 11.85it/s]\n",
      "100%|██████████| 166/166 [00:13<00:00, 12.11it/s]\n",
      "100%|██████████| 181/181 [00:14<00:00, 12.16it/s]\n"
     ]
    },
    {
     "name": "stdout",
     "output_type": "stream",
     "text": [
      "Processing image 184 in test_index = 1 \n",
      "id = c1d7aea48615bf796ca48aab0ae34358ba7a26cd4cc8f694eac16b0b9825d89e\n",
      "multi processing\n"
     ]
    },
    {
     "name": "stderr",
     "output_type": "stream",
     "text": [
      "100%|██████████| 147/147 [00:13<00:00, 10.96it/s]\n",
      "100%|██████████| 156/156 [00:14<00:00, 10.92it/s]\n",
      "100%|██████████| 162/162 [00:14<00:00, 11.35it/s]\n",
      "100%|██████████| 169/169 [00:15<00:00, 11.03it/s]\n"
     ]
    },
    {
     "name": "stdout",
     "output_type": "stream",
     "text": [
      "Processing image 185 in test_index = 1 \n",
      "id = 9b5a35576654b80bb263855ef40a02b660ee41cdc94dad2946679ab70b883271\n",
      "multi processing\n"
     ]
    },
    {
     "name": "stderr",
     "output_type": "stream",
     "text": [
      "100%|██████████| 159/159 [00:14<00:00, 10.66it/s]\n",
      "100%|██████████| 163/163 [00:15<00:00, 10.56it/s]\n",
      "100%|██████████| 171/171 [00:16<00:00, 10.30it/s]\n",
      "100%|██████████| 169/169 [00:16<00:00, 10.29it/s]\n"
     ]
    },
    {
     "name": "stdout",
     "output_type": "stream",
     "text": [
      "Processing image 186 in test_index = 1 \n",
      "id = f4104ca698e8dc3f69060a84029eecd03cd98dd1bb4e6b12a28b029b412b74b8\n",
      "multi processing\n"
     ]
    },
    {
     "name": "stderr",
     "output_type": "stream",
     "text": [
      "100%|██████████| 36/36 [00:00<00:00, 73.27it/s]\n",
      "100%|██████████| 36/36 [00:00<00:00, 69.69it/s]\n",
      "100%|██████████| 36/36 [00:00<00:00, 68.79it/s]\n",
      "100%|██████████| 38/38 [00:00<00:00, 64.44it/s]\n"
     ]
    },
    {
     "name": "stdout",
     "output_type": "stream",
     "text": [
      "Processing image 187 in test_index = 1 \n",
      "id = 4f8089b39b27804a5a9471f0bd763fb3106e757368ebdfbf3c368e8a9bb69b98\n",
      "multi processing\n"
     ]
    },
    {
     "name": "stderr",
     "output_type": "stream",
     "text": [
      "100%|██████████| 152/152 [00:15<00:00,  9.53it/s]\n",
      "100%|██████████| 151/151 [00:15<00:00,  9.45it/s]\n",
      "100%|██████████| 157/157 [00:17<00:00,  9.00it/s]\n",
      "100%|██████████| 163/163 [00:18<00:00,  8.98it/s]\n"
     ]
    },
    {
     "name": "stdout",
     "output_type": "stream",
     "text": [
      "Processing image 188 in test_index = 1 \n",
      "id = 858a923949dc135c6934e3b8a82bd3cd1afe87460623facfc56d04d180986a98\n",
      "multi processing\n"
     ]
    },
    {
     "name": "stderr",
     "output_type": "stream",
     "text": [
      "100%|██████████| 122/122 [00:07<00:00, 16.47it/s]\n",
      "100%|██████████| 138/138 [00:07<00:00, 18.23it/s]\n",
      "100%|██████████| 126/126 [00:07<00:00, 16.66it/s]\n",
      "100%|██████████| 130/130 [00:07<00:00, 16.29it/s]\n"
     ]
    },
    {
     "name": "stdout",
     "output_type": "stream",
     "text": [
      "Processing image 189 in test_index = 1 \n",
      "id = d2afe57af506794c63beda9025e5e5e4dc59fc4721bcfd1220c22790bb9fedb3\n",
      "multi processing\n"
     ]
    },
    {
     "name": "stderr",
     "output_type": "stream",
     "text": [
      "100%|██████████| 131/131 [00:08<00:00, 16.17it/s]\n",
      "100%|██████████| 141/141 [00:08<00:00, 16.91it/s]\n",
      "100%|██████████| 152/152 [00:09<00:00, 16.42it/s]\n",
      "100%|██████████| 148/148 [00:09<00:00, 15.70it/s]\n"
     ]
    },
    {
     "name": "stdout",
     "output_type": "stream",
     "text": [
      "Processing image 190 in test_index = 1 \n",
      "id = b87b8191555da8964be1597aebb311d4d0a31ad3cd9bbcaa1d14f57a50860bf6\n",
      "multi processing\n"
     ]
    },
    {
     "name": "stderr",
     "output_type": "stream",
     "text": [
      "100%|██████████| 20/20 [00:00<00:00, 150.78it/s]\n",
      "100%|██████████| 14/14 [00:00<00:00, 132.41it/s]\n",
      "100%|██████████| 30/30 [00:00<00:00, 136.22it/s]\n",
      "100%|██████████| 23/23 [00:00<00:00, 109.02it/s]\n"
     ]
    },
    {
     "name": "stdout",
     "output_type": "stream",
     "text": [
      "Processing image 191 in test_index = 1 \n",
      "id = 0d6941d6bac758c7af58e963a538b152fb258bad009071880a44a570af380517\n",
      "multi processing\n"
     ]
    },
    {
     "name": "stderr",
     "output_type": "stream",
     "text": [
      "100%|██████████| 38/38 [00:00<00:00, 76.41it/s]\n",
      "100%|██████████| 41/41 [00:00<00:00, 68.80it/s]\n",
      "100%|██████████| 41/41 [00:00<00:00, 60.88it/s]\n",
      "100%|██████████| 54/54 [00:00<00:00, 56.97it/s]\n"
     ]
    },
    {
     "name": "stdout",
     "output_type": "stream",
     "text": [
      "Processing image 192 in test_index = 1 \n",
      "id = 3f2a069bb6d0c41f76300c52a5f55e4770515f822bd1bd07d6233dc2dfcf49bc\n",
      "multi processing\n"
     ]
    },
    {
     "name": "stderr",
     "output_type": "stream",
     "text": [
      "100%|██████████| 56/56 [00:01<00:00, 52.17it/s]\n",
      "100%|██████████| 57/57 [00:01<00:00, 49.46it/s]\n",
      "100%|██████████| 63/63 [00:01<00:00, 53.25it/s]\n",
      "100%|██████████| 68/68 [00:01<00:00, 49.14it/s]\n"
     ]
    },
    {
     "name": "stdout",
     "output_type": "stream",
     "text": [
      "Processing image 193 in test_index = 1 \n",
      "id = 2c5f75dbac1126be0e8827c66152821ddaf04e42726048c30e89defd4ff69263\n",
      "multi processing\n"
     ]
    },
    {
     "name": "stderr",
     "output_type": "stream",
     "text": [
      "100%|██████████| 148/148 [00:09<00:00, 16.00it/s]\n",
      "100%|██████████| 161/161 [00:09<00:00, 16.30it/s]\n",
      "100%|██████████| 159/159 [00:10<00:00, 15.81it/s]\n",
      "100%|██████████| 166/166 [00:10<00:00, 15.66it/s]\n"
     ]
    },
    {
     "name": "stdout",
     "output_type": "stream",
     "text": [
      "Processing image 194 in test_index = 1 \n",
      "id = ea5ea8e2e9d5e1def1017d24e1eca331d5865a20e14db02a1c93600cb7aad0e4\n",
      "multi processing\n"
     ]
    },
    {
     "name": "stderr",
     "output_type": "stream",
     "text": [
      "100%|██████████| 151/151 [00:09<00:00, 15.28it/s]\n",
      "100%|██████████| 161/161 [00:10<00:00, 15.91it/s]\n",
      "100%|██████████| 149/149 [00:10<00:00, 14.06it/s]\n",
      "100%|██████████| 160/160 [00:12<00:00, 13.25it/s]\n"
     ]
    },
    {
     "name": "stdout",
     "output_type": "stream",
     "text": [
      "Processing image 195 in test_index = 1 \n",
      "id = ad1308e209f18c07e6c430d06bfbc978355eb0000852a48ec61aa5c684171b81\n",
      "multi processing\n"
     ]
    },
    {
     "name": "stderr",
     "output_type": "stream",
     "text": [
      "100%|██████████| 135/135 [00:09<00:00, 13.77it/s]\n",
      "100%|██████████| 143/143 [00:10<00:00, 13.36it/s]\n",
      "100%|██████████| 148/148 [00:10<00:00, 13.73it/s]\n",
      "100%|██████████| 155/155 [00:11<00:00, 13.60it/s]\n"
     ]
    },
    {
     "name": "stdout",
     "output_type": "stream",
     "text": [
      "Processing image 196 in test_index = 1 \n",
      "id = e476039d612f9e94797ad3fa8f8ee90c040c7609a83c53c974818ddc38bd7e47\n",
      "multi processing\n"
     ]
    },
    {
     "name": "stderr",
     "output_type": "stream",
     "text": [
      "100%|██████████| 56/56 [00:26<00:00,  2.10it/s]\n",
      "100%|██████████| 58/58 [00:29<00:00,  1.99it/s]\n",
      "100%|██████████| 62/62 [00:29<00:00,  2.10it/s]\n",
      "100%|██████████| 68/68 [00:35<00:00,  1.90it/s]\n"
     ]
    },
    {
     "name": "stdout",
     "output_type": "stream",
     "text": [
      "Processing image 197 in test_index = 1 \n",
      "id = 6abeff240eca342c7af3c020520bc515daa5157e1121196bedb6922ad309d326\n",
      "multi processing\n"
     ]
    },
    {
     "name": "stderr",
     "output_type": "stream",
     "text": [
      "100%|██████████| 30/30 [00:00<00:00, 128.72it/s]\n",
      "100%|██████████| 33/33 [00:00<00:00, 108.58it/s]\n",
      "100%|██████████| 34/34 [00:00<00:00, 106.68it/s]\n",
      "100%|██████████| 33/33 [00:00<00:00, 104.17it/s]\n"
     ]
    },
    {
     "name": "stdout",
     "output_type": "stream",
     "text": [
      "Processing image 198 in test_index = 1 \n",
      "id = 3bf7d8048ef6de6f12098c9bfee60d41c67a06fcc9cd22f663e9e9d73f76c5a8\n",
      "multi processing\n"
     ]
    },
    {
     "name": "stderr",
     "output_type": "stream",
     "text": [
      "100%|██████████| 78/78 [00:01<00:00, 43.26it/s]\n",
      "100%|██████████| 78/78 [00:01<00:00, 42.03it/s]\n",
      "100%|██████████| 84/84 [00:02<00:00, 41.75it/s]\n",
      "100%|██████████| 86/86 [00:02<00:00, 42.27it/s]\n"
     ]
    },
    {
     "name": "stdout",
     "output_type": "stream",
     "text": [
      "Processing image 199 in test_index = 1 \n",
      "id = ed4521132b7a48ebe9287d302d3561b2964c6f76e46d2d74a8b3f6bfcdc7770f\n",
      "multi processing\n"
     ]
    },
    {
     "name": "stderr",
     "output_type": "stream",
     "text": [
      "100%|██████████| 143/143 [00:07<00:00, 18.14it/s]\n",
      "100%|██████████| 142/142 [00:08<00:00, 17.31it/s]\n",
      "100%|██████████| 159/159 [00:09<00:00, 16.05it/s]\n",
      "100%|██████████| 155/155 [00:09<00:00, 15.61it/s]\n"
     ]
    },
    {
     "name": "stdout",
     "output_type": "stream",
     "text": [
      "Processing image 200 in test_index = 1 \n",
      "id = 853ecf833cbf616ff52f8dde867568caae111a463fe8c527afa67f2364fc15d8\n",
      "multi processing\n"
     ]
    },
    {
     "name": "stderr",
     "output_type": "stream",
     "text": [
      "100%|██████████| 33/33 [00:00<00:00, 89.90it/s]\n",
      " 58%|█████▊    | 19/33 [00:00<00:00, 43.02it/s]\n",
      "100%|██████████| 41/41 [00:00<00:00, 73.45it/s]\n",
      "100%|██████████| 38/38 [00:00<00:00, 70.87it/s]\n"
     ]
    },
    {
     "name": "stdout",
     "output_type": "stream",
     "text": [
      "Processing image 201 in test_index = 1 \n",
      "id = dac9bba499b42bc4c3b44d5832615cb2531196c0bdb5a4d8aa3946b957f18170\n",
      "multi processing\n"
     ]
    },
    {
     "name": "stderr",
     "output_type": "stream",
     "text": [
      "100%|██████████| 150/150 [00:09<00:00, 15.59it/s]\n",
      "100%|██████████| 144/144 [00:09<00:00, 14.53it/s]\n",
      " 79%|███████▉  | 120/152 [00:09<00:02, 12.14it/s]\n",
      "100%|██████████| 161/161 [00:10<00:00, 15.26it/s]\n"
     ]
    },
    {
     "name": "stdout",
     "output_type": "stream",
     "text": [
      "Processing image 202 in test_index = 1 \n",
      "id = 1955cd2242b47386e845a1aec80ffd18d5673fe200da9a740e530ff5f677ba8a\n",
      "multi processing\n"
     ]
    },
    {
     "name": "stderr",
     "output_type": "stream",
     "text": [
      "100%|██████████| 145/145 [00:08<00:00, 16.35it/s]\n",
      "100%|██████████| 149/149 [00:08<00:00, 16.97it/s]\n",
      "100%|██████████| 149/149 [00:09<00:00, 16.19it/s]\n",
      "100%|██████████| 152/152 [00:09<00:00, 16.10it/s]\n"
     ]
    },
    {
     "name": "stdout",
     "output_type": "stream",
     "text": [
      "Processing image 203 in test_index = 1 \n",
      "id = 95a1db2f7479e87f136cdaec46009fa31b45b553a50dc0774573e24fa4e353ad\n",
      "multi processing\n"
     ]
    },
    {
     "name": "stderr",
     "output_type": "stream",
     "text": [
      "100%|██████████| 129/129 [00:08<00:00, 15.89it/s]\n",
      "100%|██████████| 136/136 [00:08<00:00, 15.52it/s]\n",
      "100%|██████████| 141/141 [00:09<00:00, 15.56it/s]\n",
      "100%|██████████| 139/139 [00:09<00:00, 14.38it/s]\n"
     ]
    },
    {
     "name": "stdout",
     "output_type": "stream",
     "text": [
      "Processing image 204 in test_index = 1 \n",
      "id = c685e46d9beae5fb53300778e2355cbb6359dda6e4448a109110a3ae34ff1bd2\n",
      "multi processing\n"
     ]
    },
    {
     "name": "stderr",
     "output_type": "stream",
     "text": [
      "100%|██████████| 123/123 [00:06<00:00, 19.35it/s]\n",
      "100%|██████████| 121/121 [00:06<00:00, 17.86it/s]\n",
      "100%|██████████| 131/131 [00:06<00:00, 18.99it/s]\n",
      "100%|██████████| 130/130 [00:06<00:00, 19.04it/s]\n"
     ]
    },
    {
     "name": "stdout",
     "output_type": "stream",
     "text": [
      "Processing image 205 in test_index = 1 \n",
      "id = 6def3235fffa1ef2439767c7bcf82fe9f8757956fdd8714f7126f65d2ada24bf\n",
      "multi processing\n",
      "Processing image 206 in test_index = 1 \n",
      "id = 3d5979d40336bfc7a2454edbdce2a1b4d8d65dc6763bbf3b6852d6cedf445aaa\n",
      "multi processing\n"
     ]
    },
    {
     "name": "stderr",
     "output_type": "stream",
     "text": [
      "100%|██████████| 65/65 [00:01<00:00, 33.14it/s]\n",
      "100%|██████████| 65/65 [00:02<00:00, 30.86it/s]\n",
      "100%|██████████| 64/64 [00:01<00:00, 32.02it/s]\n",
      "100%|██████████| 78/78 [00:02<00:00, 32.12it/s]\n"
     ]
    },
    {
     "name": "stdout",
     "output_type": "stream",
     "text": [
      "Processing image 207 in test_index = 1 \n",
      "id = 1f78d3193730f04730254f82629c8d54ed67ab612a6dee33dc326acc15bf4612\n",
      "multi processing\n"
     ]
    },
    {
     "name": "stderr",
     "output_type": "stream",
     "text": [
      "100%|██████████| 112/112 [00:05<00:00, 20.78it/s]\n",
      "100%|██████████| 120/120 [00:05<00:00, 21.37it/s]\n",
      "100%|██████████| 112/112 [00:05<00:00, 19.06it/s]\n",
      "100%|██████████| 119/119 [00:06<00:00, 19.35it/s]\n"
     ]
    },
    {
     "name": "stdout",
     "output_type": "stream",
     "text": [
      "Processing image 208 in test_index = 1 \n",
      "id = 669bc0d82fe9ffb4d352188623dd4aeb3eceebf11baa0a11d540c8115f972c9f\n",
      "multi processing\n"
     ]
    },
    {
     "name": "stderr",
     "output_type": "stream",
     "text": [
      "100%|██████████| 118/118 [00:06<00:00, 19.55it/s]\n",
      "100%|██████████| 132/132 [00:06<00:00, 20.39it/s]\n",
      "100%|██████████| 123/123 [00:06<00:00, 18.75it/s]\n",
      "100%|██████████| 128/128 [00:08<00:00, 15.80it/s]\n"
     ]
    },
    {
     "name": "stdout",
     "output_type": "stream",
     "text": [
      "Processing image 209 in test_index = 1 \n",
      "id = c8d7cc1c89f27bc87c5ef5f82b345669474c428bd578d7e4983b615c5f590b34\n",
      "multi processing\n"
     ]
    },
    {
     "name": "stderr",
     "output_type": "stream",
     "text": [
      "100%|██████████| 68/68 [00:02<00:00, 31.57it/s]\n",
      "100%|██████████| 63/63 [00:02<00:00, 29.44it/s]\n",
      "100%|██████████| 68/68 [00:02<00:00, 30.59it/s]\n",
      "100%|██████████| 74/74 [00:02<00:00, 29.75it/s]\n"
     ]
    },
    {
     "name": "stdout",
     "output_type": "stream",
     "text": [
      "Processing image 210 in test_index = 1 \n",
      "id = feea4190b5bbcd274b76a93dd986b992040eb9cde3c8657e4d817a0cef3773ef\n",
      "multi processing\n"
     ]
    },
    {
     "name": "stderr",
     "output_type": "stream",
     "text": [
      "100%|██████████| 30/30 [00:00<00:00, 81.18it/s]\n",
      "100%|██████████| 37/37 [00:00<00:00, 79.95it/s]\n",
      "100%|██████████| 34/34 [00:00<00:00, 83.76it/s]\n",
      "100%|██████████| 36/36 [00:00<00:00, 75.24it/s]\n"
     ]
    },
    {
     "name": "stdout",
     "output_type": "stream",
     "text": [
      "Processing image 211 in test_index = 1 \n",
      "id = d8f40dacc07fd1351f3f1db8ffd4a5ce0635c84e91a6b6ed6785fc84514478bd\n",
      "multi processing\n"
     ]
    },
    {
     "name": "stderr",
     "output_type": "stream",
     "text": [
      "100%|██████████| 166/166 [00:16<00:00, 10.17it/s]\n",
      "100%|██████████| 176/176 [00:16<00:00, 10.39it/s]\n",
      "100%|██████████| 183/183 [00:18<00:00, 10.02it/s]\n",
      "100%|██████████| 185/185 [00:18<00:00, 10.10it/s]\n"
     ]
    },
    {
     "name": "stdout",
     "output_type": "stream",
     "text": [
      "Processing image 212 in test_index = 1 \n",
      "id = 16f5979a207d4830fa72ab44e2cd24a3dfc80953fa06f8cd324140f3600e7be2\n",
      "multi processing\n"
     ]
    },
    {
     "name": "stderr",
     "output_type": "stream",
     "text": [
      "100%|██████████| 185/185 [00:18<00:00, 10.25it/s]\n",
      "100%|██████████| 183/183 [00:18<00:00,  9.69it/s]\n",
      "100%|██████████| 198/198 [00:20<00:00,  9.80it/s]\n",
      "100%|██████████| 187/187 [00:20<00:00,  9.35it/s]\n"
     ]
    },
    {
     "name": "stdout",
     "output_type": "stream",
     "text": [
      "Processing image 213 in test_index = 1 \n",
      "id = 0db9a7f318c3fab55e90a7b11e43f0545a592b6cd69e7d670511eab29a125d14\n",
      "multi processing\n"
     ]
    },
    {
     "name": "stderr",
     "output_type": "stream",
     "text": [
      "100%|██████████| 172/172 [00:19<00:00,  8.64it/s]\n",
      "100%|██████████| 182/182 [00:21<00:00,  8.59it/s]\n",
      "100%|██████████| 178/178 [00:21<00:00,  8.25it/s]\n",
      "100%|██████████| 187/187 [00:22<00:00,  8.26it/s]\n"
     ]
    },
    {
     "name": "stdout",
     "output_type": "stream",
     "text": [
      "Processing image 214 in test_index = 1 \n",
      "id = 6fba8c28f3113451dc9e57dae1ce0d934ce85f8a56c1054d51fc1e3ad9b86635\n",
      "multi processing\n"
     ]
    },
    {
     "name": "stderr",
     "output_type": "stream",
     "text": [
      "100%|██████████| 48/48 [00:00<00:00, 50.26it/s]\n",
      "100%|██████████| 45/45 [00:01<00:00, 44.90it/s]\n",
      "100%|██████████| 54/54 [00:01<00:00, 46.92it/s]\n",
      "100%|██████████| 57/57 [00:01<00:00, 49.40it/s]\n"
     ]
    },
    {
     "name": "stdout",
     "output_type": "stream",
     "text": [
      "Processing image 215 in test_index = 1 \n",
      "id = 6b6070c899829c3d29968474d495a7483079f75053c4b81694bd8c9f21670ad7\n",
      "multi processing\n"
     ]
    },
    {
     "name": "stderr",
     "output_type": "stream",
     "text": [
      "100%|██████████| 155/155 [00:10<00:00, 15.35it/s]\n",
      "100%|██████████| 145/145 [00:09<00:00, 14.51it/s]\n",
      "100%|██████████| 155/155 [00:10<00:00, 14.60it/s]\n",
      "100%|██████████| 150/150 [00:10<00:00, 14.07it/s]\n"
     ]
    }
   ],
   "source": [
    "for i in range(2):\n",
    "    test_index = i\n",
    "        \n",
    "    dataset_test = test_datasets[test_index]\n",
    "    \n",
    "    model = modellib.MaskRCNN(mode=\"inference\", \n",
    "                          config=inference_config,\n",
    "                          model_dir=MODEL_DIR)\n",
    "    \n",
    "    model_path = paths[test_index]\n",
    "    print(\"Loading weights from \", model_path)\n",
    "    model.load_weights(model_path, by_name=True)\n",
    "    \n",
    "    for x, test_id in enumerate(dataset_test.image_ids):\n",
    "        \n",
    "        if test_index == 0 and x <= 2262:\n",
    "            continue\n",
    "            \n",
    "        image_id = meta_test_groups[test_index].ImageId.values[x]\n",
    "        test_image1 = dataset_test.load_image(test_id, 0)\n",
    "        \n",
    "        print('Processing image', x, 'in test_index =', test_index, '\\nid =', image_id)\n",
    "        #pred = model.detect([test_image1])\n",
    "        \n",
    "        pred = model.detect_with_tta([test_image1], rotate=False, flip=True, \n",
    "                                     verbose=0, voting_ratio=.5, collecting_mode=True)\n",
    "        '''\n",
    "        \n",
    "        pred = model.detect_with_tta_and_crop([test_image1], rotate=False, flip=True, \n",
    "                                 verbose=0, voting_ratio=.5, collecting_mode=True, accept_ratio=ACCEPT_RATIO)\n",
    "        '''\n",
    "        \n",
    "        pred = pred[0]\n",
    "        \n",
    "        if len(pred['rois']) > 0:\n",
    "            ps.update_prediction(image_id, pred['masks'], \n",
    "                                 pred['rois'], pred['scores'], pred['sample_nums'])"
   ]
  },
  {
   "cell_type": "code",
   "execution_count": 34,
   "metadata": {},
   "outputs": [
    {
     "name": "stdout",
     "output_type": "stream",
     "text": [
      "TTA + Flexble Avg takes 0.049 secs\n"
     ]
    }
   ],
   "source": [
    "print('TTA + Flexble Avg takes {:.3f} secs'.format(time()-start_time))\n",
    "start_time = time()"
   ]
  },
  {
   "cell_type": "code",
   "execution_count": 35,
   "metadata": {},
   "outputs": [],
   "source": [
    "def rle_encoding(x):\n",
    "    '''\n",
    "    x: numpy array of shape (height, width), 1 - mask, 0 - background\n",
    "    Returns run length as list\n",
    "    '''\n",
    "    dots = np.where(x.T.flatten()==1)[0] # .T sets Fortran order down-then-right\n",
    "    run_lengths = []\n",
    "    prev = -2\n",
    "    for b in dots:\n",
    "        if (b>prev+1): run_lengths.extend((b+1, 0))\n",
    "        run_lengths[-1] += 1\n",
    "        prev = b\n",
    "    return run_lengths"
   ]
  },
  {
   "cell_type": "code",
   "execution_count": 36,
   "metadata": {},
   "outputs": [],
   "source": [
    "def numpy2encoding_no_overlap(predicts, img_name, scores):\n",
    "    if len(scores) == 0:\n",
    "        return [], []\n",
    "    \n",
    "    sum_predicts = np.sum(predicts, axis=2)\n",
    "    rows, cols = np.where(sum_predicts>=2)\n",
    "    \n",
    "    for i in zip(rows, cols):\n",
    "        instance_indicies = np.where(np.any(predicts[i[0],i[1],:]))[0]\n",
    "        highest = instance_indicies[0]\n",
    "        predicts[i[0],i[1],:] = predicts[i[0],i[1],:]*0\n",
    "        predicts[i[0],i[1],highest] = 1\n",
    "    \n",
    "    ImageId = []\n",
    "    EncodedPixels = []\n",
    "    #print(predicts.shape)\n",
    "    for i in range(predicts.shape[2]): \n",
    "        rle = rle_encoding(predicts[:,:,i])\n",
    "        if len(rle)>0:\n",
    "            ImageId.append(img_name)\n",
    "            EncodedPixels.append(rle)    \n",
    "    return ImageId, EncodedPixels"
   ]
  },
  {
   "cell_type": "code",
   "execution_count": 37,
   "metadata": {
    "scrolled": true
   },
   "outputs": [],
   "source": [
    "new_test_ids = []\n",
    "rles = []\n",
    "\n",
    "def update_final_predictions(test_ids, predictions, new_test_ids, rles):\n",
    "    \n",
    "    for id, raw_pred in zip(test_ids, predictions):\n",
    "        ids, rle = numpy2encoding_no_overlap(raw_pred[0], id, raw_pred[1])\n",
    "        new_test_ids += ids\n",
    "        rles += rle\n",
    "    \n",
    "    return new_test_ids, rles"
   ]
  },
  {
   "cell_type": "code",
   "execution_count": 38,
   "metadata": {
    "scrolled": true
   },
   "outputs": [
    {
     "name": "stdout",
     "output_type": "stream",
     "text": [
      "processed_count = 2700 selected id nums = 103\n",
      "103\n",
      "No masks\n",
      "31e5fb8458150fb0e10c263abe56b7f43639ce7428dd45943537c502fc398938 done.\n",
      "Finshed count= 1 \n",
      "\n",
      "Orignal masks# = 9  => Voted for next level flexible nms masks# = 4\n",
      "e40196bc514419e8474157bdab146c1ab1492bf33f0411b8f9fd0a39065c6cb1 done.\n",
      "Finshed count= 2 \n",
      "\n",
      "Orignal masks# = 75  => Voted for next level flexible nms masks# = 63\n",
      "e2e236ad21d7dba6f1e739fad2081eae4741731bcb2072fa88a3685a5e0e2b47 done.\n",
      "Finshed count= 3 \n",
      "\n",
      "Orignal masks# = 86  => Voted for next level flexible nms masks# = 78\n",
      "88c7fba66a016ceaa25abba59e8b6739df21a102aeffd1022434fd08badd607b done.\n",
      "Finshed count= 4 \n",
      "\n",
      "Orignal masks# = 61  => Voted for next level flexible nms masks# = 50\n",
      "fb11432e1637804c44c66fa7a02c28886ebcfc4ae2bb9c139fd8cfea20890840 done.\n",
      "Finshed count= 5 \n",
      "\n",
      "Orignal masks# = 114  => Voted for next level flexible nms masks# = 112\n",
      "1bacf56acbdaaae04ac99d812db92bdd423fceec8b9ce8adc75f064a8fc5091c done.\n",
      "Finshed count= 6 \n",
      "\n",
      "Orignal masks# = 224  => Voted for next level flexible nms masks# = 224\n",
      "Orignal masks# = 121  => Voted for next level flexible nms masks# = 121\n",
      "5d71876e8bba86a57c3e92947fa58ffafacc5e56052f38329f85381f66f187f9 done.\n",
      "Finshed count= 7 \n",
      "\n",
      "4716505b5e5a718d5669f2be196c4fa463711a5ba23e7be30499facda1256d43 done.\n",
      "Finshed count= 8 \n",
      "\n",
      "Orignal masks# = 45  => Voted for next level flexible nms masks# = 27\n",
      "c73216e5dd0e7897e18e93fe8aa78479d38eed663560039574ad445a4db7f8f7 done.\n",
      "Finshed count= 9 \n",
      "\n",
      "Orignal masks# = 15  => Voted for next level flexible nms masks# = 11\n",
      "5694ef74699c2a74bb6d6cc04af7432c29ccd4a0940716eb23044a763d275a89 done.\n",
      "Finshed count= 10 \n",
      "\n",
      "Orignal masks# = 23  => Voted for next level flexible nms masks# = 23\n",
      "e0946fa9d9828d41ef95aad92c052bc09f41a986b7120bbc289b14bcef8c1b91 done.\n",
      "Finshed count= 11 \n",
      "\n",
      "Orignal masks# = 1  => Voted for next level flexible nms masks# = 0\n",
      "5171307b70da8e144e5ace020a85a985af8c11360297cc2982e05c5312174e6d done.\n",
      "Finshed count= 12 \n",
      "\n",
      "Orignal masks# = 111  => Voted for next level flexible nms masks# = 98\n",
      "43db90aa201fdd722138d1b4ebd4ef45c060c9ab349556344054e496a0216b46 done.\n",
      "Finshed count= 13 \n",
      "\n",
      "Orignal masks# = 277  => Voted for next level flexible nms masks# = 271\n",
      "Orignal masks# = 145  => Voted for next level flexible nms masks# = 121\n",
      "Orignal masks# = 71  => Voted for next level flexible nms masks# = 51\n",
      "cbf34fbe7704e76bf1c5357a3c8802708c534b5abf027513e51213d5212fe05b done.\n",
      "Finshed count= 14 \n",
      "\n",
      "Orignal masks# = 4  => Voted for next level flexible nms masks# = 4\n",
      "71260eb68ba996a8d81f7e5770043a5fc7c46219893619f2e9f6fc16f36d738e done.\n",
      "Finshed count= 15 \n",
      "\n",
      "364fb54d8bcbf2d67da60c3c1f6bade82c6a72f76010e6cd27309ccf7fa8f3be done.\n",
      "Finshed count= 16 \n",
      "\n",
      "Orignal masks# = 1  => Voted for next level flexible nms masks# = 0\n",
      "0809c8808881395346e23fe04a6750a8f7fe8e562b6db970ef0c4075d9e82117 done.\n",
      "Finshed count= 17 \n",
      "\n",
      "Orignal masks# = 14  => Voted for next level flexible nms masks# = 14\n",
      "102c2afeb1ce4714ef9b53d8c63e3431a89491bdb9175e189d0b6d391c85ae85 done.\n",
      "Finshed count= 18 \n",
      "\n",
      "03d9ebe734708631138820bfa1b598528495a049a182902d65efbaa73e738389 done.\n",
      "Finshed count= 19 \n",
      "\n",
      "No masks\n",
      "0ec1e0387baf20d0c858d84fcfcdffd255b87db4d3c59953c5dcbed995e14c07 done.\n",
      "Finshed count= 20 \n",
      "\n",
      "Orignal masks# = 52  => Voted for next level flexible nms masks# = 42\n",
      "c7ec1b66694579e875e115ab58524b7a482bd2658c74763c67f4c220afd3fd38 done.\n",
      "Finshed count= 21 \n",
      "\n",
      "No masks\n",
      "04387d228734fd5993d61199704cbd741762b10e31856eabe92552c8790ca7e0 done.\n",
      "Finshed count= 22 \n",
      "\n",
      "Orignal masks# = 77  => Voted for next level flexible nms masks# = 77\n",
      "3f2267b39df037b8ecfaf4c94c3113103f9a0dc74683c5dff7217ce7f5f3f189 done.\n",
      "Finshed count= 23 \n",
      "\n",
      "Orignal masks# = 74  => Voted for next level flexible nms masks# = 62\n",
      "17b3d209dbf19153c53e35b3b69a95708f82ac763104e3e7f968cb78ee18b1a3 done.\n",
      "Finshed count= 24 \n",
      "\n",
      "Orignal masks# = 148  => Voted for next level flexible nms masks# = 148\n",
      "Orignal masks# = 62  => Voted for next level flexible nms masks# = 43\n",
      "486fe606382b28907ffd6f4e0b45d6a1b1ea3ef798eb59d5a4dd917fa8ec5f90 done.\n",
      "Finshed count= 25 \n",
      "\n",
      "24928d37f8e4704fed57eb9521248f6e6680f581d487f8aae44491d8ac52d01f done.\n",
      "Finshed count= 26 \n",
      "\n",
      "Orignal masks# = 79  => Voted for next level flexible nms masks# = 79\n",
      "Orignal masks# = 32  => Voted for next level flexible nms masks# = 24\n",
      "e2d206e4ea6b9e6cb477f85fb32b94f7c2098431b0da258b818ac69e1834c00a done.\n",
      "Finshed count= 27 \n",
      "\n",
      "Orignal masks# = 9  => Voted for next level flexible nms masks# = 9\n",
      "c5dc5a10b015aa412d816304e5975e01261d99cda3e9909e7a970860737af02e done.\n",
      "Finshed count= 28 \n",
      "\n",
      "817e03b5744dc163e2f7d3b14234e6c20d375aa6c5e9c4158d009627dc57f65f done.\n",
      "Finshed count= 29 \n",
      "\n",
      "Orignal masks# = 53  => Voted for next level flexible nms masks# = 45\n",
      "Orignal masks# = 116  => Voted for next level flexible nms masks# = 98\n",
      "a99507e15e1f2c172377ebe77b956143b3229cfd516b9c590b1c8b776ed8a54c done.\n",
      "Finshed count= 30 \n",
      "\n",
      "38eaf5c62a54544c9b07881c96f5057acdffa57e8f718e7fca6f4955f9e06690 done.\n",
      "Finshed count= 31 \n",
      "\n",
      "Orignal masks# = 134  => Voted for next level flexible nms masks# = 124\n",
      "Orignal masks# = 39  => Voted for next level flexible nms masks# = 35\n",
      "a3f30b52add039680a19e16e42710e4aeea316505aaa121a72b8d283fd2b4d43 done.\n",
      "Finshed count= 32 \n",
      "\n",
      "Orignal masks# = 110  => Voted for next level flexible nms masks# = 92\n",
      "13160787b26bb275a2458bad2f65df80d65a962224024493691d7539d0148a4b done.\n",
      "Finshed count= 33 \n",
      "\n",
      "Orignal masks# = 1  => Voted for next level flexible nms masks# = 0\n",
      "5e9bde42fdac02b66190fd109906ae0648c7bf2baf6fa6cf8a43c99052450353 done.\n",
      "Finshed count= 34 \n",
      "\n",
      "7c055ce40072bae2242ef39251bfd2110996e122cdbdcac28fc6689b57ccea87 done.\n",
      "Finshed count= 35 \n",
      "\n",
      "Orignal masks# = 9  => Voted for next level flexible nms masks# = 8\n",
      "Orignal masks# = 14  => Voted for next level flexible nms masks# = 4\n",
      "892c085fac67b6fb93f99186d73391c7292954953f3399880f3126bae7b83fdb done.\n",
      "Finshed count= 36 \n",
      "\n",
      "a04b569f7fda650fddaa7d2945cf8a2fe7f3356883ac3353c6dcab5b3816ff56 done.\n",
      "Finshed count= 37 \n",
      "\n",
      "No masks\n",
      "eeb6873e29c2cdc402531da256a33ec1552abe95128e8c7827b403702513ace3 done.\n",
      "Finshed count= 38 \n",
      "\n",
      "Orignal masks# = 119  => Voted for next level flexible nms masks# = 81\n",
      "e1dedfc527eb4b9e0f85e3d9da0ec1f7343b9dfb7651df110958738ed831224b done.\n",
      "Finshed count= 39 \n",
      "\n",
      "Orignal masks# = 61  => Voted for next level flexible nms masks# = 50\n",
      "21d4efff99cb7512878b19f4b1e978f7e24dd02c6b311bd9b3a2819e2777b3dd done.\n",
      "Finshed count= 40 \n",
      "\n",
      "Orignal masks# = 5  => Voted for next level flexible nms masks# = 4\n",
      "a2c12dec525c5e619783dad0637cd7355542c50a168af23ca326922c48ec1922 done.\n",
      "Finshed count= 41 \n",
      "\n",
      "Orignal masks# = 115  => Voted for next level flexible nms masks# = 91\n",
      "Orignal masks# = 86  => Voted for next level flexible nms masks# = 79\n",
      "5be85f834d2ccae4b65f29ccf1eef5f2cef827278be23ab01e7fded0d3c00a72 done.\n",
      "Finshed count= 42 \n",
      "\n",
      "Orignal masks# = 41  => Voted for next level flexible nms masks# = 30\n",
      "5662665ab4b6341818f74b029f5f997f81320312ea34bb8d2b4c55dcb8cd84aa done.\n",
      "Finshed count= 43 \n",
      "\n",
      "Orignal masks# = 75  => Voted for next level flexible nms masks# = 57\n",
      "6f28825a6f47ca1b0a1897bdbd6b7901af2d7a7a36547c819e99baba4c8c6f49 done.\n",
      "Finshed count= 44 \n",
      "\n",
      "5e6d5cf7ab4fa2f9279210f9faf36ac8877fccdc2607cebd1e9987be095cc84c done.\n",
      "Finshed count= 45 \n",
      "\n",
      "Orignal masks# = 4  => Voted for next level flexible nms masks# = 3\n",
      "86f28c2c2bed586ed75ff6267b24af1de4c1347787753fec9ff2a92d7b91c5f8 done.\n",
      "Finshed count= 46 \n",
      "\n",
      "Orignal masks# = 3  => Voted for next level flexible nms masks# = 0\n",
      "522ce42064ddfc4a0e6469ba6384b3b052da41ba26ce59f06560f9204e86bee8 done.\n",
      "Finshed count= 47 \n",
      "\n",
      "Orignal masks# = 13  => Voted for next level flexible nms masks# = 8\n",
      "3d96585c1070108bda4c15ea5eedb81c40eb18a3efb5578e4670c953af65cd7f done.\n",
      "Finshed count= 48 \n",
      "\n",
      "Orignal masks# = 14  => Voted for next level flexible nms masks# = 14\n",
      "9c45c366823c80fb2e16280dbcf2e17e834d0bb9991d7ff72b8f2305e198677b done.\n",
      "Finshed count= 49 \n",
      "\n",
      "Orignal masks# = 1  => Voted for next level flexible nms masks# = 0\n",
      "b2b9b85cf0e5dd9f6803e26e71c7681db346d82c83950141ee1e1ed7f256246d done.\n",
      "Finshed count= 50 \n",
      "\n",
      "Orignal masks# = 14  => Voted for next level flexible nms masks# = 14\n",
      "a53c0335a658b1e6fd683a36b2d44d4068dd0e8aca0091e278ad65dab8cee959 done.\n",
      "Finshed count= 51 \n",
      "\n",
      "Orignal masks# = 3  => Voted for next level flexible nms masks# = 0\n",
      "81537757f724d396ad6c803d8db775b2bd2814c711a839394e6895e5be62178d done.\n",
      "Finshed count= 52 \n",
      "\n",
      "Orignal masks# = 95  => Voted for next level flexible nms masks# = 69\n"
     ]
    },
    {
     "name": "stdout",
     "output_type": "stream",
     "text": [
      "4c68676a9c53c685790835bf4a3e85d4b2ea3a90d7a930809960a29e48d6b612 done.\n",
      "Finshed count= 53 \n",
      "\n",
      "Orignal masks# = 139  => Voted for next level flexible nms masks# = 121\n",
      "b435afe8d2fc55eb5c898b068cb53a5039cc259b971f5b954157eb17c64d45b4 done.\n",
      "Finshed count= 54 \n",
      "\n",
      "Orignal masks# = 181  => Voted for next level flexible nms masks# = 167\n",
      "45ab35f6951ccedf48f346ae7a9bc117a7479a46636b4da0b14b78fad2e625fc done.\n",
      "Finshed count= 55 \n",
      "\n",
      "Orignal masks# = 28  => Voted for next level flexible nms masks# = 18\n",
      "a19b065f27f139135084a25e17fe4054416947202d63d5c556ea308864ea5396 done.\n",
      "Finshed count= 56 \n",
      "\n",
      "Orignal masks# = 137  => Voted for next level flexible nms masks# = 118\n",
      "bec3dd21227544e1012867f361e3cff766e3db79256c28db2bcfa902118240a3 done.\n",
      "Finshed count= 57 \n",
      "\n",
      "Orignal masks# = 4  => Voted for next level flexible nms masks# = 4\n",
      "1c69629d540046c19795f48d6ecc7150ea213c810b92a62506bdad498cd39f41 done.\n",
      "Finshed count= 58 \n",
      "\n",
      "No masks\n",
      "ea2ec7d4b1c58de4029faf58074f012fdf212e631fb1156b67002fdea8ae2184 done.\n",
      "Finshed count= 59 \n",
      "\n",
      "Orignal masks# = 1  => Voted for next level flexible nms masks# = 0\n",
      "e40fb2e18142f0e7ae7f970fee866f89e1b7b414161515d330f1d950846fecd4 done.\n",
      "Finshed count= 60 \n",
      "\n",
      "Orignal masks# = 74  => Voted for next level flexible nms masks# = 62\n",
      "54913a8172590e7268be62281e348c49fb1e66f9ce271e61505013fe591ed804 done.\n",
      "Finshed count= 61 \n",
      "\n",
      "Orignal masks# = 109  => Voted for next level flexible nms masks# = 94\n",
      "a332606fd5bfc159c2688b752b6a64664645fc0b018efb495f2173ed7a0e7c18 done.\n",
      "Finshed count= 62 \n",
      "\n",
      "Orignal masks# = 44  => Voted for next level flexible nms masks# = 39\n",
      "b615c5b5a72a30225b6772c7258c67e40f47be3873b80950671004888950773a done.\n",
      "Finshed count= 63 \n",
      "\n",
      "Orignal masks# = 79  => Voted for next level flexible nms masks# = 67\n",
      "a0bf5958f91dcfeb45a431944f8664261230b461a5aa99047049c1bff6ee055e done.\n",
      "Finshed count= 64 \n",
      "\n",
      "Orignal masks# = 56  => Voted for next level flexible nms masks# = 56\n",
      "Orignal masks# = 274  => Voted for next level flexible nms masks# = 221\n",
      "6cac54fefe515d19363e6da44f5800535fc9bd6f215765bb73c0f3cdd918d20f done.\n",
      "Finshed count= 65 \n",
      "\n",
      "Orignal masks# = 30  => Voted for next level flexible nms masks# = 27\n",
      "bd5384e61cd26fc4e6c0833996d1a3fcfd7555bef1cf8c1fbbe54bd215e6a095 done.\n",
      "Finshed count= 66 \n",
      "\n",
      "Orignal masks# = 112  => Voted for next level flexible nms masks# = 79\n",
      "b5d585ce67095b353a8596274af0cf18cb95d9e03a4b4881c29b09f81576c0a5 done.\n",
      "Finshed count= 67 \n",
      "\n",
      "Orignal masks# = 35  => Voted for next level flexible nms masks# = 33\n",
      "5694ac60bf95b3a8e655ff8ad43e84f8bb8170c23e41f3ff945d6852c686973d done.\n",
      "Finshed count= 68 \n",
      "\n",
      "804a9fd51a33b145114d7655b65d54a36ba33b358daf0455293bb4d40df0272a done.\n",
      "Finshed count= 69 \n",
      "\n",
      "Orignal masks# = 131  => Voted for next level flexible nms masks# = 119\n",
      "13e4eef807af99a8537235fbcbacf0f96f6362f1f3f9782ebf60b5f5dc28db88 done.\n",
      "Finshed count= 70 \n",
      "\n",
      "No masks\n",
      "218eadb4336ce74de6ff2d9661839ac739cbb2850c682b0f6f83e9dc0c169810 done.\n",
      "Finshed count= 71 \n",
      "\n",
      "Orignal masks# = 178  => Voted for next level flexible nms masks# = 168\n",
      "87d4534ea8555b2ee490a4e6d408f9dad61a330b24f8f0f25940bbc2ab7935d1 done.\n",
      "Finshed count= 72 \n",
      "\n",
      "Orignal masks# = 43  => Voted for next level flexible nms masks# = 31\n",
      "e94e718dfcd212e4af16f095fced0c37273adfeca56748937786e1c355099e5f done.\n",
      "Finshed count= 73 \n",
      "\n",
      "No masks\n",
      "754893e0818d8292fae48fe2cf8f70bef003992813f620c22b920ac03853f021 done.\n",
      "Finshed count= 74 \n",
      "\n",
      "Orignal masks# = 186  => Voted for next level flexible nms masks# = 184\n",
      "Orignal masks# = 280  => Voted for next level flexible nms masks# = 259\n",
      "912a1d0d563de4f5e2c8e6ca8c8721994492e64702e18d1b2b56a872ce825767 done.\n",
      "Finshed count= 75 \n",
      "\n",
      "Orignal masks# = 95  => Voted for next level flexible nms masks# = 95\n",
      "6d9facf21108870819ebf0d649194337b109f4fae58d757e3819e309640f9b39 done.\n",
      "Finshed count= 76 \n",
      "\n",
      "Orignal masks# = 75  => Voted for next level flexible nms masks# = 68\n",
      "c7fabd67abacd9e825637d22ea79223304d6969f94283b9409f4fd146f60f7bc done.\n",
      "Finshed count= 77 \n",
      "\n",
      "No masks\n",
      "c0b7829acc12f87ab54f1ce7779749cfedea7695d99741215593fa1e8f7c17d9 done.\n",
      "Finshed count= 78 \n",
      "\n",
      "61f15758840c4068c0633f53795f33949dbfca53fe846c76633705373a6ab67f done.\n",
      "Finshed count= 79 \n",
      "\n",
      "Orignal masks# = 109  => Voted for next level flexible nms masks# = 93\n",
      "68717e395e763c1e00f3aa5f6358ac1bb4c71b42fa30d40aeedba17da04aa238 done.\n",
      "Finshed count= 80 \n",
      "\n",
      "Orignal masks# = 4  => Voted for next level flexible nms masks# = 4\n",
      "0a9b684358ddd521550545ffc44a4f2ab335f7e2cfa4124a6ed63944371b6937 done.\n",
      "Finshed count= 81 \n",
      "\n",
      "Orignal masks# = 226  => Voted for next level flexible nms masks# = 192\n",
      "970a6a7c4a4e0a67f23378bfac45b6a98537fe8dc7ee569c5d92f4463534862a done.\n",
      "Finshed count= 82 \n",
      "\n",
      "Orignal masks# = 126  => Voted for next level flexible nms masks# = 114\n",
      "cab1048d120984536932df523f8b06eb33d3b5f4704b8a99e79962d740fb25a7 done.\n",
      "Finshed count= 83 \n",
      "\n",
      "Orignal masks# = 36  => Voted for next level flexible nms masks# = 36\n",
      "50664b1805096e83717f86b4713c4d8f77b2a32bedaee607bbebc26de42e5504 done.\n",
      "Finshed count= 84 \n",
      "\n",
      "Orignal masks# = 70  => Voted for next level flexible nms masks# = 52\n",
      "58ed3013e2e776f7b52ad20f79ea1c4a88d7f67805b0356aca982ddf71cda65a done.\n",
      "Finshed count= 85 \n",
      "\n",
      "No masks\n",
      "b5de7304dabacb5d36ff92a82580f49d84004fa06b45814874deecd6abe05337 done.\n",
      "Finshed count= 86 \n",
      "\n",
      "Orignal masks# = 5  => Voted for next level flexible nms masks# = 4\n",
      "e5d0fee7b49a212832118a5f55b1135e998a866a0542bbf4c2181eadd770fc30 done.\n",
      "Finshed count= 87 \n",
      "\n",
      "Orignal masks# = 46  => Voted for next level flexible nms masks# = 41\n",
      "b57c8330eb99bf32c4eca0fcb3dcee30161d4be007c28614d8fedb83d6d9434c done.\n",
      "Finshed count= 88 \n",
      "\n",
      "No masks\n",
      "2406640f7869d4c3c021ffa01fb5cad0059c46837baa3ab689ccba302cdd37bd done.\n",
      "Finshed count= 89 \n",
      "\n",
      "No masks\n",
      "4edad1bb8932fc0d1b1d7af10d31918c075e26af50c2c6d7084d8ae032502e5c done.\n",
      "Finshed count= 90 \n",
      "\n",
      "No masks\n",
      "7e23ad482f74d9410eb280c7d8f99f9855651f4253dd61fa92f658b4eb074883 done.\n",
      "Finshed count= 91 \n",
      "\n",
      "Orignal masks# = 50  => Voted for next level flexible nms masks# = 41\n",
      "0a8dfb6763ec049b57454e6b5605f872cdf41cd13951fb2a2f31a6e3c8667712 done.\n",
      "Finshed count= 92 \n",
      "\n",
      "Orignal masks# = 6  => Voted for next level flexible nms masks# = 4\n",
      "330b9666c7962207e4e9d054fe6c135f59aab62395d61b748774939d32cf300d done.\n",
      "Finshed count= 93 \n",
      "\n",
      "No masks\n",
      "7d467ae316bf2a0b824c9f02b062cd2fc0a26ec009e944f5c129a50e7ba82c4d done.\n",
      "Finshed count= 94 \n",
      "\n",
      "Orignal masks# = 45  => Voted for next level flexible nms masks# = 38\n",
      "63ca8df5136ecd722e10263950a490f22f41702ab7dcea3980ba37ec1094f2f6 done.\n",
      "Finshed count= 95 \n",
      "\n",
      "Orignal masks# = 192  => Voted for next level flexible nms masks# = 166\n",
      "Orignal masks# = 29  => Voted for next level flexible nms masks# = 12\n",
      "0801c13e30c0e1c6918699ba8b28fb5381513de55902de7c9df2455a35482a66 done.\n",
      "Finshed count= 96 \n",
      "\n",
      "Orignal masks# = 7  => Voted for next level flexible nms masks# = 4\n",
      "4d13b19f4d9b74ba6e69d4bd47c7f534b035716473edba31bfcfe5249e1aaaf1 done.\n",
      "Finshed count= 97 \n",
      "\n",
      "23d5887339759baab135fc252655a609d98bdd6d981e0f17c9fa4594d39fbecf done.\n",
      "Finshed count= 98 \n",
      "\n",
      "Orignal masks# = 423  => Voted for next level flexible nms masks# = 411\n",
      "746496e1d09e6323a1f85b8f2f9d1b229b1182f68229bc594ef455eeee3999db done.\n",
      "Finshed count= 99 \n",
      "\n",
      "Orignal masks# = 187  => Voted for next level flexible nms masks# = 161\n",
      "7f1377ba86c59405c8b02f8cb933e8f965ae5a29d51885929bf5ca0599c46cde done.\n",
      "Finshed count= 100 \n",
      "\n",
      "Orignal masks# = 318  => Voted for next level flexible nms masks# = 301\n",
      "5a4d8a5919cfaa10cf43a7404827154340d41f5df2d328852bbda11105fe9822 done.\n",
      "Finshed count= 101 \n",
      "\n",
      "Orignal masks# = 477  => Voted for next level flexible nms masks# = 467\n",
      "59062eacbf265af92719fea96f85a8487804db18f47b834b552759b317d472ce done.\n",
      "Finshed count= 102 \n",
      "\n",
      "Orignal masks# = 613  => Voted for next level flexible nms masks# = 611\n",
      "5389d88e61ef2fb498794c97e72497125eb3c0dfedd7a9b75d9e9d2474c203e3 done.\n",
      "Finshed count= 103 \n",
      "\n",
      "processed_count = 0 selected id nums = 216\n",
      "216\n",
      "Orignal masks# = 189  => Voted for next level flexible nms masks# = 185\n",
      "Orignal masks# = 191  => Voted for next level flexible nms masks# = 188\n",
      "Orignal masks# = 193  => Voted for next level flexible nms masks# = 189\n",
      "a236bdb20d8232642f64a09e41625c170bd825c4f92d766792499925a5ef9d58 done.\n",
      "Finshed count= 1 \n",
      "\n",
      "fdee330bfce2c945e54b88b97da54de37dd4774e90ca6ec4033dd4e76d18a757 done.\n",
      "Finshed count= 2 \n",
      "\n",
      "59976c22f60f691d9daaa812e7c3ed8e7482dad89dbf6f20758828a141caa77e done.\n",
      "Finshed count= 3 \n",
      "\n",
      "Orignal masks# = 209  => Voted for next level flexible nms masks# = 203\n"
     ]
    },
    {
     "name": "stdout",
     "output_type": "stream",
     "text": [
      "62376362668799384fffe37e3d59b702bda79ab97578d3866620022820394507 done.\n",
      "Finshed count= 4 \n",
      "\n",
      "Orignal masks# = 83  => Voted for next level flexible nms masks# = 77\n",
      "fb9b0b2daa50af5e0eb219c08f1f2b8926efbb4827706311435b6c3d2aff8a20 done.\n",
      "Finshed count= 5 \n",
      "\n",
      "Orignal masks# = 78  => Voted for next level flexible nms masks# = 76\n",
      "2e0f1c047c4674fcd361edc271ff7cf66f7712fe91435b88f7848a8b5f06da83 done.\n",
      "Finshed count= 6 \n",
      "\n",
      "Orignal masks# = 187  => Voted for next level flexible nms masks# = 187\n",
      "Orignal masks# = 289  => Voted for next level flexible nms masks# = 277\n",
      "e2ae4a70f70fa7cc1efe688b7e35bc2307c30ca532cd85b7ecaa48475df420b7 done.\n",
      "Finshed count= 7 \n",
      "\n",
      "Orignal masks# = 293  => Voted for next level flexible nms masks# = 287\n",
      "4f9a3e99f1ae71d6af95c22d815492aa57037b1cf5aa9c2c64d88f18db7c3dca done.\n",
      "Finshed count= 8 \n",
      "\n",
      "Orignal masks# = 228  => Voted for next level flexible nms masks# = 222\n",
      "3c20f44a4d4f215ff42b752e31444d674a20de481fa44137aeb3893edbffb08d done.\n",
      "Finshed count= 9 \n",
      "\n",
      "5164fda32d6a57286d2f6063abda877ca81a4348bb4445b787533454b9a9c1be done.\n",
      "Finshed count= 10 \n",
      "\n",
      "Orignal masks# = 243  => Voted for next level flexible nms masks# = 243\n",
      "6c51b3db308c819131ffb1c470276497f4916ded38702056169f47a57b6dd78d done.\n",
      "Finshed count= 11 \n",
      "\n",
      "Orignal masks# = 233  => Voted for next level flexible nms masks# = 229\n",
      "0c05a71fc7981ba2c0c6b5dde6d8b3eea6ed084c929eb5445b302886bc9eb57c done.\n",
      "Finshed count= 12 \n",
      "\n",
      "Orignal masks# = 35  => Voted for next level flexible nms masks# = 33\n",
      "5401abf46b253f6e7af3f23f08e64d760d4d6680a49c38d2c7344870d28f4206 done.\n",
      "Finshed count= 13 \n",
      "\n",
      "Orignal masks# = 236  => Voted for next level flexible nms masks# = 232\n",
      "16b73858cc19211efbe8d3950800b33d66f9e430e4558826eec60004b19eb2fe done.\n",
      "Finshed count= 14 \n",
      "\n",
      "Orignal masks# = 252  => Voted for next level flexible nms masks# = 250\n",
      "Orignal masks# = 180  => Voted for next level flexible nms masks# = 178\n",
      "11faede22ca726b7914a6a9f44ec4863dfa07102154c8e7e07c233d28fb0d6bc done.\n",
      "Finshed count= 15 \n",
      "\n",
      "Orignal masks# = 279  => Voted for next level flexible nms masks# = 274\n",
      "9cbc41a528791e77977e0a331c6318f8df398e53fe334a9f2aa933afdf3aed44 done.\n",
      "Finshed count= 16 \n",
      "\n",
      "Orignal masks# = 29  => Voted for next level flexible nms masks# = 27\n",
      "010c48f7f53524acf3e36b957046cb4f3ae731d346c1921dae33d6f5b36f0626 done.\n",
      "Finshed count= 17 \n",
      "\n",
      "dd5c25a6d7691af9ccd4020fb4bf32d9eff34f94886f90a1aa11ed32c2f788bc done.\n",
      "Finshed count= 18 \n",
      "\n",
      "Orignal masks# = 194  => Voted for next level flexible nms masks# = 193\n",
      "Orignal masks# = 70  => Voted for next level flexible nms masks# = 69\n",
      "914e7461bbac448390aa3ea923e00995816a4e68b792493cb73dfc6a0d43bd71 done.\n",
      "Finshed count= 19 \n",
      "\n",
      "e67209824250c5d48e425ed812ace8506f72da34c030bb95ea01b81b22fe8907 done.\n",
      "Finshed count= 20 \n",
      "\n",
      "Orignal masks# = 325  => Voted for next level flexible nms masks# = 314\n",
      "034ac7e5aca2a7c455a1ca65942948da016fe04f03ba4357eebce8ab458eb5d3 done.\n",
      "Finshed count= 21 \n",
      "\n",
      "Orignal masks# = 26  => Voted for next level flexible nms masks# = 25\n",
      "990ce3042342802a19b1724deb11b9ee070ad50c949ad87bb521c7f00f732eea done.\n",
      "Finshed count= 22 \n",
      "\n",
      "Orignal masks# = 79  => Voted for next level flexible nms masks# = 72\n",
      "85d8fee728cf64f6aa00d0d5b3e9a7d400b02f15d791133ac9981793152d85fc done.\n",
      "Finshed count= 23 \n",
      "\n",
      "Orignal masks# = 233  => Voted for next level flexible nms masks# = 226\n",
      "Orignal masks# = 277  => Voted for next level flexible nms masks# = 267\n",
      "88c541f7da8cc591203875a66649790679854607997356454e35fd2ac79c1e8b done.\n",
      "Finshed count= 24 \n",
      "\n",
      "16e5f3f89ae463d087b2f2dec239f0dabfaca9226b18e90dc3511b53efd457ec done.\n",
      "Finshed count= 25 \n",
      "\n",
      "Orignal masks# = 269  => Voted for next level flexible nms masks# = 264\n",
      "f6b4f83301ea52e5bcca2652bf191299aec57ed3344478b5903cd8b1fed27bbb done.\n",
      "Finshed count= 26 \n",
      "\n",
      "Orignal masks# = 409  => Voted for next level flexible nms masks# = 391\n",
      "Orignal masks# = 141  => Voted for next level flexible nms masks# = 134\n",
      "Orignal masks# = 111  => Voted for next level flexible nms masks# = 107\n",
      "Orignal masks# = 177  => Voted for next level flexible nms masks# = 175\n",
      "a18985a2397df0cb26da53500399591baadd4271c7463c66d0186657ed2a5fdf done.\n",
      "Finshed count= 27 \n",
      "\n",
      "Orignal masks# = 24  => Voted for next level flexible nms masks# = 24\n",
      "e85088d00c22ff75722a86d8ce73ce1ae4f17b9b826c4d2160e1e49d848c1635 done.\n",
      "Finshed count= 28 \n",
      "\n",
      "8f5e36186e54f484e212357e5d848dfcd497ea87e8757b3809fa91776525d908 done.\n",
      "Finshed count= 29 \n",
      "\n",
      "da97d4b894efa3d6c6215861aed587c89993d80887893ecf11fa8b7ecd70ac50 done.\n",
      "Finshed count= 30 \n",
      "\n",
      "Orignal masks# = 56  => Voted for next level flexible nms masks# = 56\n",
      "9f0e2b9788be75381ab1def8f4f2952d67f06ccde8c5201e0c7fb5f31eb25eb9 done.\n",
      "Finshed count= 31 \n",
      "\n",
      "d2c576309a465609700993ab6d356c9853f935193b7f8115766a37ff3e0d8477 done.\n",
      "Finshed count= 32 \n",
      "\n",
      "Orignal masks# = 91  => Voted for next level flexible nms masks# = 88\n",
      "Orignal masks# = 363  => Voted for next level flexible nms masks# = 335\n",
      "d76f19c686fee315ed5fcf90ea51a34da50c2a1d6eee124bcac3815ca4c15df8 done.\n",
      "Finshed count= 33 \n",
      "\n",
      "Orignal masks# = 268  => Voted for next level flexible nms masks# = 239\n",
      "8b80aca225c1dd0aa5637229f0e0bec0dbd7b5313b462effd768da2bb5a56a06 done.\n",
      "Finshed count= 34 \n",
      "\n",
      "7188b9a7b509168e923c7a621a1f730f53014dc254dde18dfd3de4d2dc41b7d6 done.\n",
      "Finshed count= 35 \n",
      "\n",
      "Orignal masks# = 186  => Voted for next level flexible nms masks# = 172\n",
      "7b58698b0ae67487db98e3478a30a596f5417a371771e10e2dac28baecf90abb done.\n",
      "Finshed count= 36 \n",
      "\n",
      "Orignal masks# = 87  => Voted for next level flexible nms masks# = 83\n",
      "54e6a53122767ee9a0db553efc04ddfefab6a244c3f29b249a34071032a3b0fb done.\n",
      "Finshed count= 37 \n",
      "\n",
      "Orignal masks# = 58  => Voted for next level flexible nms masks# = 55\n",
      "95994a75d6e0c56fc5c013cd684a75c538212c8e2705beebff377c19d8041db4 done.\n",
      "Finshed count= 38 \n",
      "\n",
      "Orignal masks# = 198  => Voted for next level flexible nms masks# = 194\n",
      "3c4189506c8ea3bde5e8b0be036d616835ef88e0a12a6686c391a8754d744d68 done.\n",
      "Finshed count= 39 \n",
      "\n",
      "Orignal masks# = 272  => Voted for next level flexible nms masks# = 262\n",
      "Orignal masks# = 225  => Voted for next level flexible nms masks# = 218\n",
      "1f39f641a895becba2fe7bd8e0cd5a94983f81a7b010c5c225a0d06ee0d2ceb7 done.\n",
      "Finshed count= 40 \n",
      "\n",
      "0ca87beee0808d4865973ee05aeaac803e836984bc6d64796c4508d094ee6cb6 done.\n",
      "Finshed count= 41 \n",
      "\n",
      "Orignal masks# = 296  => Voted for next level flexible nms masks# = 284\n",
      "f9da8312544a4a431b72cd71ce240ec2f060e0be9642e66c5ede1b865b0c00f4 done.\n",
      "Finshed count= 42 \n",
      "\n",
      "Orignal masks# = 202  => Voted for next level flexible nms masks# = 199\n",
      "Orignal masks# = 23  => Voted for next level flexible nms masks# = 20\n",
      "e519382bf2f2e9bcd64082a580ef841a7d3d8d1ce918c8bc3e531596f1d9b1fd done.\n",
      "Finshed count= 43 \n",
      "\n",
      "Orignal masks# = 175  => Voted for next level flexible nms masks# = 171\n",
      "Orignal masks# = 70  => Voted for next level flexible nms masks# = 66\n",
      "c41936544b9c943ed7ddbdc73f0cfef91e84c062e9e84fc0e224b714a466ae09 done.\n",
      "Finshed count= 44 \n",
      "\n",
      "187053f9593d6a513fe798953dcccb58a50d16e3153e6e1936e343fb6cb29b93 done.\n",
      "Finshed count= 45 \n",
      "\n",
      "faa5e6c3397f97d07763f5071e15ed8b8eb4699f3430a5d668a8dca5c03e79a1 done.\n",
      "Finshed count= 46 \n",
      "\n",
      "Orignal masks# = 332  => Voted for next level flexible nms masks# = 324\n",
      "Orignal masks# = 242  => Voted for next level flexible nms masks# = 235\n",
      "Orignal masks# = 90  => Voted for next level flexible nms masks# = 90\n",
      "2f9f71e6a7339c86061f79b5fc3d095104b3ab4b6ca3075fd20e51026e5b2ffe done.\n",
      "Finshed count= 47 \n",
      "\n",
      "5d0cbd240272ee88a41715cbfa7b4febfff79f60773f9652c14af41aaed6a7cf done.\n",
      "Finshed count= 48 \n",
      "\n",
      "Orignal masks# = 57  => Voted for next level flexible nms masks# = 56\n",
      "54b644a287003ffd94a13b30b88c35807ff5e5bef13fb739cb8ac30b9d15eb90 done.\n",
      "Finshed count= 49 \n",
      "\n",
      "e47b9bf1d70398249142fd3debc209b9a51b22888c0d81118179a2b5fa18ed20 done.\n",
      "Finshed count= 50 \n",
      "\n",
      "Orignal masks# = 54  => Voted for next level flexible nms masks# = 51\n",
      "05cc503b996fd999c8ddf4aead7410e523542497348234acf23818c8e201bb5b done.\n",
      "Finshed count= 51 \n",
      "\n",
      "Orignal masks# = 63  => Voted for next level flexible nms masks# = 58\n",
      "54377763127a5ab8f21228729853796275718dcf33e63bdb4df59deaf1c301f3 done.\n",
      "Finshed count= 52 \n",
      "\n",
      "Orignal masks# = 112  => Voted for next level flexible nms masks# = 109\n",
      "89246255fda235bced63577d17017fb7b1afb1c2d69824a9e8863fd6da976b9b done.\n",
      "Finshed count= 53 \n",
      "\n",
      "Orignal masks# = 231  => Voted for next level flexible nms masks# = 225\n",
      "Orignal masks# = 234  => Voted for next level flexible nms masks# = 234\n",
      "Orignal masks# = 148  => Voted for next level flexible nms masks# = 148\n"
     ]
    },
    {
     "name": "stdout",
     "output_type": "stream",
     "text": [
      "1993f30556b35c2ac453e5feaf715156463e948ad72fdf184e00a9b1968fe1b0 done.\n",
      "Finshed count= 54 \n",
      "\n",
      "Orignal masks# = 186  => Voted for next level flexible nms masks# = 165\n",
      "f5bc78dfdce118b5375f681a89adce1655a468b7d8ef67039d420d49e46a7c2f done.\n",
      "Finshed count= 55 \n",
      "\n",
      "Orignal masks# = 300  => Voted for next level flexible nms masks# = 297\n",
      "7a7297a33fa5ddb64f1f5c39aa38d33fc548f4efcd4929e5bcc7786b943face0 done.\n",
      "Finshed count= 56 \n",
      "\n",
      "f22874c8fac3c7c39297796cf8e03f1b5c18a1a2497973ae9338f7f7dd46d36b done.\n",
      "Finshed count= 57 \n",
      "\n",
      "3219ba6a33fb8e76a9b2f20ccf24bf2549c9a8f4ee346765768521c76833d58b done.\n",
      "Finshed count= 58 \n",
      "\n",
      "Orignal masks# = 161  => Voted for next level flexible nms masks# = 160\n",
      "b8be2888a8de0651a86756b54258e50c224305f00b813121ccd0ecfc9db475c0 done.\n",
      "Finshed count= 59 \n",
      "\n",
      "Orignal masks# = 293  => Voted for next level flexible nms masks# = 283\n",
      "d8cfb5b1cab2ca009f63b89dfc8cc05571a027acf201d6f7440107ac8df9c61c done.\n",
      "Finshed count= 60 \n",
      "\n",
      "Orignal masks# = 203  => Voted for next level flexible nms masks# = 197\n",
      "ed7fe4d266acc1d97f88d569446bc4ba7b3e2786334ec11288f73a0bd90c2efa done.\n",
      "Finshed count= 61 \n",
      "\n",
      "Orignal masks# = 294  => Voted for next level flexible nms masks# = 284\n",
      "Orignal masks# = 275  => Voted for next level flexible nms masks# = 267\n",
      "56d84a8adbcbbce78fd3ebf30203512a4369640cfe5e8e2bc8f9ddfc211d9afb done.\n",
      "Finshed count= 62 \n",
      "\n",
      "8ac1bb51234d469a09daab42b8cf7526431bdefb71a6673815816324921bfdf6 done.\n",
      "Finshed count= 63 \n",
      "\n",
      "Orignal masks# = 318  => Voted for next level flexible nms masks# = 294\n",
      "Orignal masks# = 326  => Voted for next level flexible nms masks# = 314\n",
      "bf064c8f6dc9c17845bbbac520e01c2652246dd954b8f0f413aef8078fb5717c done.\n",
      "Finshed count= 64 \n",
      "\n",
      "Orignal masks# = 253  => Voted for next level flexible nms masks# = 249\n",
      "ae2a95ec43b31a0bc89c472779aeee1f7b683f747aa19caa3efd79b473df2f2e done.\n",
      "Finshed count= 65 \n",
      "\n",
      "4165350feb1ec46ff36a3dcc716f9b087d243b47d26c1530ac703e8bf8bb2e4c done.\n",
      "Finshed count= 66 \n",
      "\n",
      "Orignal masks# = 155  => Voted for next level flexible nms masks# = 151\n",
      "Orignal masks# = 228  => Voted for next level flexible nms masks# = 220\n",
      "af9d1de2340e64173aeb8a90b064d6b7da0e195a4092f37b859e3fb085ffd40e done.\n",
      "Finshed count= 67 \n",
      "\n",
      "5dfdef7486890b822a49cae9fd2e7aa332f782bbac9bb9fc892cd280ff09cf6c done.\n",
      "Finshed count= 68 \n",
      "\n",
      "Orignal masks# = 67  => Voted for next level flexible nms masks# = 67\n",
      "d69da362d25593447d676a0b78765b06f434667ef58cba5e4076721d82ca477e done.\n",
      "Finshed count= 69 \n",
      "\n",
      "Orignal masks# = 293  => Voted for next level flexible nms masks# = 284\n",
      "82e651f4854c05766a3e70f0b9557aaa1be1c580f9c0cc65a2066556d6452f85 done.\n",
      "Finshed count= 70 \n",
      "\n",
      "Orignal masks# = 333  => Voted for next level flexible nms masks# = 324\n",
      "Orignal masks# = 286  => Voted for next level flexible nms masks# = 284\n",
      "14ff49df48363b4f950a49c08313d933273fe9058dbda881d9579a1700e16dc8 done.\n",
      "Finshed count= 71 \n",
      "\n",
      "80d378a507343e202f7697f6005700dcf622cc51893cf2e334c7190820d8495a done.\n",
      "Finshed count= 72 \n",
      "\n",
      "Orignal masks# = 330  => Voted for next level flexible nms masks# = 319\n",
      "2012fffe6ccac56b4ed6d88e2e8dc428e444ec2507dbfbf94a629a33a12169c9 done.\n",
      "Finshed count= 73 \n",
      "\n",
      "Orignal masks# = 20  => Voted for next level flexible nms masks# = 20\n",
      "2fbcf6e0d65eece04a72daae3ea5f688ff04ef8c716ad49bd2b5fbf381b86163 done.\n",
      "Finshed count= 74 \n",
      "\n",
      "Orignal masks# = 218  => Voted for next level flexible nms masks# = 217\n",
      "Orignal masks# = 244  => Voted for next level flexible nms masks# = 242\n",
      "Orignal masks# = 178  => Voted for next level flexible nms masks# = 174\n",
      "ffb383db5ee04d316f2e40f74649aab78648cf9b9d7fc6a7cb24b7ee95b9039c done.\n",
      "Finshed count= 75 \n",
      "\n",
      "8cc0a137361ce29cd4ac341af01cbcf19b1ddf12cc5cab5b3073075da347dad5 done.\n",
      "Finshed count= 76 \n",
      "\n",
      "Orignal masks# = 59  => Voted for next level flexible nms masks# = 58\n",
      "Orignal masks# = 340  => Voted for next level flexible nms masks# = 322\n",
      "b3e6611ab7ec24724600c7187fd57890dea9ba3f9512768efe8db5bf6e3cf2ad done.\n",
      "Finshed count= 77 \n",
      "\n",
      "b2cd05231629916f8b7a7a55e2de3ca872b2cf431cc7fe776f6120126599c3ed done.\n",
      "Finshed count= 78 \n",
      "\n",
      "Orignal masks# = 286  => Voted for next level flexible nms masks# = 281\n",
      "Orignal masks# = 98  => Voted for next level flexible nms masks# = 95\n",
      "c30f369ff514082980cda5f38b088c41844dff6e6a448eac07eff1563e854efc done.\n",
      "Finshed count= 79 \n",
      "\n",
      "213bccb0c1676ab6cacd548b4fda37223dfa97263dc0172e96519af22d80ecdd done.\n",
      "Finshed count= 80 \n",
      "\n",
      "f38f1c9c5115b248cb06575d4d080244324c3e7b22d5ffb2fd2b3583e9de6682 done.\n",
      "Finshed count= 81 \n",
      "\n",
      "Orignal masks# = 112  => Voted for next level flexible nms masks# = 107\n",
      "7cddaa5b6a3c051cd730be414fce227e04b82f21dc08df69f303fb41a4129415 done.\n",
      "Finshed count= 82 \n",
      "\n",
      "No masks\n",
      "7b74800ff4b5c1e43919f825b1e41f5ea428240596a32c591d44d53b0476b21c done.\n",
      "Finshed count= 83 \n",
      "\n",
      "Orignal masks# = 38  => Voted for next level flexible nms masks# = 37\n",
      "1c4e26959e8326d80104ca7c1f9f21924646aceee86242d6daba338a59154e33 done.\n",
      "Finshed count= 84 \n",
      "\n",
      "Orignal masks# = 197  => Voted for next level flexible nms masks# = 194\n",
      "01e7cc3424aee5065c9c7232df5a39b1f11c15ab0ccac0282c422905f93507d3 done.\n",
      "Finshed count= 85 \n",
      "\n",
      "Orignal masks# = 76  => Voted for next level flexible nms masks# = 69\n",
      "cddadd0e1abb85b605d090c2f075c6c58f03dff6c4f59f24342f0b753834c11e done.\n",
      "Finshed count= 86 \n",
      "\n",
      "Orignal masks# = 62  => Voted for next level flexible nms masks# = 59\n",
      "ed713ccbd06323f9e817169486fed0feca4654f1cbe43dca5955cee06d0497d2 done.\n",
      "Finshed count= 87 \n",
      "\n",
      "Orignal masks# = 32  => Voted for next level flexible nms masks# = 26\n",
      "Orignal masks# = 414  => Voted for next level flexible nms masks# = 404\n",
      "be4e502a6bd28ffed69cc3b3841c84967585bd1e6806f39b8215005cd4cfe038 done.\n",
      "Finshed count= 88 \n",
      "\n",
      "Orignal masks# = 238  => Voted for next level flexible nms masks# = 219\n",
      "Orignal masks# = 207  => Voted for next level flexible nms masks# = 203\n",
      "a03a8b38411cc62d0c6575dc33e2f98642e8a67880ca05799b4fabc76fabd1fe done.\n",
      "Finshed count= 89 \n",
      "\n",
      "Orignal masks# = 142  => Voted for next level flexible nms masks# = 135\n",
      "Orignal masks# = 278  => Voted for next level flexible nms masks# = 265\n",
      "5b46fd8c53508aaccda58888c63a73919b0401655eb711ce03aa8363898c72c7 done.\n",
      "Finshed count= 90 \n",
      "\n",
      "3f91429dff354b9876bb38c32510c6093e284b722f51d5d064d68a4b83757d66 done.\n",
      "Finshed count= 91 \n",
      "\n",
      "a6f339fa5fd2407519fe0170bed295bca475ef8b55e53a181b058cef38f730fc done.\n",
      "Finshed count= 92 \n",
      "\n",
      "Orignal masks# = 71  => Voted for next level flexible nms masks# = 69\n",
      "308b654a57190ec7604923da469c3d44f2e612913950b09ca9f8f61a795117cc done.\n",
      "Finshed count= 93 \n",
      "\n",
      "358b9f6bb6bd8d6f9c5426559d6c3b65a9ade3e784d45487d247d6b8fefbc0dc done.\n",
      "Finshed count= 94 \n",
      "\n",
      "Orignal masks# = 318  => Voted for next level flexible nms masks# = 295\n",
      "bacc0a047665ae0a8ffa62be76298283fe1c6c013c521ae063702fce9abc851f done.\n",
      "Finshed count= 95 \n",
      "\n",
      "Orignal masks# = 247  => Voted for next level flexible nms masks# = 241\n",
      "Orignal masks# = 229  => Voted for next level flexible nms masks# = 222\n",
      "Orignal masks# = 120  => Voted for next level flexible nms masks# = 117\n",
      "17e1b2324ba299fbddf2643520d2a5e860a44f4af19f09797fb20eb684e1c47e done.\n",
      "Finshed count= 96 \n",
      "\n",
      "8b1693c65643b7081cc84bf55aa7323940ca89ace609eeb99bf3aa2524986197 done.\n",
      "Finshed count= 97 \n",
      "\n",
      "Orignal masks# = 255  => Voted for next level flexible nms masks# = 251\n",
      "285a1b852717703a725c2ca471405311a662e3a33766379cf0768b5f766e4964 done.\n",
      "Finshed count= 98 \n",
      "\n",
      "ef20c80c5795f0cb058f018ad1e43a87005f2cf2727cf963d786574d50800f1d done.\n",
      "Finshed count= 99 \n",
      "\n",
      "Orignal masks# = 301  => Voted for next level flexible nms masks# = 290\n",
      "Orignal masks# = 183  => Voted for next level flexible nms masks# = 180\n",
      "Orignal masks# = 310  => Voted for next level flexible nms masks# = 300\n",
      "3a829587e31df7853846d9b8df7eb42acc28145ecb5de6dbb2c5d19ef98954c3 done.\n",
      "Finshed count= 100 \n",
      "\n",
      "85ec95e87228d5e09e617f7263c45d8ca880db43f26d30e449cfd71ef2b2a502 done.\n",
      "Finshed count= 101 \n",
      "\n",
      "d8d003b17919e765b801c66b8bbe982282b67b2fbd402bf0482ce0a34f793686 done.\n",
      "Finshed count= 102 \n",
      "\n",
      "Orignal masks# = 225  => Voted for next level flexible nms masks# = 219\n",
      "Orignal masks# = 137  => Voted for next level flexible nms masks# = 132\n",
      "8a1cabd715b721bd30b29923d7f3443211e26bc783c5263ac67d778602f72657 done.\n",
      "Finshed count= 103 \n",
      "\n",
      "04c7531bd6e7db41341892f85f26163885bace79ea4501c8388e044d7da8e35f done.\n",
      "Finshed count= 104 \n",
      "\n",
      "Orignal masks# = 197  => Voted for next level flexible nms masks# = 192\n",
      "0eb4feb7ab8c3c6c129dd0abda6a7fec8c477d933484b4581a20dca249d1b12d done.\n",
      "Finshed count= 105 \n",
      "\n",
      "Orignal masks# = 231  => Voted for next level flexible nms masks# = 226\n"
     ]
    },
    {
     "name": "stdout",
     "output_type": "stream",
     "text": [
      "Orignal masks# = 305  => Voted for next level flexible nms masks# = 303\n",
      "Orignal masks# = 313  => Voted for next level flexible nms masks# = 307\n",
      "76ae6e2607c5dada55e32d21f1c57dcf777307918df57e174e61b20b2f1c7c5e done.\n",
      "Finshed count= 106 \n",
      "\n",
      "Orignal masks# = 56  => Voted for next level flexible nms masks# = 51\n",
      "c9e2d6b09f6f55999dad8daabcc04f73f65d35d6afefacb57db32df35546a017 done.\n",
      "Finshed count= 107 \n",
      "\n",
      "c78147af0e941fdf3d6bb1bc57646bcb8ad6f522b0c6a7ae7c151b7611f34da9 done.\n",
      "Finshed count= 108 \n",
      "\n",
      "4bbf235ec8c0a339626a749274affa9bb2a9e51ee8d4725a2044bc1a2342e710 done.\n",
      "Finshed count= 109 \n",
      "\n",
      "Orignal masks# = 3  => Voted for next level flexible nms masks# = 3\n",
      "14eb1afbd8482bced9b2423064101026a481138b816155f32b416e1c2df53265 done.\n",
      "Finshed count= 110 \n",
      "\n",
      "Orignal masks# = 201  => Voted for next level flexible nms masks# = 198\n",
      "7fb334edaf9fa6770015f1703d01d75e3fe0b1c21ac3f6fcce89abb646ab616f done.\n",
      "Finshed count= 111 \n",
      "\n",
      "Orignal masks# = 236  => Voted for next level flexible nms masks# = 226\n",
      "219c6c29615c816476a71ed82c7e50fdcca4727020e0e52c019c6d252d6569d0 done.\n",
      "Finshed count= 112 \n",
      "\n",
      "Orignal masks# = 179  => Voted for next level flexible nms masks# = 172\n",
      "c0e1a856a3d73a1a5906ef8294feb22b42c9c344efa9b7d200d9f8de18f10985 done.\n",
      "Finshed count= 113 \n",
      "\n",
      "Orignal masks# = 244  => Voted for next level flexible nms masks# = 238\n",
      "a1078a2bf136f069120e5b696e63a2f8eb901e5f144676456bc6afa8b5a18025 done.\n",
      "Finshed count= 114 \n",
      "\n",
      "Orignal masks# = 184  => Voted for next level flexible nms masks# = 180\n",
      "Orignal masks# = 130  => Voted for next level flexible nms masks# = 128\n",
      "Orignal masks# = 304  => Voted for next level flexible nms masks# = 294\n",
      "ea7015106f3e263aca340cdd49e02be2a287e3ef35cf08f56b367be81e03ea6f done.\n",
      "Finshed count= 115 \n",
      "\n",
      "0019c086029dd3be01f72131edb74e21ee995574e6d5c136ea868630b0d73523 done.\n",
      "Finshed count= 116 \n",
      "\n",
      "Orignal masks# = 238  => Voted for next level flexible nms masks# = 234\n",
      "5107baeac5b554c41180574a9f3384ca91fca8333ad07453c785a4e27f99668e done.\n",
      "Finshed count= 117 \n",
      "\n",
      "Orignal masks# = 45  => Voted for next level flexible nms masks# = 44\n",
      "efe26222bbc18e649a1e716816bc149379c7d38d26240482e5f8b4cb902cc2e9 done.\n",
      "Finshed count= 118 \n",
      "\n",
      "b20cdedbdb2f5ed9cfa75eb255e0665a7ba01bb0ba05748ad4c95b2b606eea62 done.\n",
      "Finshed count= 119 \n",
      "\n",
      "Orignal masks# = 381  => Voted for next level flexible nms masks# = 358\n",
      "Orignal masks# = 348  => Voted for next level flexible nms masks# = 329\n",
      "c7bd3be6a4f3a07008cd6a77b885dbc7f3803d4b26c261283bdc6ccd1d4a6752 done.\n",
      "Finshed count= 120 \n",
      "\n",
      "63bc2a0c564882b414349b3485208e50b47aa56f8f0e9cc1fe1e0fe8cf60d1f6 done.\n",
      "Finshed count= 121 \n",
      "\n",
      "Orignal masks# = 91  => Voted for next level flexible nms masks# = 88\n",
      "d5de381bbcedd55315a8a91108dafcc09ed7ed12222cd6cf77b2816a5c1e277e done.\n",
      "Finshed count= 122 \n",
      "\n",
      "Orignal masks# = 69  => Voted for next level flexible nms masks# = 69\n",
      "cc051eba2755c9ad920146ed8570e0b8f1e06f49c01ce9350561f3cec3f908ed done.\n",
      "Finshed count= 123 \n",
      "\n",
      "Orignal masks# = 264  => Voted for next level flexible nms masks# = 262\n",
      "cdfc7aa2efc0dd13a0ac86c6a3dcbc3d12cda592e2ce0e26dc2166a7cd091228 done.\n",
      "Finshed count= 124 \n",
      "\n",
      "Orignal masks# = 255  => Voted for next level flexible nms masks# = 245\n",
      "2c50d0073f547c962997e0a1203116f1e18b836197367523b631b7082efbee74 done.\n",
      "Finshed count= 125 \n",
      "\n",
      "Orignal masks# = 351  => Voted for next level flexible nms masks# = 339\n",
      "ac6fbb12e2f76e219c09c6990300bf408cebcbb36e7a0fbd19d28f76d8dce512 done.\n",
      "Finshed count= 126 \n",
      "\n",
      "Orignal masks# = 334  => Voted for next level flexible nms masks# = 318\n",
      "Orignal masks# = 426  => Voted for next level flexible nms masks# = 399\n",
      "Orignal masks# = 167  => Voted for next level flexible nms masks# = 146\n",
      "dab07e5eeb4904eb7efcd3bd0a35fff174433e9752de95c4eb34c6a36af9f275 done.\n",
      "Finshed count= 127 \n",
      "\n",
      "5c778a00754f3180c8a85a4f0d3a7a01ecb89a87069f3bd0146a78011eb5149c done.\n",
      "Finshed count= 128 \n",
      "\n",
      "Orignal masks# = 276  => Voted for next level flexible nms masks# = 274\n",
      "f5e08f04b802fb4485e46c52b228e0c850935cbad684236fd84814d11b461cb9 done.\n",
      "Finshed count= 129 \n",
      "\n",
      "Orignal masks# = 324  => Voted for next level flexible nms masks# = 308\n",
      "c472a7c4b06821e7c82aaa1205578a03126be62eb3b30516aeb2c120a7f4d006 done.\n",
      "Finshed count= 130 \n",
      "\n",
      "9e58ea72ba12e78449fa8426184768d78856dcabaeb557088e431ed2159a0d28 done.\n",
      "Finshed count= 131 \n",
      "\n",
      "Orignal masks# = 170  => Voted for next level flexible nms masks# = 167\n",
      "Orignal masks# = 467  => Voted for next level flexible nms masks# = 435\n",
      "f557cd3a98abe1d3e2d68c01ac1a04915b3e2f5263c11c3c12d32310c81fd580 done.\n",
      "Finshed count= 132 \n",
      "\n",
      "Orignal masks# = 211  => Voted for next level flexible nms masks# = 204\n",
      "27d57b1c1139062117faf96f6c527a38631cbb833100d2753d2faa29121a817f done.\n",
      "Finshed count= 133 \n",
      "\n",
      "c10c1730e6b7c0568c6ccdfe419a52ec04378eb4057478d226fd010134aabc4e done.\n",
      "Finshed count= 134 \n",
      "\n",
      "Orignal masks# = 222  => Voted for next level flexible nms masks# = 214\n",
      "adac3fd791912bc696d777fe19602ed7f4093a60d56d9a22847a91abb10e57ab done.\n",
      "Finshed count= 135 \n",
      "\n",
      "Orignal masks# = 202  => Voted for next level flexible nms masks# = 201\n",
      "Orignal masks# = 227  => Voted for next level flexible nms masks# = 216\n",
      "59cbe2d78e448da8ec5d187a64f399b748a85c7dddeaeb00edf4165716153b53 done.\n",
      "Finshed count= 136 \n",
      "\n",
      "b1507aaba58e66642a88decf0fd77cc2b7cbe66a02cd999d8e32932a2fc3962e done.\n",
      "Finshed count= 137 \n",
      "\n",
      "Orignal masks# = 96  => Voted for next level flexible nms masks# = 94\n",
      "f48cc60f3d640c726becf9a45c24909950339019c0e190200f093bbee796f2b3 done.\n",
      "Finshed count= 138 \n",
      "\n",
      "Orignal masks# = 171  => Voted for next level flexible nms masks# = 170\n",
      "cf0f82588fc748a501bb6ab2544fba78a80c600fc027c2934fc0057e155cbb9b done.\n",
      "Finshed count= 139 \n",
      "\n",
      "Orignal masks# = 46  => Voted for next level flexible nms masks# = 44\n",
      "14b727c9b98ac6a139a3c2abae2814595f011ec4997610faa49bf59cd35972fd done.\n",
      "Finshed count= 140 \n",
      "\n",
      "Orignal masks# = 277  => Voted for next level flexible nms masks# = 267\n",
      "Orignal masks# = 99  => Voted for next level flexible nms masks# = 81\n",
      "f6f5ddbd961a34a4df6cafe379e6070ca6c6465b0193ab9476245397b3d28c28 done.\n",
      "Finshed count= 141 \n",
      "\n",
      "d8a48316dcbb8a96e4cc2844eedad637bb955fc12a365b12cfa75f063a95a72b done.\n",
      "Finshed count= 142 \n",
      "\n",
      "Orignal masks# = 36  => Voted for next level flexible nms masks# = 36\n",
      "0d179d0cc0754bdb02b16f54708cd7e012a602151b02c4abc5c6f5da160e0c65 done.\n",
      "Finshed count= 143 \n",
      "\n",
      "Orignal masks# = 362  => Voted for next level flexible nms masks# = 355\n",
      "fd959b91f1fd8971f6e0cfc0848e80e302ca748bb26daf1aa5c70d5e07b416c6 done.\n",
      "Finshed count= 144 \n",
      "\n",
      "Orignal masks# = 363  => Voted for next level flexible nms masks# = 354\n",
      "Orignal masks# = 239  => Voted for next level flexible nms masks# = 233\n",
      "45b246208503b77fb46529df3c54596e4ef02d2f6275fd19566e7d7f2769f68e done.\n",
      "Finshed count= 145 \n",
      "\n",
      "7f6f479d50008a4e7dbdd28e30e42596c4c90adbc0b0b7c8f78a79517a80f4d7 done.\n",
      "Finshed count= 146 \n",
      "\n",
      "Orignal masks# = 237  => Voted for next level flexible nms masks# = 230\n",
      "6991d83ca198dbb52e40d5c8f44791385551496800974c5e76ab4849c06b1680 done.\n",
      "Finshed count= 147 \n",
      "\n",
      "Orignal masks# = 173  => Voted for next level flexible nms masks# = 165\n",
      "Orignal masks# = 395  => Voted for next level flexible nms masks# = 375\n",
      "58ab87e7fe93297b478ee2401ee91271e80f4e452dd32455a99b83b90ecb407b done.\n",
      "Finshed count= 148 \n",
      "\n",
      "Orignal masks# = 310  => Voted for next level flexible nms masks# = 305\n",
      "Orignal masks# = 283  => Voted for next level flexible nms masks# = 255\n",
      "38201e51e00f599ca106e3c39573a587b88a238381b2f594a81bb01435896a96 done.\n",
      "Finshed count= 149 \n",
      "\n",
      "Orignal masks# = 115  => Voted for next level flexible nms masks# = 114\n",
      "Orignal masks# = 237  => Voted for next level flexible nms masks# = 227\n",
      "1f0eb72a4fa969830d8de21102cf49380ad6c4a1d6705b8474377e555b736e74 done.\n",
      "Finshed count= 150 \n",
      "\n",
      "840ca25f4e2a6e8ab77bf28226e6c3b9cda8d00010b13c65cfeb32814820141d done.\n",
      "Finshed count= 151 \n",
      "\n",
      "873d46418959a13877f6a01d001c82eee2495a3043bef8b96c59ad31c8a27ec7 done.\n",
      "Finshed count= 152 \n",
      "\n",
      "Orignal masks# = 208  => Voted for next level flexible nms masks# = 203\n",
      "39b6ed3e0dd50ea6e113e4f95b656c9bdc6d3866579f648a16a853aeb5af1a61 done.\n",
      "Finshed count= 153 \n",
      "\n",
      "c2d36bd0202a94a004b93c5d53a17ab129881482a428f4064e7184e610a215de done.\n",
      "Finshed count= 154 \n",
      "\n",
      "Orignal masks# = 47  => Voted for next level flexible nms masks# = 47\n",
      "a12e6ceb81bd05295b083086f31570823e6be795959117029bda0a441d56b5eb done.\n",
      "Finshed count= 155 \n",
      "\n",
      "Orignal masks# = 266  => Voted for next level flexible nms masks# = 263\n",
      "Orignal masks# = 232  => Voted for next level flexible nms masks# = 222\n"
     ]
    },
    {
     "name": "stdout",
     "output_type": "stream",
     "text": [
      "ff4dafefa29d4ea375b36321bc55926e743fab64dcaa5a60b36374fb52d1e9d8 done.\n",
      "Finshed count= 156 \n",
      "\n",
      "33fd877e3dbfccc9bb70628079e1dbcabb79b906e5ed79211f66b99b3770bb52 done.\n",
      "Finshed count= 157 \n",
      "\n",
      "Orignal masks# = 297  => Voted for next level flexible nms masks# = 289\n",
      "Orignal masks# = 300  => Voted for next level flexible nms masks# = 293\n",
      "91b356b01f1a45e32cff3f5ad644dfd3ebaed2df35dc7dd7633a5d857e600797 done.\n",
      "Finshed count= 158 \n",
      "\n",
      "Orignal masks# = 90  => Voted for next level flexible nms masks# = 88\n",
      "f0c40bcaa222468d2a32a13f6d5f145bb2fc9c18f408ddcf4e175594b398ab68 done.\n",
      "Finshed count= 159 \n",
      "\n",
      "16b078d49301dec3368b349132db22b4657767875eef06cdc7982ebd19027d5b done.\n",
      "Finshed count= 160 \n",
      "\n",
      "Orignal masks# = 176  => Voted for next level flexible nms masks# = 170\n",
      "4fab51904dd3d043594041c2d33bf265f2133b0035c5bb586a4e31302797f2a7 done.\n",
      "Finshed count= 161 \n",
      "\n",
      "Orignal masks# = 341  => Voted for next level flexible nms masks# = 320\n",
      "Orignal masks# = 210  => Voted for next level flexible nms masks# = 203\n",
      "838f7e9b76b14f365e72ee75ee9942a9c3f1370a2682c9095eb0419301970f70 done.\n",
      "Finshed count= 162 \n",
      "\n",
      "a8321208363ad4fb73148c1872c697bb2dffcee790dff41942faeaebd6d0f7a5 done.\n",
      "Finshed count= 163 \n",
      "\n",
      "Orignal masks# = 347  => Voted for next level flexible nms masks# = 333\n",
      "Orignal masks# = 190  => Voted for next level flexible nms masks# = 187\n",
      "7b129332ad3e437845486b494bbf3916afa7f78c947e9603170ac73e92912da4 done.\n",
      "Finshed count= 164 \n",
      "\n",
      "Orignal masks# = 106  => Voted for next level flexible nms masks# = 102\n",
      "Orignal masks# = 34  => Voted for next level flexible nms masks# = 33\n",
      "fae7766ca49d917e00d7967686ac86bdbf2d92b343914560ff428cd376614770 done.\n",
      "Finshed count= 165 \n",
      "\n",
      "5fe25ac2240cd2c985d44fef11b604608ca643ba1cce862b4ded4a05a9f25816 done.\n",
      "Finshed count= 166 \n",
      "\n",
      "Orignal masks# = 62  => Voted for next level flexible nms masks# = 58\n",
      "cbcb008ddccb3da666092952a0465969d4997807578b13ded13d11a5fdd2e806 done.\n",
      "Finshed count= 167 \n",
      "\n",
      "37704d90bf2625d8bcda7dfbd71e2c1d075cc909ae854fbf18892aeae6d5e12d done.\n",
      "Finshed count= 168 \n",
      "\n",
      "Orignal masks# = 156  => Voted for next level flexible nms masks# = 150\n",
      "Orignal masks# = 263  => Voted for next level flexible nms masks# = 254\n",
      "a2561154428c9e42827b08e8a61c00362596c49d2a795eba26ae89ede0f1e331 done.\n",
      "Finshed count= 169 \n",
      "\n",
      "b52b0e837c521125deb7ae7a9956b24a3d1665aad0e5e5ffd2c6ed39ad57634c done.\n",
      "Finshed count= 170 \n",
      "\n",
      "Orignal masks# = 264  => Voted for next level flexible nms masks# = 256\n",
      "b732d0b1701876533bc26482a8cfa64a036afeb79e1efc7495fb4d7b9475fb5e done.\n",
      "Finshed count= 171 \n",
      "\n",
      "Orignal masks# = 52  => Voted for next level flexible nms masks# = 52\n",
      "7b65cac8e559de50fa2b64d621c5bc0f28308d6ec2effefd1df31f794301c441 done.\n",
      "Finshed count= 172 \n",
      "\n",
      "Orignal masks# = 305  => Voted for next level flexible nms masks# = 290\n",
      "Orignal masks# = 227  => Voted for next level flexible nms masks# = 218\n",
      "a39799279ff63c07a832fdcd5ccf4cfd3f339ba22bae49dbf8b49d3a57af49af done.\n",
      "Finshed count= 173 \n",
      "\n",
      "Orignal masks# = 185  => Voted for next level flexible nms masks# = 182\n",
      "3d8260f94e55af7d298e8aab8bdb583c95b13bd633272acadd1fc1f9495fb8c6 done.\n",
      "Finshed count= 174 \n",
      "\n",
      "Orignal masks# = 69  => Voted for next level flexible nms masks# = 69\n",
      "de01feba2e3d0b704cdb074a7d0f85f54c1ccd0bd387374a058928b4515e6e81 done.\n",
      "Finshed count= 175 \n",
      "\n",
      "5875e1fe1ea7fa852d5af7a14bbaa47aa52eaa5fde84b6a17f78fd33e9672015 done.\n",
      "Finshed count= 176 \n",
      "\n",
      "Orignal masks# = 243  => Voted for next level flexible nms masks# = 224\n",
      "592953e8b4bbde9c6d17afd9fd6e6a838148534916fd87447658f9db1de6e850 done.\n",
      "Finshed count= 177 \n",
      "\n",
      "Orignal masks# = 315  => Voted for next level flexible nms masks# = 312\n",
      "Orignal masks# = 149  => Voted for next level flexible nms masks# = 143\n",
      "554c6db944fddd06ef2dd58d9f3932495dcb358e37544ebee7c3277485ac0d6a done.\n",
      "Finshed count= 178 \n",
      "\n",
      "f394b498a92da0d59f909150fb3f5f45fa39bfdd88bb68a584717cbf94e66f71 done.\n",
      "Finshed count= 179 \n",
      "\n",
      "Orignal masks# = 125  => Voted for next level flexible nms masks# = 120\n",
      "0514cc7f8da5ed8572eca6b9beab69a8ebe99a297d2cba24f1d743e910a4891f done.\n",
      "Finshed count= 180 \n",
      "\n",
      "Orignal masks# = 213  => Voted for next level flexible nms masks# = 207\n",
      "adb2bfe9399c70a1e20f1ac59e39bc1a39a7caa4fb372f5b8c1b0b6799dd24e9 done.\n",
      "Finshed count= 181 \n",
      "\n",
      "Orignal masks# = 41  => Voted for next level flexible nms masks# = 39\n",
      "f4104ca698e8dc3f69060a84029eecd03cd98dd1bb4e6b12a28b029b412b74b8 done.\n",
      "Finshed count= 182 \n",
      "\n",
      "Orignal masks# = 242  => Voted for next level flexible nms masks# = 236\n",
      "Orignal masks# = 305  => Voted for next level flexible nms masks# = 298\n",
      "1652c2fccd5cc10f144cdf73bcdf4c351a59ecca37e0ce5366645c3fa5775914 done.\n",
      "Finshed count= 183 \n",
      "\n",
      "a4c845af54a6abc44a71494f0b7445ed2e0d0497523eb9cef5f0cffd36b73557 done.\n",
      "Finshed count= 184 \n",
      "\n",
      "Orignal masks# = 436  => Voted for next level flexible nms masks# = 415\n",
      "Orignal masks# = 293  => Voted for next level flexible nms masks# = 286\n",
      "Orignal masks# = 299  => Voted for next level flexible nms masks# = 291\n",
      "0d3b7476b61190df36fa766d01ec5541e0a36505d9f63719c044dd0fe6e09484 done.\n",
      "Finshed count= 185 \n",
      "\n",
      "Orignal masks# = 36  => Voted for next level flexible nms masks# = 31\n",
      "b87b8191555da8964be1597aebb311d4d0a31ad3cd9bbcaa1d14f57a50860bf6 done.\n",
      "Finshed count= 186 \n",
      "\n",
      "c1d7aea48615bf796ca48aab0ae34358ba7a26cd4cc8f694eac16b0b9825d89e done.\n",
      "Finshed count= 187 \n",
      "\n",
      "Orignal masks# = 53  => Voted for next level flexible nms masks# = 52\n",
      "0d6941d6bac758c7af58e963a538b152fb258bad009071880a44a570af380517 done.\n",
      "Finshed count= 188 \n",
      "\n",
      "9b5a35576654b80bb263855ef40a02b660ee41cdc94dad2946679ab70b883271 done.\n",
      "Finshed count= 189 \n",
      "\n",
      "Orignal masks# = 198  => Voted for next level flexible nms masks# = 196\n",
      "Orignal masks# = 79  => Voted for next level flexible nms masks# = 76\n",
      "3f2a069bb6d0c41f76300c52a5f55e4770515f822bd1bd07d6233dc2dfcf49bc done.\n",
      "Finshed count= 190 \n",
      "\n",
      "858a923949dc135c6934e3b8a82bd3cd1afe87460623facfc56d04d180986a98 done.\n",
      "Finshed count= 191 \n",
      "\n",
      "Orignal masks# = 235  => Voted for next level flexible nms masks# = 229\n",
      "d2afe57af506794c63beda9025e5e5e4dc59fc4721bcfd1220c22790bb9fedb3 done.\n",
      "Finshed count= 192 \n",
      "\n",
      "Orignal masks# = 46  => Voted for next level flexible nms masks# = 38\n",
      "6abeff240eca342c7af3c020520bc515daa5157e1121196bedb6922ad309d326 done.\n",
      "Finshed count= 193 \n",
      "\n",
      "Orignal masks# = 112  => Voted for next level flexible nms masks# = 110\n",
      "3bf7d8048ef6de6f12098c9bfee60d41c67a06fcc9cd22f663e9e9d73f76c5a8 done.\n",
      "Finshed count= 194 \n",
      "\n",
      "Orignal masks# = 357  => Voted for next level flexible nms masks# = 336\n",
      "Orignal masks# = 261  => Voted for next level flexible nms masks# = 256\n",
      "4f8089b39b27804a5a9471f0bd763fb3106e757368ebdfbf3c368e8a9bb69b98 done.\n",
      "Finshed count= 195 \n",
      "\n",
      "Orignal masks# = 47  => Voted for next level flexible nms masks# = 47\n",
      "853ecf833cbf616ff52f8dde867568caae111a463fe8c527afa67f2364fc15d8 done.\n",
      "Finshed count= 196 \n",
      "\n",
      "Orignal masks# = 266  => Voted for next level flexible nms masks# = 256\n",
      "2c5f75dbac1126be0e8827c66152821ddaf04e42726048c30e89defd4ff69263 done.\n",
      "Finshed count= 197 \n",
      "\n",
      "Orignal masks# = 276  => Voted for next level flexible nms masks# = 268\n",
      "ea5ea8e2e9d5e1def1017d24e1eca331d5865a20e14db02a1c93600cb7aad0e4 done.\n",
      "Finshed count= 198 \n",
      "\n",
      "ad1308e209f18c07e6c430d06bfbc978355eb0000852a48ec61aa5c684171b81 done.\n",
      "Finshed count= 199 \n",
      "\n",
      "Orignal masks# = 239  => Voted for next level flexible nms masks# = 235\n",
      "ed4521132b7a48ebe9287d302d3561b2964c6f76e46d2d74a8b3f6bfcdc7770f done.\n",
      "Finshed count= 200 \n",
      "\n",
      "No masks\n",
      "6def3235fffa1ef2439767c7bcf82fe9f8757956fdd8714f7126f65d2ada24bf done.\n",
      "Finshed count= 201 \n",
      "\n",
      "Orignal masks# = 211  => Voted for next level flexible nms masks# = 205\n",
      "Orignal masks# = 184  => Voted for next level flexible nms masks# = 181\n",
      "Orignal masks# = 95  => Voted for next level flexible nms masks# = 94\n",
      "1955cd2242b47386e845a1aec80ffd18d5673fe200da9a740e530ff5f677ba8a done.\n",
      "Finshed count= 202 \n",
      "\n",
      "3d5979d40336bfc7a2454edbdce2a1b4d8d65dc6763bbf3b6852d6cedf445aaa done.\n",
      "Finshed count= 203 \n",
      "\n",
      "c685e46d9beae5fb53300778e2355cbb6359dda6e4448a109110a3ae34ff1bd2 done.\n",
      "Finshed count= 204 \n",
      "\n",
      "Orignal masks# = 96  => Voted for next level flexible nms masks# = 92\n",
      "c8d7cc1c89f27bc87c5ef5f82b345669474c428bd578d7e4983b615c5f590b34 done.\n",
      "Finshed count= 205 \n",
      "\n",
      "Orignal masks# = 235  => Voted for next level flexible nms masks# = 233\n",
      "Orignal masks# = 40  => Voted for next level flexible nms masks# = 39\n",
      "feea4190b5bbcd274b76a93dd986b992040eb9cde3c8657e4d817a0cef3773ef done.\n",
      "Finshed count= 206 \n",
      "\n"
     ]
    },
    {
     "name": "stdout",
     "output_type": "stream",
     "text": [
      "Orignal masks# = 267  => Voted for next level flexible nms masks# = 263\n",
      "95a1db2f7479e87f136cdaec46009fa31b45b553a50dc0774573e24fa4e353ad done.\n",
      "Finshed count= 207 \n",
      "\n",
      "dac9bba499b42bc4c3b44d5832615cb2531196c0bdb5a4d8aa3946b957f18170 done.\n",
      "Finshed count= 208 \n",
      "\n",
      "Orignal masks# = 180  => Voted for next level flexible nms masks# = 176\n",
      "Orignal masks# = 186  => Voted for next level flexible nms masks# = 182\n",
      "1f78d3193730f04730254f82629c8d54ed67ab612a6dee33dc326acc15bf4612 done.\n",
      "Finshed count= 209 \n",
      "\n",
      "669bc0d82fe9ffb4d352188623dd4aeb3eceebf11baa0a11d540c8115f972c9f done.\n",
      "Finshed count= 210 \n",
      "\n",
      "Orignal masks# = 51  => Voted for next level flexible nms masks# = 48\n",
      "6fba8c28f3113451dc9e57dae1ce0d934ce85f8a56c1054d51fc1e3ad9b86635 done.\n",
      "Finshed count= 211 \n",
      "\n",
      "Orignal masks# = 196  => Voted for next level flexible nms masks# = 165\n",
      "Orignal masks# = 232  => Voted for next level flexible nms masks# = 227\n",
      "e476039d612f9e94797ad3fa8f8ee90c040c7609a83c53c974818ddc38bd7e47 done.\n",
      "Finshed count= 212 \n",
      "\n",
      "6b6070c899829c3d29968474d495a7483079f75053c4b81694bd8c9f21670ad7 done.\n",
      "Finshed count= 213 \n",
      "\n",
      "Orignal masks# = 344  => Voted for next level flexible nms masks# = 330\n",
      "Orignal masks# = 332  => Voted for next level flexible nms masks# = 328\n",
      "d8f40dacc07fd1351f3f1db8ffd4a5ce0635c84e91a6b6ed6785fc84514478bd done.\n",
      "Finshed count= 214 \n",
      "\n",
      "16f5979a207d4830fa72ab44e2cd24a3dfc80953fa06f8cd324140f3600e7be2 done.\n",
      "Finshed count= 215 \n",
      "\n",
      "Orignal masks# = 405  => Voted for next level flexible nms masks# = 387\n",
      "0db9a7f318c3fab55e90a7b11e43f0545a592b6cd69e7d670511eab29a125d14 done.\n",
      "Finshed count= 216 \n",
      "\n"
     ]
    }
   ],
   "source": [
    "TESTING_BATCH_SIZE = 1000\n",
    "TO_VISUALIZE =False\n",
    "\n",
    "for i in range(2):\n",
    "    test_index = i\n",
    "    dataset_test = test_datasets[test_index]\n",
    "    \n",
    "    processed_count = 0\n",
    "    \n",
    "    if test_index == 0:\n",
    "        processed_count = 2700\n",
    "        \n",
    "    while processed_count < len(dataset_test.image_ids):\n",
    "        selected_test_ids = dataset_test.image_ids[processed_count:processed_count+TESTING_BATCH_SIZE]\n",
    "        print('processed_count =', processed_count, 'selected id nums =', len(selected_test_ids))\n",
    "           \n",
    "        #print(meta_test_groups[test_index].ImageId.values[processed_count:processed_count+TESTING_BATCH_SIZE])\n",
    "        ps.finalize_predictions(meta_test_groups[test_index].ImageId.values[processed_count:processed_count+TESTING_BATCH_SIZE], \n",
    "                                      inference_config.DETECTION_MIN_CONFIDENCE, 4, .5, \n",
    "                                      inference_config.SNMS_SIGMA)\n",
    "        # def finalize_predictions(self, min_confidence, total_vote_count, ratio, sigma)\n",
    "        \n",
    "        '''\n",
    "        data = {\n",
    "                'masks': np.array([]),\n",
    "                'boxes': np.array([]),\n",
    "                'scores': np.array([]),\n",
    "                'sample_counts': np.array([])\n",
    "                }\n",
    "        '''\n",
    "        processed_count += len(selected_test_ids)\n",
    "        continue # don't generate here\n",
    "        \n",
    "        raw_predictions = []\n",
    "        image_ids = []\n",
    "        for x, test_id in enumerate(selected_test_ids):\n",
    "            image_id = meta_test_groups[test_index].ImageId.values[x+processed_count]\n",
    "            pred = ps.load(image_id, is_final=True) \n",
    "        \n",
    "            for m_i, mask in enumerate(pred['masks']):\n",
    "                # binarize\n",
    "                pred['masks'][m_i] = np.where(mask>=0.5, 1, 0).astype(np.uint8)\n",
    "                \n",
    "            \n",
    "            #res[x]\n",
    "            '''\n",
    "            data = {\n",
    "               'boxes': res[i][0],\n",
    "               'masks': res[i][1],\n",
    "               'scores': res[i][2],\n",
    "               'class_ids': res[i][3],\n",
    "            }\n",
    "            filtered_boxes, filtered_masks, filtered_scores, filtered_class_ids, nb_filter_masks\n",
    "            '''\n",
    "            if TO_VISUALIZE is True and len(pred[0]) != 0:\n",
    "                test_image = dataset_test.load_image(test_id, 0)\n",
    "                visualize.display_instances(test_image, pred['boxes'], pred['masks'], \n",
    "                                            pred['class_ids'].astype(np.uint8), \n",
    "                                            dataset_test.class_names, pred['scores'], ax=get_ax())\n",
    "\n",
    "            image_ids.append(image_id)\n",
    "            raw_predictions.append((pred['masks'], pred['scores']))\n",
    "            print('image ', x+processed_count, \n",
    "                  ' processed, bg type =', meta_test_groups[test_index].bg_type.values[x+processed_count],\n",
    "                  '\\nid =', image_id)\n",
    "        \n",
    "        new_test_ids, rles = update_final_predictions(image_ids, raw_predictions, new_test_ids, rles)\n",
    "        processed_count += len(selected_test_ids)"
   ]
  },
  {
   "cell_type": "code",
   "execution_count": null,
   "metadata": {},
   "outputs": [],
   "source": [
    "print(len(new_test_ids))"
   ]
  },
  {
   "cell_type": "code",
   "execution_count": null,
   "metadata": {},
   "outputs": [],
   "source": [
    "print(len(rles))"
   ]
  },
  {
   "cell_type": "code",
   "execution_count": null,
   "metadata": {},
   "outputs": [],
   "source": [
    "print('Summarize TTA Results takes {:.3f} secs'.format(time()-start_time))"
   ]
  },
  {
   "cell_type": "code",
   "execution_count": 42,
   "metadata": {},
   "outputs": [],
   "source": [
    "df = pd.DataFrame({ 'ImageId' : new_test_ids , 'EncodedPixels' : rles})\n",
    "df.to_csv('output/submission_ci88_stage2_5070_700_.csv', index=False, columns=['ImageId', 'EncodedPixels'])"
   ]
  },
  {
   "cell_type": "code",
   "execution_count": null,
   "metadata": {},
   "outputs": [],
   "source": []
  }
 ],
 "metadata": {
  "kernelspec": {
   "display_name": "Python 3",
   "language": "python",
   "name": "python3"
  },
  "language_info": {
   "codemirror_mode": {
    "name": "ipython",
    "version": 3
   },
   "file_extension": ".py",
   "mimetype": "text/x-python",
   "name": "python",
   "nbconvert_exporter": "python",
   "pygments_lexer": "ipython3",
   "version": "3.5.2"
  }
 },
 "nbformat": 4,
 "nbformat_minor": 2
}
